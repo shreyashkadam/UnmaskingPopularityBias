{
 "cells": [
  {
   "cell_type": "markdown",
   "metadata": {},
   "source": [
    "# Mitigated Popularity Bias Evaluation\n",
    "\n",
    "This notebook implements and evaluates a popularity bias mitigation strategy (multiplicative damping post-processing) based on the framework established in the original `music.ipynb` and `movie.ipynb`.\n",
    "\n",
    "**Mitigation Strategy:**\n",
    "- Type: Post-processing re-ranking\n",
    "- Formula: `new_score = original_score / (item_popularity ** alpha)`\n",
    "- `item_popularity`: Normalized popularity (count / num_users)\n",
    "- `alpha`: Mitigation strength hyperparameter (defined below)\n",
    "\n",
    "**Evaluation:**\n",
    "- Domains: Music (LastFM scaled), Movie (MovieLens1M)\n",
    "- Algorithms: MostPop, UserKNN, ItemKNN, PMF, NMF, HPF\n",
    "- Evaluation Strategies: UserTest (`eva_two`), TrainItems (`eva_three`)\n",
    "- User Grouping: PopularPercentage (`pop_one`), AveragePopularity (`pop_two`), NicheConsumptionRate (`pop_four`)\n",
    "- Metrics: %ΔGAP, NDCG@10, T-tests\n",
    "- Output: CSV files in `mitigated_results/` directory, formatted for comparison with original results."
   ]
  },
  {
   "cell_type": "code",
   "execution_count": 1,
   "metadata": {},
   "outputs": [
    {
     "name": "stdout",
     "output_type": "stream",
     "text": [
      "Libraries imported.\n"
     ]
    }
   ],
   "source": [
    "# =============================================================================\n",
    "# SECTION A: IMPORTS & SETUP\n",
    "# =============================================================================\n",
    "import warnings\n",
    "warnings.simplefilter(action='ignore', category=FutureWarning)\n",
    "warnings.simplefilter(action='ignore', category=UserWarning) # Ignore Cornac's UserWarnings about unknown users/items\n",
    "\n",
    "import matplotlib.pyplot as plt\n",
    "import random as rd\n",
    "import pandas as pd\n",
    "import numpy as np\n",
    "from tqdm.notebook import tqdm\n",
    "import pickle as pkl\n",
    "import time\n",
    "import os\n",
    "from collections import defaultdict\n",
    "from scipy import stats\n",
    "from sklearn.metrics import mean_squared_error, precision_score, recall_score, ndcg_score\n",
    "from numpy.linalg import norm\n",
    "import seaborn as sns\n",
    "from sklearn.preprocessing import MinMaxScaler\n",
    "\n",
    "# Cornac imports\n",
    "import cornac\n",
    "from cornac.eval_methods import RatioSplit\n",
    "from cornac.data import Reader as CornacReader\n",
    "from cornac.models import MostPop, MF, PMF, WMF, HPF, ItemKNN, UserKNN\n",
    "from cornac.models import NMF as CornacNMF\n",
    "from cornac.metrics import MAE, MSE, RMSE, Precision, Recall, NDCG, AUC, MAP, FMeasure, MRR\n",
    "\n",
    "# set plot style: grey grid in the background:\n",
    "sns.set(style=\"darkgrid\")\n",
    "pd.set_option(\"display.precision\", 8)\n",
    "print(\"Libraries imported.\")"
   ]
  },
  {
   "cell_type": "code",
   "execution_count": 2,
   "metadata": {},
   "outputs": [
    {
     "name": "stdout",
     "output_type": "stream",
     "text": [
      "Mitigation Alpha: 0.5\n",
      "Algorithms: ['MostPop', 'UserKNN', 'ItemKNN', 'PMF', 'NMF', 'HPF']\n",
      "Evaluation Strategies: ['eva_two', 'eva_three']\n",
      "Popularity Notions: ['pop_one', 'pop_two', 'pop_four']\n",
      "Results will be saved to: mitigated_results/\n"
     ]
    }
   ],
   "source": [
    "# =============================================================================\n",
    "# SECTION B: HYPERPARAMETERS & CONFIGURATION\n",
    "# =============================================================================\n",
    "\n",
    "# --- Core Settings ---\n",
    "rating_threshold = 1.0 # For Cornac ranking metrics binarization\n",
    "my_seed = 0\n",
    "test_size = 0.2\n",
    "predict_col = \"rating\"\n",
    "user_col = \"user\"\n",
    "# item_col will be set per domain\n",
    "top_fraction = 0.2 # For defining \"popular\" items and user group splits\n",
    "rec_k = 10\n",
    "\n",
    "# --- Mitigation Hyperparameter ---\n",
    "mitigation_alpha = 0.5 # Strength of the damping. Higher alpha = stronger mitigation.\n",
    "\n",
    "# --- Output Directory ---\n",
    "results_location = 'mitigated_results/'\n",
    "os.makedirs(results_location, exist_ok=True)\n",
    "\n",
    "# --- Seed ---\n",
    "rd.seed(my_seed)\n",
    "np.random.seed(my_seed)\n",
    "\n",
    "# --- Algorithms to Evaluate ---\n",
    "# Match the subset used in the original reproduction\n",
    "algo_map = {\n",
    "    \"MostPop\": MostPop(),\n",
    "    \"UserKNN\": UserKNN(k=40, similarity='cosine', mean_centered=False, seed=my_seed, verbose=False), # Verbose set to False for cleaner loops\n",
    "    \"ItemKNN\": ItemKNN(k=40, similarity='cosine', mean_centered=False, seed=my_seed, verbose=False),\n",
    "    \"PMF\": PMF(k=10, max_iter=100, learning_rate=0.001, lambda_reg=0.001, seed=my_seed, verbose=False),\n",
    "    \"NMF\": CornacNMF(k=15, max_iter=50, learning_rate=0.005, lambda_u=0.06, lambda_v=0.06, lambda_bu=0.02, lambda_bi=0.02, use_bias=False, seed=my_seed, verbose=False),\n",
    "    \"HPF\": HPF(k=50, seed=my_seed, hierarchical=False, name=\"PF\", verbose=False) # Note: MF was in original notebooks but not HPF/PF? Assuming HPF based on prompt. Revert if needed.\n",
    "}\n",
    "algo_names = list(algo_map.keys())\n",
    "models_list = list(algo_map.values())\n",
    "\n",
    "\n",
    "# --- Evaluation Configurations ---\n",
    "evaluation_strategies = ['eva_two', 'eva_three'] # Corresponds to UserTest and TrainItems\n",
    "popularity_notions = ['pop_one', 'pop_two', 'pop_four'] # PopularPercentage, AveragePopularity, NicheConsumptionRate\n",
    "\n",
    "print(f\"Mitigation Alpha: {mitigation_alpha}\")\n",
    "print(f\"Algorithms: {algo_names}\")\n",
    "print(f\"Evaluation Strategies: {evaluation_strategies}\")\n",
    "print(f\"Popularity Notions: {popularity_notions}\")\n",
    "print(f\"Results will be saved to: {results_location}\")"
   ]
  },
  {
   "cell_type": "markdown",
   "metadata": {},
   "source": [
    "# =============================================================================\n",
    "# SECTION C: HELPER FUNCTIONS (Analysis, Grouping, Metrics)\n",
    "# =============================================================================\n",
    "# Reusing functions from the original notebooks"
   ]
  },
  {
   "cell_type": "code",
   "execution_count": 3,
   "metadata": {},
   "outputs": [
    {
     "name": "stdout",
     "output_type": "stream",
     "text": [
      "Helper functions defined.\n"
     ]
    }
   ],
   "source": [
    "# --- Data Analysis Functions ---\n",
    "def users_and_items(df_events, user_col, item_col):\n",
    "    print(f\"  No. user events: {len(df_events)}\")\n",
    "    print(f\"  No. unique {item_col}s: {len(df_events[item_col].unique())}\")\n",
    "    print(f\"  No. unique {user_col}s: {len(df_events[user_col].unique())}\")\n",
    "    print(\"-\" * 20)\n",
    "    return len(df_events[user_col].unique()), len(df_events[item_col].unique())\n",
    "\n",
    "def user_distribution(df_events, user_col, item_col):\n",
    "    user_dist = df_events[user_col].value_counts()\n",
    "    print(f\"  Mean {item_col}s per user: {np.round(user_dist.mean(), 1)}\")\n",
    "    print(f\"  Min {item_col}s per user: {np.round(user_dist.min(), 1)}\")\n",
    "    print(f\"  Max {item_col}s per user: {np.round(user_dist.max(), 1)}\")\n",
    "    print(\"-\" * 20)\n",
    "    return user_dist\n",
    "\n",
    "def item_distribution(df_events, user_col, item_col):\n",
    "    item_dist = df_events[item_col].value_counts()\n",
    "    print(f\"  Mean users per {item_col}: {np.round(item_dist.mean(), 1)}\")\n",
    "    print(f\"  Min users per {item_col}: {np.round(item_dist.min(), 1)}\")\n",
    "    print(f\"  Max users per {item_col}: {np.round(item_dist.max(), 1)}\")\n",
    "    print(\"-\" * 20)\n",
    "    return item_dist\n",
    "\n",
    "# --- Item Popularity Calculation ---\n",
    "def calculate_item_popularity(item_dist_series, num_users, top_fraction):\n",
    "    df_item_dist = pd.DataFrame(item_dist_series)\n",
    "    df_item_dist.columns = ['count']\n",
    "    df_item_dist['popularity'] = df_item_dist['count'] / num_users # Normalized\n",
    "    num_items = len(df_item_dist)\n",
    "    num_top = int(top_fraction * num_items)\n",
    "    top_item_ids = set(item_dist_series[:num_top].index)\n",
    "    print(f\"  Identified {len(top_item_ids)} popular items (top {top_fraction*100:.0f}%)\")\n",
    "    print(\"-\" * 20)\n",
    "    return df_item_dist, top_item_ids\n",
    "\n",
    "# --- Base User Metric Calculation ---\n",
    "# Function to calculate base popularity metrics for all users\n",
    "def calculate_popularity_metrics(df_events, top_item_ids, df_item_dist, num_users, user_col, item_col):\n",
    "    # item_dist_df should be the DataFrame with 'popularity' column\n",
    "    user_metrics_data = [] # List to store results per user\n",
    "\n",
    "    print(\"  Calculating base popularity metrics (pop_one, pop_two)...\")\n",
    "    grouped = df_events.groupby(user_col)\n",
    "    for u, df in tqdm(grouped, total=len(grouped), desc=\"  Metrics (pop_one/two)\"):\n",
    "        user_id_int = int(u)\n",
    "        user_items = set(df[item_col])\n",
    "        no_user_items = len(user_items)\n",
    "\n",
    "        if no_user_items == 0:\n",
    "            pop_count = 0\n",
    "            pop_fraq = np.nan\n",
    "            pop_item_fraq = np.nan\n",
    "        else:\n",
    "            no_user_pop_items = len(user_items & top_item_ids)\n",
    "            pop_count = no_user_pop_items\n",
    "            pop_fraq = no_user_pop_items / no_user_items\n",
    "            # Use the 'popularity' (normalized) column for GAP calculation\n",
    "            # Need to handle items potentially not in df_item_dist if df_events has items removed later\n",
    "            valid_items = df[item_col][df[item_col].isin(df_item_dist.index)]\n",
    "            if not valid_items.empty:\n",
    "                 pop_item_fraq = df_item_dist.loc[valid_items, 'popularity'].sum() / no_user_items\n",
    "            else:\n",
    "                 pop_item_fraq = np.nan # Assign NaN if no valid items found for user\n",
    "\n",
    "        user_metrics_data.append({\n",
    "            'user_id': user_id_int,\n",
    "            'pop_count': pop_count,\n",
    "            'user_hist': no_user_items,\n",
    "            'pop_fraq': pop_fraq, # pop_one metric\n",
    "            'pop_item_fraq': pop_item_fraq # pop_two metric\n",
    "        })\n",
    "\n",
    "    return pd.DataFrame(user_metrics_data).set_index('user_id')\n",
    "\n",
    "# Function to calculate niche consumption rate\n",
    "def calculate_niche_consumption_rates(df_events, df_item_dist, user_dist_counts, user_col, item_col, niche_threshold_percentile=0.3):\n",
    "    # df_item_dist should have the 'count' column\n",
    "    print(f\"  Defining niche items (bottom {niche_threshold_percentile*100:.0f}% popularity)...\")\n",
    "\n",
    "    # --- Step 1: Identify Niche Items ---\n",
    "    item_popularity_values = pd.to_numeric(df_item_dist['count'].values, errors='coerce')\n",
    "    item_popularity_values = item_popularity_values[~np.isnan(item_popularity_values)]\n",
    "\n",
    "    if len(item_popularity_values) == 0:\n",
    "         raise ValueError(\"Item distribution contains no valid numeric popularity values.\")\n",
    "\n",
    "    popularity_threshold = np.percentile(item_popularity_values, niche_threshold_percentile * 100)\n",
    "    niche_item_ids = df_item_dist[df_item_dist['count'] <= popularity_threshold].index\n",
    "    niche_item_set = set(niche_item_ids)\n",
    "    print(f\"  Found {len(niche_item_set)} niche items (popularity count <= {popularity_threshold:.2f}).\")\n",
    "\n",
    "    # --- Step 2: Calculate Rate Per User ---\n",
    "    niche_rates = {}\n",
    "    user_groups = dict(iter(df_events.groupby(user_col)))\n",
    "\n",
    "    print(\"  Calculating niche consumption rate per user (pop_four)...\")\n",
    "    for u in tqdm(user_dist_counts.index, desc=\"  Metrics (pop_four)\"):\n",
    "        if u not in user_groups:\n",
    "            # print(f\"Warning: User {u} found in user_dist_counts but not in df_events. Assigning rate NaN.\")\n",
    "            niche_rates[u] = np.nan\n",
    "            continue\n",
    "\n",
    "        df_user = user_groups[u]\n",
    "        user_items_set = set(df_user[item_col])\n",
    "        total_user_items = len(user_items_set)\n",
    "\n",
    "        if total_user_items == 0:\n",
    "            niche_rates[u] = np.nan\n",
    "            continue\n",
    "\n",
    "        niche_items_consumed = user_items_set.intersection(niche_item_set)\n",
    "        niche_item_count = len(niche_items_consumed)\n",
    "        niche_rate = niche_item_count / total_user_items\n",
    "        niche_rates[u] = niche_rate\n",
    "\n",
    "    print(\"  Finished calculating niche consumption rates.\")\n",
    "    print(\"-\" * 20)\n",
    "    return pd.Series(niche_rates, index=user_dist_counts.index, name='niche_consumption_rate')\n",
    "\n",
    "# --- User Grouping Functions ---\n",
    "def sort_users(user_metrics_df, by = \"pop_fraq\"):\n",
    "    if by not in user_metrics_df.columns:\n",
    "        raise ValueError(f\"Sorting column '{by}' not found in user metrics DataFrame.\")\n",
    "    # Drop NaNs before sorting to avoid errors and ensure meaningful split\n",
    "    user_metrics_to_sort = user_metrics_df.dropna(subset=[by])\n",
    "    if user_metrics_to_sort.empty:\n",
    "        print(f\"Warning: No users left after dropping NaNs for sorting column '{by}'. Returning empty DataFrame.\")\n",
    "        return user_metrics_to_sort\n",
    "    user_dist_sorted = user_metrics_to_sort.sort_values(by=[by])\n",
    "    return user_dist_sorted\n",
    "\n",
    "def split(user_dist_sorted, top_fraction):\n",
    "    n = len(user_dist_sorted)\n",
    "    if n < 3: # Cannot make 3 groups\n",
    "        print(f\"Warning: Cannot split {n} users into 3 distinct groups. Returning empty groups.\")\n",
    "        return pd.DataFrame(), pd.DataFrame(), pd.DataFrame()\n",
    "\n",
    "    idx1 = int(top_fraction * n)\n",
    "    idx2 = int((1 - top_fraction) * n)\n",
    "\n",
    "    # Adjust indices to prevent overlap or zero-sized groups if possible\n",
    "    if idx1 == 0: idx1 = 1 # Ensure low group has at least 1 if possible\n",
    "    if idx2 >= n: idx2 = n - 1 # Ensure high group has at least 1 if possible\n",
    "    if idx1 >= idx2: # If still overlapping, force a minimal middle group\n",
    "       idx1 = max(0, idx2 - 1)\n",
    "\n",
    "\n",
    "    low = user_dist_sorted.iloc[:idx1]\n",
    "    med = user_dist_sorted.iloc[idx1:idx2]\n",
    "    high = user_dist_sorted.iloc[idx2:]\n",
    "\n",
    "    if low.empty or med.empty or high.empty:\n",
    "        print(f\"Warning: Generated empty user groups after split (Low: {len(low)}, Med: {len(med)}, High: {len(high)}). Check data and top_fraction.\")\n",
    "\n",
    "    return low, med, high\n",
    "\n",
    "def calculate_group_characteristics(low, med, high, pop_notion_key):\n",
    "    # Use the calculated 'user_hist' and 'pop_item_fraq' (GAP in profile)\n",
    "    low_profile_size = low['user_hist'].mean() if not low.empty else np.nan\n",
    "    med_profile_size = med['user_hist'].mean() if not med.empty else np.nan\n",
    "    high_profile_size = high['user_hist'].mean() if not high.empty else np.nan\n",
    "\n",
    "    low_nr_users = len(low)\n",
    "    med_nr_users = len(med)\n",
    "    high_nr_users = len(high)\n",
    "\n",
    "    # Base profile GAP ('pop_item_fraq') is the same regardless of sorting notion\n",
    "    low_GAP_profile = low['pop_item_fraq'].mean() if not low.empty else np.nan\n",
    "    med_GAP_profile = med['pop_item_fraq'].mean() if not med.empty else np.nan\n",
    "    high_GAP_profile = high['pop_item_fraq'].mean() if not high.empty else np.nan\n",
    "\n",
    "    # Determine group names based on pop_notion\n",
    "    if pop_notion_key == 'pop_four':\n",
    "        low_name, high_name = 'Blockbuster', 'Niche' # Low niche rate = Blockbuster\n",
    "    else:\n",
    "        low_name, high_name = 'Niche', 'Blockbuster' # Low pop frac/avg = Niche\n",
    "\n",
    "    print(f\"  Group Stats ({pop_notion_key}):\")\n",
    "    print(f\"    Low Group ('{low_name}', {low_nr_users} users): Avg Profile Size={low_profile_size:.2f}, Avg Profile GAP={low_GAP_profile:.6f}\")\n",
    "    print(f\"    Med Group ('Diverse', {med_nr_users} users): Avg Profile Size={med_profile_size:.2f}, Avg Profile GAP={med_GAP_profile:.6f}\")\n",
    "    print(f\"    High Group ('{high_name}', {high_nr_users} users): Avg Profile Size={high_profile_size:.2f}, Avg Profile GAP={high_GAP_profile:.6f}\")\n",
    "    print(\"-\" * 20)\n",
    "\n",
    "    return low_GAP_profile, med_GAP_profile, high_GAP_profile\n",
    "\n",
    "# --- Map notion key to column name for sorting ---\n",
    "popularity_sort_column = {\n",
    "    'pop_one': \"pop_fraq\",\n",
    "    'pop_two': \"pop_item_fraq\",\n",
    "    'pop_four': \"niche_consumption_rate\"\n",
    "}\n",
    "\n",
    "# --- Metric Calculation Functions ---\n",
    "def calculate_NDCG_per_group(algo_name, recommendations, cornac_exp, low_group_users, med_group_users, high_group_users, rec_k=10):\n",
    "    # Assumes cornac_exp.eval_method holds the relevant RatioSplit object\n",
    "    rs = cornac_exp.eval_method\n",
    "    train_set = rs.train_set\n",
    "    test_set = rs.test_set\n",
    "\n",
    "    ndcg_low, ndcg_med, ndcg_high = [], [], []\n",
    "    low_ids = set(low_group_users.index.astype(int))\n",
    "    med_ids = set(med_group_users.index.astype(int))\n",
    "    high_ids = set(high_group_users.index.astype(int))\n",
    "\n",
    "    orig_uid_to_cornac_uid = train_set.uid_map\n",
    "    orig_iid_to_cornac_iid = train_set.iid_map\n",
    "\n",
    "    print(f\"    Calculating NDCG@{rec_k} for {algo_name}...\")\n",
    "    for user_id_int, user_rec_items_scores in tqdm(recommendations.items(), desc=f\"      NDCG {algo_name}\", leave=False):\n",
    "        user_id_str = str(user_id_int)\n",
    "\n",
    "        # Check if user is in the test set (relevant items available)\n",
    "        if user_id_str not in orig_uid_to_cornac_uid or orig_uid_to_cornac_uid[user_id_str] not in test_set.user_data:\n",
    "            continue\n",
    "\n",
    "        uid_cornac = orig_uid_to_cornac_uid[user_id_str]\n",
    "        true_item_indices, true_relevance_scores = test_set.user_data[uid_cornac]\n",
    "        true_relevance_dict = dict(zip(true_item_indices, true_relevance_scores))\n",
    "\n",
    "        # Align predicted items with true relevance scores\n",
    "        user_pred_scores = []\n",
    "        user_true_scores = []\n",
    "\n",
    "        for item_id_int, pred_score in user_rec_items_scores:\n",
    "            # Handle potential NaN prediction scores (assign minimum relevance)\n",
    "            if pd.isna(pred_score):\n",
    "                user_pred_scores.append(-np.inf) # Ensure it ranks last\n",
    "                user_true_scores.append(0.0)\n",
    "                continue\n",
    "\n",
    "            item_id_str = str(item_id_int)\n",
    "            user_pred_scores.append(pred_score)\n",
    "\n",
    "            true_score = 0.0\n",
    "            if item_id_str in orig_iid_to_cornac_iid:\n",
    "                iid_cornac = orig_iid_to_cornac_iid[item_id_str]\n",
    "                if iid_cornac in true_relevance_dict:\n",
    "                    true_score = true_relevance_dict[iid_cornac] # Use actual score from test set\n",
    "            user_true_scores.append(true_score)\n",
    "\n",
    "        # Calculate NDCG for the user if possible\n",
    "        if len(user_true_scores) > 0: # Need at least one item recommended\n",
    "             # Ensure scores are numpy arrays for ndcg_score\n",
    "            true_relevance_arr = np.asarray([user_true_scores])\n",
    "            pred_scores_arr = np.asarray([user_pred_scores])\n",
    "\n",
    "            if np.all(true_relevance_arr == 0):\n",
    "                 user_ndcg = 0.0 # No relevant items in top-k anyway\n",
    "            else:\n",
    "                try:\n",
    "                    user_ndcg = ndcg_score(true_relevance_arr, pred_scores_arr, k=rec_k)\n",
    "                except ValueError:\n",
    "                    user_ndcg = np.nan # Handle cases where ndcg_score fails\n",
    "\n",
    "            # Assign to group if valid NDCG calculated\n",
    "            if not pd.isna(user_ndcg):\n",
    "                if user_id_int in low_ids:\n",
    "                    ndcg_low.append(user_ndcg)\n",
    "                elif user_id_int in med_ids:\n",
    "                    ndcg_med.append(user_ndcg)\n",
    "                elif user_id_int in high_ids:\n",
    "                    ndcg_high.append(user_ndcg)\n",
    "\n",
    "    # Calculate means and T-tests\n",
    "    mean_ndcg_low = np.nanmean(ndcg_low) if ndcg_low else np.nan\n",
    "    mean_ndcg_med = np.nanmean(ndcg_med) if ndcg_med else np.nan\n",
    "    mean_ndcg_high = np.nanmean(ndcg_high) if ndcg_high else np.nan\n",
    "\n",
    "    ttests = [np.nan] * 3\n",
    "    try:\n",
    "        if len(ndcg_low) > 1 and len(ndcg_med) > 1:\n",
    "            ttests[0] = stats.ttest_ind(ndcg_low, ndcg_med, equal_var=False, nan_policy='omit')[1]\n",
    "        if len(ndcg_low) > 1 and len(ndcg_high) > 1:\n",
    "            ttests[1] = stats.ttest_ind(ndcg_low, ndcg_high, equal_var=False, nan_policy='omit')[1]\n",
    "        if len(ndcg_med) > 1 and len(ndcg_high) > 1:\n",
    "            ttests[2] = stats.ttest_ind(ndcg_med, ndcg_high, equal_var=False, nan_policy='omit')[1]\n",
    "    except Exception as e:\n",
    "        print(f\"      Error during t-test calculation for NDCG ({algo_name}): {e}\")\n",
    "\n",
    "    return mean_ndcg_low, mean_ndcg_med, mean_ndcg_high, ttests\n",
    "\n",
    "\n",
    "def calculate_delta_GAP_per_group(algo_name, recommendations, df_item_dist_cornac_pop,\n",
    "                                  low_group_users, med_group_users, high_group_users,\n",
    "                                  low_GAP_profile, med_GAP_profile, high_GAP_profile):\n",
    "\n",
    "    low_rec_gap_user, medium_rec_gap_user, high_rec_gap_user = [], [], []\n",
    "    rel_diff_low, rel_diff_med, rel_diff_high = [], [], []\n",
    "\n",
    "    print(f\"    Calculating %DeltaGAP for {algo_name}...\")\n",
    "    for uid_int, user_rec_items_scores in tqdm(recommendations.items(), desc=f\"      GAP {algo_name}\", leave=False):\n",
    "        iid_list_int = [iid for (iid, _) in user_rec_items_scores]\n",
    "        if not iid_list_int: continue\n",
    "\n",
    "        iid_list_str = [str(iid) for iid in iid_list_int]\n",
    "        # Filter to items present in the popularity dataframe\n",
    "        valid_iids_str = [iid_str for iid_str in iid_list_str if iid_str in df_item_dist_cornac_pop.index]\n",
    "        if not valid_iids_str: continue\n",
    "\n",
    "        # Calculate average normalized popularity of recommended items\n",
    "        try:\n",
    "             gap_rec = df_item_dist_cornac_pop.loc[valid_iids_str, 'popularity'].mean()\n",
    "        except KeyError:\n",
    "             # This might happen if df_item_dist_cornac_pop doesn't contain an item for some reason\n",
    "             # print(f\"KeyError calculating GAP for user {uid_int}. Items: {valid_iids_str}\")\n",
    "             gap_rec = np.nan\n",
    "\n",
    "        if pd.isna(gap_rec): continue # Skip user if GAP couldn't be calculated\n",
    "\n",
    "        # Assign GAP to group and calculate relative difference\n",
    "        if uid_int in low_group_users.index:\n",
    "            low_rec_gap_user.append(gap_rec)\n",
    "            if pd.notna(low_GAP_profile) and low_GAP_profile > 1e-9: # Avoid division by zero\n",
    "                rel_diff_low.append((gap_rec - low_GAP_profile) / low_GAP_profile)\n",
    "        elif uid_int in med_group_users.index:\n",
    "            medium_rec_gap_user.append(gap_rec)\n",
    "            if pd.notna(med_GAP_profile) and med_GAP_profile > 1e-9:\n",
    "                rel_diff_med.append((gap_rec - med_GAP_profile) / med_GAP_profile)\n",
    "        elif uid_int in high_group_users.index:\n",
    "            high_rec_gap_user.append(gap_rec)\n",
    "            if pd.notna(high_GAP_profile) and high_GAP_profile > 1e-9:\n",
    "                rel_diff_high.append((gap_rec - high_GAP_profile) / high_GAP_profile)\n",
    "\n",
    "    # Calculate mean recommendation GAP for each group\n",
    "    mean_gap_rec_low = np.nanmean(low_rec_gap_user) if low_rec_gap_user else np.nan\n",
    "    mean_gap_rec_med = np.nanmean(medium_rec_gap_user) if medium_rec_gap_user else np.nan\n",
    "    mean_gap_rec_high = np.nanmean(high_rec_gap_user) if high_rec_gap_user else np.nan\n",
    "\n",
    "    # Calculate %ΔGAP\n",
    "    delta_gap_low = (mean_gap_rec_low - low_GAP_profile) / low_GAP_profile * 100 if pd.notna(low_GAP_profile) and low_GAP_profile > 1e-9 and pd.notna(mean_gap_rec_low) else np.nan\n",
    "    delta_gap_med = (mean_gap_rec_med - med_GAP_profile) / med_GAP_profile * 100 if pd.notna(med_GAP_profile) and med_GAP_profile > 1e-9 and pd.notna(mean_gap_rec_med) else np.nan\n",
    "    delta_gap_high = (mean_gap_rec_high - high_GAP_profile) / high_GAP_profile * 100 if pd.notna(high_GAP_profile) and high_GAP_profile > 1e-9 and pd.notna(mean_gap_rec_high) else np.nan\n",
    "\n",
    "    # Calculate t-tests on the *relative differences*\n",
    "    ttests_gap = [np.nan] * 3\n",
    "    try:\n",
    "        # Ensure lists are not empty and contain valid numbers for t-test\n",
    "        valid_rel_diff_low = [x for x in rel_diff_low if pd.notna(x)]\n",
    "        valid_rel_diff_med = [x for x in rel_diff_med if pd.notna(x)]\n",
    "        valid_rel_diff_high = [x for x in rel_diff_high if pd.notna(x)]\n",
    "\n",
    "        if len(valid_rel_diff_low) > 1 and len(valid_rel_diff_med) > 1:\n",
    "             ttests_gap[0] = stats.ttest_ind(valid_rel_diff_low, valid_rel_diff_med, equal_var=False, nan_policy='omit')[1]\n",
    "        if len(valid_rel_diff_low) > 1 and len(valid_rel_diff_high) > 1:\n",
    "             ttests_gap[1] = stats.ttest_ind(valid_rel_diff_low, valid_rel_diff_high, equal_var=False, nan_policy='omit')[1]\n",
    "        if len(valid_rel_diff_med) > 1 and len(valid_rel_diff_high) > 1:\n",
    "             ttests_gap[2] = stats.ttest_ind(valid_rel_diff_med, valid_rel_diff_high, equal_var=False, nan_policy='omit')[1]\n",
    "    except Exception as e:\n",
    "         print(f\"      Error during t-test calculation for GAP ({algo_name}): {e}\")\n",
    "\n",
    "    return delta_gap_low, delta_gap_med, delta_gap_high, ttests_gap\n",
    "\n",
    "\n",
    "print(\"Helper functions defined.\")"
   ]
  },
  {
   "cell_type": "markdown",
   "metadata": {},
   "source": [
    "# =============================================================================\n",
    "# SECTION D: MITIGATED RECOMMENDATION FUNCTIONS\n",
    "# =============================================================================\n",
    "# Implement the post-processing mitigation within new functions"
   ]
  },
  {
   "cell_type": "code",
   "execution_count": 4,
   "metadata": {},
   "outputs": [],
   "source": [
    "def get_top_n_mitigated_eva_two(model, user_idx_map, test_set, df_item_dist_cornac_pop, alpha, rec_k=10):\n",
    "    \"\"\"\n",
    "    Generates top-N recommendations using UserTest strategy with multiplicative damping.\n",
    "    Args:\n",
    "        model: Trained Cornac model.\n",
    "        user_idx_map: Mapping from Cornac internal UID to original string UID.\n",
    "        test_set: Cornac test set object.\n",
    "        df_item_dist_cornac_pop: DataFrame with item popularity ('popularity' column), indexed by Cornac *string* IID.\n",
    "        alpha: Mitigation strength hyperparameter.\n",
    "        rec_k: Number of recommendations to return.\n",
    "    Returns:\n",
    "        defaultdict: Dictionary {original_user_id (int): [(original_item_id (int), mitigated_score)]}\n",
    "    \"\"\"\n",
    "    top_n = defaultdict(list)\n",
    "    item_idx_map = model.train_set.iid_map # Original string IID -> Cornac internal IID\n",
    "    idx_item_map = {v: k for k, v in item_idx_map.items()} # Cornac internal IID -> Original string IID\n",
    "\n",
    "    print(f\"    Generating mitigated recs (eva_two, alpha={alpha})...\")\n",
    "    for uid_cornac in tqdm(test_set.uid_map.values(), desc=\"      Recs eva_two\", leave=False):\n",
    "        if uid_cornac in test_set.user_data:\n",
    "            original_user_id_str = user_idx_map[uid_cornac]\n",
    "            # Candidate items are ONLY those the user rated in the test set\n",
    "            candidate_items_indices = test_set.user_data[uid_cornac][0]\n",
    "            if not candidate_items_indices: continue\n",
    "\n",
    "            try:\n",
    "                # Rank *all* candidate items for this user\n",
    "                item_indices_ranked, item_scores_ranked = model.rank(user_idx=uid_cornac, item_indices=candidate_items_indices)\n",
    "\n",
    "                mitigated_candidates = []\n",
    "                for iid_cornac, score in zip(item_indices_ranked, item_scores_ranked):\n",
    "                    if pd.isna(score): continue # Skip items with NaN scores from model\n",
    "\n",
    "                    original_item_id_str = idx_item_map[iid_cornac]\n",
    "\n",
    "                    # Get normalized popularity\n",
    "                    item_pop = 0.0\n",
    "                    if original_item_id_str in df_item_dist_cornac_pop.index:\n",
    "                        item_pop = df_item_dist_cornac_pop.loc[original_item_id_str, 'popularity']\n",
    "\n",
    "                    # Apply multiplicative damping\n",
    "                    mitigated_score = score\n",
    "                    if item_pop > 1e-9: # Avoid division by zero or near-zero\n",
    "                         mitigated_score = score / (item_pop ** alpha)\n",
    "                    # If item_pop is 0 or very small, keep original score\n",
    "\n",
    "                    mitigated_candidates.append((iid_cornac, mitigated_score))\n",
    "\n",
    "                # Sort candidates by mitigated score (descending)\n",
    "                mitigated_candidates.sort(key=lambda x: x[1], reverse=True)\n",
    "\n",
    "                # Get top-k based on mitigated scores\n",
    "                for iid_cornac, mitigated_score in mitigated_candidates[:rec_k]:\n",
    "                    original_item_id_str = idx_item_map[iid_cornac]\n",
    "                    # Need to convert original IDs back to int for consistency\n",
    "                    top_n[int(original_user_id_str)].append((int(original_item_id_str), mitigated_score))\n",
    "\n",
    "            except Exception as e:\n",
    "                 print(f\"      Error during mitigated ranking for user {original_user_id_str} (eva_two): {e}\")\n",
    "                 continue\n",
    "    return top_n"
   ]
  },
  {
   "cell_type": "code",
   "execution_count": 5,
   "metadata": {},
   "outputs": [],
   "source": [
    "def get_top_n_mitigated_eva_three(model, user_idx_map, train_set, test_set, all_items_cornac_indices, df_item_dist_cornac_pop, alpha, rec_k=10):\n",
    "    \"\"\"\n",
    "    Generates top-N recommendations using TrainItems strategy with multiplicative damping.\n",
    "    Args:\n",
    "        model: Trained Cornac model.\n",
    "        user_idx_map: Mapping from Cornac internal UID to original string UID.\n",
    "        train_set: Cornac train set object.\n",
    "        test_set: Cornac test set object (used to identify users).\n",
    "        all_items_cornac_indices: Set of all known Cornac internal item indices.\n",
    "        df_item_dist_cornac_pop: DataFrame with item popularity ('popularity' column), indexed by Cornac *string* IID.\n",
    "        alpha: Mitigation strength hyperparameter.\n",
    "        rec_k: Number of recommendations to return.\n",
    "    Returns:\n",
    "        defaultdict: Dictionary {original_user_id (int): [(original_item_id (int), mitigated_score)]}\n",
    "    \"\"\"\n",
    "    top_n = defaultdict(list)\n",
    "    item_idx_map = model.train_set.iid_map # Original string IID -> Cornac internal IID\n",
    "    idx_item_map = {v: k for k, v in item_idx_map.items()} # Cornac internal IID -> Original string IID\n",
    "\n",
    "    print(f\"    Generating mitigated recs (eva_three, alpha={alpha})...\")\n",
    "    for uid_cornac in tqdm(test_set.uid_map.values(), desc=\"      Recs eva_three\", leave=False): # Iterate through users present in the test set\n",
    "        original_user_id_str = user_idx_map[uid_cornac]\n",
    "\n",
    "        # Find items user interacted with in the training set\n",
    "        items_in_train = set()\n",
    "        if uid_cornac in train_set.user_data:\n",
    "            items_in_train = set(train_set.user_data[uid_cornac][0])\n",
    "\n",
    "        # Candidate items are ALL items EXCEPT those in the user's training set\n",
    "        candidate_items_indices = list(all_items_cornac_indices.difference(items_in_train))\n",
    "        if not candidate_items_indices: continue\n",
    "\n",
    "        try:\n",
    "            # Rank *all* candidate items for this user\n",
    "            item_indices_ranked, item_scores_ranked = model.rank(user_idx=uid_cornac, item_indices=candidate_items_indices)\n",
    "\n",
    "            mitigated_candidates = []\n",
    "            for iid_cornac, score in zip(item_indices_ranked, item_scores_ranked):\n",
    "                 if pd.isna(score): continue # Skip items with NaN scores\n",
    "\n",
    "                 original_item_id_str = idx_item_map[iid_cornac]\n",
    "\n",
    "                 # Get normalized popularity\n",
    "                 item_pop = 0.0\n",
    "                 if original_item_id_str in df_item_dist_cornac_pop.index:\n",
    "                     item_pop = df_item_dist_cornac_pop.loc[original_item_id_str, 'popularity']\n",
    "\n",
    "                 # Apply multiplicative damping\n",
    "                 mitigated_score = score\n",
    "                 if item_pop > 1e-9: # Avoid division by zero or near-zero\n",
    "                     mitigated_score = score / (item_pop ** alpha)\n",
    "\n",
    "                 mitigated_candidates.append((iid_cornac, mitigated_score))\n",
    "\n",
    "            # Sort candidates by mitigated score\n",
    "            mitigated_candidates.sort(key=lambda x: x[1], reverse=True)\n",
    "\n",
    "            # Get top-k\n",
    "            for iid_cornac, mitigated_score in mitigated_candidates[:rec_k]:\n",
    "                 original_item_id_str = idx_item_map[iid_cornac]\n",
    "                 # Need to convert original IDs back to int for consistency\n",
    "                 top_n[int(original_user_id_str)].append((int(original_item_id_str), mitigated_score))\n",
    "\n",
    "        except Exception as e:\n",
    "             print(f\"      Error during mitigated ranking for user {original_user_id_str} (eva_three): {e}\")\n",
    "             continue\n",
    "    return top_n"
   ]
  },
  {
   "cell_type": "markdown",
   "metadata": {},
   "source": [
    "# =============================================================================\n",
    "# SECTION E: MAIN EVALUATION LOOP\n",
    "# ============================================================================="
   ]
  },
  {
   "cell_type": "code",
   "execution_count": 6,
   "metadata": {},
   "outputs": [
    {
     "name": "stdout",
     "output_type": "stream",
     "text": [
      "==============================\n",
      "STARTING: Data Prep & Model Training\n",
      "==============================\n",
      "\n",
      "\n",
      "--- Processing Domain: MUSIC ---\n",
      "  Loading data: data/relevant_music_data_20.csv\n",
      "  Initial interactions: 1008479\n",
      "  Running initial analysis...\n",
      "  No. user events: 1008479\n",
      "  No. unique artists: 12690\n",
      "  No. unique users: 3000\n",
      "--------------------\n",
      "  Mean artists per user: 336.2\n",
      "  Min artists per user: 4\n",
      "  Max artists per user: 2057\n",
      "--------------------\n",
      "  Mean users per artist: 79.5\n",
      "  Min users per artist: 21\n",
      "  Max users per artist: 1389\n",
      "--------------------\n",
      "  Identified 2538 popular items (top 20%)\n",
      "--------------------\n",
      "  Calculating base user metrics...\n",
      "  Calculating base popularity metrics (pop_one, pop_two)...\n"
     ]
    },
    {
     "data": {
      "application/vnd.jupyter.widget-view+json": {
       "model_id": "d6678a60000c4d47933be95b9b02de85",
       "version_major": 2,
       "version_minor": 0
      },
      "text/plain": [
       "  Metrics (pop_one/two):   0%|          | 0/3000 [00:00<?, ?it/s]"
      ]
     },
     "metadata": {},
     "output_type": "display_data"
    },
    {
     "name": "stdout",
     "output_type": "stream",
     "text": [
      "  Defining niche items (bottom 30% popularity)...\n",
      "  Found 3855 niche items (popularity count <= 29.00).\n",
      "  Calculating niche consumption rate per user (pop_four)...\n"
     ]
    },
    {
     "data": {
      "application/vnd.jupyter.widget-view+json": {
       "model_id": "3eca2ab96e324d6a95055808352cdeec",
       "version_major": 2,
       "version_minor": 0
      },
      "text/plain": [
       "  Metrics (pop_four):   0%|          | 0/3000 [00:00<?, ?it/s]"
      ]
     },
     "metadata": {},
     "output_type": "display_data"
    },
    {
     "name": "stdout",
     "output_type": "stream",
     "text": [
      "  Finished calculating niche consumption rates.\n",
      "--------------------\n",
      "  Scaling user ratings (1-1000)...\n"
     ]
    },
    {
     "data": {
      "application/vnd.jupyter.widget-view+json": {
       "model_id": "b869ecfd9620482391c118f1df8c074d",
       "version_major": 2,
       "version_minor": 0
      },
      "text/plain": [
       "  Scaling:   0%|          | 0/3000 [00:00<?, ?it/s]"
      ]
     },
     "metadata": {},
     "output_type": "display_data"
    },
    {
     "name": "stdout",
     "output_type": "stream",
     "text": [
      "  Scaling complete.\n",
      "--------------------\n",
      "  Preparing data for Cornac...\n",
      "  Prepared 1008479 interactions for Cornac.\n",
      "--------------------\n",
      "  Splitting data (80%/20%)...\n",
      "rating_threshold = 1.0\n",
      "exclude_unknowns = True\n",
      "---\n",
      "Training data:\n",
      "Number of users = 3000\n",
      "Number of items = 12690\n",
      "Number of ratings = 806783\n",
      "Max rating = 1000.0\n",
      "Min rating = 1.0\n",
      "Global mean = 44.5\n",
      "---\n",
      "Test data:\n",
      "Number of users = 3000\n",
      "Number of items = 12690\n",
      "Number of ratings = 201696\n",
      "Number of unknown users = 0\n",
      "Number of unknown items = 0\n",
      "---\n",
      "Total users = 3000\n",
      "Total items = 12690\n",
      "  Total unique items known to Cornac: 12690\n",
      "--------------------\n",
      "  Training models...\n",
      "\n",
      "[MostPop] Training started!\n",
      "\n",
      "[MostPop] Evaluation started!\n"
     ]
    },
    {
     "data": {
      "application/vnd.jupyter.widget-view+json": {
       "model_id": "da984adc841d4d08a1819b611a4747e2",
       "version_major": 2,
       "version_minor": 0
      },
      "text/plain": [
       "Rating:   0%|          | 0/201696 [00:00<?, ?it/s]"
      ]
     },
     "metadata": {},
     "output_type": "display_data"
    },
    {
     "name": "stdout",
     "output_type": "stream",
     "text": [
      "\n",
      "[UserKNN] Training started!\n"
     ]
    },
    {
     "data": {
      "application/vnd.jupyter.widget-view+json": {
       "model_id": "6f4cea0d57b54ffdbb41ec417e4a4ce8",
       "version_major": 2,
       "version_minor": 0
      },
      "text/plain": [
       "  0%|          | 0/3000 [00:00<?, ?it/s]"
      ]
     },
     "metadata": {},
     "output_type": "display_data"
    },
    {
     "name": "stdout",
     "output_type": "stream",
     "text": [
      "\n",
      "[UserKNN] Evaluation started!\n"
     ]
    },
    {
     "data": {
      "application/vnd.jupyter.widget-view+json": {
       "model_id": "14545771081549c49d10e8f3675a3439",
       "version_major": 2,
       "version_minor": 0
      },
      "text/plain": [
       "Rating:   0%|          | 0/201696 [00:00<?, ?it/s]"
      ]
     },
     "metadata": {},
     "output_type": "display_data"
    },
    {
     "name": "stdout",
     "output_type": "stream",
     "text": [
      "\n",
      "[ItemKNN] Training started!\n"
     ]
    },
    {
     "data": {
      "application/vnd.jupyter.widget-view+json": {
       "model_id": "2d29c503f71f417889af8c84dc89bdcd",
       "version_major": 2,
       "version_minor": 0
      },
      "text/plain": [
       "  0%|          | 0/12690 [00:00<?, ?it/s]"
      ]
     },
     "metadata": {},
     "output_type": "display_data"
    },
    {
     "name": "stdout",
     "output_type": "stream",
     "text": [
      "\n",
      "[ItemKNN] Evaluation started!\n"
     ]
    },
    {
     "data": {
      "application/vnd.jupyter.widget-view+json": {
       "model_id": "682d3fdd907c4bd58593bb61252ca9e6",
       "version_major": 2,
       "version_minor": 0
      },
      "text/plain": [
       "Rating:   0%|          | 0/201696 [00:00<?, ?it/s]"
      ]
     },
     "metadata": {},
     "output_type": "display_data"
    },
    {
     "name": "stdout",
     "output_type": "stream",
     "text": [
      "\n",
      "[PMF] Training started!\n",
      "Learning...\n",
      "epoch 0, loss: 155084.795966\n",
      "epoch 1, loss: 86975.061789\n",
      "epoch 2, loss: 53418.749656\n",
      "epoch 3, loss: 38709.684055\n",
      "epoch 4, loss: 30908.752810\n",
      "epoch 5, loss: 26151.894519\n",
      "epoch 6, loss: 23008.108093\n",
      "epoch 7, loss: 20840.053146\n",
      "epoch 8, loss: 19296.269270\n",
      "epoch 9, loss: 18163.060215\n",
      "epoch 10, loss: 17307.567132\n",
      "epoch 11, loss: 16645.596483\n",
      "epoch 12, loss: 16122.517976\n",
      "epoch 13, loss: 15701.942342\n",
      "epoch 14, loss: 15358.960617\n",
      "epoch 15, loss: 15076.048770\n",
      "epoch 16, loss: 14840.543998\n",
      "epoch 17, loss: 14643.062929\n",
      "epoch 18, loss: 14476.492447\n",
      "epoch 19, loss: 14335.331996\n",
      "epoch 20, loss: 14215.253792\n",
      "epoch 21, loss: 14112.801286\n",
      "epoch 22, loss: 14025.176957\n",
      "epoch 23, loss: 13950.090024\n",
      "epoch 24, loss: 13885.645940\n",
      "epoch 25, loss: 13830.265047\n",
      "epoch 26, loss: 13782.621197\n",
      "epoch 27, loss: 13741.594617\n",
      "epoch 28, loss: 13706.235288\n",
      "epoch 29, loss: 13675.734138\n",
      "epoch 30, loss: 13649.400159\n",
      "epoch 31, loss: 13626.642039\n",
      "epoch 32, loss: 13606.953356\n",
      "epoch 33, loss: 13589.900353\n",
      "epoch 34, loss: 13575.111622\n",
      "epoch 35, loss: 13562.269285\n",
      "epoch 36, loss: 13551.101384\n",
      "epoch 37, loss: 13541.375333\n",
      "epoch 38, loss: 13532.892306\n",
      "epoch 39, loss: 13525.482334\n",
      "epoch 40, loss: 13519.000064\n",
      "epoch 41, loss: 13513.321099\n",
      "epoch 42, loss: 13508.338852\n",
      "epoch 43, loss: 13503.961890\n",
      "epoch 44, loss: 13500.111645\n",
      "epoch 45, loss: 13496.720500\n",
      "epoch 46, loss: 13493.730145\n",
      "epoch 47, loss: 13491.090211\n",
      "epoch 48, loss: 13488.757100\n",
      "epoch 49, loss: 13486.693017\n",
      "epoch 50, loss: 13484.865145\n",
      "epoch 51, loss: 13483.244937\n",
      "epoch 52, loss: 13481.807543\n",
      "epoch 53, loss: 13480.531285\n",
      "epoch 54, loss: 13479.397228\n",
      "epoch 55, loss: 13478.388806\n",
      "epoch 56, loss: 13477.491510\n",
      "epoch 57, loss: 13476.692595\n",
      "epoch 58, loss: 13475.980866\n",
      "epoch 59, loss: 13475.346466\n",
      "epoch 60, loss: 13474.780704\n",
      "epoch 61, loss: 13474.275913\n",
      "epoch 62, loss: 13473.825316\n",
      "epoch 63, loss: 13473.422919\n",
      "epoch 64, loss: 13473.063405\n",
      "epoch 65, loss: 13472.742076\n",
      "epoch 66, loss: 13472.454745\n",
      "epoch 67, loss: 13472.197707\n",
      "epoch 68, loss: 13471.967655\n",
      "epoch 69, loss: 13471.761653\n",
      "epoch 70, loss: 13471.577087\n",
      "epoch 71, loss: 13471.411625\n",
      "epoch 72, loss: 13471.263176\n",
      "epoch 73, loss: 13471.129892\n",
      "epoch 74, loss: 13471.010106\n",
      "epoch 75, loss: 13470.902332\n",
      "epoch 76, loss: 13470.805243\n",
      "epoch 77, loss: 13470.717641\n",
      "epoch 78, loss: 13470.638459\n",
      "epoch 79, loss: 13470.566737\n",
      "epoch 80, loss: 13470.501618\n",
      "epoch 81, loss: 13470.442317\n",
      "epoch 82, loss: 13470.388143\n",
      "epoch 83, loss: 13470.338463\n",
      "epoch 84, loss: 13470.292707\n",
      "epoch 85, loss: 13470.250365\n",
      "epoch 86, loss: 13470.210966\n",
      "epoch 87, loss: 13470.174092\n",
      "epoch 88, loss: 13470.139354\n",
      "epoch 89, loss: 13470.106403\n",
      "epoch 90, loss: 13470.074919\n",
      "epoch 91, loss: 13470.044606\n",
      "epoch 92, loss: 13470.015190\n",
      "epoch 93, loss: 13469.986421\n",
      "epoch 94, loss: 13469.958069\n",
      "epoch 95, loss: 13469.929907\n",
      "epoch 96, loss: 13469.901731\n",
      "epoch 97, loss: 13469.873348\n",
      "epoch 98, loss: 13469.844566\n",
      "epoch 99, loss: 13469.815206\n",
      "Learning completed\n",
      "\n",
      "[PMF] Evaluation started!\n"
     ]
    },
    {
     "data": {
      "application/vnd.jupyter.widget-view+json": {
       "model_id": "c26e958df18f43279a05d924e3d2e8d7",
       "version_major": 2,
       "version_minor": 0
      },
      "text/plain": [
       "Rating:   0%|          | 0/201696 [00:00<?, ?it/s]"
      ]
     },
     "metadata": {},
     "output_type": "display_data"
    },
    {
     "name": "stdout",
     "output_type": "stream",
     "text": [
      "\n",
      "[NMF] Training started!\n"
     ]
    },
    {
     "data": {
      "application/vnd.jupyter.widget-view+json": {
       "model_id": "b1379e32e146462fbf60722ef9fc75d0",
       "version_major": 2,
       "version_minor": 0
      },
      "text/plain": [
       "  0%|          | 0/50 [00:00<?, ?it/s]"
      ]
     },
     "metadata": {},
     "output_type": "display_data"
    },
    {
     "name": "stdout",
     "output_type": "stream",
     "text": [
      "Optimization finished!\n",
      "\n",
      "[NMF] Evaluation started!\n"
     ]
    },
    {
     "data": {
      "application/vnd.jupyter.widget-view+json": {
       "model_id": "a8fbddc672a145cb8f2694850a458065",
       "version_major": 2,
       "version_minor": 0
      },
      "text/plain": [
       "Rating:   0%|          | 0/201696 [00:00<?, ?it/s]"
      ]
     },
     "metadata": {},
     "output_type": "display_data"
    },
    {
     "name": "stdout",
     "output_type": "stream",
     "text": [
      "\n",
      "[PF] Training started!\n",
      "Learning...\n",
      "Learning completed!\n",
      "\n",
      "[PF] Evaluation started!\n"
     ]
    },
    {
     "data": {
      "application/vnd.jupyter.widget-view+json": {
       "model_id": "9f5530fd7ec94bfd928f94fa02a18c59",
       "version_major": 2,
       "version_minor": 0
      },
      "text/plain": [
       "Rating:   0%|          | 0/201696 [00:00<?, ?it/s]"
      ]
     },
     "metadata": {},
     "output_type": "display_data"
    },
    {
     "name": "stdout",
     "output_type": "stream",
     "text": [
      "\n",
      "TEST:\n",
      "...\n",
      "        |      MAE | Train (s) | Test (s)\n",
      "------- + -------- + --------- + --------\n",
      "MostPop | 193.9530 |    0.0411 |   2.4149\n",
      "UserKNN |  66.4852 |    1.7672 |  22.1585\n",
      "ItemKNN |  65.6744 |    9.1386 |  27.1424\n",
      "PMF     |  72.1270 |   42.9307 |   4.3383\n",
      "NMF     |  57.0491 |    4.7248 |   4.3803\n",
      "PF      |  54.6507 | 1403.6335 |   3.6372\n",
      "\n",
      "  Training complete.\n",
      "--------------------\n",
      "\n",
      "--- Processing Domain: MOVIE ---\n",
      "  Loading data: data/ratings_movies.dat\n",
      "  Initial interactions: 1000209\n",
      "  Running initial analysis...\n",
      "  No. user events: 1000209\n",
      "  No. unique movies: 3706\n",
      "  No. unique users: 6040\n",
      "--------------------\n",
      "  Mean movies per user: 165.6\n",
      "  Min movies per user: 20\n",
      "  Max movies per user: 2314\n",
      "--------------------\n",
      "  Mean users per movie: 269.9\n",
      "  Min users per movie: 1\n",
      "  Max users per movie: 3428\n",
      "--------------------\n",
      "  Identified 741 popular items (top 20%)\n",
      "--------------------\n",
      "  Calculating base user metrics...\n",
      "  Calculating base popularity metrics (pop_one, pop_two)...\n"
     ]
    },
    {
     "data": {
      "application/vnd.jupyter.widget-view+json": {
       "model_id": "7ec5f22017bb4e22a36bebc6a4b1a5eb",
       "version_major": 2,
       "version_minor": 0
      },
      "text/plain": [
       "  Metrics (pop_one/two):   0%|          | 0/6040 [00:00<?, ?it/s]"
      ]
     },
     "metadata": {},
     "output_type": "display_data"
    },
    {
     "name": "stdout",
     "output_type": "stream",
     "text": [
      "  Defining niche items (bottom 30% popularity)...\n",
      "  Found 1122 niche items (popularity count <= 44.00).\n",
      "  Calculating niche consumption rate per user (pop_four)...\n"
     ]
    },
    {
     "data": {
      "application/vnd.jupyter.widget-view+json": {
       "model_id": "f22ecc1d613d4b00a3f5134c07e573a1",
       "version_major": 2,
       "version_minor": 0
      },
      "text/plain": [
       "  Metrics (pop_four):   0%|          | 0/6040 [00:00<?, ?it/s]"
      ]
     },
     "metadata": {},
     "output_type": "display_data"
    },
    {
     "name": "stdout",
     "output_type": "stream",
     "text": [
      "  Finished calculating niche consumption rates.\n",
      "--------------------\n",
      "  Preparing data for Cornac...\n",
      "  Prepared 1000209 interactions for Cornac.\n",
      "--------------------\n",
      "  Splitting data (80%/20%)...\n",
      "rating_threshold = 1.0\n",
      "exclude_unknowns = True\n",
      "---\n",
      "Training data:\n",
      "Number of users = 6040\n",
      "Number of items = 3680\n",
      "Number of ratings = 800167\n",
      "Max rating = 5.0\n",
      "Min rating = 1.0\n",
      "Global mean = 3.6\n",
      "---\n",
      "Test data:\n",
      "Number of users = 6040\n",
      "Number of items = 3680\n",
      "Number of ratings = 200012\n",
      "Number of unknown users = 0\n",
      "Number of unknown items = 0\n",
      "---\n",
      "Total users = 6040\n",
      "Total items = 3680\n",
      "  Total unique items known to Cornac: 3680\n",
      "--------------------\n",
      "  Training models...\n",
      "\n",
      "[MostPop] Training started!\n",
      "\n",
      "[MostPop] Evaluation started!\n"
     ]
    },
    {
     "data": {
      "application/vnd.jupyter.widget-view+json": {
       "model_id": "20a87028aa04495c9f522b15625d9604",
       "version_major": 2,
       "version_minor": 0
      },
      "text/plain": [
       "Rating:   0%|          | 0/200012 [00:00<?, ?it/s]"
      ]
     },
     "metadata": {},
     "output_type": "display_data"
    },
    {
     "name": "stdout",
     "output_type": "stream",
     "text": [
      "\n",
      "[UserKNN] Training started!\n"
     ]
    },
    {
     "data": {
      "application/vnd.jupyter.widget-view+json": {
       "model_id": "2df1732be3564986a8a1a071099f0fa0",
       "version_major": 2,
       "version_minor": 0
      },
      "text/plain": [
       "  0%|          | 0/6040 [00:00<?, ?it/s]"
      ]
     },
     "metadata": {},
     "output_type": "display_data"
    },
    {
     "name": "stdout",
     "output_type": "stream",
     "text": [
      "\n",
      "[UserKNN] Evaluation started!\n"
     ]
    },
    {
     "data": {
      "application/vnd.jupyter.widget-view+json": {
       "model_id": "30e83903e79b48978c9e7fd68e1afad1",
       "version_major": 2,
       "version_minor": 0
      },
      "text/plain": [
       "Rating:   0%|          | 0/200012 [00:00<?, ?it/s]"
      ]
     },
     "metadata": {},
     "output_type": "display_data"
    },
    {
     "name": "stdout",
     "output_type": "stream",
     "text": [
      "\n",
      "[ItemKNN] Training started!\n"
     ]
    },
    {
     "data": {
      "application/vnd.jupyter.widget-view+json": {
       "model_id": "3ecf0bb281ba4a649440e72bbbba9aef",
       "version_major": 2,
       "version_minor": 0
      },
      "text/plain": [
       "  0%|          | 0/3680 [00:00<?, ?it/s]"
      ]
     },
     "metadata": {},
     "output_type": "display_data"
    },
    {
     "name": "stdout",
     "output_type": "stream",
     "text": [
      "\n",
      "[ItemKNN] Evaluation started!\n"
     ]
    },
    {
     "data": {
      "application/vnd.jupyter.widget-view+json": {
       "model_id": "bf0b60f6a7ce46aa9e636868b7b8894a",
       "version_major": 2,
       "version_minor": 0
      },
      "text/plain": [
       "Rating:   0%|          | 0/200012 [00:00<?, ?it/s]"
      ]
     },
     "metadata": {},
     "output_type": "display_data"
    },
    {
     "name": "stdout",
     "output_type": "stream",
     "text": [
      "\n",
      "[PMF] Training started!\n",
      "Learning...\n",
      "epoch 0, loss: 74094.462488\n",
      "epoch 1, loss: 58434.859407\n",
      "epoch 2, loss: 52539.283118\n",
      "epoch 3, loss: 49925.439458\n",
      "epoch 4, loss: 48292.154778\n",
      "epoch 5, loss: 47049.400664\n",
      "epoch 6, loss: 46020.022051\n",
      "epoch 7, loss: 45163.574883\n",
      "epoch 8, loss: 44462.164723\n",
      "epoch 9, loss: 43889.877628\n",
      "epoch 10, loss: 43417.859088\n",
      "epoch 11, loss: 43021.174998\n",
      "epoch 12, loss: 42680.473614\n",
      "epoch 13, loss: 42381.097342\n",
      "epoch 14, loss: 42111.841218\n",
      "epoch 15, loss: 41864.062088\n",
      "epoch 16, loss: 41631.189411\n",
      "epoch 17, loss: 41408.508447\n",
      "epoch 18, loss: 41193.039955\n",
      "epoch 19, loss: 40983.339405\n",
      "epoch 20, loss: 40779.101844\n",
      "epoch 21, loss: 40580.595165\n",
      "epoch 22, loss: 40388.080315\n",
      "epoch 23, loss: 40201.417518\n",
      "epoch 24, loss: 40019.957164\n",
      "epoch 25, loss: 39842.670338\n",
      "epoch 26, loss: 39668.398215\n",
      "epoch 27, loss: 39496.108862\n",
      "epoch 28, loss: 39325.093571\n",
      "epoch 29, loss: 39155.072244\n",
      "epoch 30, loss: 38986.202647\n",
      "epoch 31, loss: 38819.003725\n",
      "epoch 32, loss: 38654.217619\n",
      "epoch 33, loss: 38492.649556\n",
      "epoch 34, loss: 38335.027741\n",
      "epoch 35, loss: 38181.913208\n",
      "epoch 36, loss: 38033.666354\n",
      "epoch 37, loss: 37890.458613\n",
      "epoch 38, loss: 37752.308966\n",
      "epoch 39, loss: 37619.128606\n",
      "epoch 40, loss: 37490.762002\n",
      "epoch 41, loss: 37367.019290\n",
      "epoch 42, loss: 37247.699166\n",
      "epoch 43, loss: 37132.603213\n",
      "epoch 44, loss: 37021.543979\n",
      "epoch 45, loss: 36914.348740\n",
      "epoch 46, loss: 36810.860383\n",
      "epoch 47, loss: 36710.936902\n",
      "epoch 48, loss: 36614.449653\n",
      "epoch 49, loss: 36521.281343\n",
      "epoch 50, loss: 36431.323650\n",
      "epoch 51, loss: 36344.474969\n",
      "epoch 52, loss: 36260.638326\n",
      "epoch 53, loss: 36179.719704\n",
      "epoch 54, loss: 36101.626646\n",
      "epoch 55, loss: 36026.267322\n",
      "epoch 56, loss: 35953.550013\n",
      "epoch 57, loss: 35883.382860\n",
      "epoch 58, loss: 35815.674015\n",
      "epoch 59, loss: 35750.331735\n",
      "epoch 60, loss: 35687.264991\n",
      "epoch 61, loss: 35626.383709\n",
      "epoch 62, loss: 35567.599388\n",
      "epoch 63, loss: 35510.825385\n",
      "epoch 64, loss: 35455.977336\n",
      "epoch 65, loss: 35402.973451\n",
      "epoch 66, loss: 35351.734735\n",
      "epoch 67, loss: 35302.185128\n",
      "epoch 68, loss: 35254.251619\n",
      "epoch 69, loss: 35207.864248\n",
      "epoch 70, loss: 35162.956176\n",
      "epoch 71, loss: 35119.463588\n",
      "epoch 72, loss: 35077.325654\n",
      "epoch 73, loss: 35036.484489\n",
      "epoch 74, loss: 34996.885038\n",
      "epoch 75, loss: 34958.474892\n",
      "epoch 76, loss: 34921.204337\n",
      "epoch 77, loss: 34885.026098\n",
      "epoch 78, loss: 34849.895298\n",
      "epoch 79, loss: 34815.769334\n",
      "epoch 80, loss: 34782.607734\n",
      "epoch 81, loss: 34750.372079\n",
      "epoch 82, loss: 34719.025823\n",
      "epoch 83, loss: 34688.534320\n",
      "epoch 84, loss: 34658.864589\n",
      "epoch 85, loss: 34629.985334\n",
      "epoch 86, loss: 34601.866728\n",
      "epoch 87, loss: 34574.480448\n",
      "epoch 88, loss: 34547.799518\n",
      "epoch 89, loss: 34521.798271\n",
      "epoch 90, loss: 34496.452251\n",
      "epoch 91, loss: 34471.738144\n",
      "epoch 92, loss: 34447.633730\n",
      "epoch 93, loss: 34424.117777\n",
      "epoch 94, loss: 34401.170082\n",
      "epoch 95, loss: 34378.771307\n",
      "epoch 96, loss: 34356.902970\n",
      "epoch 97, loss: 34335.547429\n",
      "epoch 98, loss: 34314.687805\n",
      "epoch 99, loss: 34294.307922\n",
      "Learning completed\n",
      "\n",
      "[PMF] Evaluation started!\n"
     ]
    },
    {
     "data": {
      "application/vnd.jupyter.widget-view+json": {
       "model_id": "2fb05fee6b334223859b1493d31b0ba1",
       "version_major": 2,
       "version_minor": 0
      },
      "text/plain": [
       "Rating:   0%|          | 0/200012 [00:00<?, ?it/s]"
      ]
     },
     "metadata": {},
     "output_type": "display_data"
    },
    {
     "name": "stdout",
     "output_type": "stream",
     "text": [
      "\n",
      "[NMF] Training started!\n"
     ]
    },
    {
     "data": {
      "application/vnd.jupyter.widget-view+json": {
       "model_id": "f547affc39b441788811f3fb2085f598",
       "version_major": 2,
       "version_minor": 0
      },
      "text/plain": [
       "  0%|          | 0/50 [00:00<?, ?it/s]"
      ]
     },
     "metadata": {},
     "output_type": "display_data"
    },
    {
     "name": "stdout",
     "output_type": "stream",
     "text": [
      "Optimization finished!\n",
      "\n",
      "[NMF] Evaluation started!\n"
     ]
    },
    {
     "data": {
      "application/vnd.jupyter.widget-view+json": {
       "model_id": "a99f50cc6d9c4b4594b340baa9bb65d0",
       "version_major": 2,
       "version_minor": 0
      },
      "text/plain": [
       "Rating:   0%|          | 0/200012 [00:00<?, ?it/s]"
      ]
     },
     "metadata": {},
     "output_type": "display_data"
    },
    {
     "name": "stdout",
     "output_type": "stream",
     "text": [
      "\n",
      "[PF] Training started!\n",
      "Learning...\n",
      "Learning completed!\n",
      "\n",
      "[PF] Evaluation started!\n"
     ]
    },
    {
     "data": {
      "application/vnd.jupyter.widget-view+json": {
       "model_id": "2b60a34ccd4847daac4b51d9fb4631ad",
       "version_major": 2,
       "version_minor": 0
      },
      "text/plain": [
       "Rating:   0%|          | 0/200012 [00:00<?, ?it/s]"
      ]
     },
     "metadata": {},
     "output_type": "display_data"
    },
    {
     "name": "stdout",
     "output_type": "stream",
     "text": [
      "\n",
      "TEST:\n",
      "...\n",
      "        |    MAE | Train (s) | Test (s)\n",
      "------- + ------ + --------- + --------\n",
      "MostPop | 1.2959 |    0.0521 |   2.6813\n",
      "UserKNN | 0.7604 |    5.5882 |  25.9634\n",
      "ItemKNN | 0.8008 |    2.5340 |  22.9914\n",
      "PMF     | 0.7007 |   38.7273 |   4.2912\n",
      "NMF     | 0.7453 |    4.1114 |   4.6019\n",
      "PF      | 2.4665 | 1323.2904 |   3.9961\n",
      "\n",
      "  Training complete.\n",
      "--------------------\n",
      "\n",
      "Data Prep & Model Training completed in 3001 seconds.\n"
     ]
    }
   ],
   "source": [
    "# --- Store results across domains ---\n",
    "domain_results = {} # Will store metrics DFs, Cornac objects, etc. per domain\n",
    "domain_base_metrics = {} # Will store base user/item metrics per domain\n",
    "\n",
    "# --- Define Domains ---\n",
    "domains = {\n",
    "    'music': {'file': 'data/relevant_music_data_20.csv', 'item_col': 'artist', 'needs_scaling': True},\n",
    "    'movie': {'file': 'data/ratings_movies.dat', 'item_col': 'movie', 'needs_scaling': False}\n",
    "}\n",
    "\n",
    "# --- Loop 1: Data Loading, Preprocessing, Base Metrics, Training (Per Domain) ---\n",
    "print(\"=\"*30)\n",
    "print(\"STARTING: Data Prep & Model Training\")\n",
    "print(\"=\"*30 + \"\\n\")\n",
    "start_prep_train = time.time()\n",
    "\n",
    "for domain, config in domains.items():\n",
    "    print(f\"\\n--- Processing Domain: {domain.upper()} ---\")\n",
    "    item_col = config['item_col']\n",
    "    domain_results[domain] = {} # Initialize results dict for domain\n",
    "    domain_base_metrics[domain] = {} # Initialize base metrics dict\n",
    "\n",
    "    # 1. Load Data\n",
    "    print(f\"  Loading data: {config['file']}\")\n",
    "    if domain == 'movie':\n",
    "        cols = ['user', 'movie', 'rating', 'timestamp']\n",
    "        # Using 'latin1' or 'ISO-8859-1' encoding is often needed for ml-1m ratings.dat\n",
    "        df_events_orig = pd.read_table(config['file'], sep = \"::\", engine=\"python\", names=cols, encoding='ISO-8859-1')\n",
    "        df_events_orig = df_events_orig.astype({user_col: \"int\", item_col: \"int\", predict_col: \"int\"}) # Ensure correct types\n",
    "    else: # music\n",
    "        df_events_orig = pd.read_csv(config['file'], index_col=0)\n",
    "        df_events_orig = df_events_orig.astype({user_col: \"int\", item_col: \"int\", predict_col: \"int\"})\n",
    "\n",
    "    print(f\"  Initial interactions: {len(df_events_orig)}\")\n",
    "\n",
    "    # 2. Initial Analysis & Base Item Popularity\n",
    "    print(\"  Running initial analysis...\")\n",
    "    num_users, num_items = users_and_items(df_events_orig, user_col, item_col)\n",
    "    user_dist_counts = user_distribution(df_events_orig, user_col, item_col)\n",
    "    item_dist_counts = item_distribution(df_events_orig, user_col, item_col)\n",
    "    df_item_dist, top_item_ids = calculate_item_popularity(item_dist_counts, num_users, top_fraction)\n",
    "    domain_base_metrics[domain]['df_item_dist'] = df_item_dist # Store original item dist\n",
    "\n",
    "    # 3. Base User Metrics Calculation\n",
    "    print(\"  Calculating base user metrics...\")\n",
    "    base_user_metrics_df = calculate_popularity_metrics(df_events_orig, top_item_ids, df_item_dist, num_users, user_col, item_col)\n",
    "    niche_consumption_rates_series = calculate_niche_consumption_rates(df_events_orig, df_item_dist, user_dist_counts, user_col, item_col, niche_threshold_percentile=0.3)\n",
    "    # Ensure index alignment before join\n",
    "    user_metrics_all = base_user_metrics_df.join(user_dist_counts.rename('total_interactions'), how='left').join(niche_consumption_rates_series, how='left')\n",
    "    domain_base_metrics[domain]['user_metrics_all'] = user_metrics_all # Store base metrics\n",
    "\n",
    "    # 4. Domain-Specific Scaling (if needed)\n",
    "    df_events_processed = df_events_orig.copy()\n",
    "    if config['needs_scaling']:\n",
    "        print(\"  Scaling user ratings (1-1000)...\")\n",
    "        scaled_df_list = []\n",
    "        grouped = df_events_processed.groupby(user_col)\n",
    "        for _, group in tqdm(grouped, total=len(grouped), desc=\"  Scaling\"):\n",
    "            # Ensure there's data to scale and more than one unique value\n",
    "            if not group.empty and group[predict_col].nunique() > 1:\n",
    "                scaler = MinMaxScaler(feature_range=(1, 1000))\n",
    "                try:\n",
    "                    scaled_ratings = scaler.fit_transform(group[predict_col].values.reshape(-1, 1).astype(float))\n",
    "                except ValueError:\n",
    "                    # Handle potential errors during scaling, e.g., if data is not numeric\n",
    "                    scaled_ratings = group[predict_col].values.reshape(-1, 1).astype(float) # Use original if scaling fails\n",
    "            else:\n",
    "                # If only one unique rating or empty group, keep original\n",
    "                scaled_ratings = group[predict_col].values.reshape(-1, 1).astype(float)\n",
    "\n",
    "            new_rows = group.copy()\n",
    "            new_rows[predict_col] = scaled_ratings.flatten()\n",
    "            scaled_df_list.append(new_rows)\n",
    "\n",
    "        if scaled_df_list: # Check if list is not empty before concatenating\n",
    "             df_events_processed = pd.concat(scaled_df_list, ignore_index=True)\n",
    "        else:\n",
    "             print(\"  Warning: Scaled data list is empty, using original data.\")\n",
    "        print(\"  Scaling complete.\")\n",
    "        print(\"-\" * 20)\n",
    "\n",
    "    # 5. Prepare Data for Cornac\n",
    "    print(\"  Preparing data for Cornac...\")\n",
    "    df_events_cornac = df_events_processed.copy()\n",
    "    # Ensure item IDs are consistently handled (using original IDs before mapping)\n",
    "    unique_items_domain = df_events_cornac[item_col].unique()\n",
    "    mapping_dict = {orig_id: i for i, orig_id in enumerate(unique_items_domain)}\n",
    "    # Create reverse map using the generated sequential indices\n",
    "    reverse_mapping_dict = {i: orig_id for orig_id, i in mapping_dict.items()}\n",
    "\n",
    "    df_events_cornac[item_col] = df_events_cornac[item_col].map(mapping_dict)\n",
    "\n",
    "    df_events_cornac[user_col] = df_events_cornac[user_col].astype(\"string\")\n",
    "    df_events_cornac[item_col] = df_events_cornac[item_col].astype(\"string\") # Cornac expects string item IDs\n",
    "\n",
    "    # Create item dist indexed by *Cornac string IID*\n",
    "    df_item_dist_cornac = domain_base_metrics[domain]['df_item_dist'].copy()\n",
    "    # Map index (original item ID) to Cornac *string* item ID\n",
    "    df_item_dist_cornac.index = df_item_dist_cornac.index.map(lambda x: str(mapping_dict.get(x, -1))) # Use get with default\n",
    "    df_item_dist_cornac = df_item_dist_cornac[df_item_dist_cornac.index != '-1'] # Remove items not mapped\n",
    "    domain_base_metrics[domain]['df_item_dist_cornac'] = df_item_dist_cornac # Store this version\n",
    "\n",
    "    data_cornac = list(df_events_cornac[[user_col, item_col, predict_col]].to_records(index=False))\n",
    "    print(f\"  Prepared {len(data_cornac)} interactions for Cornac.\")\n",
    "    print(\"-\" * 20)\n",
    "\n",
    "    # 6. Split Data\n",
    "    print(f\"  Splitting data ({1-test_size:.0%}/{test_size:.0%})...\")\n",
    "    rs = RatioSplit(data=data_cornac, test_size=test_size, rating_threshold=rating_threshold, seed=my_seed, exclude_unknowns=True, verbose=True)\n",
    "    domain_results[domain]['cornac_rs'] = rs\n",
    "    # Ensure all_items_cornac_indices uses the internal integer IDs from the built train_set\n",
    "    all_items_cornac_indices = set(rs.train_set.iid_map.values())\n",
    "    print(f\"  Total unique items known to Cornac: {len(all_items_cornac_indices)}\")\n",
    "    domain_results[domain]['all_items_cornac_indices'] = all_items_cornac_indices\n",
    "    domain_results[domain]['user_idx_map'] = {v: k for k, v in rs.train_set.uid_map.items()} # Cornac internal idx -> original string uid\n",
    "    print(\"-\" * 20)\n",
    "\n",
    "    # 7. Train Models\n",
    "    print(\"  Training models...\")\n",
    "    metrics_train = [MAE()] # Use MAE just for monitoring during training\n",
    "    # Re-initialize models for each domain to avoid state carry-over\n",
    "    current_models = [MostPop(),\n",
    "                      UserKNN(k=40, similarity='cosine', mean_centered=False, seed=my_seed, verbose=False),\n",
    "                      ItemKNN(k=40, similarity='cosine', mean_centered=False, seed=my_seed, verbose=False),\n",
    "                      PMF(k=10, max_iter=100, learning_rate=0.001, lambda_reg=0.001, seed=my_seed, verbose=False),\n",
    "                      CornacNMF(k=15, max_iter=50, learning_rate=0.005, lambda_u=0.06, lambda_v=0.06, lambda_bu=0.02, lambda_bi=0.02, use_bias=False, seed=my_seed, verbose=False),\n",
    "                      HPF(k=50, seed=my_seed, hierarchical=False, name=\"PF\", verbose=False)]\n",
    "\n",
    "    exp = cornac.Experiment(eval_method=rs, models=current_models, metrics=metrics_train, user_based=True, verbose=True)\n",
    "    exp.run()\n",
    "    domain_results[domain]['cornac_exp'] = exp # Store the trained experiment object\n",
    "    print(\"  Training complete.\")\n",
    "    print(\"-\" * 20)\n",
    "\n",
    "end_prep_train = time.time()\n",
    "print(f\"\\nData Prep & Model Training completed in {round(end_prep_train - start_prep_train)} seconds.\")"
   ]
  },
  {
   "cell_type": "code",
   "execution_count": 7,
   "metadata": {},
   "outputs": [
    {
     "name": "stdout",
     "output_type": "stream",
     "text": [
      "\n",
      "==============================\n",
      "STARTING: Mitigated Recommendation Generation\n",
      "==============================\n",
      "\n",
      "\n",
      "--- Generating Recommendations for Domain: MUSIC ---\n",
      "  Strategy: eva_two\n",
      "    Generating mitigated recs (eva_two, alpha=0.5)...\n"
     ]
    },
    {
     "data": {
      "application/vnd.jupyter.widget-view+json": {
       "model_id": "942d7788da3f440f8b9cd4c7d096e997",
       "version_major": 2,
       "version_minor": 0
      },
      "text/plain": [
       "      Recs eva_two:   0%|          | 0/3000 [00:00<?, ?it/s]"
      ]
     },
     "metadata": {},
     "output_type": "display_data"
    },
    {
     "name": "stdout",
     "output_type": "stream",
     "text": [
      "    Generating mitigated recs (eva_two, alpha=0.5)...\n"
     ]
    },
    {
     "data": {
      "application/vnd.jupyter.widget-view+json": {
       "model_id": "7e0f953eef35467aa903de445c810ccc",
       "version_major": 2,
       "version_minor": 0
      },
      "text/plain": [
       "      Recs eva_two:   0%|          | 0/3000 [00:00<?, ?it/s]"
      ]
     },
     "metadata": {},
     "output_type": "display_data"
    },
    {
     "name": "stdout",
     "output_type": "stream",
     "text": [
      "    Generating mitigated recs (eva_two, alpha=0.5)...\n"
     ]
    },
    {
     "data": {
      "application/vnd.jupyter.widget-view+json": {
       "model_id": "880fa4bfd1644d8393b9f0d5f4e310fd",
       "version_major": 2,
       "version_minor": 0
      },
      "text/plain": [
       "      Recs eva_two:   0%|          | 0/3000 [00:00<?, ?it/s]"
      ]
     },
     "metadata": {},
     "output_type": "display_data"
    },
    {
     "name": "stdout",
     "output_type": "stream",
     "text": [
      "    Generating mitigated recs (eva_two, alpha=0.5)...\n"
     ]
    },
    {
     "data": {
      "application/vnd.jupyter.widget-view+json": {
       "model_id": "535978fbb9c64779906d05eba240f64e",
       "version_major": 2,
       "version_minor": 0
      },
      "text/plain": [
       "      Recs eva_two:   0%|          | 0/3000 [00:00<?, ?it/s]"
      ]
     },
     "metadata": {},
     "output_type": "display_data"
    },
    {
     "name": "stdout",
     "output_type": "stream",
     "text": [
      "    Generating mitigated recs (eva_two, alpha=0.5)...\n"
     ]
    },
    {
     "data": {
      "application/vnd.jupyter.widget-view+json": {
       "model_id": "1df4edfaf2ce42caaed86650d8035c6c",
       "version_major": 2,
       "version_minor": 0
      },
      "text/plain": [
       "      Recs eva_two:   0%|          | 0/3000 [00:00<?, ?it/s]"
      ]
     },
     "metadata": {},
     "output_type": "display_data"
    },
    {
     "name": "stdout",
     "output_type": "stream",
     "text": [
      "    Generating mitigated recs (eva_two, alpha=0.5)...\n"
     ]
    },
    {
     "data": {
      "application/vnd.jupyter.widget-view+json": {
       "model_id": "20c423338ca4490881b23d6ca5f083fb",
       "version_major": 2,
       "version_minor": 0
      },
      "text/plain": [
       "      Recs eva_two:   0%|          | 0/3000 [00:00<?, ?it/s]"
      ]
     },
     "metadata": {},
     "output_type": "display_data"
    },
    {
     "name": "stdout",
     "output_type": "stream",
     "text": [
      "  Strategy: eva_three\n",
      "    Generating mitigated recs (eva_three, alpha=0.5)...\n"
     ]
    },
    {
     "data": {
      "application/vnd.jupyter.widget-view+json": {
       "model_id": "24626ea518c24f8ba1c317ef5ab04f61",
       "version_major": 2,
       "version_minor": 0
      },
      "text/plain": [
       "      Recs eva_three:   0%|          | 0/3000 [00:00<?, ?it/s]"
      ]
     },
     "metadata": {},
     "output_type": "display_data"
    },
    {
     "name": "stdout",
     "output_type": "stream",
     "text": [
      "    Generating mitigated recs (eva_three, alpha=0.5)...\n"
     ]
    },
    {
     "data": {
      "application/vnd.jupyter.widget-view+json": {
       "model_id": "aba36eb6f36b404e8d3b89d68a4fe8ce",
       "version_major": 2,
       "version_minor": 0
      },
      "text/plain": [
       "      Recs eva_three:   0%|          | 0/3000 [00:00<?, ?it/s]"
      ]
     },
     "metadata": {},
     "output_type": "display_data"
    },
    {
     "name": "stdout",
     "output_type": "stream",
     "text": [
      "    Generating mitigated recs (eva_three, alpha=0.5)...\n"
     ]
    },
    {
     "data": {
      "application/vnd.jupyter.widget-view+json": {
       "model_id": "6083ef7e7df7485096e45f782a3f1b0e",
       "version_major": 2,
       "version_minor": 0
      },
      "text/plain": [
       "      Recs eva_three:   0%|          | 0/3000 [00:00<?, ?it/s]"
      ]
     },
     "metadata": {},
     "output_type": "display_data"
    },
    {
     "name": "stdout",
     "output_type": "stream",
     "text": [
      "    Generating mitigated recs (eva_three, alpha=0.5)...\n"
     ]
    },
    {
     "data": {
      "application/vnd.jupyter.widget-view+json": {
       "model_id": "d70fb8d8ff5942d2848e742797e3d494",
       "version_major": 2,
       "version_minor": 0
      },
      "text/plain": [
       "      Recs eva_three:   0%|          | 0/3000 [00:00<?, ?it/s]"
      ]
     },
     "metadata": {},
     "output_type": "display_data"
    },
    {
     "name": "stdout",
     "output_type": "stream",
     "text": [
      "    Generating mitigated recs (eva_three, alpha=0.5)...\n"
     ]
    },
    {
     "data": {
      "application/vnd.jupyter.widget-view+json": {
       "model_id": "b055e9fafeed45379e23749018568f49",
       "version_major": 2,
       "version_minor": 0
      },
      "text/plain": [
       "      Recs eva_three:   0%|          | 0/3000 [00:00<?, ?it/s]"
      ]
     },
     "metadata": {},
     "output_type": "display_data"
    },
    {
     "name": "stdout",
     "output_type": "stream",
     "text": [
      "    Generating mitigated recs (eva_three, alpha=0.5)...\n"
     ]
    },
    {
     "data": {
      "application/vnd.jupyter.widget-view+json": {
       "model_id": "12585636afa94b0b8d420f9cbc62dd10",
       "version_major": 2,
       "version_minor": 0
      },
      "text/plain": [
       "      Recs eva_three:   0%|          | 0/3000 [00:00<?, ?it/s]"
      ]
     },
     "metadata": {},
     "output_type": "display_data"
    },
    {
     "name": "stdout",
     "output_type": "stream",
     "text": [
      "\n",
      "--- Generating Recommendations for Domain: MOVIE ---\n",
      "  Strategy: eva_two\n",
      "    Generating mitigated recs (eva_two, alpha=0.5)...\n"
     ]
    },
    {
     "data": {
      "application/vnd.jupyter.widget-view+json": {
       "model_id": "27bf45a22ce54028848a66d4200ccd51",
       "version_major": 2,
       "version_minor": 0
      },
      "text/plain": [
       "      Recs eva_two:   0%|          | 0/6040 [00:00<?, ?it/s]"
      ]
     },
     "metadata": {},
     "output_type": "display_data"
    },
    {
     "name": "stdout",
     "output_type": "stream",
     "text": [
      "    Generating mitigated recs (eva_two, alpha=0.5)...\n"
     ]
    },
    {
     "data": {
      "application/vnd.jupyter.widget-view+json": {
       "model_id": "2fd8570e773448559ecc9c890b942acf",
       "version_major": 2,
       "version_minor": 0
      },
      "text/plain": [
       "      Recs eva_two:   0%|          | 0/6040 [00:00<?, ?it/s]"
      ]
     },
     "metadata": {},
     "output_type": "display_data"
    },
    {
     "name": "stdout",
     "output_type": "stream",
     "text": [
      "    Generating mitigated recs (eva_two, alpha=0.5)...\n"
     ]
    },
    {
     "data": {
      "application/vnd.jupyter.widget-view+json": {
       "model_id": "efda6e9b568b48ed991960f34fa38ecb",
       "version_major": 2,
       "version_minor": 0
      },
      "text/plain": [
       "      Recs eva_two:   0%|          | 0/6040 [00:00<?, ?it/s]"
      ]
     },
     "metadata": {},
     "output_type": "display_data"
    },
    {
     "name": "stdout",
     "output_type": "stream",
     "text": [
      "    Generating mitigated recs (eva_two, alpha=0.5)...\n"
     ]
    },
    {
     "data": {
      "application/vnd.jupyter.widget-view+json": {
       "model_id": "9c8ca7be907246c1882c29646c564a7e",
       "version_major": 2,
       "version_minor": 0
      },
      "text/plain": [
       "      Recs eva_two:   0%|          | 0/6040 [00:00<?, ?it/s]"
      ]
     },
     "metadata": {},
     "output_type": "display_data"
    },
    {
     "name": "stdout",
     "output_type": "stream",
     "text": [
      "    Generating mitigated recs (eva_two, alpha=0.5)...\n"
     ]
    },
    {
     "data": {
      "application/vnd.jupyter.widget-view+json": {
       "model_id": "e5f5dc7963a843509a86da4eb759f0c4",
       "version_major": 2,
       "version_minor": 0
      },
      "text/plain": [
       "      Recs eva_two:   0%|          | 0/6040 [00:00<?, ?it/s]"
      ]
     },
     "metadata": {},
     "output_type": "display_data"
    },
    {
     "name": "stdout",
     "output_type": "stream",
     "text": [
      "    Generating mitigated recs (eva_two, alpha=0.5)...\n"
     ]
    },
    {
     "data": {
      "application/vnd.jupyter.widget-view+json": {
       "model_id": "06189f603c2b4a188ccccf585b6dbad9",
       "version_major": 2,
       "version_minor": 0
      },
      "text/plain": [
       "      Recs eva_two:   0%|          | 0/6040 [00:00<?, ?it/s]"
      ]
     },
     "metadata": {},
     "output_type": "display_data"
    },
    {
     "name": "stdout",
     "output_type": "stream",
     "text": [
      "  Strategy: eva_three\n",
      "    Generating mitigated recs (eva_three, alpha=0.5)...\n"
     ]
    },
    {
     "data": {
      "application/vnd.jupyter.widget-view+json": {
       "model_id": "70b2e97e949f49b0971f55605f2bf995",
       "version_major": 2,
       "version_minor": 0
      },
      "text/plain": [
       "      Recs eva_three:   0%|          | 0/6040 [00:00<?, ?it/s]"
      ]
     },
     "metadata": {},
     "output_type": "display_data"
    },
    {
     "name": "stdout",
     "output_type": "stream",
     "text": [
      "    Generating mitigated recs (eva_three, alpha=0.5)...\n"
     ]
    },
    {
     "data": {
      "application/vnd.jupyter.widget-view+json": {
       "model_id": "b8ef904a22c54032be2728402bcf4c6b",
       "version_major": 2,
       "version_minor": 0
      },
      "text/plain": [
       "      Recs eva_three:   0%|          | 0/6040 [00:00<?, ?it/s]"
      ]
     },
     "metadata": {},
     "output_type": "display_data"
    },
    {
     "name": "stdout",
     "output_type": "stream",
     "text": [
      "    Generating mitigated recs (eva_three, alpha=0.5)...\n"
     ]
    },
    {
     "data": {
      "application/vnd.jupyter.widget-view+json": {
       "model_id": "82bace44e20b48878d2f634b578f6d20",
       "version_major": 2,
       "version_minor": 0
      },
      "text/plain": [
       "      Recs eva_three:   0%|          | 0/6040 [00:00<?, ?it/s]"
      ]
     },
     "metadata": {},
     "output_type": "display_data"
    },
    {
     "name": "stdout",
     "output_type": "stream",
     "text": [
      "    Generating mitigated recs (eva_three, alpha=0.5)...\n"
     ]
    },
    {
     "data": {
      "application/vnd.jupyter.widget-view+json": {
       "model_id": "37da1a6efb2e4be3bb9d29d262db1122",
       "version_major": 2,
       "version_minor": 0
      },
      "text/plain": [
       "      Recs eva_three:   0%|          | 0/6040 [00:00<?, ?it/s]"
      ]
     },
     "metadata": {},
     "output_type": "display_data"
    },
    {
     "name": "stdout",
     "output_type": "stream",
     "text": [
      "    Generating mitigated recs (eva_three, alpha=0.5)...\n"
     ]
    },
    {
     "data": {
      "application/vnd.jupyter.widget-view+json": {
       "model_id": "b66b3a7f4c5d4bb09bcd191687011191",
       "version_major": 2,
       "version_minor": 0
      },
      "text/plain": [
       "      Recs eva_three:   0%|          | 0/6040 [00:00<?, ?it/s]"
      ]
     },
     "metadata": {},
     "output_type": "display_data"
    },
    {
     "name": "stdout",
     "output_type": "stream",
     "text": [
      "    Generating mitigated recs (eva_three, alpha=0.5)...\n"
     ]
    },
    {
     "data": {
      "application/vnd.jupyter.widget-view+json": {
       "model_id": "008e27e2584b4e36bc17574636ede9ab",
       "version_major": 2,
       "version_minor": 0
      },
      "text/plain": [
       "      Recs eva_three:   0%|          | 0/6040 [00:00<?, ?it/s]"
      ]
     },
     "metadata": {},
     "output_type": "display_data"
    },
    {
     "name": "stdout",
     "output_type": "stream",
     "text": [
      "\n",
      "Mitigated Recommendation Generation completed in 7569 seconds.\n"
     ]
    }
   ],
   "source": [
    "# --- Loop 2: Recommendation Generation (Per Domain, Per Strategy) ---\n",
    "print(\"\\n\" + \"=\"*30)\n",
    "print(\"STARTING: Mitigated Recommendation Generation\")\n",
    "print(\"=\"*30 + \"\\n\")\n",
    "start_rec_gen = time.time()\n",
    "\n",
    "all_recommendations_mitigated = {} # Nested dict: {domain: {strategy: {algo_name: recommendations}}}\n",
    "\n",
    "for domain, config in domains.items():\n",
    "    print(f\"\\n--- Generating Recommendations for Domain: {domain.upper()} ---\")\n",
    "    all_recommendations_mitigated[domain] = {}\n",
    "    exp = domain_results[domain]['cornac_exp']\n",
    "    rs = domain_results[domain]['cornac_rs']\n",
    "    df_item_dist_cornac = domain_base_metrics[domain]['df_item_dist_cornac'] # Use the one indexed by Cornac string IID\n",
    "    all_items_cornac_indices = domain_results[domain]['all_items_cornac_indices']\n",
    "    user_idx_map = domain_results[domain]['user_idx_map'] # Cornac internal index -> original string uid\n",
    "\n",
    "    for eva_key in evaluation_strategies:\n",
    "        print(f\"  Strategy: {eva_key}\")\n",
    "        all_recommendations_mitigated[domain][eva_key] = {}\n",
    "        for i, algo_name in enumerate(algo_names):\n",
    "             model = exp.models[i]\n",
    "             if eva_key == 'eva_two':\n",
    "                  top_n = get_top_n_mitigated_eva_two(model, user_idx_map, rs.test_set, df_item_dist_cornac, mitigation_alpha, rec_k=rec_k)\n",
    "             elif eva_key == 'eva_three':\n",
    "                  top_n = get_top_n_mitigated_eva_three(model, user_idx_map, rs.train_set, rs.test_set, all_items_cornac_indices, df_item_dist_cornac, mitigation_alpha, rec_k=rec_k)\n",
    "             else:\n",
    "                  print(f\"      Warning: Unknown strategy {eva_key}. Skipping.\")\n",
    "                  continue\n",
    "             all_recommendations_mitigated[domain][eva_key][algo_name] = top_n\n",
    "\n",
    "end_rec_gen = time.time()\n",
    "print(f\"\\nMitigated Recommendation Generation completed in {round(end_rec_gen - start_rec_gen)} seconds.\")"
   ]
  },
  {
   "cell_type": "code",
   "execution_count": 8,
   "metadata": {},
   "outputs": [
    {
     "name": "stdout",
     "output_type": "stream",
     "text": [
      "\n",
      "==============================\n",
      "STARTING: Evaluation Loop\n",
      "==============================\n",
      "\n",
      "\n",
      "--- Evaluating Domain: MUSIC ---\n",
      "  Evaluation Strategy: eva_two\n",
      "    Popularity Notion: pop_one\n",
      "      Sorting users by 'pop_fraq' and splitting...\n",
      "  Group Stats (pop_one):\n",
      "    Low Group ('Niche', 600 users): Avg Profile Size=303.26, Avg Profile GAP=0.051648\n",
      "    Med Group ('Diverse', 1800 users): Avg Profile Size=380.66, Avg Profile GAP=0.084701\n",
      "    High Group ('Blockbuster', 600 users): Avg Profile Size=235.56, Avg Profile GAP=0.121155\n",
      "--------------------\n",
      "    Calculating NDCG@10 for MostPop...\n"
     ]
    },
    {
     "data": {
      "application/vnd.jupyter.widget-view+json": {
       "model_id": "3f4d8722f1c84d7cb536d0ad8f64c4b7",
       "version_major": 2,
       "version_minor": 0
      },
      "text/plain": [
       "      NDCG MostPop:   0%|          | 0/3000 [00:00<?, ?it/s]"
      ]
     },
     "metadata": {},
     "output_type": "display_data"
    },
    {
     "name": "stdout",
     "output_type": "stream",
     "text": [
      "    Calculating %DeltaGAP for MostPop...\n"
     ]
    },
    {
     "data": {
      "application/vnd.jupyter.widget-view+json": {
       "model_id": "c2e383d3e65a42e6b7cb1b36a418412f",
       "version_major": 2,
       "version_minor": 0
      },
      "text/plain": [
       "      GAP MostPop:   0%|          | 0/3000 [00:00<?, ?it/s]"
      ]
     },
     "metadata": {},
     "output_type": "display_data"
    },
    {
     "name": "stdout",
     "output_type": "stream",
     "text": [
      "    Calculating NDCG@10 for UserKNN...\n"
     ]
    },
    {
     "data": {
      "application/vnd.jupyter.widget-view+json": {
       "model_id": "6c8c6992c0504474a0767751562950d2",
       "version_major": 2,
       "version_minor": 0
      },
      "text/plain": [
       "      NDCG UserKNN:   0%|          | 0/3000 [00:00<?, ?it/s]"
      ]
     },
     "metadata": {},
     "output_type": "display_data"
    },
    {
     "name": "stdout",
     "output_type": "stream",
     "text": [
      "    Calculating %DeltaGAP for UserKNN...\n"
     ]
    },
    {
     "data": {
      "application/vnd.jupyter.widget-view+json": {
       "model_id": "01be6fff82c74ad2b6966e4b3eedfa34",
       "version_major": 2,
       "version_minor": 0
      },
      "text/plain": [
       "      GAP UserKNN:   0%|          | 0/3000 [00:00<?, ?it/s]"
      ]
     },
     "metadata": {},
     "output_type": "display_data"
    },
    {
     "name": "stdout",
     "output_type": "stream",
     "text": [
      "    Calculating NDCG@10 for ItemKNN...\n"
     ]
    },
    {
     "data": {
      "application/vnd.jupyter.widget-view+json": {
       "model_id": "48be25eb10c84f419735b82c64a6955b",
       "version_major": 2,
       "version_minor": 0
      },
      "text/plain": [
       "      NDCG ItemKNN:   0%|          | 0/3000 [00:00<?, ?it/s]"
      ]
     },
     "metadata": {},
     "output_type": "display_data"
    },
    {
     "name": "stdout",
     "output_type": "stream",
     "text": [
      "    Calculating %DeltaGAP for ItemKNN...\n"
     ]
    },
    {
     "data": {
      "application/vnd.jupyter.widget-view+json": {
       "model_id": "5e62070f9d774cd3aeb319d62620b689",
       "version_major": 2,
       "version_minor": 0
      },
      "text/plain": [
       "      GAP ItemKNN:   0%|          | 0/3000 [00:00<?, ?it/s]"
      ]
     },
     "metadata": {},
     "output_type": "display_data"
    },
    {
     "name": "stdout",
     "output_type": "stream",
     "text": [
      "    Calculating NDCG@10 for PMF...\n"
     ]
    },
    {
     "data": {
      "application/vnd.jupyter.widget-view+json": {
       "model_id": "95ae72d282d346a3a045a30a1a673dec",
       "version_major": 2,
       "version_minor": 0
      },
      "text/plain": [
       "      NDCG PMF:   0%|          | 0/3000 [00:00<?, ?it/s]"
      ]
     },
     "metadata": {},
     "output_type": "display_data"
    },
    {
     "name": "stdout",
     "output_type": "stream",
     "text": [
      "    Calculating %DeltaGAP for PMF...\n"
     ]
    },
    {
     "data": {
      "application/vnd.jupyter.widget-view+json": {
       "model_id": "fda0d52faaee45a585339b0b0e6a8cf9",
       "version_major": 2,
       "version_minor": 0
      },
      "text/plain": [
       "      GAP PMF:   0%|          | 0/3000 [00:00<?, ?it/s]"
      ]
     },
     "metadata": {},
     "output_type": "display_data"
    },
    {
     "name": "stdout",
     "output_type": "stream",
     "text": [
      "    Calculating NDCG@10 for NMF...\n"
     ]
    },
    {
     "data": {
      "application/vnd.jupyter.widget-view+json": {
       "model_id": "c1b8dd87eac54f00934f372ba139c56c",
       "version_major": 2,
       "version_minor": 0
      },
      "text/plain": [
       "      NDCG NMF:   0%|          | 0/3000 [00:00<?, ?it/s]"
      ]
     },
     "metadata": {},
     "output_type": "display_data"
    },
    {
     "name": "stdout",
     "output_type": "stream",
     "text": [
      "    Calculating %DeltaGAP for NMF...\n"
     ]
    },
    {
     "data": {
      "application/vnd.jupyter.widget-view+json": {
       "model_id": "f97d6b39aeae4eb0bcdddf72cb55fdff",
       "version_major": 2,
       "version_minor": 0
      },
      "text/plain": [
       "      GAP NMF:   0%|          | 0/3000 [00:00<?, ?it/s]"
      ]
     },
     "metadata": {},
     "output_type": "display_data"
    },
    {
     "name": "stdout",
     "output_type": "stream",
     "text": [
      "    Calculating NDCG@10 for HPF...\n"
     ]
    },
    {
     "data": {
      "application/vnd.jupyter.widget-view+json": {
       "model_id": "9dc9701a5385485d88dac9cd8fc1f6a8",
       "version_major": 2,
       "version_minor": 0
      },
      "text/plain": [
       "      NDCG HPF:   0%|          | 0/3000 [00:00<?, ?it/s]"
      ]
     },
     "metadata": {},
     "output_type": "display_data"
    },
    {
     "name": "stdout",
     "output_type": "stream",
     "text": [
      "    Calculating %DeltaGAP for HPF...\n"
     ]
    },
    {
     "data": {
      "application/vnd.jupyter.widget-view+json": {
       "model_id": "b41f0ef0f58c4e94a801ff5960093bc5",
       "version_major": 2,
       "version_minor": 0
      },
      "text/plain": [
       "      GAP HPF:   0%|          | 0/3000 [00:00<?, ?it/s]"
      ]
     },
     "metadata": {},
     "output_type": "display_data"
    },
    {
     "name": "stdout",
     "output_type": "stream",
     "text": [
      "      Saving results for music, eva_two, pop_one...\n",
      "      Results saved.\n",
      "--------------------\n",
      "    Popularity Notion: pop_two\n",
      "      Sorting users by 'pop_item_fraq' and splitting...\n",
      "  Group Stats (pop_two):\n",
      "    Low Group ('Niche', 600 users): Avg Profile Size=336.87, Avg Profile GAP=0.049812\n",
      "    Med Group ('Diverse', 1800 users): Avg Profile Size=385.25, Avg Profile GAP=0.083783\n",
      "    High Group ('Blockbuster', 600 users): Avg Profile Size=188.19, Avg Profile GAP=0.125745\n",
      "--------------------\n",
      "    Calculating NDCG@10 for MostPop...\n"
     ]
    },
    {
     "data": {
      "application/vnd.jupyter.widget-view+json": {
       "model_id": "7baff7bf4e3341e7ba9c9a9ee2e5fc7d",
       "version_major": 2,
       "version_minor": 0
      },
      "text/plain": [
       "      NDCG MostPop:   0%|          | 0/3000 [00:00<?, ?it/s]"
      ]
     },
     "metadata": {},
     "output_type": "display_data"
    },
    {
     "name": "stdout",
     "output_type": "stream",
     "text": [
      "    Calculating %DeltaGAP for MostPop...\n"
     ]
    },
    {
     "data": {
      "application/vnd.jupyter.widget-view+json": {
       "model_id": "ad6c858bfc83450889393e654e49bafb",
       "version_major": 2,
       "version_minor": 0
      },
      "text/plain": [
       "      GAP MostPop:   0%|          | 0/3000 [00:00<?, ?it/s]"
      ]
     },
     "metadata": {},
     "output_type": "display_data"
    },
    {
     "name": "stdout",
     "output_type": "stream",
     "text": [
      "    Calculating NDCG@10 for UserKNN...\n"
     ]
    },
    {
     "data": {
      "application/vnd.jupyter.widget-view+json": {
       "model_id": "29cd35e86b2b4c1490a263ad7f6faf51",
       "version_major": 2,
       "version_minor": 0
      },
      "text/plain": [
       "      NDCG UserKNN:   0%|          | 0/3000 [00:00<?, ?it/s]"
      ]
     },
     "metadata": {},
     "output_type": "display_data"
    },
    {
     "name": "stdout",
     "output_type": "stream",
     "text": [
      "    Calculating %DeltaGAP for UserKNN...\n"
     ]
    },
    {
     "data": {
      "application/vnd.jupyter.widget-view+json": {
       "model_id": "4dca8c7c1aa6497aaa8c0c6ee3136af0",
       "version_major": 2,
       "version_minor": 0
      },
      "text/plain": [
       "      GAP UserKNN:   0%|          | 0/3000 [00:00<?, ?it/s]"
      ]
     },
     "metadata": {},
     "output_type": "display_data"
    },
    {
     "name": "stdout",
     "output_type": "stream",
     "text": [
      "    Calculating NDCG@10 for ItemKNN...\n"
     ]
    },
    {
     "data": {
      "application/vnd.jupyter.widget-view+json": {
       "model_id": "b058f9c20cc746469fdf49dc42161743",
       "version_major": 2,
       "version_minor": 0
      },
      "text/plain": [
       "      NDCG ItemKNN:   0%|          | 0/3000 [00:00<?, ?it/s]"
      ]
     },
     "metadata": {},
     "output_type": "display_data"
    },
    {
     "name": "stdout",
     "output_type": "stream",
     "text": [
      "    Calculating %DeltaGAP for ItemKNN...\n"
     ]
    },
    {
     "data": {
      "application/vnd.jupyter.widget-view+json": {
       "model_id": "d097b6421c9248d185172062b676cfb9",
       "version_major": 2,
       "version_minor": 0
      },
      "text/plain": [
       "      GAP ItemKNN:   0%|          | 0/3000 [00:00<?, ?it/s]"
      ]
     },
     "metadata": {},
     "output_type": "display_data"
    },
    {
     "name": "stdout",
     "output_type": "stream",
     "text": [
      "    Calculating NDCG@10 for PMF...\n"
     ]
    },
    {
     "data": {
      "application/vnd.jupyter.widget-view+json": {
       "model_id": "a33e215ab94149c899e37ca9b5026e91",
       "version_major": 2,
       "version_minor": 0
      },
      "text/plain": [
       "      NDCG PMF:   0%|          | 0/3000 [00:00<?, ?it/s]"
      ]
     },
     "metadata": {},
     "output_type": "display_data"
    },
    {
     "name": "stdout",
     "output_type": "stream",
     "text": [
      "    Calculating %DeltaGAP for PMF...\n"
     ]
    },
    {
     "data": {
      "application/vnd.jupyter.widget-view+json": {
       "model_id": "b5f6c68591774273b91eff42966a10f5",
       "version_major": 2,
       "version_minor": 0
      },
      "text/plain": [
       "      GAP PMF:   0%|          | 0/3000 [00:00<?, ?it/s]"
      ]
     },
     "metadata": {},
     "output_type": "display_data"
    },
    {
     "name": "stdout",
     "output_type": "stream",
     "text": [
      "    Calculating NDCG@10 for NMF...\n"
     ]
    },
    {
     "data": {
      "application/vnd.jupyter.widget-view+json": {
       "model_id": "152c4c2db66b4909bfc5dd7dd306bf32",
       "version_major": 2,
       "version_minor": 0
      },
      "text/plain": [
       "      NDCG NMF:   0%|          | 0/3000 [00:00<?, ?it/s]"
      ]
     },
     "metadata": {},
     "output_type": "display_data"
    },
    {
     "name": "stdout",
     "output_type": "stream",
     "text": [
      "    Calculating %DeltaGAP for NMF...\n"
     ]
    },
    {
     "data": {
      "application/vnd.jupyter.widget-view+json": {
       "model_id": "5dc083f632234cbdba9cd0e28169971b",
       "version_major": 2,
       "version_minor": 0
      },
      "text/plain": [
       "      GAP NMF:   0%|          | 0/3000 [00:00<?, ?it/s]"
      ]
     },
     "metadata": {},
     "output_type": "display_data"
    },
    {
     "name": "stdout",
     "output_type": "stream",
     "text": [
      "    Calculating NDCG@10 for HPF...\n"
     ]
    },
    {
     "data": {
      "application/vnd.jupyter.widget-view+json": {
       "model_id": "91309d2c997d4fb2ae8d5dd612b331a9",
       "version_major": 2,
       "version_minor": 0
      },
      "text/plain": [
       "      NDCG HPF:   0%|          | 0/3000 [00:00<?, ?it/s]"
      ]
     },
     "metadata": {},
     "output_type": "display_data"
    },
    {
     "name": "stdout",
     "output_type": "stream",
     "text": [
      "    Calculating %DeltaGAP for HPF...\n"
     ]
    },
    {
     "data": {
      "application/vnd.jupyter.widget-view+json": {
       "model_id": "f7918e36c7894418b4acd0c13ef12562",
       "version_major": 2,
       "version_minor": 0
      },
      "text/plain": [
       "      GAP HPF:   0%|          | 0/3000 [00:00<?, ?it/s]"
      ]
     },
     "metadata": {},
     "output_type": "display_data"
    },
    {
     "name": "stdout",
     "output_type": "stream",
     "text": [
      "      Saving results for music, eva_two, pop_two...\n",
      "      Results saved.\n",
      "--------------------\n",
      "    Popularity Notion: pop_four\n",
      "      Sorting users by 'niche_consumption_rate' and splitting...\n",
      "  Group Stats (pop_four):\n",
      "    Low Group ('Blockbuster', 600 users): Avg Profile Size=262.23, Avg Profile GAP=0.115610\n",
      "    Med Group ('Diverse', 1800 users): Avg Profile Size=377.53, Avg Profile GAP=0.085114\n",
      "    High Group ('Niche', 600 users): Avg Profile Size=285.96, Avg Profile GAP=0.055953\n",
      "--------------------\n",
      "    Calculating NDCG@10 for MostPop...\n"
     ]
    },
    {
     "data": {
      "application/vnd.jupyter.widget-view+json": {
       "model_id": "2ece8f68f1b7457c8be875f4bea6c9fb",
       "version_major": 2,
       "version_minor": 0
      },
      "text/plain": [
       "      NDCG MostPop:   0%|          | 0/3000 [00:00<?, ?it/s]"
      ]
     },
     "metadata": {},
     "output_type": "display_data"
    },
    {
     "name": "stdout",
     "output_type": "stream",
     "text": [
      "    Calculating %DeltaGAP for MostPop...\n"
     ]
    },
    {
     "data": {
      "application/vnd.jupyter.widget-view+json": {
       "model_id": "196ccd4a22374ee4829db5e4626b5fbf",
       "version_major": 2,
       "version_minor": 0
      },
      "text/plain": [
       "      GAP MostPop:   0%|          | 0/3000 [00:00<?, ?it/s]"
      ]
     },
     "metadata": {},
     "output_type": "display_data"
    },
    {
     "name": "stdout",
     "output_type": "stream",
     "text": [
      "    Calculating NDCG@10 for UserKNN...\n"
     ]
    },
    {
     "data": {
      "application/vnd.jupyter.widget-view+json": {
       "model_id": "baa47a4058c640e1b40dac1344209fcb",
       "version_major": 2,
       "version_minor": 0
      },
      "text/plain": [
       "      NDCG UserKNN:   0%|          | 0/3000 [00:00<?, ?it/s]"
      ]
     },
     "metadata": {},
     "output_type": "display_data"
    },
    {
     "name": "stdout",
     "output_type": "stream",
     "text": [
      "    Calculating %DeltaGAP for UserKNN...\n"
     ]
    },
    {
     "data": {
      "application/vnd.jupyter.widget-view+json": {
       "model_id": "90743a7e04aa44f99c2f45a11dfeab12",
       "version_major": 2,
       "version_minor": 0
      },
      "text/plain": [
       "      GAP UserKNN:   0%|          | 0/3000 [00:00<?, ?it/s]"
      ]
     },
     "metadata": {},
     "output_type": "display_data"
    },
    {
     "name": "stdout",
     "output_type": "stream",
     "text": [
      "    Calculating NDCG@10 for ItemKNN...\n"
     ]
    },
    {
     "data": {
      "application/vnd.jupyter.widget-view+json": {
       "model_id": "ae3ca7b8ae134422b453afc24cfcb818",
       "version_major": 2,
       "version_minor": 0
      },
      "text/plain": [
       "      NDCG ItemKNN:   0%|          | 0/3000 [00:00<?, ?it/s]"
      ]
     },
     "metadata": {},
     "output_type": "display_data"
    },
    {
     "name": "stdout",
     "output_type": "stream",
     "text": [
      "    Calculating %DeltaGAP for ItemKNN...\n"
     ]
    },
    {
     "data": {
      "application/vnd.jupyter.widget-view+json": {
       "model_id": "c6e518d19ffe4a499d76cb6ce838aa3b",
       "version_major": 2,
       "version_minor": 0
      },
      "text/plain": [
       "      GAP ItemKNN:   0%|          | 0/3000 [00:00<?, ?it/s]"
      ]
     },
     "metadata": {},
     "output_type": "display_data"
    },
    {
     "name": "stdout",
     "output_type": "stream",
     "text": [
      "    Calculating NDCG@10 for PMF...\n"
     ]
    },
    {
     "data": {
      "application/vnd.jupyter.widget-view+json": {
       "model_id": "7f57844297bb41dd88991b99c36ee539",
       "version_major": 2,
       "version_minor": 0
      },
      "text/plain": [
       "      NDCG PMF:   0%|          | 0/3000 [00:00<?, ?it/s]"
      ]
     },
     "metadata": {},
     "output_type": "display_data"
    },
    {
     "name": "stdout",
     "output_type": "stream",
     "text": [
      "    Calculating %DeltaGAP for PMF...\n"
     ]
    },
    {
     "data": {
      "application/vnd.jupyter.widget-view+json": {
       "model_id": "7a366aa54d924f46a39d4c288bf2c12e",
       "version_major": 2,
       "version_minor": 0
      },
      "text/plain": [
       "      GAP PMF:   0%|          | 0/3000 [00:00<?, ?it/s]"
      ]
     },
     "metadata": {},
     "output_type": "display_data"
    },
    {
     "name": "stdout",
     "output_type": "stream",
     "text": [
      "    Calculating NDCG@10 for NMF...\n"
     ]
    },
    {
     "data": {
      "application/vnd.jupyter.widget-view+json": {
       "model_id": "29711bc663e44c1a9772ae76d7090798",
       "version_major": 2,
       "version_minor": 0
      },
      "text/plain": [
       "      NDCG NMF:   0%|          | 0/3000 [00:00<?, ?it/s]"
      ]
     },
     "metadata": {},
     "output_type": "display_data"
    },
    {
     "name": "stdout",
     "output_type": "stream",
     "text": [
      "    Calculating %DeltaGAP for NMF...\n"
     ]
    },
    {
     "data": {
      "application/vnd.jupyter.widget-view+json": {
       "model_id": "a205019a20074a648db048359fad1f23",
       "version_major": 2,
       "version_minor": 0
      },
      "text/plain": [
       "      GAP NMF:   0%|          | 0/3000 [00:00<?, ?it/s]"
      ]
     },
     "metadata": {},
     "output_type": "display_data"
    },
    {
     "name": "stdout",
     "output_type": "stream",
     "text": [
      "    Calculating NDCG@10 for HPF...\n"
     ]
    },
    {
     "data": {
      "application/vnd.jupyter.widget-view+json": {
       "model_id": "7fec4ce34d5f433fb62a87838a353cda",
       "version_major": 2,
       "version_minor": 0
      },
      "text/plain": [
       "      NDCG HPF:   0%|          | 0/3000 [00:00<?, ?it/s]"
      ]
     },
     "metadata": {},
     "output_type": "display_data"
    },
    {
     "name": "stdout",
     "output_type": "stream",
     "text": [
      "    Calculating %DeltaGAP for HPF...\n"
     ]
    },
    {
     "data": {
      "application/vnd.jupyter.widget-view+json": {
       "model_id": "fb6cbf6af7644c4dbbc447be07fe918e",
       "version_major": 2,
       "version_minor": 0
      },
      "text/plain": [
       "      GAP HPF:   0%|          | 0/3000 [00:00<?, ?it/s]"
      ]
     },
     "metadata": {},
     "output_type": "display_data"
    },
    {
     "name": "stdout",
     "output_type": "stream",
     "text": [
      "      Saving results for music, eva_two, pop_four...\n",
      "      Results saved.\n",
      "--------------------\n",
      "  Evaluation Strategy: eva_three\n",
      "    Popularity Notion: pop_one\n",
      "      Sorting users by 'pop_fraq' and splitting...\n",
      "  Group Stats (pop_one):\n",
      "    Low Group ('Niche', 600 users): Avg Profile Size=303.26, Avg Profile GAP=0.051648\n",
      "    Med Group ('Diverse', 1800 users): Avg Profile Size=380.66, Avg Profile GAP=0.084701\n",
      "    High Group ('Blockbuster', 600 users): Avg Profile Size=235.56, Avg Profile GAP=0.121155\n",
      "--------------------\n",
      "    Calculating NDCG@10 for MostPop...\n"
     ]
    },
    {
     "data": {
      "application/vnd.jupyter.widget-view+json": {
       "model_id": "db80b2439fef4d888e1c4a81ecf4e59f",
       "version_major": 2,
       "version_minor": 0
      },
      "text/plain": [
       "      NDCG MostPop:   0%|          | 0/3000 [00:00<?, ?it/s]"
      ]
     },
     "metadata": {},
     "output_type": "display_data"
    },
    {
     "name": "stdout",
     "output_type": "stream",
     "text": [
      "    Calculating %DeltaGAP for MostPop...\n"
     ]
    },
    {
     "data": {
      "application/vnd.jupyter.widget-view+json": {
       "model_id": "c6794e3563334f9ba12751e9f949de6f",
       "version_major": 2,
       "version_minor": 0
      },
      "text/plain": [
       "      GAP MostPop:   0%|          | 0/3000 [00:00<?, ?it/s]"
      ]
     },
     "metadata": {},
     "output_type": "display_data"
    },
    {
     "name": "stdout",
     "output_type": "stream",
     "text": [
      "    Calculating NDCG@10 for UserKNN...\n"
     ]
    },
    {
     "data": {
      "application/vnd.jupyter.widget-view+json": {
       "model_id": "0ce4efe9fa244e5e9d3d63caec5cf851",
       "version_major": 2,
       "version_minor": 0
      },
      "text/plain": [
       "      NDCG UserKNN:   0%|          | 0/3000 [00:00<?, ?it/s]"
      ]
     },
     "metadata": {},
     "output_type": "display_data"
    },
    {
     "name": "stdout",
     "output_type": "stream",
     "text": [
      "    Calculating %DeltaGAP for UserKNN...\n"
     ]
    },
    {
     "data": {
      "application/vnd.jupyter.widget-view+json": {
       "model_id": "3668c565a64143d2a5fe778650e8faf7",
       "version_major": 2,
       "version_minor": 0
      },
      "text/plain": [
       "      GAP UserKNN:   0%|          | 0/3000 [00:00<?, ?it/s]"
      ]
     },
     "metadata": {},
     "output_type": "display_data"
    },
    {
     "name": "stdout",
     "output_type": "stream",
     "text": [
      "    Calculating NDCG@10 for ItemKNN...\n"
     ]
    },
    {
     "data": {
      "application/vnd.jupyter.widget-view+json": {
       "model_id": "ce5c76cb77da4a1fb53f38c63d730ee1",
       "version_major": 2,
       "version_minor": 0
      },
      "text/plain": [
       "      NDCG ItemKNN:   0%|          | 0/3000 [00:00<?, ?it/s]"
      ]
     },
     "metadata": {},
     "output_type": "display_data"
    },
    {
     "name": "stdout",
     "output_type": "stream",
     "text": [
      "    Calculating %DeltaGAP for ItemKNN...\n"
     ]
    },
    {
     "data": {
      "application/vnd.jupyter.widget-view+json": {
       "model_id": "2591aba1c9d44483a0cb462bc6ebfa5c",
       "version_major": 2,
       "version_minor": 0
      },
      "text/plain": [
       "      GAP ItemKNN:   0%|          | 0/3000 [00:00<?, ?it/s]"
      ]
     },
     "metadata": {},
     "output_type": "display_data"
    },
    {
     "name": "stdout",
     "output_type": "stream",
     "text": [
      "    Calculating NDCG@10 for PMF...\n"
     ]
    },
    {
     "data": {
      "application/vnd.jupyter.widget-view+json": {
       "model_id": "9094e345179f41b08e22922b455082aa",
       "version_major": 2,
       "version_minor": 0
      },
      "text/plain": [
       "      NDCG PMF:   0%|          | 0/3000 [00:00<?, ?it/s]"
      ]
     },
     "metadata": {},
     "output_type": "display_data"
    },
    {
     "name": "stdout",
     "output_type": "stream",
     "text": [
      "    Calculating %DeltaGAP for PMF...\n"
     ]
    },
    {
     "data": {
      "application/vnd.jupyter.widget-view+json": {
       "model_id": "6d50cc5476f14e6d92a3043b2383598b",
       "version_major": 2,
       "version_minor": 0
      },
      "text/plain": [
       "      GAP PMF:   0%|          | 0/3000 [00:00<?, ?it/s]"
      ]
     },
     "metadata": {},
     "output_type": "display_data"
    },
    {
     "name": "stdout",
     "output_type": "stream",
     "text": [
      "    Calculating NDCG@10 for NMF...\n"
     ]
    },
    {
     "data": {
      "application/vnd.jupyter.widget-view+json": {
       "model_id": "59abe64822e04a0898db278c147c80d6",
       "version_major": 2,
       "version_minor": 0
      },
      "text/plain": [
       "      NDCG NMF:   0%|          | 0/3000 [00:00<?, ?it/s]"
      ]
     },
     "metadata": {},
     "output_type": "display_data"
    },
    {
     "name": "stdout",
     "output_type": "stream",
     "text": [
      "    Calculating %DeltaGAP for NMF...\n"
     ]
    },
    {
     "data": {
      "application/vnd.jupyter.widget-view+json": {
       "model_id": "c596002e0b834f88a94dcc35cdeb3019",
       "version_major": 2,
       "version_minor": 0
      },
      "text/plain": [
       "      GAP NMF:   0%|          | 0/3000 [00:00<?, ?it/s]"
      ]
     },
     "metadata": {},
     "output_type": "display_data"
    },
    {
     "name": "stdout",
     "output_type": "stream",
     "text": [
      "    Calculating NDCG@10 for HPF...\n"
     ]
    },
    {
     "data": {
      "application/vnd.jupyter.widget-view+json": {
       "model_id": "f7ec8ff0bd5b44e0b50c7dc9acb64791",
       "version_major": 2,
       "version_minor": 0
      },
      "text/plain": [
       "      NDCG HPF:   0%|          | 0/3000 [00:00<?, ?it/s]"
      ]
     },
     "metadata": {},
     "output_type": "display_data"
    },
    {
     "name": "stdout",
     "output_type": "stream",
     "text": [
      "    Calculating %DeltaGAP for HPF...\n"
     ]
    },
    {
     "data": {
      "application/vnd.jupyter.widget-view+json": {
       "model_id": "1cd472e5f6eb4d5ea2f2d4ce3d152143",
       "version_major": 2,
       "version_minor": 0
      },
      "text/plain": [
       "      GAP HPF:   0%|          | 0/3000 [00:00<?, ?it/s]"
      ]
     },
     "metadata": {},
     "output_type": "display_data"
    },
    {
     "name": "stdout",
     "output_type": "stream",
     "text": [
      "      Saving results for music, eva_three, pop_one...\n",
      "      Results saved.\n",
      "--------------------\n",
      "    Popularity Notion: pop_two\n",
      "      Sorting users by 'pop_item_fraq' and splitting...\n",
      "  Group Stats (pop_two):\n",
      "    Low Group ('Niche', 600 users): Avg Profile Size=336.87, Avg Profile GAP=0.049812\n",
      "    Med Group ('Diverse', 1800 users): Avg Profile Size=385.25, Avg Profile GAP=0.083783\n",
      "    High Group ('Blockbuster', 600 users): Avg Profile Size=188.19, Avg Profile GAP=0.125745\n",
      "--------------------\n",
      "    Calculating NDCG@10 for MostPop...\n"
     ]
    },
    {
     "data": {
      "application/vnd.jupyter.widget-view+json": {
       "model_id": "d24109dd518e4632bfadd1b77162ee21",
       "version_major": 2,
       "version_minor": 0
      },
      "text/plain": [
       "      NDCG MostPop:   0%|          | 0/3000 [00:00<?, ?it/s]"
      ]
     },
     "metadata": {},
     "output_type": "display_data"
    },
    {
     "name": "stdout",
     "output_type": "stream",
     "text": [
      "    Calculating %DeltaGAP for MostPop...\n"
     ]
    },
    {
     "data": {
      "application/vnd.jupyter.widget-view+json": {
       "model_id": "2d987e97704f42548c3f74d9191c6da2",
       "version_major": 2,
       "version_minor": 0
      },
      "text/plain": [
       "      GAP MostPop:   0%|          | 0/3000 [00:00<?, ?it/s]"
      ]
     },
     "metadata": {},
     "output_type": "display_data"
    },
    {
     "name": "stdout",
     "output_type": "stream",
     "text": [
      "    Calculating NDCG@10 for UserKNN...\n"
     ]
    },
    {
     "data": {
      "application/vnd.jupyter.widget-view+json": {
       "model_id": "9d4db82d00da4173a155bdafb1ff5a51",
       "version_major": 2,
       "version_minor": 0
      },
      "text/plain": [
       "      NDCG UserKNN:   0%|          | 0/3000 [00:00<?, ?it/s]"
      ]
     },
     "metadata": {},
     "output_type": "display_data"
    },
    {
     "name": "stdout",
     "output_type": "stream",
     "text": [
      "    Calculating %DeltaGAP for UserKNN...\n"
     ]
    },
    {
     "data": {
      "application/vnd.jupyter.widget-view+json": {
       "model_id": "538305a708ed4aca838e94d7dc653590",
       "version_major": 2,
       "version_minor": 0
      },
      "text/plain": [
       "      GAP UserKNN:   0%|          | 0/3000 [00:00<?, ?it/s]"
      ]
     },
     "metadata": {},
     "output_type": "display_data"
    },
    {
     "name": "stdout",
     "output_type": "stream",
     "text": [
      "    Calculating NDCG@10 for ItemKNN...\n"
     ]
    },
    {
     "data": {
      "application/vnd.jupyter.widget-view+json": {
       "model_id": "9d1a20cd46504c8c808269bc6a24032a",
       "version_major": 2,
       "version_minor": 0
      },
      "text/plain": [
       "      NDCG ItemKNN:   0%|          | 0/3000 [00:00<?, ?it/s]"
      ]
     },
     "metadata": {},
     "output_type": "display_data"
    },
    {
     "name": "stdout",
     "output_type": "stream",
     "text": [
      "    Calculating %DeltaGAP for ItemKNN...\n"
     ]
    },
    {
     "data": {
      "application/vnd.jupyter.widget-view+json": {
       "model_id": "90a5f9dde0f248ad9ac860bf621aa3d3",
       "version_major": 2,
       "version_minor": 0
      },
      "text/plain": [
       "      GAP ItemKNN:   0%|          | 0/3000 [00:00<?, ?it/s]"
      ]
     },
     "metadata": {},
     "output_type": "display_data"
    },
    {
     "name": "stdout",
     "output_type": "stream",
     "text": [
      "    Calculating NDCG@10 for PMF...\n"
     ]
    },
    {
     "data": {
      "application/vnd.jupyter.widget-view+json": {
       "model_id": "f8e0cde4a8ff46cd9906d82cf4e2cc6a",
       "version_major": 2,
       "version_minor": 0
      },
      "text/plain": [
       "      NDCG PMF:   0%|          | 0/3000 [00:00<?, ?it/s]"
      ]
     },
     "metadata": {},
     "output_type": "display_data"
    },
    {
     "name": "stdout",
     "output_type": "stream",
     "text": [
      "    Calculating %DeltaGAP for PMF...\n"
     ]
    },
    {
     "data": {
      "application/vnd.jupyter.widget-view+json": {
       "model_id": "29eeebabc5cd4109a137fe00b4cfedc0",
       "version_major": 2,
       "version_minor": 0
      },
      "text/plain": [
       "      GAP PMF:   0%|          | 0/3000 [00:00<?, ?it/s]"
      ]
     },
     "metadata": {},
     "output_type": "display_data"
    },
    {
     "name": "stdout",
     "output_type": "stream",
     "text": [
      "    Calculating NDCG@10 for NMF...\n"
     ]
    },
    {
     "data": {
      "application/vnd.jupyter.widget-view+json": {
       "model_id": "a62553c41329442b9bd846699b17b896",
       "version_major": 2,
       "version_minor": 0
      },
      "text/plain": [
       "      NDCG NMF:   0%|          | 0/3000 [00:00<?, ?it/s]"
      ]
     },
     "metadata": {},
     "output_type": "display_data"
    },
    {
     "name": "stdout",
     "output_type": "stream",
     "text": [
      "    Calculating %DeltaGAP for NMF...\n"
     ]
    },
    {
     "data": {
      "application/vnd.jupyter.widget-view+json": {
       "model_id": "9172946207bd4919a960d57e5fbb0b08",
       "version_major": 2,
       "version_minor": 0
      },
      "text/plain": [
       "      GAP NMF:   0%|          | 0/3000 [00:00<?, ?it/s]"
      ]
     },
     "metadata": {},
     "output_type": "display_data"
    },
    {
     "name": "stdout",
     "output_type": "stream",
     "text": [
      "    Calculating NDCG@10 for HPF...\n"
     ]
    },
    {
     "data": {
      "application/vnd.jupyter.widget-view+json": {
       "model_id": "a6bbbd4522e743da8e60b07d83f254a7",
       "version_major": 2,
       "version_minor": 0
      },
      "text/plain": [
       "      NDCG HPF:   0%|          | 0/3000 [00:00<?, ?it/s]"
      ]
     },
     "metadata": {},
     "output_type": "display_data"
    },
    {
     "name": "stdout",
     "output_type": "stream",
     "text": [
      "    Calculating %DeltaGAP for HPF...\n"
     ]
    },
    {
     "data": {
      "application/vnd.jupyter.widget-view+json": {
       "model_id": "b38760d3f15b40b9ad0c93d322af73be",
       "version_major": 2,
       "version_minor": 0
      },
      "text/plain": [
       "      GAP HPF:   0%|          | 0/3000 [00:00<?, ?it/s]"
      ]
     },
     "metadata": {},
     "output_type": "display_data"
    },
    {
     "name": "stdout",
     "output_type": "stream",
     "text": [
      "      Saving results for music, eva_three, pop_two...\n",
      "      Results saved.\n",
      "--------------------\n",
      "    Popularity Notion: pop_four\n",
      "      Sorting users by 'niche_consumption_rate' and splitting...\n",
      "  Group Stats (pop_four):\n",
      "    Low Group ('Blockbuster', 600 users): Avg Profile Size=262.23, Avg Profile GAP=0.115610\n",
      "    Med Group ('Diverse', 1800 users): Avg Profile Size=377.53, Avg Profile GAP=0.085114\n",
      "    High Group ('Niche', 600 users): Avg Profile Size=285.96, Avg Profile GAP=0.055953\n",
      "--------------------\n",
      "    Calculating NDCG@10 for MostPop...\n"
     ]
    },
    {
     "data": {
      "application/vnd.jupyter.widget-view+json": {
       "model_id": "72d021ad524c41f5ba61d320617aa953",
       "version_major": 2,
       "version_minor": 0
      },
      "text/plain": [
       "      NDCG MostPop:   0%|          | 0/3000 [00:00<?, ?it/s]"
      ]
     },
     "metadata": {},
     "output_type": "display_data"
    },
    {
     "name": "stdout",
     "output_type": "stream",
     "text": [
      "    Calculating %DeltaGAP for MostPop...\n"
     ]
    },
    {
     "data": {
      "application/vnd.jupyter.widget-view+json": {
       "model_id": "66d7ce6e38934067a4a7faaece9e9842",
       "version_major": 2,
       "version_minor": 0
      },
      "text/plain": [
       "      GAP MostPop:   0%|          | 0/3000 [00:00<?, ?it/s]"
      ]
     },
     "metadata": {},
     "output_type": "display_data"
    },
    {
     "name": "stdout",
     "output_type": "stream",
     "text": [
      "    Calculating NDCG@10 for UserKNN...\n"
     ]
    },
    {
     "data": {
      "application/vnd.jupyter.widget-view+json": {
       "model_id": "5c1394b7d00b448188533582fc540aac",
       "version_major": 2,
       "version_minor": 0
      },
      "text/plain": [
       "      NDCG UserKNN:   0%|          | 0/3000 [00:00<?, ?it/s]"
      ]
     },
     "metadata": {},
     "output_type": "display_data"
    },
    {
     "name": "stdout",
     "output_type": "stream",
     "text": [
      "    Calculating %DeltaGAP for UserKNN...\n"
     ]
    },
    {
     "data": {
      "application/vnd.jupyter.widget-view+json": {
       "model_id": "0beea234ced643bc8b4c5ae1672b2e32",
       "version_major": 2,
       "version_minor": 0
      },
      "text/plain": [
       "      GAP UserKNN:   0%|          | 0/3000 [00:00<?, ?it/s]"
      ]
     },
     "metadata": {},
     "output_type": "display_data"
    },
    {
     "name": "stdout",
     "output_type": "stream",
     "text": [
      "    Calculating NDCG@10 for ItemKNN...\n"
     ]
    },
    {
     "data": {
      "application/vnd.jupyter.widget-view+json": {
       "model_id": "9563bd7cf7ea4528b48b1e10631e931c",
       "version_major": 2,
       "version_minor": 0
      },
      "text/plain": [
       "      NDCG ItemKNN:   0%|          | 0/3000 [00:00<?, ?it/s]"
      ]
     },
     "metadata": {},
     "output_type": "display_data"
    },
    {
     "name": "stdout",
     "output_type": "stream",
     "text": [
      "    Calculating %DeltaGAP for ItemKNN...\n"
     ]
    },
    {
     "data": {
      "application/vnd.jupyter.widget-view+json": {
       "model_id": "2dccfb6017364d4395984e96cb089318",
       "version_major": 2,
       "version_minor": 0
      },
      "text/plain": [
       "      GAP ItemKNN:   0%|          | 0/3000 [00:00<?, ?it/s]"
      ]
     },
     "metadata": {},
     "output_type": "display_data"
    },
    {
     "name": "stdout",
     "output_type": "stream",
     "text": [
      "    Calculating NDCG@10 for PMF...\n"
     ]
    },
    {
     "data": {
      "application/vnd.jupyter.widget-view+json": {
       "model_id": "95273403117d41ae9552c8a317b14f87",
       "version_major": 2,
       "version_minor": 0
      },
      "text/plain": [
       "      NDCG PMF:   0%|          | 0/3000 [00:00<?, ?it/s]"
      ]
     },
     "metadata": {},
     "output_type": "display_data"
    },
    {
     "name": "stdout",
     "output_type": "stream",
     "text": [
      "    Calculating %DeltaGAP for PMF...\n"
     ]
    },
    {
     "data": {
      "application/vnd.jupyter.widget-view+json": {
       "model_id": "eb40482b5ae6441f954bad7c1d98a0aa",
       "version_major": 2,
       "version_minor": 0
      },
      "text/plain": [
       "      GAP PMF:   0%|          | 0/3000 [00:00<?, ?it/s]"
      ]
     },
     "metadata": {},
     "output_type": "display_data"
    },
    {
     "name": "stdout",
     "output_type": "stream",
     "text": [
      "    Calculating NDCG@10 for NMF...\n"
     ]
    },
    {
     "data": {
      "application/vnd.jupyter.widget-view+json": {
       "model_id": "c1ce6a2d1c444563b707d49ff98a2b75",
       "version_major": 2,
       "version_minor": 0
      },
      "text/plain": [
       "      NDCG NMF:   0%|          | 0/3000 [00:00<?, ?it/s]"
      ]
     },
     "metadata": {},
     "output_type": "display_data"
    },
    {
     "name": "stdout",
     "output_type": "stream",
     "text": [
      "    Calculating %DeltaGAP for NMF...\n"
     ]
    },
    {
     "data": {
      "application/vnd.jupyter.widget-view+json": {
       "model_id": "66a0183d0fb3424eaa6e8929926a135e",
       "version_major": 2,
       "version_minor": 0
      },
      "text/plain": [
       "      GAP NMF:   0%|          | 0/3000 [00:00<?, ?it/s]"
      ]
     },
     "metadata": {},
     "output_type": "display_data"
    },
    {
     "name": "stdout",
     "output_type": "stream",
     "text": [
      "    Calculating NDCG@10 for HPF...\n"
     ]
    },
    {
     "data": {
      "application/vnd.jupyter.widget-view+json": {
       "model_id": "cbeac30832224cf4ba815fe4131fdd35",
       "version_major": 2,
       "version_minor": 0
      },
      "text/plain": [
       "      NDCG HPF:   0%|          | 0/3000 [00:00<?, ?it/s]"
      ]
     },
     "metadata": {},
     "output_type": "display_data"
    },
    {
     "name": "stdout",
     "output_type": "stream",
     "text": [
      "    Calculating %DeltaGAP for HPF...\n"
     ]
    },
    {
     "data": {
      "application/vnd.jupyter.widget-view+json": {
       "model_id": "260ac8bc999e4c29a71895ae9bbcdf53",
       "version_major": 2,
       "version_minor": 0
      },
      "text/plain": [
       "      GAP HPF:   0%|          | 0/3000 [00:00<?, ?it/s]"
      ]
     },
     "metadata": {},
     "output_type": "display_data"
    },
    {
     "name": "stdout",
     "output_type": "stream",
     "text": [
      "      Saving results for music, eva_three, pop_four...\n",
      "      Results saved.\n",
      "--------------------\n",
      "\n",
      "--- Evaluating Domain: MOVIE ---\n",
      "  Evaluation Strategy: eva_two\n",
      "    Popularity Notion: pop_one\n",
      "      Sorting users by 'pop_fraq' and splitting...\n",
      "  Group Stats (pop_one):\n",
      "    Low Group ('Niche', 1208 users): Avg Profile Size=301.74, Avg Profile GAP=0.108016\n",
      "    Med Group ('Diverse', 3624 users): Avg Profile Size=152.35, Avg Profile GAP=0.156976\n",
      "    High Group ('Blockbuster', 1208 users): Avg Profile Size=69.19, Avg Profile GAP=0.209073\n",
      "--------------------\n",
      "    Calculating NDCG@10 for MostPop...\n"
     ]
    },
    {
     "data": {
      "application/vnd.jupyter.widget-view+json": {
       "model_id": "2c0fe39e5252454db1c0e1c2c017a9e7",
       "version_major": 2,
       "version_minor": 0
      },
      "text/plain": [
       "      NDCG MostPop:   0%|          | 0/6034 [00:00<?, ?it/s]"
      ]
     },
     "metadata": {},
     "output_type": "display_data"
    },
    {
     "name": "stdout",
     "output_type": "stream",
     "text": [
      "    Calculating %DeltaGAP for MostPop...\n"
     ]
    },
    {
     "data": {
      "application/vnd.jupyter.widget-view+json": {
       "model_id": "0d95c909290a428aae2feeeeb0179061",
       "version_major": 2,
       "version_minor": 0
      },
      "text/plain": [
       "      GAP MostPop:   0%|          | 0/6034 [00:00<?, ?it/s]"
      ]
     },
     "metadata": {},
     "output_type": "display_data"
    },
    {
     "name": "stdout",
     "output_type": "stream",
     "text": [
      "    Calculating NDCG@10 for UserKNN...\n"
     ]
    },
    {
     "data": {
      "application/vnd.jupyter.widget-view+json": {
       "model_id": "b420e2312ba046eb977955d0016b0630",
       "version_major": 2,
       "version_minor": 0
      },
      "text/plain": [
       "      NDCG UserKNN:   0%|          | 0/6034 [00:00<?, ?it/s]"
      ]
     },
     "metadata": {},
     "output_type": "display_data"
    },
    {
     "name": "stdout",
     "output_type": "stream",
     "text": [
      "    Calculating %DeltaGAP for UserKNN...\n"
     ]
    },
    {
     "data": {
      "application/vnd.jupyter.widget-view+json": {
       "model_id": "aa6446b12f94421da58f663faf2e3e8e",
       "version_major": 2,
       "version_minor": 0
      },
      "text/plain": [
       "      GAP UserKNN:   0%|          | 0/6034 [00:00<?, ?it/s]"
      ]
     },
     "metadata": {},
     "output_type": "display_data"
    },
    {
     "name": "stdout",
     "output_type": "stream",
     "text": [
      "    Calculating NDCG@10 for ItemKNN...\n"
     ]
    },
    {
     "data": {
      "application/vnd.jupyter.widget-view+json": {
       "model_id": "939b44d260da4438a1191f52e584d121",
       "version_major": 2,
       "version_minor": 0
      },
      "text/plain": [
       "      NDCG ItemKNN:   0%|          | 0/6034 [00:00<?, ?it/s]"
      ]
     },
     "metadata": {},
     "output_type": "display_data"
    },
    {
     "name": "stdout",
     "output_type": "stream",
     "text": [
      "    Calculating %DeltaGAP for ItemKNN...\n"
     ]
    },
    {
     "data": {
      "application/vnd.jupyter.widget-view+json": {
       "model_id": "8779540ca85d4b708fed776bbee10d7f",
       "version_major": 2,
       "version_minor": 0
      },
      "text/plain": [
       "      GAP ItemKNN:   0%|          | 0/6034 [00:00<?, ?it/s]"
      ]
     },
     "metadata": {},
     "output_type": "display_data"
    },
    {
     "name": "stdout",
     "output_type": "stream",
     "text": [
      "    Calculating NDCG@10 for PMF...\n"
     ]
    },
    {
     "data": {
      "application/vnd.jupyter.widget-view+json": {
       "model_id": "5150a3ea836a4e059f343b8db815bce6",
       "version_major": 2,
       "version_minor": 0
      },
      "text/plain": [
       "      NDCG PMF:   0%|          | 0/6034 [00:00<?, ?it/s]"
      ]
     },
     "metadata": {},
     "output_type": "display_data"
    },
    {
     "name": "stdout",
     "output_type": "stream",
     "text": [
      "    Calculating %DeltaGAP for PMF...\n"
     ]
    },
    {
     "data": {
      "application/vnd.jupyter.widget-view+json": {
       "model_id": "e69cbf8870ed467c89cbc7d329ae00e6",
       "version_major": 2,
       "version_minor": 0
      },
      "text/plain": [
       "      GAP PMF:   0%|          | 0/6034 [00:00<?, ?it/s]"
      ]
     },
     "metadata": {},
     "output_type": "display_data"
    },
    {
     "name": "stdout",
     "output_type": "stream",
     "text": [
      "    Calculating NDCG@10 for NMF...\n"
     ]
    },
    {
     "data": {
      "application/vnd.jupyter.widget-view+json": {
       "model_id": "280ff388d53449bc93782175a0ee7dea",
       "version_major": 2,
       "version_minor": 0
      },
      "text/plain": [
       "      NDCG NMF:   0%|          | 0/6034 [00:00<?, ?it/s]"
      ]
     },
     "metadata": {},
     "output_type": "display_data"
    },
    {
     "name": "stdout",
     "output_type": "stream",
     "text": [
      "    Calculating %DeltaGAP for NMF...\n"
     ]
    },
    {
     "data": {
      "application/vnd.jupyter.widget-view+json": {
       "model_id": "c0c34dbd505b45efb6659031906168d6",
       "version_major": 2,
       "version_minor": 0
      },
      "text/plain": [
       "      GAP NMF:   0%|          | 0/6034 [00:00<?, ?it/s]"
      ]
     },
     "metadata": {},
     "output_type": "display_data"
    },
    {
     "name": "stdout",
     "output_type": "stream",
     "text": [
      "    Calculating NDCG@10 for HPF...\n"
     ]
    },
    {
     "data": {
      "application/vnd.jupyter.widget-view+json": {
       "model_id": "80f5c14f7455404bbd24b3cc5cc6d80f",
       "version_major": 2,
       "version_minor": 0
      },
      "text/plain": [
       "      NDCG HPF:   0%|          | 0/6034 [00:00<?, ?it/s]"
      ]
     },
     "metadata": {},
     "output_type": "display_data"
    },
    {
     "name": "stdout",
     "output_type": "stream",
     "text": [
      "    Calculating %DeltaGAP for HPF...\n"
     ]
    },
    {
     "data": {
      "application/vnd.jupyter.widget-view+json": {
       "model_id": "dfc7e479e2584249b0ebfdb95c110a6a",
       "version_major": 2,
       "version_minor": 0
      },
      "text/plain": [
       "      GAP HPF:   0%|          | 0/6034 [00:00<?, ?it/s]"
      ]
     },
     "metadata": {},
     "output_type": "display_data"
    },
    {
     "name": "stdout",
     "output_type": "stream",
     "text": [
      "      Saving results for movie, eva_two, pop_one...\n",
      "      Results saved.\n",
      "--------------------\n",
      "    Popularity Notion: pop_two\n",
      "      Sorting users by 'pop_item_fraq' and splitting...\n",
      "  Group Stats (pop_two):\n",
      "    Low Group ('Niche', 1208 users): Avg Profile Size=336.11, Avg Profile GAP=0.105535\n",
      "    Med Group ('Diverse', 3624 users): Avg Profile Size=145.64, Avg Profile GAP=0.155064\n",
      "    High Group ('Blockbuster', 1208 users): Avg Profile Size=54.95, Avg Profile GAP=0.217289\n",
      "--------------------\n",
      "    Calculating NDCG@10 for MostPop...\n"
     ]
    },
    {
     "data": {
      "application/vnd.jupyter.widget-view+json": {
       "model_id": "1fd84e71032a4b34911228f59f3fa0a9",
       "version_major": 2,
       "version_minor": 0
      },
      "text/plain": [
       "      NDCG MostPop:   0%|          | 0/6034 [00:00<?, ?it/s]"
      ]
     },
     "metadata": {},
     "output_type": "display_data"
    },
    {
     "name": "stdout",
     "output_type": "stream",
     "text": [
      "    Calculating %DeltaGAP for MostPop...\n"
     ]
    },
    {
     "data": {
      "application/vnd.jupyter.widget-view+json": {
       "model_id": "f2aff84e49044cddbf786345258895cf",
       "version_major": 2,
       "version_minor": 0
      },
      "text/plain": [
       "      GAP MostPop:   0%|          | 0/6034 [00:00<?, ?it/s]"
      ]
     },
     "metadata": {},
     "output_type": "display_data"
    },
    {
     "name": "stdout",
     "output_type": "stream",
     "text": [
      "    Calculating NDCG@10 for UserKNN...\n"
     ]
    },
    {
     "data": {
      "application/vnd.jupyter.widget-view+json": {
       "model_id": "36bfcecc89e04204ac4a9af99c8bf504",
       "version_major": 2,
       "version_minor": 0
      },
      "text/plain": [
       "      NDCG UserKNN:   0%|          | 0/6034 [00:00<?, ?it/s]"
      ]
     },
     "metadata": {},
     "output_type": "display_data"
    },
    {
     "name": "stdout",
     "output_type": "stream",
     "text": [
      "    Calculating %DeltaGAP for UserKNN...\n"
     ]
    },
    {
     "data": {
      "application/vnd.jupyter.widget-view+json": {
       "model_id": "37d3419876f940eca192f50dbcf396a1",
       "version_major": 2,
       "version_minor": 0
      },
      "text/plain": [
       "      GAP UserKNN:   0%|          | 0/6034 [00:00<?, ?it/s]"
      ]
     },
     "metadata": {},
     "output_type": "display_data"
    },
    {
     "name": "stdout",
     "output_type": "stream",
     "text": [
      "    Calculating NDCG@10 for ItemKNN...\n"
     ]
    },
    {
     "data": {
      "application/vnd.jupyter.widget-view+json": {
       "model_id": "570f23ed204b4d3d9c9c2e9db09ed8e2",
       "version_major": 2,
       "version_minor": 0
      },
      "text/plain": [
       "      NDCG ItemKNN:   0%|          | 0/6034 [00:00<?, ?it/s]"
      ]
     },
     "metadata": {},
     "output_type": "display_data"
    },
    {
     "name": "stdout",
     "output_type": "stream",
     "text": [
      "    Calculating %DeltaGAP for ItemKNN...\n"
     ]
    },
    {
     "data": {
      "application/vnd.jupyter.widget-view+json": {
       "model_id": "d5af12ad94d04753baf8e94042b28459",
       "version_major": 2,
       "version_minor": 0
      },
      "text/plain": [
       "      GAP ItemKNN:   0%|          | 0/6034 [00:00<?, ?it/s]"
      ]
     },
     "metadata": {},
     "output_type": "display_data"
    },
    {
     "name": "stdout",
     "output_type": "stream",
     "text": [
      "    Calculating NDCG@10 for PMF...\n"
     ]
    },
    {
     "data": {
      "application/vnd.jupyter.widget-view+json": {
       "model_id": "864ac0c28c1149b9ad16972b1ba9c726",
       "version_major": 2,
       "version_minor": 0
      },
      "text/plain": [
       "      NDCG PMF:   0%|          | 0/6034 [00:00<?, ?it/s]"
      ]
     },
     "metadata": {},
     "output_type": "display_data"
    },
    {
     "name": "stdout",
     "output_type": "stream",
     "text": [
      "    Calculating %DeltaGAP for PMF...\n"
     ]
    },
    {
     "data": {
      "application/vnd.jupyter.widget-view+json": {
       "model_id": "236e9ec6140d4318a2e432cfb2f9dd64",
       "version_major": 2,
       "version_minor": 0
      },
      "text/plain": [
       "      GAP PMF:   0%|          | 0/6034 [00:00<?, ?it/s]"
      ]
     },
     "metadata": {},
     "output_type": "display_data"
    },
    {
     "name": "stdout",
     "output_type": "stream",
     "text": [
      "    Calculating NDCG@10 for NMF...\n"
     ]
    },
    {
     "data": {
      "application/vnd.jupyter.widget-view+json": {
       "model_id": "385d377b4be34f5d9f71a4dfe9fcee8c",
       "version_major": 2,
       "version_minor": 0
      },
      "text/plain": [
       "      NDCG NMF:   0%|          | 0/6034 [00:00<?, ?it/s]"
      ]
     },
     "metadata": {},
     "output_type": "display_data"
    },
    {
     "name": "stdout",
     "output_type": "stream",
     "text": [
      "    Calculating %DeltaGAP for NMF...\n"
     ]
    },
    {
     "data": {
      "application/vnd.jupyter.widget-view+json": {
       "model_id": "079472ac826a4c2983053d9de4415376",
       "version_major": 2,
       "version_minor": 0
      },
      "text/plain": [
       "      GAP NMF:   0%|          | 0/6034 [00:00<?, ?it/s]"
      ]
     },
     "metadata": {},
     "output_type": "display_data"
    },
    {
     "name": "stdout",
     "output_type": "stream",
     "text": [
      "    Calculating NDCG@10 for HPF...\n"
     ]
    },
    {
     "data": {
      "application/vnd.jupyter.widget-view+json": {
       "model_id": "c15d99b050f441979d1ed035a358b965",
       "version_major": 2,
       "version_minor": 0
      },
      "text/plain": [
       "      NDCG HPF:   0%|          | 0/6034 [00:00<?, ?it/s]"
      ]
     },
     "metadata": {},
     "output_type": "display_data"
    },
    {
     "name": "stdout",
     "output_type": "stream",
     "text": [
      "    Calculating %DeltaGAP for HPF...\n"
     ]
    },
    {
     "data": {
      "application/vnd.jupyter.widget-view+json": {
       "model_id": "80263e5abad6445b878af9a9fe7f4267",
       "version_major": 2,
       "version_minor": 0
      },
      "text/plain": [
       "      GAP HPF:   0%|          | 0/6034 [00:00<?, ?it/s]"
      ]
     },
     "metadata": {},
     "output_type": "display_data"
    },
    {
     "name": "stdout",
     "output_type": "stream",
     "text": [
      "      Saving results for movie, eva_two, pop_two...\n",
      "      Results saved.\n",
      "--------------------\n",
      "    Popularity Notion: pop_four\n",
      "      Sorting users by 'niche_consumption_rate' and splitting...\n",
      "  Group Stats (pop_four):\n",
      "    Low Group ('Blockbuster', 1208 users): Avg Profile Size=78.37, Avg Profile GAP=0.177772\n",
      "    Med Group ('Diverse', 3624 users): Avg Profile Size=179.59, Avg Profile GAP=0.160309\n",
      "    High Group ('Niche', 1208 users): Avg Profile Size=210.85, Avg Profile GAP=0.129314\n",
      "--------------------\n",
      "    Calculating NDCG@10 for MostPop...\n"
     ]
    },
    {
     "data": {
      "application/vnd.jupyter.widget-view+json": {
       "model_id": "3ba8b076486d43eeb9471a7d8f87493c",
       "version_major": 2,
       "version_minor": 0
      },
      "text/plain": [
       "      NDCG MostPop:   0%|          | 0/6034 [00:00<?, ?it/s]"
      ]
     },
     "metadata": {},
     "output_type": "display_data"
    },
    {
     "name": "stdout",
     "output_type": "stream",
     "text": [
      "    Calculating %DeltaGAP for MostPop...\n"
     ]
    },
    {
     "data": {
      "application/vnd.jupyter.widget-view+json": {
       "model_id": "1aa6ac22ec07452eac258542c1c9b6cb",
       "version_major": 2,
       "version_minor": 0
      },
      "text/plain": [
       "      GAP MostPop:   0%|          | 0/6034 [00:00<?, ?it/s]"
      ]
     },
     "metadata": {},
     "output_type": "display_data"
    },
    {
     "name": "stdout",
     "output_type": "stream",
     "text": [
      "    Calculating NDCG@10 for UserKNN...\n"
     ]
    },
    {
     "data": {
      "application/vnd.jupyter.widget-view+json": {
       "model_id": "362826f1ce2745c0976e6014e7533b2c",
       "version_major": 2,
       "version_minor": 0
      },
      "text/plain": [
       "      NDCG UserKNN:   0%|          | 0/6034 [00:00<?, ?it/s]"
      ]
     },
     "metadata": {},
     "output_type": "display_data"
    },
    {
     "name": "stdout",
     "output_type": "stream",
     "text": [
      "    Calculating %DeltaGAP for UserKNN...\n"
     ]
    },
    {
     "data": {
      "application/vnd.jupyter.widget-view+json": {
       "model_id": "1c731ac3a57349ad95476642c6827e8b",
       "version_major": 2,
       "version_minor": 0
      },
      "text/plain": [
       "      GAP UserKNN:   0%|          | 0/6034 [00:00<?, ?it/s]"
      ]
     },
     "metadata": {},
     "output_type": "display_data"
    },
    {
     "name": "stdout",
     "output_type": "stream",
     "text": [
      "    Calculating NDCG@10 for ItemKNN...\n"
     ]
    },
    {
     "data": {
      "application/vnd.jupyter.widget-view+json": {
       "model_id": "e00d37467202452db36156942d5b10a5",
       "version_major": 2,
       "version_minor": 0
      },
      "text/plain": [
       "      NDCG ItemKNN:   0%|          | 0/6034 [00:00<?, ?it/s]"
      ]
     },
     "metadata": {},
     "output_type": "display_data"
    },
    {
     "name": "stdout",
     "output_type": "stream",
     "text": [
      "    Calculating %DeltaGAP for ItemKNN...\n"
     ]
    },
    {
     "data": {
      "application/vnd.jupyter.widget-view+json": {
       "model_id": "519eeab463ee413b93e6fd7b5587da18",
       "version_major": 2,
       "version_minor": 0
      },
      "text/plain": [
       "      GAP ItemKNN:   0%|          | 0/6034 [00:00<?, ?it/s]"
      ]
     },
     "metadata": {},
     "output_type": "display_data"
    },
    {
     "name": "stdout",
     "output_type": "stream",
     "text": [
      "    Calculating NDCG@10 for PMF...\n"
     ]
    },
    {
     "data": {
      "application/vnd.jupyter.widget-view+json": {
       "model_id": "7265b5cebb4042509a45af9c6d5f26fb",
       "version_major": 2,
       "version_minor": 0
      },
      "text/plain": [
       "      NDCG PMF:   0%|          | 0/6034 [00:00<?, ?it/s]"
      ]
     },
     "metadata": {},
     "output_type": "display_data"
    },
    {
     "name": "stdout",
     "output_type": "stream",
     "text": [
      "    Calculating %DeltaGAP for PMF...\n"
     ]
    },
    {
     "data": {
      "application/vnd.jupyter.widget-view+json": {
       "model_id": "c6ebffcea34642e899b7797fac2ed40c",
       "version_major": 2,
       "version_minor": 0
      },
      "text/plain": [
       "      GAP PMF:   0%|          | 0/6034 [00:00<?, ?it/s]"
      ]
     },
     "metadata": {},
     "output_type": "display_data"
    },
    {
     "name": "stdout",
     "output_type": "stream",
     "text": [
      "    Calculating NDCG@10 for NMF...\n"
     ]
    },
    {
     "data": {
      "application/vnd.jupyter.widget-view+json": {
       "model_id": "faa637582f6342fa9c1b7136b0a864ba",
       "version_major": 2,
       "version_minor": 0
      },
      "text/plain": [
       "      NDCG NMF:   0%|          | 0/6034 [00:00<?, ?it/s]"
      ]
     },
     "metadata": {},
     "output_type": "display_data"
    },
    {
     "name": "stdout",
     "output_type": "stream",
     "text": [
      "    Calculating %DeltaGAP for NMF...\n"
     ]
    },
    {
     "data": {
      "application/vnd.jupyter.widget-view+json": {
       "model_id": "fdb2e925e1524d0b9f017d2810a95b92",
       "version_major": 2,
       "version_minor": 0
      },
      "text/plain": [
       "      GAP NMF:   0%|          | 0/6034 [00:00<?, ?it/s]"
      ]
     },
     "metadata": {},
     "output_type": "display_data"
    },
    {
     "name": "stdout",
     "output_type": "stream",
     "text": [
      "    Calculating NDCG@10 for HPF...\n"
     ]
    },
    {
     "data": {
      "application/vnd.jupyter.widget-view+json": {
       "model_id": "a4274898b37047dfaf7805b2f7649a9e",
       "version_major": 2,
       "version_minor": 0
      },
      "text/plain": [
       "      NDCG HPF:   0%|          | 0/6034 [00:00<?, ?it/s]"
      ]
     },
     "metadata": {},
     "output_type": "display_data"
    },
    {
     "name": "stdout",
     "output_type": "stream",
     "text": [
      "    Calculating %DeltaGAP for HPF...\n"
     ]
    },
    {
     "data": {
      "application/vnd.jupyter.widget-view+json": {
       "model_id": "859571c48f3a4376bc28fb6955aa9128",
       "version_major": 2,
       "version_minor": 0
      },
      "text/plain": [
       "      GAP HPF:   0%|          | 0/6034 [00:00<?, ?it/s]"
      ]
     },
     "metadata": {},
     "output_type": "display_data"
    },
    {
     "name": "stdout",
     "output_type": "stream",
     "text": [
      "      Saving results for movie, eva_two, pop_four...\n",
      "      Results saved.\n",
      "--------------------\n",
      "  Evaluation Strategy: eva_three\n",
      "    Popularity Notion: pop_one\n",
      "      Sorting users by 'pop_fraq' and splitting...\n",
      "  Group Stats (pop_one):\n",
      "    Low Group ('Niche', 1208 users): Avg Profile Size=301.74, Avg Profile GAP=0.108016\n",
      "    Med Group ('Diverse', 3624 users): Avg Profile Size=152.35, Avg Profile GAP=0.156976\n",
      "    High Group ('Blockbuster', 1208 users): Avg Profile Size=69.19, Avg Profile GAP=0.209073\n",
      "--------------------\n",
      "    Calculating NDCG@10 for MostPop...\n"
     ]
    },
    {
     "data": {
      "application/vnd.jupyter.widget-view+json": {
       "model_id": "2c754f160c0a4241bc489798bbb4ae5c",
       "version_major": 2,
       "version_minor": 0
      },
      "text/plain": [
       "      NDCG MostPop:   0%|          | 0/6040 [00:00<?, ?it/s]"
      ]
     },
     "metadata": {},
     "output_type": "display_data"
    },
    {
     "name": "stdout",
     "output_type": "stream",
     "text": [
      "    Calculating %DeltaGAP for MostPop...\n"
     ]
    },
    {
     "data": {
      "application/vnd.jupyter.widget-view+json": {
       "model_id": "c77c58b782e8408289fae3698cffb949",
       "version_major": 2,
       "version_minor": 0
      },
      "text/plain": [
       "      GAP MostPop:   0%|          | 0/6040 [00:00<?, ?it/s]"
      ]
     },
     "metadata": {},
     "output_type": "display_data"
    },
    {
     "name": "stdout",
     "output_type": "stream",
     "text": [
      "    Calculating NDCG@10 for UserKNN...\n"
     ]
    },
    {
     "data": {
      "application/vnd.jupyter.widget-view+json": {
       "model_id": "b337bdb3af5b497384790411f4edcd12",
       "version_major": 2,
       "version_minor": 0
      },
      "text/plain": [
       "      NDCG UserKNN:   0%|          | 0/6040 [00:00<?, ?it/s]"
      ]
     },
     "metadata": {},
     "output_type": "display_data"
    },
    {
     "name": "stdout",
     "output_type": "stream",
     "text": [
      "    Calculating %DeltaGAP for UserKNN...\n"
     ]
    },
    {
     "data": {
      "application/vnd.jupyter.widget-view+json": {
       "model_id": "a454f23c96034dc2aee18e5265b59493",
       "version_major": 2,
       "version_minor": 0
      },
      "text/plain": [
       "      GAP UserKNN:   0%|          | 0/6040 [00:00<?, ?it/s]"
      ]
     },
     "metadata": {},
     "output_type": "display_data"
    },
    {
     "name": "stdout",
     "output_type": "stream",
     "text": [
      "    Calculating NDCG@10 for ItemKNN...\n"
     ]
    },
    {
     "data": {
      "application/vnd.jupyter.widget-view+json": {
       "model_id": "21cf48173e8840f69b1ff4e120d6a854",
       "version_major": 2,
       "version_minor": 0
      },
      "text/plain": [
       "      NDCG ItemKNN:   0%|          | 0/6040 [00:00<?, ?it/s]"
      ]
     },
     "metadata": {},
     "output_type": "display_data"
    },
    {
     "name": "stdout",
     "output_type": "stream",
     "text": [
      "    Calculating %DeltaGAP for ItemKNN...\n"
     ]
    },
    {
     "data": {
      "application/vnd.jupyter.widget-view+json": {
       "model_id": "62abba99d002440e989f2c815cda431b",
       "version_major": 2,
       "version_minor": 0
      },
      "text/plain": [
       "      GAP ItemKNN:   0%|          | 0/6040 [00:00<?, ?it/s]"
      ]
     },
     "metadata": {},
     "output_type": "display_data"
    },
    {
     "name": "stdout",
     "output_type": "stream",
     "text": [
      "    Calculating NDCG@10 for PMF...\n"
     ]
    },
    {
     "data": {
      "application/vnd.jupyter.widget-view+json": {
       "model_id": "2f1b951738c0471cb8ddaea8a12acd71",
       "version_major": 2,
       "version_minor": 0
      },
      "text/plain": [
       "      NDCG PMF:   0%|          | 0/6040 [00:00<?, ?it/s]"
      ]
     },
     "metadata": {},
     "output_type": "display_data"
    },
    {
     "name": "stdout",
     "output_type": "stream",
     "text": [
      "    Calculating %DeltaGAP for PMF...\n"
     ]
    },
    {
     "data": {
      "application/vnd.jupyter.widget-view+json": {
       "model_id": "ecfb0e55f24540c6a1552e7ef92e7218",
       "version_major": 2,
       "version_minor": 0
      },
      "text/plain": [
       "      GAP PMF:   0%|          | 0/6040 [00:00<?, ?it/s]"
      ]
     },
     "metadata": {},
     "output_type": "display_data"
    },
    {
     "name": "stdout",
     "output_type": "stream",
     "text": [
      "    Calculating NDCG@10 for NMF...\n"
     ]
    },
    {
     "data": {
      "application/vnd.jupyter.widget-view+json": {
       "model_id": "0c20fb8d42574b3f95c4bb1752194d8a",
       "version_major": 2,
       "version_minor": 0
      },
      "text/plain": [
       "      NDCG NMF:   0%|          | 0/6040 [00:00<?, ?it/s]"
      ]
     },
     "metadata": {},
     "output_type": "display_data"
    },
    {
     "name": "stdout",
     "output_type": "stream",
     "text": [
      "    Calculating %DeltaGAP for NMF...\n"
     ]
    },
    {
     "data": {
      "application/vnd.jupyter.widget-view+json": {
       "model_id": "04314143bdb148208bb84275eca6ed8c",
       "version_major": 2,
       "version_minor": 0
      },
      "text/plain": [
       "      GAP NMF:   0%|          | 0/6040 [00:00<?, ?it/s]"
      ]
     },
     "metadata": {},
     "output_type": "display_data"
    },
    {
     "name": "stdout",
     "output_type": "stream",
     "text": [
      "    Calculating NDCG@10 for HPF...\n"
     ]
    },
    {
     "data": {
      "application/vnd.jupyter.widget-view+json": {
       "model_id": "c0e0ba0c1cbd4d3b92540daffe736860",
       "version_major": 2,
       "version_minor": 0
      },
      "text/plain": [
       "      NDCG HPF:   0%|          | 0/6040 [00:00<?, ?it/s]"
      ]
     },
     "metadata": {},
     "output_type": "display_data"
    },
    {
     "name": "stdout",
     "output_type": "stream",
     "text": [
      "    Calculating %DeltaGAP for HPF...\n"
     ]
    },
    {
     "data": {
      "application/vnd.jupyter.widget-view+json": {
       "model_id": "d71fabbbbb544197a5b16afd5d52c064",
       "version_major": 2,
       "version_minor": 0
      },
      "text/plain": [
       "      GAP HPF:   0%|          | 0/6040 [00:00<?, ?it/s]"
      ]
     },
     "metadata": {},
     "output_type": "display_data"
    },
    {
     "name": "stdout",
     "output_type": "stream",
     "text": [
      "      Saving results for movie, eva_three, pop_one...\n",
      "      Results saved.\n",
      "--------------------\n",
      "    Popularity Notion: pop_two\n",
      "      Sorting users by 'pop_item_fraq' and splitting...\n",
      "  Group Stats (pop_two):\n",
      "    Low Group ('Niche', 1208 users): Avg Profile Size=336.11, Avg Profile GAP=0.105535\n",
      "    Med Group ('Diverse', 3624 users): Avg Profile Size=145.64, Avg Profile GAP=0.155064\n",
      "    High Group ('Blockbuster', 1208 users): Avg Profile Size=54.95, Avg Profile GAP=0.217289\n",
      "--------------------\n",
      "    Calculating NDCG@10 for MostPop...\n"
     ]
    },
    {
     "data": {
      "application/vnd.jupyter.widget-view+json": {
       "model_id": "9deaaa8050994d3494c725fb7845b858",
       "version_major": 2,
       "version_minor": 0
      },
      "text/plain": [
       "      NDCG MostPop:   0%|          | 0/6040 [00:00<?, ?it/s]"
      ]
     },
     "metadata": {},
     "output_type": "display_data"
    },
    {
     "name": "stdout",
     "output_type": "stream",
     "text": [
      "    Calculating %DeltaGAP for MostPop...\n"
     ]
    },
    {
     "data": {
      "application/vnd.jupyter.widget-view+json": {
       "model_id": "e42bcbedd5944724a2ceef8f2e2e5d9e",
       "version_major": 2,
       "version_minor": 0
      },
      "text/plain": [
       "      GAP MostPop:   0%|          | 0/6040 [00:00<?, ?it/s]"
      ]
     },
     "metadata": {},
     "output_type": "display_data"
    },
    {
     "name": "stdout",
     "output_type": "stream",
     "text": [
      "    Calculating NDCG@10 for UserKNN...\n"
     ]
    },
    {
     "data": {
      "application/vnd.jupyter.widget-view+json": {
       "model_id": "beca9800dffc4c9baa854f1042be5c7d",
       "version_major": 2,
       "version_minor": 0
      },
      "text/plain": [
       "      NDCG UserKNN:   0%|          | 0/6040 [00:00<?, ?it/s]"
      ]
     },
     "metadata": {},
     "output_type": "display_data"
    },
    {
     "name": "stdout",
     "output_type": "stream",
     "text": [
      "    Calculating %DeltaGAP for UserKNN...\n"
     ]
    },
    {
     "data": {
      "application/vnd.jupyter.widget-view+json": {
       "model_id": "4a4a10a298214f03aa5d5d59457daafe",
       "version_major": 2,
       "version_minor": 0
      },
      "text/plain": [
       "      GAP UserKNN:   0%|          | 0/6040 [00:00<?, ?it/s]"
      ]
     },
     "metadata": {},
     "output_type": "display_data"
    },
    {
     "name": "stdout",
     "output_type": "stream",
     "text": [
      "    Calculating NDCG@10 for ItemKNN...\n"
     ]
    },
    {
     "data": {
      "application/vnd.jupyter.widget-view+json": {
       "model_id": "10bfb793b60843d891b49806b866cd20",
       "version_major": 2,
       "version_minor": 0
      },
      "text/plain": [
       "      NDCG ItemKNN:   0%|          | 0/6040 [00:00<?, ?it/s]"
      ]
     },
     "metadata": {},
     "output_type": "display_data"
    },
    {
     "name": "stdout",
     "output_type": "stream",
     "text": [
      "    Calculating %DeltaGAP for ItemKNN...\n"
     ]
    },
    {
     "data": {
      "application/vnd.jupyter.widget-view+json": {
       "model_id": "5ed5f8433491476da1c93b25377786ed",
       "version_major": 2,
       "version_minor": 0
      },
      "text/plain": [
       "      GAP ItemKNN:   0%|          | 0/6040 [00:00<?, ?it/s]"
      ]
     },
     "metadata": {},
     "output_type": "display_data"
    },
    {
     "name": "stdout",
     "output_type": "stream",
     "text": [
      "    Calculating NDCG@10 for PMF...\n"
     ]
    },
    {
     "data": {
      "application/vnd.jupyter.widget-view+json": {
       "model_id": "aa973901f1bb4dceae91b064810f473a",
       "version_major": 2,
       "version_minor": 0
      },
      "text/plain": [
       "      NDCG PMF:   0%|          | 0/6040 [00:00<?, ?it/s]"
      ]
     },
     "metadata": {},
     "output_type": "display_data"
    },
    {
     "name": "stdout",
     "output_type": "stream",
     "text": [
      "    Calculating %DeltaGAP for PMF...\n"
     ]
    },
    {
     "data": {
      "application/vnd.jupyter.widget-view+json": {
       "model_id": "212bdb174a0646fbbbfba700538c6fbc",
       "version_major": 2,
       "version_minor": 0
      },
      "text/plain": [
       "      GAP PMF:   0%|          | 0/6040 [00:00<?, ?it/s]"
      ]
     },
     "metadata": {},
     "output_type": "display_data"
    },
    {
     "name": "stdout",
     "output_type": "stream",
     "text": [
      "    Calculating NDCG@10 for NMF...\n"
     ]
    },
    {
     "data": {
      "application/vnd.jupyter.widget-view+json": {
       "model_id": "f50c15f55f2040838d73ebed8f2f16fc",
       "version_major": 2,
       "version_minor": 0
      },
      "text/plain": [
       "      NDCG NMF:   0%|          | 0/6040 [00:00<?, ?it/s]"
      ]
     },
     "metadata": {},
     "output_type": "display_data"
    },
    {
     "name": "stdout",
     "output_type": "stream",
     "text": [
      "    Calculating %DeltaGAP for NMF...\n"
     ]
    },
    {
     "data": {
      "application/vnd.jupyter.widget-view+json": {
       "model_id": "459176a41c35420a947a6c007285228c",
       "version_major": 2,
       "version_minor": 0
      },
      "text/plain": [
       "      GAP NMF:   0%|          | 0/6040 [00:00<?, ?it/s]"
      ]
     },
     "metadata": {},
     "output_type": "display_data"
    },
    {
     "name": "stdout",
     "output_type": "stream",
     "text": [
      "    Calculating NDCG@10 for HPF...\n"
     ]
    },
    {
     "data": {
      "application/vnd.jupyter.widget-view+json": {
       "model_id": "0cedec9173214600bfe6967e5f503432",
       "version_major": 2,
       "version_minor": 0
      },
      "text/plain": [
       "      NDCG HPF:   0%|          | 0/6040 [00:00<?, ?it/s]"
      ]
     },
     "metadata": {},
     "output_type": "display_data"
    },
    {
     "name": "stdout",
     "output_type": "stream",
     "text": [
      "    Calculating %DeltaGAP for HPF...\n"
     ]
    },
    {
     "data": {
      "application/vnd.jupyter.widget-view+json": {
       "model_id": "bd0e3b3cd04a4ac5883d69b0b496af8d",
       "version_major": 2,
       "version_minor": 0
      },
      "text/plain": [
       "      GAP HPF:   0%|          | 0/6040 [00:00<?, ?it/s]"
      ]
     },
     "metadata": {},
     "output_type": "display_data"
    },
    {
     "name": "stdout",
     "output_type": "stream",
     "text": [
      "      Saving results for movie, eva_three, pop_two...\n",
      "      Results saved.\n",
      "--------------------\n",
      "    Popularity Notion: pop_four\n",
      "      Sorting users by 'niche_consumption_rate' and splitting...\n",
      "  Group Stats (pop_four):\n",
      "    Low Group ('Blockbuster', 1208 users): Avg Profile Size=78.37, Avg Profile GAP=0.177772\n",
      "    Med Group ('Diverse', 3624 users): Avg Profile Size=179.59, Avg Profile GAP=0.160309\n",
      "    High Group ('Niche', 1208 users): Avg Profile Size=210.85, Avg Profile GAP=0.129314\n",
      "--------------------\n",
      "    Calculating NDCG@10 for MostPop...\n"
     ]
    },
    {
     "data": {
      "application/vnd.jupyter.widget-view+json": {
       "model_id": "272196c074bc47d4bcdadee7b80cbf24",
       "version_major": 2,
       "version_minor": 0
      },
      "text/plain": [
       "      NDCG MostPop:   0%|          | 0/6040 [00:00<?, ?it/s]"
      ]
     },
     "metadata": {},
     "output_type": "display_data"
    },
    {
     "name": "stdout",
     "output_type": "stream",
     "text": [
      "    Calculating %DeltaGAP for MostPop...\n"
     ]
    },
    {
     "data": {
      "application/vnd.jupyter.widget-view+json": {
       "model_id": "18770130cb5d4734b37ace40c0a9066f",
       "version_major": 2,
       "version_minor": 0
      },
      "text/plain": [
       "      GAP MostPop:   0%|          | 0/6040 [00:00<?, ?it/s]"
      ]
     },
     "metadata": {},
     "output_type": "display_data"
    },
    {
     "name": "stdout",
     "output_type": "stream",
     "text": [
      "    Calculating NDCG@10 for UserKNN...\n"
     ]
    },
    {
     "data": {
      "application/vnd.jupyter.widget-view+json": {
       "model_id": "1ac5bbf1fe614c96a2f9a6a35c796dcf",
       "version_major": 2,
       "version_minor": 0
      },
      "text/plain": [
       "      NDCG UserKNN:   0%|          | 0/6040 [00:00<?, ?it/s]"
      ]
     },
     "metadata": {},
     "output_type": "display_data"
    },
    {
     "name": "stdout",
     "output_type": "stream",
     "text": [
      "    Calculating %DeltaGAP for UserKNN...\n"
     ]
    },
    {
     "data": {
      "application/vnd.jupyter.widget-view+json": {
       "model_id": "dfd5b0cafbf345f4a80318841436581f",
       "version_major": 2,
       "version_minor": 0
      },
      "text/plain": [
       "      GAP UserKNN:   0%|          | 0/6040 [00:00<?, ?it/s]"
      ]
     },
     "metadata": {},
     "output_type": "display_data"
    },
    {
     "name": "stdout",
     "output_type": "stream",
     "text": [
      "    Calculating NDCG@10 for ItemKNN...\n"
     ]
    },
    {
     "data": {
      "application/vnd.jupyter.widget-view+json": {
       "model_id": "658ac3d40f514d7d86d17dc5207200ac",
       "version_major": 2,
       "version_minor": 0
      },
      "text/plain": [
       "      NDCG ItemKNN:   0%|          | 0/6040 [00:00<?, ?it/s]"
      ]
     },
     "metadata": {},
     "output_type": "display_data"
    },
    {
     "name": "stdout",
     "output_type": "stream",
     "text": [
      "    Calculating %DeltaGAP for ItemKNN...\n"
     ]
    },
    {
     "data": {
      "application/vnd.jupyter.widget-view+json": {
       "model_id": "928f2ae123be4dadb9feb478025821ca",
       "version_major": 2,
       "version_minor": 0
      },
      "text/plain": [
       "      GAP ItemKNN:   0%|          | 0/6040 [00:00<?, ?it/s]"
      ]
     },
     "metadata": {},
     "output_type": "display_data"
    },
    {
     "name": "stdout",
     "output_type": "stream",
     "text": [
      "    Calculating NDCG@10 for PMF...\n"
     ]
    },
    {
     "data": {
      "application/vnd.jupyter.widget-view+json": {
       "model_id": "221646b07242498fadfb8cf528fb6c02",
       "version_major": 2,
       "version_minor": 0
      },
      "text/plain": [
       "      NDCG PMF:   0%|          | 0/6040 [00:00<?, ?it/s]"
      ]
     },
     "metadata": {},
     "output_type": "display_data"
    },
    {
     "name": "stdout",
     "output_type": "stream",
     "text": [
      "    Calculating %DeltaGAP for PMF...\n"
     ]
    },
    {
     "data": {
      "application/vnd.jupyter.widget-view+json": {
       "model_id": "67c6fb7eb5de4407867c60755bab1efd",
       "version_major": 2,
       "version_minor": 0
      },
      "text/plain": [
       "      GAP PMF:   0%|          | 0/6040 [00:00<?, ?it/s]"
      ]
     },
     "metadata": {},
     "output_type": "display_data"
    },
    {
     "name": "stdout",
     "output_type": "stream",
     "text": [
      "    Calculating NDCG@10 for NMF...\n"
     ]
    },
    {
     "data": {
      "application/vnd.jupyter.widget-view+json": {
       "model_id": "dc4046cb3cdf46f88264d2936752b8b4",
       "version_major": 2,
       "version_minor": 0
      },
      "text/plain": [
       "      NDCG NMF:   0%|          | 0/6040 [00:00<?, ?it/s]"
      ]
     },
     "metadata": {},
     "output_type": "display_data"
    },
    {
     "name": "stdout",
     "output_type": "stream",
     "text": [
      "    Calculating %DeltaGAP for NMF...\n"
     ]
    },
    {
     "data": {
      "application/vnd.jupyter.widget-view+json": {
       "model_id": "ab64291aa4af4101900e1b23fcc45fa4",
       "version_major": 2,
       "version_minor": 0
      },
      "text/plain": [
       "      GAP NMF:   0%|          | 0/6040 [00:00<?, ?it/s]"
      ]
     },
     "metadata": {},
     "output_type": "display_data"
    },
    {
     "name": "stdout",
     "output_type": "stream",
     "text": [
      "    Calculating NDCG@10 for HPF...\n"
     ]
    },
    {
     "data": {
      "application/vnd.jupyter.widget-view+json": {
       "model_id": "7739f214280043db9d2c9ba92bc0eccc",
       "version_major": 2,
       "version_minor": 0
      },
      "text/plain": [
       "      NDCG HPF:   0%|          | 0/6040 [00:00<?, ?it/s]"
      ]
     },
     "metadata": {},
     "output_type": "display_data"
    },
    {
     "name": "stdout",
     "output_type": "stream",
     "text": [
      "    Calculating %DeltaGAP for HPF...\n"
     ]
    },
    {
     "data": {
      "application/vnd.jupyter.widget-view+json": {
       "model_id": "cdc098e876c6457585ffa918e39e6136",
       "version_major": 2,
       "version_minor": 0
      },
      "text/plain": [
       "      GAP HPF:   0%|          | 0/6040 [00:00<?, ?it/s]"
      ]
     },
     "metadata": {},
     "output_type": "display_data"
    },
    {
     "name": "stdout",
     "output_type": "stream",
     "text": [
      "      Saving results for movie, eva_three, pop_four...\n",
      "      Results saved.\n",
      "--------------------\n",
      "\n",
      "Evaluation Loop completed in 222 seconds.\n",
      "\n",
      "Processing finished.\n"
     ]
    }
   ],
   "source": [
    "# --- Loop 3: Evaluation (Per Domain, Per Strategy, Per Notion) ---\n",
    "print(\"\\n\" + \"=\"*30)\n",
    "print(\"STARTING: Evaluation Loop\")\n",
    "print(\"=\"*30 + \"\\n\")\n",
    "start_eval = time.time()\n",
    "\n",
    "for domain, config in domains.items():\n",
    "    print(f\"\\n--- Evaluating Domain: {domain.upper()} ---\")\n",
    "    exp = domain_results[domain]['cornac_exp']\n",
    "    user_metrics_all = domain_base_metrics[domain]['user_metrics_all']\n",
    "    df_item_dist_cornac = domain_base_metrics[domain]['df_item_dist_cornac']\n",
    "\n",
    "    for eva_key in evaluation_strategies:\n",
    "        print(f\"  Evaluation Strategy: {eva_key}\")\n",
    "        recommendations_domain_strategy = all_recommendations_mitigated[domain][eva_key]\n",
    "\n",
    "        for pop_key in popularity_notions:\n",
    "            print(f\"    Popularity Notion: {pop_key}\")\n",
    "            pop_sort_col = popularity_sort_column[pop_key]\n",
    "\n",
    "            # 1. Determine user groups for this notion\n",
    "            print(f\"      Sorting users by '{pop_sort_col}' and splitting...\")\n",
    "            try:\n",
    "                user_dist_sorted = sort_users(user_metrics_all, by=pop_sort_col)\n",
    "                if user_dist_sorted.empty:\n",
    "                     print(f\"      Skipping {pop_key} due to empty sorted user list (likely all NaNs for metric).\")\n",
    "                     continue\n",
    "                low_group, med_group, high_group = split(user_dist_sorted, top_fraction)\n",
    "                if low_group.empty or med_group.empty or high_group.empty:\n",
    "                     print(f\"      Skipping {pop_key} due to empty groups after split.\")\n",
    "                     continue\n",
    "                low_GAP_profile, med_GAP_profile, high_GAP_profile = calculate_group_characteristics(low_group, med_group, high_group, pop_key)\n",
    "            except Exception as e:\n",
    "                print(f\"      Error during user sorting/splitting for {pop_key}: {e}. Skipping.\")\n",
    "                continue\n",
    "\n",
    "            # Initialize results storage for this combination\n",
    "            NDCGs = pd.DataFrame(index=algo_names, columns=['low', 'med', 'high']).fillna(np.nan)\n",
    "            TTESTs_ndcg = pd.DataFrame(index=algo_names, columns=['low-med', 'low-high', 'med-high']).fillna(np.nan)\n",
    "            GAPs = pd.DataFrame(index=algo_names, columns=['low', 'med', 'high']).fillna(np.nan)\n",
    "            TTESTs_gap = pd.DataFrame(index=algo_names, columns=['low-med', 'low-high', 'med-high']).fillna(np.nan)\n",
    "\n",
    "\n",
    "            # 2. Calculate Metrics per Algorithm\n",
    "            for i, algo_name in enumerate(algo_names):\n",
    "                 recommendations_for_algo = recommendations_domain_strategy[algo_name]\n",
    "\n",
    "                 # Calculate NDCG\n",
    "                 ndcg_low, ndcg_med, ndcg_high, ttests_n = calculate_NDCG_per_group(\n",
    "                     algo_name, recommendations_for_algo, exp, low_group, med_group, high_group, rec_k\n",
    "                 )\n",
    "                 NDCGs.loc[algo_name] = [ndcg_low, ndcg_med, ndcg_high]\n",
    "                 TTESTs_ndcg.loc[algo_name] = ttests_n\n",
    "\n",
    "                 # Calculate %ΔGAP\n",
    "                 gap_low, gap_med, gap_high, ttests_g = calculate_delta_GAP_per_group(\n",
    "                     algo_name, recommendations_for_algo, df_item_dist_cornac,\n",
    "                     low_group, med_group, high_group,\n",
    "                     low_GAP_profile, med_GAP_profile, high_GAP_profile\n",
    "                 )\n",
    "                 GAPs.loc[algo_name] = [gap_low, gap_med, gap_high]\n",
    "                 TTESTs_gap.loc[algo_name] = ttests_g\n",
    "\n",
    "            # 3. Save Results for this combination\n",
    "            print(f\"      Saving results for {domain}, {eva_key}, {pop_key}...\")\n",
    "            ndcg_file = results_location + f'NDCGs_{domain}_{eva_key}_{pop_key}.csv'\n",
    "            ndcg_ttest_file = results_location + f'NDCG_ttests_{domain}_{eva_key}_{pop_key}.csv'\n",
    "            gap_file = results_location + f'PercentDeltaGAP_{domain}_{eva_key}_{pop_key}.csv'\n",
    "            gap_ttest_file = results_location + f'GAP_ttests_{domain}_{eva_key}_{pop_key}.csv'\n",
    "\n",
    "            NDCGs.to_csv(ndcg_file)\n",
    "            TTESTs_ndcg.to_csv(ndcg_ttest_file)\n",
    "            GAPs.to_csv(gap_file)\n",
    "            TTESTs_gap.to_csv(gap_ttest_file)\n",
    "            print(f\"      Results saved.\")\n",
    "            print(\"-\" * 20)\n",
    "\n",
    "\n",
    "end_eval = time.time()\n",
    "print(f\"\\nEvaluation Loop completed in {round(end_eval - start_eval)} seconds.\")\n",
    "print(\"\\nProcessing finished.\")"
   ]
  }
 ],
 "metadata": {
  "kernelspec": {
   "display_name": "base",
   "language": "python",
   "name": "python3"
  },
  "language_info": {
   "codemirror_mode": {
    "name": "ipython",
    "version": 3
   },
   "file_extension": ".py",
   "mimetype": "text/x-python",
   "name": "python",
   "nbconvert_exporter": "python",
   "pygments_lexer": "ipython3",
   "version": "3.12.4"
  }
 },
 "nbformat": 4,
 "nbformat_minor": 4
}
