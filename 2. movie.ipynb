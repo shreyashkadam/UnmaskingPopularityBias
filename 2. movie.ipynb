{
 "cells": [
  {
   "cell_type": "markdown",
   "metadata": {
    "id": "T7NA8UpqUnnV"
   },
   "source": [
    "# Process\n",
    "In this notebook, we will train all the algorithms on MovieLens1M using <a href=\"https://cornac.readthedocs.io/en/latest/\">Cornac</a>.\n",
    "\n",
    "**Note:** This notebook has been refactored to automate the evaluation across all combinations of user grouping strategies (`pop_notion`) and evaluation strategies (`choice`/`eva`). It performs one-time computations first (data loading, model training) and then loops through the combinations for evaluation and result saving."
   ]
  },
  {
   "cell_type": "markdown",
   "metadata": {
    "id": "6HyLhxzyUu6w"
   },
   "source": [
    "## A. Import libraries"
   ]
  },
  {
   "cell_type": "code",
   "execution_count": 1,
   "metadata": {
    "id": "5YRmDovpU54c"
   },
   "outputs": [],
   "source": [
    "import warnings\n",
    "warnings.simplefilter(action='ignore', category=FutureWarning)\n",
    "import matplotlib.pyplot as plt\n",
    "import random as rd\n",
    "import pandas as pd\n",
    "import numpy as np\n",
    "from tqdm.notebook import tqdm # Use notebook version for better display\n",
    "import pickle as pkl\n",
    "import time\n",
    "import os\n",
    "\n",
    "# Cornac imports\n",
    "import cornac\n",
    "from cornac.eval_methods import RatioSplit\n",
    "from cornac.data import Reader as CornacReader\n",
    "from cornac.models import MostPop, MF, PMF, WMF, HPF, ItemKNN, UserKNN\n",
    "from cornac.models import NMF as CornacNMF \n",
    "from cornac.metrics import MAE, MSE, RMSE, Precision, Recall, NDCG, AUC, MAP, FMeasure, MRR\n",
    "\n",
    "from collections import defaultdict\n",
    "from scipy import stats\n",
    "from sklearn.metrics import mean_squared_error, precision_score, recall_score, ndcg_score\n",
    "from numpy.linalg import norm\n",
    "import seaborn as sns\n",
    "from sklearn.preprocessing import MinMaxScaler\n",
    "# set plot style: grey grid in the background:\n",
    "sns.set(style=\"darkgrid\")\n",
    "pd.set_option(\"display.precision\", 8)"
   ]
  },
  {
   "cell_type": "markdown",
   "metadata": {
    "id": "wJr35vAGVuM4"
   },
   "source": [
    "## B. Set hyperparameters\n",
    "There are certain hyperparameters that need to be tuned before the run. "
   ]
  },
  {
   "cell_type": "code",
   "execution_count": 2,
   "metadata": {
    "id": "Wz1OKVKoVkkD"
   },
   "outputs": [],
   "source": [
    "# constants and initialization\n",
    "rating_threshold = 1.0 # needed for the cornac library: Threshold used to binarize rating values into positive or negative feedback for model evaluation using ranking metrics (rating metrics are not affected). \n",
    "my_seed = 0\n",
    "test_size = 0.2 # the percentage of \"hold out\" data that are used for testing\n",
    "predict_col = \"rating\"\n",
    "user_col = \"user\"\n",
    "item_col = \"movie\" # Changed for MovieLens\n",
    "top_fraction = 0.2 # the amount of items that will be considered \"popular\", also user group split fraction\n",
    "rec_k = 10 # Number of items to recommend\n",
    "results_location = 'results/' # Folder to save results\n",
    "\n",
    "# Create results directory if it doesn't exist\n",
    "os.makedirs(results_location, exist_ok=True)\n",
    "\n",
    "rd.seed(my_seed) #seed for random functions\n",
    "np.random.seed(my_seed) #seed for all numpy stuff"
   ]
  },
  {
   "cell_type": "markdown",
   "metadata": {
    "id": "3Z0PCJ5LZen3"
   },
   "source": [
    "## C. Read files"
   ]
  },
  {
   "cell_type": "code",
   "execution_count": 3,
   "metadata": {
    "colab": {
     "base_uri": "https://localhost:8080/"
    },
    "id": "xWjNXmvmZcTw",
    "outputId": "473bad69-afa1-47d3-9c7a-57abcb33ac30"
   },
   "outputs": [
    {
     "name": "stdout",
     "output_type": "stream",
     "text": [
      "No. of user events: 1000209\n"
     ]
    }
   ],
   "source": [
    "user_events_file = 'data/ratings_movies.dat'\n",
    "\n",
    "# read user events\n",
    "cols = ['user', 'movie', 'rating', 'timestamp']\n",
    "df_events_orig = pd.read_table(user_events_file, sep = \"::\", engine=\"python\", names=cols)\n",
    "\n",
    "print('No. of user events: ' + str(len(df_events_orig)))"
   ]
  },
  {
   "cell_type": "code",
   "execution_count": 4,
   "metadata": {
    "colab": {
     "base_uri": "https://localhost:8080/",
     "height": 206
    },
    "id": "afPDrweUqAgb",
    "outputId": "1da09f21-e2c6-4a5e-a05f-c7378b3d561f"
   },
   "outputs": [
    {
     "data": {
      "text/html": [
       "<div>\n",
       "<style scoped>\n",
       "    .dataframe tbody tr th:only-of-type {\n",
       "        vertical-align: middle;\n",
       "    }\n",
       "\n",
       "    .dataframe tbody tr th {\n",
       "        vertical-align: top;\n",
       "    }\n",
       "\n",
       "    .dataframe thead th {\n",
       "        text-align: right;\n",
       "    }\n",
       "</style>\n",
       "<table border=\"1\" class=\"dataframe\">\n",
       "  <thead>\n",
       "    <tr style=\"text-align: right;\">\n",
       "      <th></th>\n",
       "      <th>user</th>\n",
       "      <th>movie</th>\n",
       "      <th>rating</th>\n",
       "      <th>timestamp</th>\n",
       "    </tr>\n",
       "  </thead>\n",
       "  <tbody>\n",
       "    <tr>\n",
       "      <th>0</th>\n",
       "      <td>1</td>\n",
       "      <td>1193</td>\n",
       "      <td>5</td>\n",
       "      <td>978300760</td>\n",
       "    </tr>\n",
       "    <tr>\n",
       "      <th>1</th>\n",
       "      <td>1</td>\n",
       "      <td>661</td>\n",
       "      <td>3</td>\n",
       "      <td>978302109</td>\n",
       "    </tr>\n",
       "    <tr>\n",
       "      <th>2</th>\n",
       "      <td>1</td>\n",
       "      <td>914</td>\n",
       "      <td>3</td>\n",
       "      <td>978301968</td>\n",
       "    </tr>\n",
       "    <tr>\n",
       "      <th>3</th>\n",
       "      <td>1</td>\n",
       "      <td>3408</td>\n",
       "      <td>4</td>\n",
       "      <td>978300275</td>\n",
       "    </tr>\n",
       "    <tr>\n",
       "      <th>4</th>\n",
       "      <td>1</td>\n",
       "      <td>2355</td>\n",
       "      <td>5</td>\n",
       "      <td>978824291</td>\n",
       "    </tr>\n",
       "  </tbody>\n",
       "</table>\n",
       "</div>"
      ],
      "text/plain": [
       "   user  movie  rating  timestamp\n",
       "0     1   1193       5  978300760\n",
       "1     1    661       3  978302109\n",
       "2     1    914       3  978301968\n",
       "3     1   3408       4  978300275\n",
       "4     1   2355       5  978824291"
      ]
     },
     "execution_count": 4,
     "metadata": {},
     "output_type": "execute_result"
    }
   ],
   "source": [
    "df_events_orig.head()"
   ]
  },
  {
   "cell_type": "markdown",
   "metadata": {
    "id": "iMVCVOTmaozs"
   },
   "source": [
    "## D. Data analysis & Preprocessing"
   ]
  },
  {
   "cell_type": "markdown",
   "metadata": {},
   "source": [
    "### D.1 Define Analysis Functions"
   ]
  },
  {
   "cell_type": "code",
   "execution_count": 5,
   "metadata": {
    "id": "WpGdgR_iam3y"
   },
   "outputs": [],
   "source": [
    "def users_and_items(df_events, user_col, item_col):\n",
    "    print('No. user events: ' + str(len(df_events)))\n",
    "    print('No. items: ' + str(len(df_events[item_col].unique())))\n",
    "    print('No. users: ' + str(len(df_events[user_col].unique())))\n",
    "    print(\"\\n\")\n",
    "def user_distribution(df_events, user_col, item_col):\n",
    "    user_dist = df_events[user_col].value_counts() \n",
    "    num_users = len(user_dist)\n",
    "    print('Mean '+item_col+'s per user: ' + str(np.round(user_dist.mean(),1))) \n",
    "    print('Min '+item_col+'s per user: ' + str(np.round(user_dist.min(),1))) \n",
    "    print('Max '+item_col+'s per user: ' + str(np.round(user_dist.max(),1)))\n",
    "    print(\"\\n\")\n",
    "    return user_dist, num_users\n",
    "def item_distribution(df_events, user_col, item_col):\n",
    "    item_dist = df_events[item_col].value_counts()\n",
    "    num_items = len(item_dist)\n",
    "    print('Mean users per '+item_col+': ' + str(np.round(item_dist.mean(),1))) \n",
    "    print('Min users per '+item_col+': ' + str(np.round(item_dist.min(),1))) \n",
    "    print('Max users per '+item_col+': ' + str(np.round(item_dist.max(),1))) \n",
    "    print(\"\\n\")\n",
    "    return item_dist, num_items"
   ]
  },
  {
   "cell_type": "markdown",
   "metadata": {},
   "source": [
    "### D.2 Run Initial Analysis"
   ]
  },
  {
   "cell_type": "code",
   "execution_count": 6,
   "metadata": {
    "colab": {
     "base_uri": "https://localhost:8080/"
    },
    "id": "1jwJq8rda1jS",
    "outputId": "c72b7146-0d64-49b0-b411-56dc5afec979"
   },
   "outputs": [
    {
     "name": "stdout",
     "output_type": "stream",
     "text": [
      "No. user events: 1000209\n",
      "No. items: 3706\n",
      "No. users: 6040\n",
      "\n",
      "\n",
      "Mean movies per user: 165.6\n",
      "Min movies per user: 20\n",
      "Max movies per user: 2314\n",
      "\n",
      "\n",
      "Mean users per movie: 269.9\n",
      "Min users per movie: 1\n",
      "Max users per movie: 3428\n",
      "\n",
      "\n"
     ]
    }
   ],
   "source": [
    "users_and_items(df_events_orig, user_col, item_col)\n",
    "user_dist, num_users = user_distribution(df_events_orig, user_col, item_col)\n",
    "item_dist, num_items = item_distribution(df_events_orig, user_col, item_col)"
   ]
  },
  {
   "cell_type": "markdown",
   "metadata": {},
   "source": [
    "### D.3 Calculate Base Item Popularity"
   ]
  },
  {
   "cell_type": "code",
   "execution_count": 7,
   "metadata": {
    "id": "C7wdClok5BPv"
   },
   "outputs": [
    {
     "name": "stdout",
     "output_type": "stream",
     "text": [
      "No. items labeled as \"popular\": 741\n"
     ]
    }
   ],
   "source": [
    "# create item dataframe with item counts and normalized popularity\n",
    "df_item_dist = pd.DataFrame(item_dist) # turn the series into a dataframe\n",
    "df_item_dist.columns = ['count']\n",
    "df_item_dist['popularity'] = df_item_dist['count'] / num_users # Normalized popularity\n",
    "\n",
    "# Identify top items\n",
    "num_top = int(top_fraction * num_items)\n",
    "top_item_dist = item_dist[:num_top] # Uses the Series with raw counts\n",
    "print('No. items labeled as \"popular\": ' + str(len(top_item_dist)))"
   ]
  },
  {
   "cell_type": "code",
   "execution_count": 8,
   "metadata": {
    "colab": {
     "base_uri": "https://localhost:8080/",
     "height": 206
    },
    "id": "UMNYiSh35KG8",
    "outputId": "7184403f-43de-4501-af1f-c9ff6502914a"
   },
   "outputs": [
    {
     "data": {
      "text/html": [
       "<div>\n",
       "<style scoped>\n",
       "    .dataframe tbody tr th:only-of-type {\n",
       "        vertical-align: middle;\n",
       "    }\n",
       "\n",
       "    .dataframe tbody tr th {\n",
       "        vertical-align: top;\n",
       "    }\n",
       "\n",
       "    .dataframe thead th {\n",
       "        text-align: right;\n",
       "    }\n",
       "</style>\n",
       "<table border=\"1\" class=\"dataframe\">\n",
       "  <thead>\n",
       "    <tr style=\"text-align: right;\">\n",
       "      <th></th>\n",
       "      <th>count</th>\n",
       "      <th>popularity</th>\n",
       "    </tr>\n",
       "    <tr>\n",
       "      <th>movie</th>\n",
       "      <th></th>\n",
       "      <th></th>\n",
       "    </tr>\n",
       "  </thead>\n",
       "  <tbody>\n",
       "    <tr>\n",
       "      <th>2858</th>\n",
       "      <td>3428</td>\n",
       "      <td>0.56754967</td>\n",
       "    </tr>\n",
       "    <tr>\n",
       "      <th>260</th>\n",
       "      <td>2991</td>\n",
       "      <td>0.49519868</td>\n",
       "    </tr>\n",
       "    <tr>\n",
       "      <th>1196</th>\n",
       "      <td>2990</td>\n",
       "      <td>0.49503311</td>\n",
       "    </tr>\n",
       "    <tr>\n",
       "      <th>1210</th>\n",
       "      <td>2883</td>\n",
       "      <td>0.47731788</td>\n",
       "    </tr>\n",
       "    <tr>\n",
       "      <th>480</th>\n",
       "      <td>2672</td>\n",
       "      <td>0.44238411</td>\n",
       "    </tr>\n",
       "  </tbody>\n",
       "</table>\n",
       "</div>"
      ],
      "text/plain": [
       "       count  popularity\n",
       "movie                   \n",
       "2858    3428  0.56754967\n",
       "260     2991  0.49519868\n",
       "1196    2990  0.49503311\n",
       "1210    2883  0.47731788\n",
       "480     2672  0.44238411"
      ]
     },
     "execution_count": 8,
     "metadata": {},
     "output_type": "execute_result"
    }
   ],
   "source": [
    "df_item_dist.head()"
   ]
  },
  {
   "cell_type": "markdown",
   "metadata": {},
   "source": [
    "### D.4 Define Plotting Functions"
   ]
  },
  {
   "cell_type": "code",
   "execution_count": 9,
   "metadata": {
    "id": "G7o_VBaUa4lH"
   },
   "outputs": [],
   "source": [
    "def plot_data_distribution(item_dist, item_col, log = False):\n",
    "    plt.figure()\n",
    "    ax = plt.axes()\n",
    "    ax.spines['bottom'].set_color('w')\n",
    "    ax.spines['top'].set_color('w')\n",
    "    ax.spines['right'].set_color('w')\n",
    "    ax.spines['left'].set_color('w')\n",
    "    ax.spines['left'].set_zorder(0)\n",
    "    ax.xaxis.set_ticks_position('none') \n",
    "    ax.yaxis.set_ticks_position('none') \n",
    "    ax.set_facecolor(\"aliceblue\")\n",
    "    plt.grid(color = \"w\",linewidth = 2 )\n",
    "    plt.plot(item_dist.values)\n",
    "    plt.xticks(fontsize='13')\n",
    "    plt.yticks(fontsize='13')\n",
    "    add = \"\"\n",
    "    if log:\n",
    "        plt.xscale('log')\n",
    "        plt.yscale('log')\n",
    "        add = \" (log)\"\n",
    "    plt.title(f'{item_col} Popularity Distribution{add}') # Added title\n",
    "    plt.xlabel(item_col+add, fontsize='14')\n",
    "    plt.ylabel('Number of users' + add, fontsize='15')\n",
    "    plt.show(block=False) # Use non-blocking show for automated runs\n",
    "    plt.close() # Close plot to free memory\n",
    "\n",
    "# This function is less relevant in an automated run generating many results, but kept for potential manual checks\n",
    "def plot_popularity_distribution(pop_fraq, item_col):\n",
    "    plt.figure()\n",
    "    ax = plt.axes()\n",
    "    ax.spines['bottom'].set_color('w')\n",
    "    ax.spines['top'].set_color('w')\n",
    "    ax.spines['right'].set_color('w')\n",
    "    ax.spines['left'].set_color('w')\n",
    "    ax.spines['left'].set_zorder(0)\n",
    "    ax.xaxis.set_ticks_position('none') \n",
    "    ax.yaxis.set_ticks_position('none') \n",
    "    \n",
    "    ax.set_facecolor(\"aliceblue\")\n",
    "    plt.grid(color = \"w\",linewidth = 2 )\n",
    "    plt.plot(sorted(pop_fraq))\n",
    "    plt.title(f'User Distribution by Ratio of Popular {item_col}s') # Added title\n",
    "    plt.xlabel('User', fontsize='15')\n",
    "    plt.xticks(fontsize='13')\n",
    "    plt.ylabel('Ratio of popular '+item_col+'s', fontsize='15')\n",
    "    plt.yticks(fontsize='13')\n",
    "    plt.axhline(y=0.8, color='black', linestyle='--', label='80% ratio of popular '+item_col+'s')\n",
    "    plt.legend(fontsize='15')\n",
    "    plt.show(block=False)\n",
    "    plt.close()\n",
    "\n",
    "# This function is less relevant in an automated run, but kept for potential manual checks\n",
    "def plot_profile_size_vs_popularity(pop_metric, user_hist, way, item_col):\n",
    "    plt.figure()\n",
    "    ax = plt.axes()\n",
    "    ax.spines['bottom'].set_color('w')\n",
    "    ax.spines['top'].set_color('w')\n",
    "    ax.spines['right'].set_color('w')\n",
    "    ax.spines['left'].set_color('w')\n",
    "    ax.spines['left'].set_zorder(0)\n",
    "    ax.xaxis.set_ticks_position('none') \n",
    "    ax.yaxis.set_ticks_position('none') \n",
    "    \n",
    "    ax.set_facecolor(\"aliceblue\")\n",
    "    plt.grid(color = \"w\",linewidth = 2 )\n",
    "    # Filter out potential NaNs before calculating linregress\n",
    "    mask = ~np.isnan(user_hist) & ~np.isnan(pop_metric)\n",
    "    if np.sum(mask) < 2: # Need at least 2 points for regression\n",
    "        print(f\"Skipping plot for '{way}': Insufficient valid data points.\")\n",
    "        plt.close()\n",
    "        return\n",
    "    user_hist_valid = np.array(user_hist)[mask]\n",
    "    pop_metric_valid = np.array(pop_metric)[mask]\n",
    "    \n",
    "    slope, intercept, r_value, p_value, std_err = stats.linregress(user_hist_valid, pop_metric_valid)\n",
    "    print(f'Profile Size vs Popularity ({way}) R-value: {r_value:.4f}') # Print R-value\n",
    "    line = slope * user_hist_valid + intercept\n",
    "    plt.plot(user_hist_valid, pop_metric_valid, 'o', user_hist_valid, line)\n",
    "    \n",
    "    if way == \"count\":\n",
    "        ylabel = \"Number of popular \"+item_col+\"s\"\n",
    "    elif way == \"percentage\":\n",
    "        ylabel = 'Percentage of popular '+item_col+'s'\n",
    "    else:\n",
    "        ylabel = \"Average popularity of \"+item_col+\"s\"\n",
    "    plt.title(f'User Profile Size vs {ylabel}') # Added title\n",
    "    plt.xlabel('User profile size', fontsize='15')\n",
    "    plt.xticks(fontsize='13')\n",
    "    plt.ylabel(ylabel, fontsize='15')\n",
    "    plt.yticks(fontsize='13')\n",
    "    plt.show(block=False)\n",
    "    plt.close()"
   ]
  },
  {
   "cell_type": "markdown",
   "metadata": {},
   "source": [
    "### D.5 Plot Initial Distributions"
   ]
  },
  {
   "cell_type": "code",
   "execution_count": 10,
   "metadata": {
    "colab": {
     "base_uri": "https://localhost:8080/",
     "height": 564
    },
    "id": "COATHnNGa_G5",
    "outputId": "acf8403a-0296-4636-bef2-27c1fc958728"
   },
   "outputs": [
    {
     "data": {
      "image/png": "[encoded data removed]",
      "text/plain": [
       "<Figure size 640x480 with 1 Axes>"
      ]
     },
     "metadata": {},
     "output_type": "display_data"
    },
    {
     "data": {
      "image/png": "[encoded data removed]",
      "text/plain": [
       "<Figure size 640x480 with 1 Axes>"
      ]
     },
     "metadata": {},
     "output_type": "display_data"
    }
   ],
   "source": [
    "plot_data_distribution(item_dist, item_col)\n",
    "plot_data_distribution(item_dist, item_col, True)"
   ]
  },
  {
   "cell_type": "markdown",
   "metadata": {
    "id": "KMiAQybFbFSj"
   },
   "source": [
    "## E. Calculate Base User Popularity Metrics"
   ]
  },
  {
   "cell_type": "markdown",
   "metadata": {},
   "source": [
    "Define functions to calculate different user popularity/niche metrics. These will be calculated once and used later for sorting/grouping based on the chosen `pop_notion`."
   ]
  },
  {
   "cell_type": "code",
   "execution_count": 11,
   "metadata": {
    "id": "T0vchbD9bIie"
   },
   "outputs": [],
   "source": [
    "# Function to calculate base popularity metrics for all users\n",
    "def calculate_popularity_metrics(df_events, top_item_dist, item_dist_df, num_users, user_col, item_col):\n",
    "    # item_dist_df should be the DataFrame with 'popularity' column\n",
    "    pop_count = [] # number of top items per user\n",
    "    user_hist = [] # user history sizes\n",
    "    pop_fraq = [] # relative number of top items per user\n",
    "    pop_item_fraq = [] # average popularity of items in user profiles (GAP in profile)\n",
    "    user_ids_processed = [] # Keep track of user order\n",
    "    \n",
    "    print(\"Calculating base popularity metrics for all users...\")\n",
    "    for u, df in tqdm(df_events.groupby(user_col), total=df_events[user_col].nunique()):\n",
    "        user_ids_processed.append(int(u))\n",
    "        no_user_items = len(set(df[item_col]))\n",
    "        if no_user_items == 0: # Handle users with no items\n",
    "             pop_count.append(0)\n",
    "             user_hist.append(0)\n",
    "             pop_fraq.append(np.nan)\n",
    "             pop_item_fraq.append(np.nan)\n",
    "             continue\n",
    "             \n",
    "        no_user_pop_items = len(set(df[item_col]) & set(top_item_dist.index))\n",
    "        pop_count.append(no_user_pop_items)\n",
    "        user_hist.append(no_user_items) \n",
    "        pop_fraq.append(no_user_pop_items / no_user_items)\n",
    "        # Use the 'popularity' (normalized) column from df_item_dist for GAP calculation\n",
    "        user_pop_item_fraq_val = sum(item_dist_df.loc[df[item_col], 'popularity']) / no_user_items\n",
    "        pop_item_fraq.append(user_pop_item_fraq_val)\n",
    "        \n",
    "    # Return as a dictionary mapping user_id to metrics for easier alignment later\n",
    "    metrics_dict = {\n",
    "        'user_id': user_ids_processed,\n",
    "        'pop_count': pop_count,\n",
    "        'user_hist': user_hist,\n",
    "        'pop_fraq': pop_fraq,\n",
    "        'pop_item_fraq': pop_item_fraq\n",
    "    }\n",
    "    return pd.DataFrame(metrics_dict).set_index('user_id')\n",
    "\n",
    "# Function to calculate niche consumption rate\n",
    "def calculate_niche_consumption_rates(df_events, item_dist_df, user_dist_counts, user_col, item_col, niche_threshold_percentile=0.3):\n",
    "    # item_dist_df should be the DataFrame with 'count' column\n",
    "    print(f\"Defining niche items (bottom {niche_threshold_percentile*100:.0f}% popularity)...\")\n",
    "\n",
    "    # --- Step 1: Identify Niche Items ---\n",
    "    item_popularity_values = pd.to_numeric(item_dist_df['count'].values, errors='coerce') # Use raw counts for percentile\n",
    "    item_popularity_values = item_popularity_values[~np.isnan(item_popularity_values)] # Remove NaNs if any\n",
    "\n",
    "    if len(item_popularity_values) == 0:\n",
    "         raise ValueError(\"Item distribution contains no valid numeric popularity values.\")\n",
    "\n",
    "    popularity_threshold = np.percentile(item_popularity_values, niche_threshold_percentile * 100)\n",
    "\n",
    "    # Get the IDs of items with popularity count <= threshold\n",
    "    niche_item_ids = item_dist_df[item_dist_df['count'] <= popularity_threshold].index\n",
    "    niche_item_set = set(niche_item_ids) # Use a set for efficient lookup\n",
    "    print(f\"Found {len(niche_item_set)} niche items with popularity count <= {popularity_threshold:.2f}.\")\n",
    "\n",
    "    # --- Step 2: Calculate Rate Per User ---\n",
    "    niche_rates = {}\n",
    "    user_groups = dict(iter(df_events.groupby(user_col)))\n",
    "\n",
    "    print(\"Calculating niche consumption rate per user...\")\n",
    "    # Iterate through users in the order defined by user_dist_counts to ensure alignment\n",
    "    for u in tqdm(user_dist_counts.index):\n",
    "        if u not in user_groups:\n",
    "            print(f\"Warning: User {u} found in user_dist_counts but not in df_events. Assigning rate NaN.\")\n",
    "            niche_rates[u] = np.nan\n",
    "            continue\n",
    "\n",
    "        df_user = user_groups[u]\n",
    "        user_items_set = set(df_user[item_col])\n",
    "        total_user_items = len(user_items_set)\n",
    "\n",
    "        if total_user_items == 0:\n",
    "            niche_rates[u] = np.nan # Handle users with no items\n",
    "            continue\n",
    "\n",
    "        niche_items_consumed = user_items_set.intersection(niche_item_set)\n",
    "        niche_item_count = len(niche_items_consumed)\n",
    "\n",
    "        niche_rate = niche_item_count / total_user_items\n",
    "        niche_rates[u] = niche_rate\n",
    "\n",
    "    print(\"Finished calculating niche consumption rates.\")\n",
    "    # Return as a Series aligned with user_dist_counts index\n",
    "    return pd.Series(niche_rates, index=user_dist_counts.index, name='niche_consumption_rate')"
   ]
  },
  {
   "cell_type": "markdown",
   "metadata": {},
   "source": [
    "### E.1 Calculate All Base User Metrics"
   ]
  },
  {
   "cell_type": "code",
   "execution_count": 12,
   "metadata": {
    "colab": {
     "base_uri": "https://localhost:8080/"
    },
    "id": "bp0tmyMHbQJf",
    "outputId": "8c632e67-3cd4-417d-d199-694a5c24f8d9"
   },
   "outputs": [
    {
     "name": "stdout",
     "output_type": "stream",
     "text": [
      "Calculating base popularity metrics for all users...\n"
     ]
    },
    {
     "data": {
      "application/vnd.jupyter.widget-view+json": {
       "model_id": "1c34ed0e6d3149adba227de6661ba098",
       "version_major": 2,
       "version_minor": 0
      },
      "text/plain": [
       "  0%|          | 0/6040 [00:00<?, ?it/s]"
      ]
     },
     "metadata": {},
     "output_type": "display_data"
    },
    {
     "name": "stdout",
     "output_type": "stream",
     "text": [
      "Defining niche items (bottom 30% popularity)...\n",
      "Found 1122 niche items with popularity count <= 44.00.\n",
      "Calculating niche consumption rate per user...\n"
     ]
    },
    {
     "data": {
      "application/vnd.jupyter.widget-view+json": {
       "model_id": "cf7bd6b921c245d5a12d4941d8b4a802",
       "version_major": 2,
       "version_minor": 0
      },
      "text/plain": [
       "  0%|          | 0/6040 [00:00<?, ?it/s]"
      ]
     },
     "metadata": {},
     "output_type": "display_data"
    },
    {
     "name": "stdout",
     "output_type": "stream",
     "text": [
      "Finished calculating niche consumption rates.\n",
      "\n",
      "Combined User Metrics DataFrame Head:\n"
     ]
    },
    {
     "data": {
      "text/html": [
       "<div>\n",
       "<style scoped>\n",
       "    .dataframe tbody tr th:only-of-type {\n",
       "        vertical-align: middle;\n",
       "    }\n",
       "\n",
       "    .dataframe tbody tr th {\n",
       "        vertical-align: top;\n",
       "    }\n",
       "\n",
       "    .dataframe thead th {\n",
       "        text-align: right;\n",
       "    }\n",
       "</style>\n",
       "<table border=\"1\" class=\"dataframe\">\n",
       "  <thead>\n",
       "    <tr style=\"text-align: right;\">\n",
       "      <th></th>\n",
       "      <th>pop_count</th>\n",
       "      <th>user_hist</th>\n",
       "      <th>pop_fraq</th>\n",
       "      <th>pop_item_fraq</th>\n",
       "      <th>total_interactions</th>\n",
       "      <th>niche_consumption_rate</th>\n",
       "    </tr>\n",
       "    <tr>\n",
       "      <th>user_id</th>\n",
       "      <th></th>\n",
       "      <th></th>\n",
       "      <th></th>\n",
       "      <th></th>\n",
       "      <th></th>\n",
       "      <th></th>\n",
       "    </tr>\n",
       "  </thead>\n",
       "  <tbody>\n",
       "    <tr>\n",
       "      <th>1</th>\n",
       "      <td>45</td>\n",
       "      <td>53</td>\n",
       "      <td>0.84905660</td>\n",
       "      <td>0.18805136</td>\n",
       "      <td>53</td>\n",
       "      <td>0.00000000</td>\n",
       "    </tr>\n",
       "    <tr>\n",
       "      <th>2</th>\n",
       "      <td>105</td>\n",
       "      <td>129</td>\n",
       "      <td>0.81395349</td>\n",
       "      <td>0.16768058</td>\n",
       "      <td>129</td>\n",
       "      <td>0.00000000</td>\n",
       "    </tr>\n",
       "    <tr>\n",
       "      <th>3</th>\n",
       "      <td>47</td>\n",
       "      <td>51</td>\n",
       "      <td>0.92156863</td>\n",
       "      <td>0.22794442</td>\n",
       "      <td>51</td>\n",
       "      <td>0.00000000</td>\n",
       "    </tr>\n",
       "    <tr>\n",
       "      <th>4</th>\n",
       "      <td>21</td>\n",
       "      <td>21</td>\n",
       "      <td>1.00000000</td>\n",
       "      <td>0.28291548</td>\n",
       "      <td>21</td>\n",
       "      <td>0.00000000</td>\n",
       "    </tr>\n",
       "    <tr>\n",
       "      <th>5</th>\n",
       "      <td>118</td>\n",
       "      <td>198</td>\n",
       "      <td>0.59595960</td>\n",
       "      <td>0.12469981</td>\n",
       "      <td>198</td>\n",
       "      <td>0.03030303</td>\n",
       "    </tr>\n",
       "  </tbody>\n",
       "</table>\n",
       "</div>"
      ],
      "text/plain": [
       "         pop_count  user_hist    pop_fraq  pop_item_fraq  total_interactions  \\\n",
       "user_id                                                                        \n",
       "1               45         53  0.84905660     0.18805136                  53   \n",
       "2              105        129  0.81395349     0.16768058                 129   \n",
       "3               47         51  0.92156863     0.22794442                  51   \n",
       "4               21         21  1.00000000     0.28291548                  21   \n",
       "5              118        198  0.59595960     0.12469981                 198   \n",
       "\n",
       "         niche_consumption_rate  \n",
       "user_id                          \n",
       "1                    0.00000000  \n",
       "2                    0.00000000  \n",
       "3                    0.00000000  \n",
       "4                    0.00000000  \n",
       "5                    0.03030303  "
      ]
     },
     "execution_count": 12,
     "metadata": {},
     "output_type": "execute_result"
    }
   ],
   "source": [
    "# Calculate base metrics needed for pop_one, pop_two\n",
    "base_user_metrics_df = calculate_popularity_metrics(df_events_orig, top_item_dist, df_item_dist, num_users, user_col, item_col)\n",
    "\n",
    "# Calculate base metrics needed for pop_four\n",
    "niche_consumption_rates_series = calculate_niche_consumption_rates(\n",
    "    df_events_orig,\n",
    "    df_item_dist,      # Pass the DataFrame with 'count' column\n",
    "    user_dist,         # Pass the user activity Series (value_counts)\n",
    "    user_col=user_col,\n",
    "    item_col=item_col,\n",
    "    niche_threshold_percentile=0.3\n",
    ")\n",
    "\n",
    "# Combine all metrics into a single DataFrame aligned by user_id (index)\n",
    "user_metrics_all = base_user_metrics_df.join(user_dist).join(niche_consumption_rates_series)\n",
    "user_metrics_all.rename(columns={'count': 'total_interactions'}, inplace=True) # Rename count from user_dist\n",
    "\n",
    "print(\"\\nCombined User Metrics DataFrame Head:\")\n",
    "user_metrics_all.head()"
   ]
  },
  {
   "cell_type": "markdown",
   "metadata": {},
   "source": [
    "### E.2 Define User Grouping Functions"
   ]
  },
  {
   "cell_type": "code",
   "execution_count": 13,
   "metadata": {
    "id": "n_hQEsRFbbhG"
   },
   "outputs": [],
   "source": [
    "# Function to sort users based on a chosen metric\n",
    "def sort_users(user_metrics_df, by = \"pop_fraq\"):\n",
    "    # Ensure the sorting column exists\n",
    "    if by not in user_metrics_df.columns:\n",
    "        raise ValueError(f\"Sorting column '{by}' not found in user metrics DataFrame.\")\n",
    "    \n",
    "    # Sort and return\n",
    "    user_dist_sorted = user_metrics_df.sort_values(by=[by])\n",
    "    return user_dist_sorted\n",
    "\n",
    "# Function to split sorted users into groups\n",
    "def split(user_dist_sorted, top_fraction):\n",
    "    n = len(user_dist_sorted)\n",
    "    idx1 = int(top_fraction * n)\n",
    "    idx2 = int((1 - top_fraction) * n)\n",
    "    \n",
    "    # Handle potential rounding issues causing indices to be equal\n",
    "    if idx1 >= idx2:\n",
    "       print(f\"Warning: Splitting indices are too close ({idx1}, {idx2}). Adjusting split.\")\n",
    "       # Example adjustment: ensure at least one user in middle group if possible\n",
    "       if n > 2:\n",
    "           idx1 = max(0, idx2 - 1)\n",
    "       else: # Cannot form 3 distinct groups\n",
    "           idx1 = 0\n",
    "           idx2 = n // 2 \n",
    "           print(\"Cannot form 3 distinct groups with current settings.\")\n",
    "           \n",
    "    low = user_dist_sorted.iloc[:idx1]\n",
    "    med = user_dist_sorted.iloc[idx1:idx2]\n",
    "    high = user_dist_sorted.iloc[idx2:]\n",
    "    \n",
    "    # Add check for empty groups\n",
    "    if low.empty or med.empty or high.empty:\n",
    "        print(f\"Warning: One or more user groups are empty after split (Low: {len(low)}, Med: {len(med)}, High: {len(high)}). Check data and top_fraction.\")\n",
    "        \n",
    "    return low, med, high\n",
    "\n",
    "# Function to calculate characteristics for the split groups\n",
    "def calculate_group_characteristics(low, med, high):\n",
    "    # Use the calculated 'user_hist' and 'pop_item_fraq' (GAP in profile)\n",
    "    low_profile_size = low['user_hist'].mean() if not low.empty else np.nan\n",
    "    med_profile_size = med['user_hist'].mean() if not med.empty else np.nan\n",
    "    high_profile_size = high['user_hist'].mean() if not high.empty else np.nan\n",
    "    \n",
    "    low_nr_users = len(low)\n",
    "    med_nr_users = len(med)\n",
    "    high_nr_users = len(high)\n",
    "    \n",
    "    low_GAP = low['pop_item_fraq'].mean() if not low.empty else np.nan\n",
    "    med_GAP = med['pop_item_fraq'].mean() if not med.empty else np.nan\n",
    "    high_GAP = high['pop_item_fraq'].mean() if not high.empty else np.nan\n",
    "    \n",
    "    print(f\"Low Group ('Niche', {low_nr_users} users): Avg Profile Size={low_profile_size:.2f}, Avg Profile GAP={low_GAP:.6f}\")\n",
    "    print(f\"Med Group ('Diverse', {med_nr_users} users): Avg Profile Size={med_profile_size:.2f}, Avg Profile GAP={med_GAP:.6f}\")\n",
    "    print(f\"High Group ('Blockbuster', {high_nr_users} users): Avg Profile Size={high_profile_size:.2f}, Avg Profile GAP={high_GAP:.6f}\")\n",
    "    \n",
    "    return low_profile_size, med_profile_size, high_profile_size, low_nr_users, med_nr_users, high_nr_users, low_GAP, med_GAP, high_GAP"
   ]
  },
  {
   "cell_type": "markdown",
   "metadata": {
    "id": "IVpmIvO0PjHm"
   },
   "source": [
    "### E.3 Define Popularity Propensity Notions"
   ]
  },
  {
   "cell_type": "code",
   "execution_count": 14,
   "metadata": {
    "id": "OzQ9eNt1Pj9w"
   },
   "outputs": [],
   "source": [
    "# Maps notion key to the column name in user_metrics_all DataFrame for sorting\n",
    "# Excluded 'pop_three' as it's not applicable to MovieLens\n",
    "popularity_function = {'pop_one': \"pop_fraq\",             # Sort by fraction of popular items consumed\n",
    "                       'pop_two': \"pop_item_fraq\",        # Sort by avg popularity of items consumed (GAP)\n",
    "                       'pop_four': \"niche_consumption_rate\" # Sort by niche consumption rate (lower value means more niche)\n",
    "                      }"
   ]
  },
  {
   "cell_type": "markdown",
   "metadata": {},
   "source": [
    "### E.4 Plot User Metric Distributions (Optional Check)"
   ]
  },
  {
   "cell_type": "code",
   "execution_count": 15,
   "metadata": {
    "colab": {
     "base_uri": "https://localhost:8080/",
     "height": 1000
    },
    "id": "WDFRIFsibZTI",
    "outputId": "7264bfe7-d802-45f7-d18f-20a96575e76b"
   },
   "outputs": [
    {
     "name": "stdout",
     "output_type": "stream",
     "text": [
      "Plotting base user metric distributions (optional check)...\n"
     ]
    },
    {
     "data": {
      "image/png": "[encoded data removed]",
      "text/plain": [
       "<Figure size 640x480 with 1 Axes>"
      ]
     },
     "metadata": {},
     "output_type": "display_data"
    },
    {
     "name": "stdout",
     "output_type": "stream",
     "text": [
      "Profile Size vs Popularity (count) R-value: 0.9662\n"
     ]
    },
    {
     "data": {
      "image/png": "[encoded data removed]",
      "text/plain": [
       "<Figure size 640x480 with 1 Axes>"
      ]
     },
     "metadata": {},
     "output_type": "display_data"
    },
    {
     "name": "stdout",
     "output_type": "stream",
     "text": [
      "Profile Size vs Popularity (percentage) R-value: -0.4026\n"
     ]
    },
    {
     "data": {
      "image/png": "[encoded data removed]",
      "text/plain": [
       "<Figure size 640x480 with 1 Axes>"
      ]
     },
     "metadata": {},
     "output_type": "display_data"
    },
    {
     "name": "stdout",
     "output_type": "stream",
     "text": [
      "Profile Size vs Popularity (average) R-value: -0.4817\n"
     ]
    },
    {
     "data": {
      "image/png": "[encoded data removed]",
      "text/plain": [
       "<Figure size 640x480 with 1 Axes>"
      ]
     },
     "metadata": {},
     "output_type": "display_data"
    }
   ],
   "source": [
    "# These plots show distributions based on the calculated metrics before splitting.\n",
    "# They are less critical for the automated run but useful for understanding the data.\n",
    "print(\"Plotting base user metric distributions (optional check)...\")\n",
    "plot_popularity_distribution(user_metrics_all['pop_fraq'].dropna(), item_col)\n",
    "plot_profile_size_vs_popularity(user_metrics_all['pop_count'].dropna(), user_metrics_all['user_hist'].dropna(), \"count\", item_col)\n",
    "plot_profile_size_vs_popularity(user_metrics_all['pop_fraq'].dropna(), user_metrics_all['user_hist'].dropna(), \"percentage\", item_col)\n",
    "plot_profile_size_vs_popularity(user_metrics_all['pop_item_fraq'].dropna(), user_metrics_all['user_hist'].dropna(), \"average\", item_col)"
   ]
  },
  {
   "cell_type": "markdown",
   "metadata": {},
   "source": [
    "### E.5 Define Group Characteristics Plotting Function (Optional Check)"
   ]
  },
  {
   "cell_type": "code",
   "execution_count": 16,
   "metadata": {
    "id": "Dmf4J023byK4"
   },
   "outputs": [],
   "source": [
    "# This function is less relevant in an automated run, but kept for potential manual checks\n",
    "def plot_group_characteristics(low_nr, med_nr, high_nr, way, item_col):\n",
    "    plt.figure()\n",
    "    ax = plt.axes()\n",
    "    ax.spines['bottom'].set_color('w')\n",
    "    ax.spines['top'].set_color('w')\n",
    "    ax.spines['right'].set_color('w')\n",
    "    ax.spines['left'].set_color('w')\n",
    "    ax.spines['left'].set_zorder(0)\n",
    "    ax.xaxis.set_ticks_position('none') \n",
    "    ax.yaxis.set_ticks_position('none') \n",
    "    \n",
    "    ax.set_facecolor(\"aliceblue\")\n",
    "    plt.bar(np.arange(3), [low_nr, med_nr, high_nr])\n",
    "    plt.xticks(np.arange(3), ['Niche', 'Diverse', 'Blockbuster-focused'])\n",
    "    plt.xlabel('User group')\n",
    "    if way==\"size\":\n",
    "        ylabel = 'Average user profile size'\n",
    "    else:\n",
    "        ylabel = \"Number of users per group\"\n",
    "    plt.ylabel(ylabel)\n",
    "    plt.title(f'{ylabel} per Group') # Added title\n",
    "    \n",
    "    print(f'Group Stats ({way}):')\n",
    "    print(f'  Niche: {low_nr:.2f}')\n",
    "    print(f'  Diverse: {med_nr:.2f}')\n",
    "    print(f'  Blockbuster-focused: {high_nr:.2f}')\n",
    "    plt.show(block=False)\n",
    "    plt.close()"
   ]
  },
  {
   "cell_type": "markdown",
   "metadata": {
    "id": "gbQUQuRbcJ5H"
   },
   "source": [
    "## G. Recommendation using Cornac"
   ]
  },
  {
   "cell_type": "markdown",
   "metadata": {
    "id": "yQyAB2jFcMnk"
   },
   "source": [
    "### G.1 Prepare Data for Cornac"
   ]
  },
  {
   "cell_type": "code",
   "execution_count": 17,
   "metadata": {
    "id": "uI-XJAWQpHkL"
   },
   "outputs": [
    {
     "name": "stdout",
     "output_type": "stream",
     "text": [
      "Prepared 1000209 interactions for Cornac.\n",
      "Item distribution indexed by Cornac item ID (string):\n"
     ]
    },
    {
     "data": {
      "text/html": [
       "<div>\n",
       "<style scoped>\n",
       "    .dataframe tbody tr th:only-of-type {\n",
       "        vertical-align: middle;\n",
       "    }\n",
       "\n",
       "    .dataframe tbody tr th {\n",
       "        vertical-align: top;\n",
       "    }\n",
       "\n",
       "    .dataframe thead th {\n",
       "        text-align: right;\n",
       "    }\n",
       "</style>\n",
       "<table border=\"1\" class=\"dataframe\">\n",
       "  <thead>\n",
       "    <tr style=\"text-align: right;\">\n",
       "      <th></th>\n",
       "      <th>count</th>\n",
       "      <th>popularity</th>\n",
       "    </tr>\n",
       "    <tr>\n",
       "      <th>movie</th>\n",
       "      <th></th>\n",
       "      <th></th>\n",
       "    </tr>\n",
       "  </thead>\n",
       "  <tbody>\n",
       "    <tr>\n",
       "      <th>104</th>\n",
       "      <td>3428</td>\n",
       "      <td>0.56754967</td>\n",
       "    </tr>\n",
       "    <tr>\n",
       "      <th>44</th>\n",
       "      <td>2991</td>\n",
       "      <td>0.49519868</td>\n",
       "    </tr>\n",
       "    <tr>\n",
       "      <th>124</th>\n",
       "      <td>2990</td>\n",
       "      <td>0.49503311</td>\n",
       "    </tr>\n",
       "    <tr>\n",
       "      <th>64</th>\n",
       "      <td>2883</td>\n",
       "      <td>0.47731788</td>\n",
       "    </tr>\n",
       "    <tr>\n",
       "      <th>113</th>\n",
       "      <td>2672</td>\n",
       "      <td>0.44238411</td>\n",
       "    </tr>\n",
       "  </tbody>\n",
       "</table>\n",
       "</div>"
      ],
      "text/plain": [
       "       count  popularity\n",
       "movie                   \n",
       "104     3428  0.56754967\n",
       "44      2991  0.49519868\n",
       "124     2990  0.49503311\n",
       "64      2883  0.47731788\n",
       "113     2672  0.44238411"
      ]
     },
     "execution_count": 17,
     "metadata": {},
     "output_type": "execute_result"
    }
   ],
   "source": [
    "# Map item IDs to continuous integers for Cornac\n",
    "df_events_cornac = df_events_orig.copy() # Use original, unscaled data for Cornac (as ratings are explicit)\n",
    "mapping_dict = {} # Maps original movie ID to new integer ID\n",
    "reverse_mapping_dict = {} # Maps new integer ID back to original movie ID\n",
    "i = 0\n",
    "for mov in df_events_cornac[item_col].unique():\n",
    "    mapping_dict[mov] = i\n",
    "    reverse_mapping_dict[i] = mov\n",
    "    i += 1\n",
    "df_events_cornac[item_col] = df_events_cornac[item_col].map(lambda x: mapping_dict.get(x, x))\n",
    "\n",
    "# Ensure correct types for Cornac (string UIDs and IIDs)\n",
    "df_events_cornac[user_col] = df_events_cornac[user_col].astype(\"string\")\n",
    "df_events_cornac[item_col] = df_events_cornac[item_col].astype(\"string\")\n",
    "\n",
    "# Rename index of item distribution dataframe using the new mapping\n",
    "# Create df_item_dist_cornac with the *new* string item IDs as index\n",
    "df_item_dist_cornac = df_item_dist.copy()\n",
    "df_item_dist_cornac.index = df_item_dist_cornac.index.map(lambda x: str(mapping_dict.get(x, x)))\n",
    "\n",
    "# Prepare data in Cornac format (list of tuples)\n",
    "data = list(df_events_cornac[[user_col, item_col, predict_col]].to_records(index=False))\n",
    "\n",
    "print(f\"Prepared {len(data)} interactions for Cornac.\")\n",
    "print(\"Item distribution indexed by Cornac item ID (string):\")\n",
    "df_item_dist_cornac.head()"
   ]
  },
  {
   "cell_type": "markdown",
   "metadata": {},
   "source": [
    "### G.2 Split Data"
   ]
  },
  {
   "cell_type": "code",
   "execution_count": 18,
   "metadata": {
    "id": "cZ0JGW8ppnn7"
   },
   "outputs": [
    {
     "name": "stdout",
     "output_type": "stream",
     "text": [
      "Splitting data into train/test (80%/20%)...\n",
      "rating_threshold = 1.0\n",
      "exclude_unknowns = True\n",
      "---\n",
      "Training data:\n",
      "Number of users = 6040\n",
      "Number of items = 3680\n",
      "Number of ratings = 800167\n",
      "Max rating = 5.0\n",
      "Min rating = 1.0\n",
      "Global mean = 3.6\n",
      "---\n",
      "Test data:\n",
      "Number of users = 6040\n",
      "Number of items = 3680\n",
      "Number of ratings = 200012\n",
      "Number of unknown users = 0\n",
      "Number of unknown items = 0\n",
      "---\n",
      "Total users = 6040\n",
      "Total items = 3680\n",
      "Total unique items known to Cornac: 3680\n"
     ]
    }
   ],
   "source": [
    "# Split the data based on ratio\n",
    "print(f\"Splitting data into train/test ({1-test_size:.0%}/{test_size:.0%})...\")\n",
    "# Use exclude_unknowns=True as in original notebook\n",
    "rs = RatioSplit(data=data, test_size=test_size, rating_threshold=rating_threshold, seed=my_seed, exclude_unknowns=True, verbose=True)\n",
    "\n",
    "# Get all unique item indices known to Cornac\n",
    "all_items_cornac_indices = set(rs.train_set.iid_map.values()) # Use internal Cornac indices\n",
    "print(f\"Total unique items known to Cornac: {len(all_items_cornac_indices)}\")"
   ]
  },
  {
   "cell_type": "markdown",
   "metadata": {},
   "source": [
    "### G.3 Define Models"
   ]
  },
  {
   "cell_type": "code",
   "execution_count": 19,
   "metadata": {
    "id": "rVXlmaIUqV0I"
   },
   "outputs": [],
   "source": [
    "# Initialize models (matching the original Movie notebook)\n",
    "models = [\n",
    "          MostPop(),\n",
    "          UserKNN(k=40, similarity='cosine', mean_centered=False, seed=my_seed, verbose=True),\n",
    "          ItemKNN(k=40, similarity='cosine', mean_centered=False, seed=my_seed, verbose=True),\n",
    "          MF(k=30, max_iter=100, learning_rate=0.01, lambda_reg=0.001, seed=my_seed, verbose=True),\n",
    "          PMF(k=10, max_iter=100, learning_rate=0.001, lambda_reg=0.001, seed=my_seed, verbose=True),\n",
    "          CornacNMF(k=15, max_iter=50, learning_rate=0.005, lambda_u=0.06, lambda_v=0.06, lambda_bu=0.02, lambda_bi=0.02, use_bias=False, seed=my_seed, verbose=True),\n",
    "          HPF(k=50, seed=my_seed, hierarchical=False, name=\"PF\", verbose=True)\n",
    "          # WMF was imported but not included in the models list in the original notebook\n",
    "          ]\n",
    "\n",
    "algo_names = [\"MostPop\", \n",
    "              \"UserKNN\",\n",
    "              \"ItemKNN\", \n",
    "              \"MF\",\n",
    "              \"PMF\",\n",
    "              \"NMF\",\n",
    "              \"HPF\",\n",
    "              ] # Corresponds to the 'models' list"
   ]
  },
  {
   "cell_type": "markdown",
   "metadata": {
    "id": "WOD-sjM9rZ_Z"
   },
   "source": [
    "### G.4 Train Models"
   ]
  },
  {
   "cell_type": "code",
   "execution_count": 20,
   "metadata": {
    "id": "w-4yhJQOqXv3"
   },
   "outputs": [
    {
     "name": "stdout",
     "output_type": "stream",
     "text": [
      "Training models...\n",
      "\n",
      "[MostPop] Training started!\n",
      "\n",
      "[MostPop] Evaluation started!\n"
     ]
    },
    {
     "data": {
      "application/vnd.jupyter.widget-view+json": {
       "model_id": "bd2a995c83224dc49f6d00f3ef31f682",
       "version_major": 2,
       "version_minor": 0
      },
      "text/plain": [
       "Rating:   0%|          | 0/200012 [00:00<?, ?it/s]"
      ]
     },
     "metadata": {},
     "output_type": "display_data"
    },
    {
     "name": "stdout",
     "output_type": "stream",
     "text": [
      "\n",
      "[UserKNN] Training started!\n"
     ]
    },
    {
     "data": {
      "application/vnd.jupyter.widget-view+json": {
       "model_id": "ecc7051a3fc24b0089afda2a78e72117",
       "version_major": 2,
       "version_minor": 0
      },
      "text/plain": [
       "  0%|          | 0/6040 [00:00<?, ?it/s]"
      ]
     },
     "metadata": {},
     "output_type": "display_data"
    },
    {
     "name": "stdout",
     "output_type": "stream",
     "text": [
      "\n",
      "[UserKNN] Evaluation started!\n"
     ]
    },
    {
     "data": {
      "application/vnd.jupyter.widget-view+json": {
       "model_id": "9a7f04a936564732b089884235393065",
       "version_major": 2,
       "version_minor": 0
      },
      "text/plain": [
       "Rating:   0%|          | 0/200012 [00:00<?, ?it/s]"
      ]
     },
     "metadata": {},
     "output_type": "display_data"
    },
    {
     "name": "stdout",
     "output_type": "stream",
     "text": [
      "\n",
      "[ItemKNN] Training started!\n"
     ]
    },
    {
     "data": {
      "application/vnd.jupyter.widget-view+json": {
       "model_id": "ab97cf1c320c43e480c6d5bd26839c72",
       "version_major": 2,
       "version_minor": 0
      },
      "text/plain": [
       "  0%|          | 0/3680 [00:00<?, ?it/s]"
      ]
     },
     "metadata": {},
     "output_type": "display_data"
    },
    {
     "name": "stdout",
     "output_type": "stream",
     "text": [
      "\n",
      "[ItemKNN] Evaluation started!\n"
     ]
    },
    {
     "data": {
      "application/vnd.jupyter.widget-view+json": {
       "model_id": "69c2ed6dd18247ffb89ee8e808ddf49e",
       "version_major": 2,
       "version_minor": 0
      },
      "text/plain": [
       "Rating:   0%|          | 0/200012 [00:00<?, ?it/s]"
      ]
     },
     "metadata": {},
     "output_type": "display_data"
    },
    {
     "name": "stdout",
     "output_type": "stream",
     "text": [
      "\n",
      "[MF] Training started!\n"
     ]
    },
    {
     "data": {
      "application/vnd.jupyter.widget-view+json": {
       "model_id": "9b00f07802b94e12916b87fd8c0f3039",
       "version_major": 2,
       "version_minor": 0
      },
      "text/plain": [
       "  0%|          | 0/100 [00:00<?, ?it/s]"
      ]
     },
     "metadata": {},
     "output_type": "display_data"
    },
    {
     "name": "stdout",
     "output_type": "stream",
     "text": [
      "Optimization finished!\n",
      "\n",
      "[MF] Evaluation started!\n"
     ]
    },
    {
     "data": {
      "application/vnd.jupyter.widget-view+json": {
       "model_id": "9bbe886b302a4580a14e9aa0c4353a87",
       "version_major": 2,
       "version_minor": 0
      },
      "text/plain": [
       "Rating:   0%|          | 0/200012 [00:00<?, ?it/s]"
      ]
     },
     "metadata": {},
     "output_type": "display_data"
    },
    {
     "name": "stdout",
     "output_type": "stream",
     "text": [
      "\n",
      "[PMF] Training started!\n",
      "Learning...\n",
      "epoch 0, loss: 74094.462488\n",
      "epoch 1, loss: 58434.859407\n",
      "epoch 2, loss: 52539.283118\n",
      "epoch 3, loss: 49925.439458\n",
      "epoch 4, loss: 48292.154778\n",
      "epoch 5, loss: 47049.400664\n",
      "epoch 6, loss: 46020.022051\n",
      "epoch 7, loss: 45163.574883\n",
      "epoch 8, loss: 44462.164723\n",
      "epoch 9, loss: 43889.877628\n",
      "epoch 10, loss: 43417.859088\n",
      "epoch 11, loss: 43021.174998\n",
      "epoch 12, loss: 42680.473614\n",
      "epoch 13, loss: 42381.097342\n",
      "epoch 14, loss: 42111.841218\n",
      "epoch 15, loss: 41864.062088\n",
      "epoch 16, loss: 41631.189411\n",
      "epoch 17, loss: 41408.508447\n",
      "epoch 18, loss: 41193.039955\n",
      "epoch 19, loss: 40983.339405\n",
      "epoch 20, loss: 40779.101844\n",
      "epoch 21, loss: 40580.595165\n",
      "epoch 22, loss: 40388.080315\n",
      "epoch 23, loss: 40201.417518\n",
      "epoch 24, loss: 40019.957164\n",
      "epoch 25, loss: 39842.670338\n",
      "epoch 26, loss: 39668.398215\n",
      "epoch 27, loss: 39496.108862\n",
      "epoch 28, loss: 39325.093571\n",
      "epoch 29, loss: 39155.072244\n",
      "epoch 30, loss: 38986.202647\n",
      "epoch 31, loss: 38819.003725\n",
      "epoch 32, loss: 38654.217619\n",
      "epoch 33, loss: 38492.649556\n",
      "epoch 34, loss: 38335.027741\n",
      "epoch 35, loss: 38181.913208\n",
      "epoch 36, loss: 38033.666354\n",
      "epoch 37, loss: 37890.458613\n",
      "epoch 38, loss: 37752.308966\n",
      "epoch 39, loss: 37619.128606\n",
      "epoch 40, loss: 37490.762002\n",
      "epoch 41, loss: 37367.019290\n",
      "epoch 42, loss: 37247.699166\n",
      "epoch 43, loss: 37132.603213\n",
      "epoch 44, loss: 37021.543979\n",
      "epoch 45, loss: 36914.348740\n",
      "epoch 46, loss: 36810.860383\n",
      "epoch 47, loss: 36710.936902\n",
      "epoch 48, loss: 36614.449653\n",
      "epoch 49, loss: 36521.281343\n",
      "epoch 50, loss: 36431.323650\n",
      "epoch 51, loss: 36344.474969\n",
      "epoch 52, loss: 36260.638326\n",
      "epoch 53, loss: 36179.719704\n",
      "epoch 54, loss: 36101.626646\n",
      "epoch 55, loss: 36026.267322\n",
      "epoch 56, loss: 35953.550013\n",
      "epoch 57, loss: 35883.382860\n",
      "epoch 58, loss: 35815.674015\n",
      "epoch 59, loss: 35750.331735\n",
      "epoch 60, loss: 35687.264991\n",
      "epoch 61, loss: 35626.383709\n",
      "epoch 62, loss: 35567.599388\n",
      "epoch 63, loss: 35510.825385\n",
      "epoch 64, loss: 35455.977336\n",
      "epoch 65, loss: 35402.973451\n",
      "epoch 66, loss: 35351.734735\n",
      "epoch 67, loss: 35302.185128\n",
      "epoch 68, loss: 35254.251619\n",
      "epoch 69, loss: 35207.864248\n",
      "epoch 70, loss: 35162.956176\n",
      "epoch 71, loss: 35119.463588\n",
      "epoch 72, loss: 35077.325654\n",
      "epoch 73, loss: 35036.484489\n",
      "epoch 74, loss: 34996.885038\n",
      "epoch 75, loss: 34958.474892\n",
      "epoch 76, loss: 34921.204337\n",
      "epoch 77, loss: 34885.026098\n",
      "epoch 78, loss: 34849.895298\n",
      "epoch 79, loss: 34815.769334\n",
      "epoch 80, loss: 34782.607734\n",
      "epoch 81, loss: 34750.372079\n",
      "epoch 82, loss: 34719.025823\n",
      "epoch 83, loss: 34688.534320\n",
      "epoch 84, loss: 34658.864589\n",
      "epoch 85, loss: 34629.985334\n",
      "epoch 86, loss: 34601.866728\n",
      "epoch 87, loss: 34574.480448\n",
      "epoch 88, loss: 34547.799518\n",
      "epoch 89, loss: 34521.798271\n",
      "epoch 90, loss: 34496.452251\n",
      "epoch 91, loss: 34471.738144\n",
      "epoch 92, loss: 34447.633730\n",
      "epoch 93, loss: 34424.117777\n",
      "epoch 94, loss: 34401.170082\n",
      "epoch 95, loss: 34378.771307\n",
      "epoch 96, loss: 34356.902970\n",
      "epoch 97, loss: 34335.547429\n",
      "epoch 98, loss: 34314.687805\n",
      "epoch 99, loss: 34294.307922\n",
      "Learning completed\n",
      "\n",
      "[PMF] Evaluation started!\n"
     ]
    },
    {
     "data": {
      "application/vnd.jupyter.widget-view+json": {
       "model_id": "bc1ac36158cb4e5c9defba4aeff0b307",
       "version_major": 2,
       "version_minor": 0
      },
      "text/plain": [
       "Rating:   0%|          | 0/200012 [00:00<?, ?it/s]"
      ]
     },
     "metadata": {},
     "output_type": "display_data"
    },
    {
     "name": "stdout",
     "output_type": "stream",
     "text": [
      "\n",
      "[NMF] Training started!\n"
     ]
    },
    {
     "data": {
      "application/vnd.jupyter.widget-view+json": {
       "model_id": "e3ad9a433da14e01a24db6e87d8dd2b0",
       "version_major": 2,
       "version_minor": 0
      },
      "text/plain": [
       "  0%|          | 0/50 [00:00<?, ?it/s]"
      ]
     },
     "metadata": {},
     "output_type": "display_data"
    },
    {
     "name": "stdout",
     "output_type": "stream",
     "text": [
      "Optimization finished!\n",
      "\n",
      "[NMF] Evaluation started!\n"
     ]
    },
    {
     "data": {
      "application/vnd.jupyter.widget-view+json": {
       "model_id": "1ad246be2a62408c841191075ab92f33",
       "version_major": 2,
       "version_minor": 0
      },
      "text/plain": [
       "Rating:   0%|          | 0/200012 [00:00<?, ?it/s]"
      ]
     },
     "metadata": {},
     "output_type": "display_data"
    },
    {
     "name": "stdout",
     "output_type": "stream",
     "text": [
      "\n",
      "[PF] Training started!\n",
      "Learning...\n",
      "Learning completed!\n",
      "\n",
      "[PF] Evaluation started!\n"
     ]
    },
    {
     "data": {
      "application/vnd.jupyter.widget-view+json": {
       "model_id": "11c5941155d04db1bdaac3a9e0170f81",
       "version_major": 2,
       "version_minor": 0
      },
      "text/plain": [
       "Rating:   0%|          | 0/200012 [00:00<?, ?it/s]"
      ]
     },
     "metadata": {},
     "output_type": "display_data"
    },
    {
     "name": "stdout",
     "output_type": "stream",
     "text": [
      "\n",
      "TEST:\n",
      "...\n",
      "        |    MAE | Train (s) | Test (s)\n",
      "------- + ------ + --------- + --------\n",
      "MostPop | 1.2959 |    0.0675 |   2.5265\n",
      "UserKNN | 0.7604 |    5.7644 |  23.7077\n",
      "ItemKNN | 0.8008 |    2.5111 |  24.9082\n",
      "MF      | 0.7913 |    7.4849 |   4.4707\n",
      "PMF     | 0.7007 |   40.3845 |   3.8352\n",
      "NMF     | 0.7453 |    3.6736 |   3.9474\n",
      "PF      | 2.4665 | 1314.9193 |   3.9312\n",
      "\n",
      "Training completed in 1442 seconds.\n"
     ]
    }
   ],
   "source": [
    "# Define metrics for Cornac experiment run (e.g., MAE for monitoring)\n",
    "metrics_train = [MAE()]\n",
    "\n",
    "# Run the Cornac experiment to train all models\n",
    "print(\"Training models...\")\n",
    "start_train = time.time()\n",
    "exp = cornac.Experiment(eval_method=rs, models=models, metrics=metrics_train, user_based=True, verbose=True)\n",
    "exp.run()\n",
    "end_train = time.time()\n",
    "print(f\"Training completed in {round(end_train - start_train)} seconds.\")"
   ]
  },
  {
   "cell_type": "markdown",
   "metadata": {
    "id": "lDyNWKN3rpbX"
   },
   "source": [
    "### G.5 Define Evaluation Strategies & Recommendation Functions\n",
    "Define functions to generate recommendations based on the different evaluation strategies identified in the paper:\n",
    "*   `eva_two` (UserTest): For users in the test set, rank only items rated by that user in the test set. (Kowald et al. [26])\n",
    "*   `eva_three` (TrainItems): For users in the test set, rank only items *not* rated by that user in the train set. (Abdollahpouri et al. [3])"
   ]
  },
  {
   "cell_type": "code",
   "execution_count": 21,
   "metadata": {
    "id": "7ReRcdQCrveT"
   },
   "outputs": [],
   "source": [
    "# Evaluation Strategy 2: UserTest (Kowald et al. 2010)\n",
    "# Reusing the function defined previously\n",
    "def get_top_n_eva_two(model, user_idx_map, test_set, rec_k=10):\n",
    "    top_n = defaultdict(list)\n",
    "    item_idx_map = model.train_set.iid_map\n",
    "    idx_item_map = {v: k for k, v in item_idx_map.items()}\n",
    "    for uid in tqdm(test_set.uid_map.values(), desc=\"Generating recs (eva_two)\"):\n",
    "        if uid in test_set.user_data:\n",
    "            original_user_id = user_idx_map[uid]\n",
    "            candidate_items_indices = test_set.user_data[uid][0]\n",
    "            if not candidate_items_indices: continue\n",
    "            try:\n",
    "                item_indices_ranked, item_scores_ranked = model.rank(user_idx=uid, item_indices=candidate_items_indices)\n",
    "                # Handle potential NaN scores\n",
    "                valid_scores_mask = ~np.isnan(item_scores_ranked)\n",
    "                item_indices_ranked = np.array(item_indices_ranked)[valid_scores_mask]\n",
    "                item_scores_ranked = np.array(item_scores_ranked)[valid_scores_mask]\n",
    "                \n",
    "                top_k_indices = item_indices_ranked[:rec_k]\n",
    "                top_k_scores = item_scores_ranked[:rec_k]\n",
    "                \n",
    "                for iid, score in zip(top_k_indices, top_k_scores):\n",
    "                    original_item_id = idx_item_map[iid]\n",
    "                    top_n[int(original_user_id)].append((int(original_item_id), score))\n",
    "            except Exception as e:\n",
    "                 print(f\"Error during ranking for user {original_user_id} (eva_two): {e}\")\n",
    "                 continue\n",
    "    return top_n"
   ]
  },
  {
   "cell_type": "code",
   "execution_count": 22,
   "metadata": {
    "id": "cGjFAhr6rxXI"
   },
   "outputs": [],
   "source": [
    "# Evaluation Strategy 3: TrainItems (Abdollahpouri et al. 2019)\n",
    "# Reusing the function defined previously\n",
    "def get_top_n_eva_three(model, user_idx_map, train_set, test_set, all_items_indices, rec_k=10):\n",
    "    top_n = defaultdict(list)\n",
    "    item_idx_map = model.train_set.iid_map\n",
    "    idx_item_map = {v: k for k, v in item_idx_map.items()}\n",
    "    for uid in tqdm(test_set.uid_map.values(), desc=\"Generating recs (eva_three)\"):\n",
    "        original_user_id = user_idx_map[uid]\n",
    "        items_in_train = set()\n",
    "        if uid in train_set.user_data:\n",
    "            items_in_train = set(train_set.user_data[uid][0])\n",
    "        candidate_items_indices = list(all_items_indices.difference(items_in_train))\n",
    "        if not candidate_items_indices: continue\n",
    "        try:\n",
    "            item_indices_ranked, item_scores_ranked = model.rank(user_idx=uid, item_indices=candidate_items_indices)\n",
    "            # Handle potential NaN scores\n",
    "            valid_scores_mask = ~np.isnan(item_scores_ranked)\n",
    "            item_indices_ranked = np.array(item_indices_ranked)[valid_scores_mask]\n",
    "            item_scores_ranked = np.array(item_scores_ranked)[valid_scores_mask]\n",
    "            \n",
    "            top_k_indices = item_indices_ranked[:rec_k]\n",
    "            top_k_scores = item_scores_ranked[:rec_k]\n",
    "            \n",
    "            for iid, score in zip(top_k_indices, top_k_scores):\n",
    "                original_item_id = idx_item_map[iid]\n",
    "                top_n[int(original_user_id)].append((int(original_item_id), score))\n",
    "        except Exception as e:\n",
    "             print(f\"Error during ranking for user {original_user_id} (eva_three): {e}\")\n",
    "             continue\n",
    "    return top_n"
   ]
  },
  {
   "cell_type": "markdown",
   "metadata": {},
   "source": [
    "### G.6 Define Evaluation Functions (NDCG, GAP)"
   ]
  },
  {
   "cell_type": "code",
   "execution_count": 23,
   "metadata": {},
   "outputs": [],
   "source": [
    "# Function to calculate NDCG per group\n",
    "# Reusing the function defined previously\n",
    "def calculate_NDCG_per_group(algo_name, model_index, recommendations, cornac_exp, low_group_users, med_group_users, high_group_users, rec_k=10):\n",
    "    model = cornac_exp.models[model_index]\n",
    "    rs = cornac_exp.eval_method\n",
    "    train_set = rs.train_set\n",
    "    test_set = rs.test_set\n",
    "    \n",
    "    ndcg_low = []\n",
    "    ndcg_med = []\n",
    "    ndcg_high = []\n",
    "    \n",
    "    low_ids = set(low_group_users.index.astype(int))\n",
    "    med_ids = set(med_group_users.index.astype(int))\n",
    "    high_ids = set(high_group_users.index.astype(int))\n",
    "    \n",
    "    orig_uid_to_cornac_uid = train_set.uid_map\n",
    "    orig_iid_to_cornac_iid = train_set.iid_map\n",
    "    \n",
    "    print(f\"Calculating NDCG@{rec_k} for {algo_name}...\")\n",
    "    for user_id_int, user_ratings in tqdm(recommendations.items(), desc=f\"NDCG {algo_name}\"):\n",
    "        user_id_str = str(user_id_int)\n",
    "        \n",
    "        if user_id_str not in orig_uid_to_cornac_uid or orig_uid_to_cornac_uid[user_id_str] not in test_set.user_data:\n",
    "            continue\n",
    "            \n",
    "        uid_cornac = orig_uid_to_cornac_uid[user_id_str]\n",
    "        true_item_indices, true_relevance_scores = test_set.user_data[uid_cornac]\n",
    "        true_relevance_dict = dict(zip(true_item_indices, true_relevance_scores))\n",
    "        \n",
    "        user_pred_scores = []\n",
    "        user_true_scores = []\n",
    "        \n",
    "        for (item_id_int, pred_score) in user_ratings:\n",
    "            # Handle potential NaN prediction scores\n",
    "            if pd.isna(pred_score):\n",
    "                # print(f\"Warning: NaN prediction score for user {user_id_int}, item {item_id_int} in {algo_name}. Assigning 0 relevance.\")\n",
    "                user_pred_scores.append(-np.inf) # Assign very low score for ranking\n",
    "                user_true_scores.append(0.0)\n",
    "                continue\n",
    "                \n",
    "            item_id_str = str(item_id_int)\n",
    "            user_pred_scores.append(pred_score)\n",
    "            true_score = 0.0\n",
    "            if item_id_str in orig_iid_to_cornac_iid:\n",
    "                iid_cornac = orig_iid_to_cornac_iid[item_id_str]\n",
    "                if iid_cornac in true_relevance_dict:\n",
    "                    true_score = true_relevance_dict[iid_cornac]\n",
    "            user_true_scores.append(true_score)\n",
    "            \n",
    "        if len(user_true_scores) > 1:\n",
    "            true_relevance_arr = np.asarray([user_true_scores])\n",
    "            pred_scores_arr = np.asarray([user_pred_scores])\n",
    "            if np.all(true_relevance_arr == 0):\n",
    "                 user_ndcg = 0.0\n",
    "            else:\n",
    "                try:\n",
    "                    user_ndcg = ndcg_score(true_relevance_arr, pred_scores_arr, k=rec_k)\n",
    "                except ValueError as e:\n",
    "                    # print(f\"Could not calculate NDCG for user {user_id_int}: {e}\")\n",
    "                    user_ndcg = np.nan\n",
    "            \n",
    "            if not pd.isna(user_ndcg):\n",
    "                if user_id_int in low_ids:\n",
    "                    ndcg_low.append(user_ndcg)\n",
    "                elif user_id_int in med_ids:\n",
    "                    ndcg_med.append(user_ndcg)\n",
    "                elif user_id_int in high_ids:\n",
    "                    ndcg_high.append(user_ndcg)\n",
    "\n",
    "    mean_ndcg_low = np.nanmean(ndcg_low) if ndcg_low else np.nan\n",
    "    mean_ndcg_med = np.nanmean(ndcg_med) if ndcg_med else np.nan\n",
    "    mean_ndcg_high = np.nanmean(ndcg_high) if ndcg_high else np.nan\n",
    "    \n",
    "    ttests = [np.nan] * 3\n",
    "    try:\n",
    "        if len(ndcg_low) > 1 and len(ndcg_med) > 1:\n",
    "            ttests[0] = stats.ttest_ind(ndcg_low, ndcg_med, equal_var=False, nan_policy='omit')[1]\n",
    "        if len(ndcg_low) > 1 and len(ndcg_high) > 1:\n",
    "            ttests[1] = stats.ttest_ind(ndcg_low, ndcg_high, equal_var=False, nan_policy='omit')[1]\n",
    "        if len(ndcg_med) > 1 and len(ndcg_high) > 1:\n",
    "            ttests[2] = stats.ttest_ind(ndcg_med, ndcg_high, equal_var=False, nan_policy='omit')[1]\n",
    "    except Exception as e:\n",
    "        print(f\"Error during t-test calculation for NDCG ({algo_name}): {e}\")\n",
    "            \n",
    "    return mean_ndcg_low, mean_ndcg_med, mean_ndcg_high, ttests"
   ]
  },
  {
   "cell_type": "markdown",
   "metadata": {},
   "source": [
    "## H. Automated Evaluation Loop"
   ]
  },
  {
   "cell_type": "markdown",
   "metadata": {},
   "source": [
    "### H.1 Generate Recommendations for Each Evaluation Strategy"
   ]
  },
  {
   "cell_type": "code",
   "execution_count": 24,
   "metadata": {},
   "outputs": [
    {
     "name": "stdout",
     "output_type": "stream",
     "text": [
      "--- Generating Recommendations for Evaluation Strategy: eva_two ---\n",
      "Generating recommendations for: MostPop (eva_two)\n"
     ]
    },
    {
     "data": {
      "application/vnd.jupyter.widget-view+json": {
       "model_id": "e0409ced45214425b30cd25be1f97588",
       "version_major": 2,
       "version_minor": 0
      },
      "text/plain": [
       "Generating recs (eva_two):   0%|          | 0/6040 [00:00<?, ?it/s]"
      ]
     },
     "metadata": {},
     "output_type": "display_data"
    },
    {
     "name": "stdout",
     "output_type": "stream",
     "text": [
      "Generating recommendations for: UserKNN (eva_two)\n"
     ]
    },
    {
     "data": {
      "application/vnd.jupyter.widget-view+json": {
       "model_id": "46bbf97cd37d43999f8908672ea2adb4",
       "version_major": 2,
       "version_minor": 0
      },
      "text/plain": [
       "Generating recs (eva_two):   0%|          | 0/6040 [00:00<?, ?it/s]"
      ]
     },
     "metadata": {},
     "output_type": "display_data"
    },
    {
     "name": "stdout",
     "output_type": "stream",
     "text": [
      "Generating recommendations for: ItemKNN (eva_two)\n"
     ]
    },
    {
     "data": {
      "application/vnd.jupyter.widget-view+json": {
       "model_id": "c204ded94ac84d15a475c18f52838914",
       "version_major": 2,
       "version_minor": 0
      },
      "text/plain": [
       "Generating recs (eva_two):   0%|          | 0/6040 [00:00<?, ?it/s]"
      ]
     },
     "metadata": {},
     "output_type": "display_data"
    },
    {
     "name": "stdout",
     "output_type": "stream",
     "text": [
      "Generating recommendations for: MF (eva_two)\n"
     ]
    },
    {
     "data": {
      "application/vnd.jupyter.widget-view+json": {
       "model_id": "f497efb083a44b09b2456733f187cd00",
       "version_major": 2,
       "version_minor": 0
      },
      "text/plain": [
       "Generating recs (eva_two):   0%|          | 0/6040 [00:00<?, ?it/s]"
      ]
     },
     "metadata": {},
     "output_type": "display_data"
    },
    {
     "name": "stdout",
     "output_type": "stream",
     "text": [
      "Generating recommendations for: PMF (eva_two)\n"
     ]
    },
    {
     "data": {
      "application/vnd.jupyter.widget-view+json": {
       "model_id": "5f9460261391428fadeead4ee47e71f6",
       "version_major": 2,
       "version_minor": 0
      },
      "text/plain": [
       "Generating recs (eva_two):   0%|          | 0/6040 [00:00<?, ?it/s]"
      ]
     },
     "metadata": {},
     "output_type": "display_data"
    },
    {
     "name": "stdout",
     "output_type": "stream",
     "text": [
      "Generating recommendations for: NMF (eva_two)\n"
     ]
    },
    {
     "data": {
      "application/vnd.jupyter.widget-view+json": {
       "model_id": "82fd5a11d40d4a48ba029669e6f6803e",
       "version_major": 2,
       "version_minor": 0
      },
      "text/plain": [
       "Generating recs (eva_two):   0%|          | 0/6040 [00:00<?, ?it/s]"
      ]
     },
     "metadata": {},
     "output_type": "display_data"
    },
    {
     "name": "stdout",
     "output_type": "stream",
     "text": [
      "Generating recommendations for: HPF (eva_two)\n"
     ]
    },
    {
     "data": {
      "application/vnd.jupyter.widget-view+json": {
       "model_id": "7569d7b1ca3945168ad010655901dbc6",
       "version_major": 2,
       "version_minor": 0
      },
      "text/plain": [
       "Generating recs (eva_two):   0%|          | 0/6040 [00:00<?, ?it/s]"
      ]
     },
     "metadata": {},
     "output_type": "display_data"
    },
    {
     "name": "stdout",
     "output_type": "stream",
     "text": [
      "--- Generating Recommendations for Evaluation Strategy: eva_three ---\n",
      "Generating recommendations for: MostPop (eva_three)\n"
     ]
    },
    {
     "data": {
      "application/vnd.jupyter.widget-view+json": {
       "model_id": "06758684adce407d8ac0f4c2eeaad131",
       "version_major": 2,
       "version_minor": 0
      },
      "text/plain": [
       "Generating recs (eva_three):   0%|          | 0/6040 [00:00<?, ?it/s]"
      ]
     },
     "metadata": {},
     "output_type": "display_data"
    },
    {
     "name": "stdout",
     "output_type": "stream",
     "text": [
      "Generating recommendations for: UserKNN (eva_three)\n"
     ]
    },
    {
     "data": {
      "application/vnd.jupyter.widget-view+json": {
       "model_id": "0c09b1f8ccfa40c3bbb61d39f14ff05f",
       "version_major": 2,
       "version_minor": 0
      },
      "text/plain": [
       "Generating recs (eva_three):   0%|          | 0/6040 [00:00<?, ?it/s]"
      ]
     },
     "metadata": {},
     "output_type": "display_data"
    },
    {
     "name": "stdout",
     "output_type": "stream",
     "text": [
      "Generating recommendations for: ItemKNN (eva_three)\n"
     ]
    },
    {
     "data": {
      "application/vnd.jupyter.widget-view+json": {
       "model_id": "e3f71d19debe4d58b92e37436f7d7c0f",
       "version_major": 2,
       "version_minor": 0
      },
      "text/plain": [
       "Generating recs (eva_three):   0%|          | 0/6040 [00:00<?, ?it/s]"
      ]
     },
     "metadata": {},
     "output_type": "display_data"
    },
    {
     "name": "stdout",
     "output_type": "stream",
     "text": [
      "Generating recommendations for: MF (eva_three)\n"
     ]
    },
    {
     "data": {
      "application/vnd.jupyter.widget-view+json": {
       "model_id": "225f77a0dd9a42bc8ebae35798676cb2",
       "version_major": 2,
       "version_minor": 0
      },
      "text/plain": [
       "Generating recs (eva_three):   0%|          | 0/6040 [00:00<?, ?it/s]"
      ]
     },
     "metadata": {},
     "output_type": "display_data"
    },
    {
     "name": "stdout",
     "output_type": "stream",
     "text": [
      "Generating recommendations for: PMF (eva_three)\n"
     ]
    },
    {
     "data": {
      "application/vnd.jupyter.widget-view+json": {
       "model_id": "fc3522da32a0486a9ceab99f51ca926b",
       "version_major": 2,
       "version_minor": 0
      },
      "text/plain": [
       "Generating recs (eva_three):   0%|          | 0/6040 [00:00<?, ?it/s]"
      ]
     },
     "metadata": {},
     "output_type": "display_data"
    },
    {
     "name": "stdout",
     "output_type": "stream",
     "text": [
      "Generating recommendations for: NMF (eva_three)\n"
     ]
    },
    {
     "data": {
      "application/vnd.jupyter.widget-view+json": {
       "model_id": "521c4fdbd03745c5b079f150e88af6a3",
       "version_major": 2,
       "version_minor": 0
      },
      "text/plain": [
       "Generating recs (eva_three):   0%|          | 0/6040 [00:00<?, ?it/s]"
      ]
     },
     "metadata": {},
     "output_type": "display_data"
    },
    {
     "name": "stdout",
     "output_type": "stream",
     "text": [
      "Generating recommendations for: HPF (eva_three)\n"
     ]
    },
    {
     "data": {
      "application/vnd.jupyter.widget-view+json": {
       "model_id": "668e5c09b9e647f1a109321b0cb5ee8c",
       "version_major": 2,
       "version_minor": 0
      },
      "text/plain": [
       "Generating recs (eva_three):   0%|          | 0/6040 [00:00<?, ?it/s]"
      ]
     },
     "metadata": {},
     "output_type": "display_data"
    },
    {
     "name": "stdout",
     "output_type": "stream",
     "text": [
      "\n",
      "Recommendation generation completed in 829 seconds.\n"
     ]
    }
   ],
   "source": [
    "# Define the evaluation strategies to run\n",
    "evaluation_function_map = {'eva_two': get_top_n_eva_two, 'eva_three': get_top_n_eva_three}\n",
    "\n",
    "# Store all recommendations keyed by evaluation strategy\n",
    "all_recommendations = {}\n",
    "\n",
    "# Precompute user index map (internal cornac index -> original string uid)\n",
    "user_idx_map = {v: k for k, v in rs.train_set.uid_map.items()}\n",
    "\n",
    "# Loop through each evaluation strategy and generate recommendations for all algorithms\n",
    "start_rec = time.time()\n",
    "for eva_key, eva_func in evaluation_function_map.items():\n",
    "    print(f\"--- Generating Recommendations for Evaluation Strategy: {eva_key} ---\")\n",
    "    algo_recommendations = {} # Store recommendations for algorithms under this strategy\n",
    "    for i, algo_name in enumerate(algo_names):\n",
    "        model = exp.models[i]\n",
    "        print(f\"Generating recommendations for: {algo_name} ({eva_key})\")\n",
    "        if eva_key == 'eva_two':\n",
    "            top_n = eva_func(model, user_idx_map, rs.test_set, rec_k=rec_k)\n",
    "        elif eva_key == 'eva_three':\n",
    "            top_n = eva_func(model, user_idx_map, rs.train_set, rs.test_set, all_items_cornac_indices, rec_k=rec_k)\n",
    "        else:\n",
    "            print(f\"Warning: Unknown evaluation strategy key '{eva_key}'. Skipping.\")\n",
    "            continue\n",
    "        algo_recommendations[algo_name] = top_n # Store as dict {user: [(item, score)]}\n",
    "        \n",
    "    all_recommendations[eva_key] = algo_recommendations\n",
    "end_rec = time.time()\n",
    "print(f\"\\nRecommendation generation completed in {round(end_rec - start_rec)} seconds.\")\n",
    "\n",
    "# Optional: Save recommendations\n",
    "# with open(results_location + 'all_recommendations_movies.pickle', 'wb') as handle:\n",
    "#     pkl.dump(all_recommendations, handle)\n",
    "# To load: \n",
    "# with open(results_location + 'all_recommendations_movies.pickle', 'rb') as handle:\n",
    "#     all_recommendations = pkl.load(handle)"
   ]
  },
  {
   "cell_type": "markdown",
   "metadata": {},
   "source": [
    "### H.2 Run Evaluation for Each Combination"
   ]
  },
  {
   "cell_type": "code",
   "execution_count": 25,
   "metadata": {},
   "outputs": [
    {
     "name": "stdout",
     "output_type": "stream",
     "text": [
      "\n",
      "--- Running Evaluation for: eva=eva_two, pop=pop_one ---\n",
      "Sorting users by 'pop_fraq' and splitting...\n",
      "Low Group ('Niche', 1208 users): Avg Profile Size=301.74, Avg Profile GAP=0.108016\n",
      "Med Group ('Diverse', 3624 users): Avg Profile Size=152.35, Avg Profile GAP=0.156976\n",
      "High Group ('Blockbuster', 1208 users): Avg Profile Size=69.19, Avg Profile GAP=0.209073\n",
      "Calculating NDCG@10 for MostPop...\n"
     ]
    },
    {
     "data": {
      "application/vnd.jupyter.widget-view+json": {
       "model_id": "53c47256378c4fe5b222b79e625d7381",
       "version_major": 2,
       "version_minor": 0
      },
      "text/plain": [
       "NDCG MostPop:   0%|          | 0/6034 [00:00<?, ?it/s]"
      ]
     },
     "metadata": {},
     "output_type": "display_data"
    },
    {
     "name": "stdout",
     "output_type": "stream",
     "text": [
      "Calculating NDCG@10 for UserKNN...\n"
     ]
    },
    {
     "data": {
      "application/vnd.jupyter.widget-view+json": {
       "model_id": "c7b7c2850fd44de6abf2eb493fb952ed",
       "version_major": 2,
       "version_minor": 0
      },
      "text/plain": [
       "NDCG UserKNN:   0%|          | 0/6034 [00:00<?, ?it/s]"
      ]
     },
     "metadata": {},
     "output_type": "display_data"
    },
    {
     "name": "stdout",
     "output_type": "stream",
     "text": [
      "Calculating NDCG@10 for ItemKNN...\n"
     ]
    },
    {
     "data": {
      "application/vnd.jupyter.widget-view+json": {
       "model_id": "a147c9b26bf94754a07cadaddc1a5deb",
       "version_major": 2,
       "version_minor": 0
      },
      "text/plain": [
       "NDCG ItemKNN:   0%|          | 0/6034 [00:00<?, ?it/s]"
      ]
     },
     "metadata": {},
     "output_type": "display_data"
    },
    {
     "name": "stdout",
     "output_type": "stream",
     "text": [
      "Calculating NDCG@10 for MF...\n"
     ]
    },
    {
     "data": {
      "application/vnd.jupyter.widget-view+json": {
       "model_id": "890d88673c3b42f2946edc61e4c0a15a",
       "version_major": 2,
       "version_minor": 0
      },
      "text/plain": [
       "NDCG MF:   0%|          | 0/6034 [00:00<?, ?it/s]"
      ]
     },
     "metadata": {},
     "output_type": "display_data"
    },
    {
     "name": "stdout",
     "output_type": "stream",
     "text": [
      "Calculating NDCG@10 for PMF...\n"
     ]
    },
    {
     "data": {
      "application/vnd.jupyter.widget-view+json": {
       "model_id": "fdc2a75b49854bfeaa18636e24f68f67",
       "version_major": 2,
       "version_minor": 0
      },
      "text/plain": [
       "NDCG PMF:   0%|          | 0/6034 [00:00<?, ?it/s]"
      ]
     },
     "metadata": {},
     "output_type": "display_data"
    },
    {
     "name": "stdout",
     "output_type": "stream",
     "text": [
      "Calculating NDCG@10 for NMF...\n"
     ]
    },
    {
     "data": {
      "application/vnd.jupyter.widget-view+json": {
       "model_id": "c3533d68ae6f47c98aea4ef1dd0df74f",
       "version_major": 2,
       "version_minor": 0
      },
      "text/plain": [
       "NDCG NMF:   0%|          | 0/6034 [00:00<?, ?it/s]"
      ]
     },
     "metadata": {},
     "output_type": "display_data"
    },
    {
     "name": "stdout",
     "output_type": "stream",
     "text": [
      "Calculating NDCG@10 for HPF...\n"
     ]
    },
    {
     "data": {
      "application/vnd.jupyter.widget-view+json": {
       "model_id": "a444236cdded40ccb8e1c143c2339f49",
       "version_major": 2,
       "version_minor": 0
      },
      "text/plain": [
       "NDCG HPF:   0%|          | 0/6034 [00:00<?, ?it/s]"
      ]
     },
     "metadata": {},
     "output_type": "display_data"
    },
    {
     "name": "stdout",
     "output_type": "stream",
     "text": [
      "Calculating %DeltaGAP for eva_two, pop_one...\n"
     ]
    },
    {
     "data": {
      "application/vnd.jupyter.widget-view+json": {
       "model_id": "fd76a23098524dc3a42d6e9161e37caa",
       "version_major": 2,
       "version_minor": 0
      },
      "text/plain": [
       "GAP MostPop:   0%|          | 0/6034 [00:00<?, ?it/s]"
      ]
     },
     "metadata": {},
     "output_type": "display_data"
    },
    {
     "data": {
      "application/vnd.jupyter.widget-view+json": {
       "model_id": "733efb423a6b4624b15cc05bd165ac03",
       "version_major": 2,
       "version_minor": 0
      },
      "text/plain": [
       "GAP UserKNN:   0%|          | 0/6034 [00:00<?, ?it/s]"
      ]
     },
     "metadata": {},
     "output_type": "display_data"
    },
    {
     "data": {
      "application/vnd.jupyter.widget-view+json": {
       "model_id": "6d4119498bae408d81a60df5fb87a764",
       "version_major": 2,
       "version_minor": 0
      },
      "text/plain": [
       "GAP ItemKNN:   0%|          | 0/6034 [00:00<?, ?it/s]"
      ]
     },
     "metadata": {},
     "output_type": "display_data"
    },
    {
     "data": {
      "application/vnd.jupyter.widget-view+json": {
       "model_id": "7b14fb91ff8448d4ade0937306c965fe",
       "version_major": 2,
       "version_minor": 0
      },
      "text/plain": [
       "GAP MF:   0%|          | 0/6034 [00:00<?, ?it/s]"
      ]
     },
     "metadata": {},
     "output_type": "display_data"
    },
    {
     "data": {
      "application/vnd.jupyter.widget-view+json": {
       "model_id": "048c54b68f434ead892d4089dfe88bdc",
       "version_major": 2,
       "version_minor": 0
      },
      "text/plain": [
       "GAP PMF:   0%|          | 0/6034 [00:00<?, ?it/s]"
      ]
     },
     "metadata": {},
     "output_type": "display_data"
    },
    {
     "data": {
      "application/vnd.jupyter.widget-view+json": {
       "model_id": "c28664782bd24dbbbefae4e1e48285f5",
       "version_major": 2,
       "version_minor": 0
      },
      "text/plain": [
       "GAP NMF:   0%|          | 0/6034 [00:00<?, ?it/s]"
      ]
     },
     "metadata": {},
     "output_type": "display_data"
    },
    {
     "data": {
      "application/vnd.jupyter.widget-view+json": {
       "model_id": "e1d66601b7ca462c9aae26d740bfc4c1",
       "version_major": 2,
       "version_minor": 0
      },
      "text/plain": [
       "GAP HPF:   0%|          | 0/6034 [00:00<?, ?it/s]"
      ]
     },
     "metadata": {},
     "output_type": "display_data"
    },
    {
     "name": "stdout",
     "output_type": "stream",
     "text": [
      "Saving results for eva=eva_two, pop=pop_one...\n",
      "\n",
      "--- Running Evaluation for: eva=eva_two, pop=pop_two ---\n",
      "Sorting users by 'pop_item_fraq' and splitting...\n",
      "Low Group ('Niche', 1208 users): Avg Profile Size=336.11, Avg Profile GAP=0.105535\n",
      "Med Group ('Diverse', 3624 users): Avg Profile Size=145.64, Avg Profile GAP=0.155064\n",
      "High Group ('Blockbuster', 1208 users): Avg Profile Size=54.95, Avg Profile GAP=0.217289\n",
      "Calculating NDCG@10 for MostPop...\n"
     ]
    },
    {
     "data": {
      "application/vnd.jupyter.widget-view+json": {
       "model_id": "481e5b5ae58d4333ad0539d07cd39444",
       "version_major": 2,
       "version_minor": 0
      },
      "text/plain": [
       "NDCG MostPop:   0%|          | 0/6034 [00:00<?, ?it/s]"
      ]
     },
     "metadata": {},
     "output_type": "display_data"
    },
    {
     "name": "stdout",
     "output_type": "stream",
     "text": [
      "Calculating NDCG@10 for UserKNN...\n"
     ]
    },
    {
     "data": {
      "application/vnd.jupyter.widget-view+json": {
       "model_id": "902749d11a634110ab2b248bc612eb34",
       "version_major": 2,
       "version_minor": 0
      },
      "text/plain": [
       "NDCG UserKNN:   0%|          | 0/6034 [00:00<?, ?it/s]"
      ]
     },
     "metadata": {},
     "output_type": "display_data"
    },
    {
     "name": "stdout",
     "output_type": "stream",
     "text": [
      "Calculating NDCG@10 for ItemKNN...\n"
     ]
    },
    {
     "data": {
      "application/vnd.jupyter.widget-view+json": {
       "model_id": "ed19428aa5e644839c3e31c5113f27ab",
       "version_major": 2,
       "version_minor": 0
      },
      "text/plain": [
       "NDCG ItemKNN:   0%|          | 0/6034 [00:00<?, ?it/s]"
      ]
     },
     "metadata": {},
     "output_type": "display_data"
    },
    {
     "name": "stdout",
     "output_type": "stream",
     "text": [
      "Calculating NDCG@10 for MF...\n"
     ]
    },
    {
     "data": {
      "application/vnd.jupyter.widget-view+json": {
       "model_id": "2b6205fce0d7419c9006c059571fe756",
       "version_major": 2,
       "version_minor": 0
      },
      "text/plain": [
       "NDCG MF:   0%|          | 0/6034 [00:00<?, ?it/s]"
      ]
     },
     "metadata": {},
     "output_type": "display_data"
    },
    {
     "name": "stdout",
     "output_type": "stream",
     "text": [
      "Calculating NDCG@10 for PMF...\n"
     ]
    },
    {
     "data": {
      "application/vnd.jupyter.widget-view+json": {
       "model_id": "7fe6af7970804b5ca64de534a859034b",
       "version_major": 2,
       "version_minor": 0
      },
      "text/plain": [
       "NDCG PMF:   0%|          | 0/6034 [00:00<?, ?it/s]"
      ]
     },
     "metadata": {},
     "output_type": "display_data"
    },
    {
     "name": "stdout",
     "output_type": "stream",
     "text": [
      "Calculating NDCG@10 for NMF...\n"
     ]
    },
    {
     "data": {
      "application/vnd.jupyter.widget-view+json": {
       "model_id": "fff4fb86007643a483752b291cfdc54e",
       "version_major": 2,
       "version_minor": 0
      },
      "text/plain": [
       "NDCG NMF:   0%|          | 0/6034 [00:00<?, ?it/s]"
      ]
     },
     "metadata": {},
     "output_type": "display_data"
    },
    {
     "name": "stdout",
     "output_type": "stream",
     "text": [
      "Calculating NDCG@10 for HPF...\n"
     ]
    },
    {
     "data": {
      "application/vnd.jupyter.widget-view+json": {
       "model_id": "904442a18c6740238f668d6b1682a02d",
       "version_major": 2,
       "version_minor": 0
      },
      "text/plain": [
       "NDCG HPF:   0%|          | 0/6034 [00:00<?, ?it/s]"
      ]
     },
     "metadata": {},
     "output_type": "display_data"
    },
    {
     "name": "stdout",
     "output_type": "stream",
     "text": [
      "Calculating %DeltaGAP for eva_two, pop_two...\n"
     ]
    },
    {
     "data": {
      "application/vnd.jupyter.widget-view+json": {
       "model_id": "bdccaeb139674f43b816c10045915c4b",
       "version_major": 2,
       "version_minor": 0
      },
      "text/plain": [
       "GAP MostPop:   0%|          | 0/6034 [00:00<?, ?it/s]"
      ]
     },
     "metadata": {},
     "output_type": "display_data"
    },
    {
     "data": {
      "application/vnd.jupyter.widget-view+json": {
       "model_id": "af9824dde2d24fbca3d34aa28ca7bab5",
       "version_major": 2,
       "version_minor": 0
      },
      "text/plain": [
       "GAP UserKNN:   0%|          | 0/6034 [00:00<?, ?it/s]"
      ]
     },
     "metadata": {},
     "output_type": "display_data"
    },
    {
     "data": {
      "application/vnd.jupyter.widget-view+json": {
       "model_id": "6710ca66a7824ef496b635ca699f9696",
       "version_major": 2,
       "version_minor": 0
      },
      "text/plain": [
       "GAP ItemKNN:   0%|          | 0/6034 [00:00<?, ?it/s]"
      ]
     },
     "metadata": {},
     "output_type": "display_data"
    },
    {
     "data": {
      "application/vnd.jupyter.widget-view+json": {
       "model_id": "1c2d9635c2934ad4b5b2e8899a46fb69",
       "version_major": 2,
       "version_minor": 0
      },
      "text/plain": [
       "GAP MF:   0%|          | 0/6034 [00:00<?, ?it/s]"
      ]
     },
     "metadata": {},
     "output_type": "display_data"
    },
    {
     "data": {
      "application/vnd.jupyter.widget-view+json": {
       "model_id": "4fedda6f89e94b87954f25ca751ca090",
       "version_major": 2,
       "version_minor": 0
      },
      "text/plain": [
       "GAP PMF:   0%|          | 0/6034 [00:00<?, ?it/s]"
      ]
     },
     "metadata": {},
     "output_type": "display_data"
    },
    {
     "data": {
      "application/vnd.jupyter.widget-view+json": {
       "model_id": "c96ce58f50df42cd8437df3c8eca9724",
       "version_major": 2,
       "version_minor": 0
      },
      "text/plain": [
       "GAP NMF:   0%|          | 0/6034 [00:00<?, ?it/s]"
      ]
     },
     "metadata": {},
     "output_type": "display_data"
    },
    {
     "data": {
      "application/vnd.jupyter.widget-view+json": {
       "model_id": "fd77ae8f5115404a9a927e6b1c029ffc",
       "version_major": 2,
       "version_minor": 0
      },
      "text/plain": [
       "GAP HPF:   0%|          | 0/6034 [00:00<?, ?it/s]"
      ]
     },
     "metadata": {},
     "output_type": "display_data"
    },
    {
     "name": "stdout",
     "output_type": "stream",
     "text": [
      "Saving results for eva=eva_two, pop=pop_two...\n",
      "\n",
      "--- Running Evaluation for: eva=eva_two, pop=pop_four ---\n",
      "Sorting users by 'niche_consumption_rate' and splitting...\n",
      "Low Group ('Niche', 1208 users): Avg Profile Size=78.37, Avg Profile GAP=0.177772\n",
      "Med Group ('Diverse', 3624 users): Avg Profile Size=179.59, Avg Profile GAP=0.160309\n",
      "High Group ('Blockbuster', 1208 users): Avg Profile Size=210.85, Avg Profile GAP=0.129314\n",
      "Calculating NDCG@10 for MostPop...\n"
     ]
    },
    {
     "data": {
      "application/vnd.jupyter.widget-view+json": {
       "model_id": "c71ca0a265e04093a91206428cbc570f",
       "version_major": 2,
       "version_minor": 0
      },
      "text/plain": [
       "NDCG MostPop:   0%|          | 0/6034 [00:00<?, ?it/s]"
      ]
     },
     "metadata": {},
     "output_type": "display_data"
    },
    {
     "name": "stdout",
     "output_type": "stream",
     "text": [
      "Calculating NDCG@10 for UserKNN...\n"
     ]
    },
    {
     "data": {
      "application/vnd.jupyter.widget-view+json": {
       "model_id": "56fc8dc873cb42ccbe9c3f337e1878e2",
       "version_major": 2,
       "version_minor": 0
      },
      "text/plain": [
       "NDCG UserKNN:   0%|          | 0/6034 [00:00<?, ?it/s]"
      ]
     },
     "metadata": {},
     "output_type": "display_data"
    },
    {
     "name": "stdout",
     "output_type": "stream",
     "text": [
      "Calculating NDCG@10 for ItemKNN...\n"
     ]
    },
    {
     "data": {
      "application/vnd.jupyter.widget-view+json": {
       "model_id": "6087b49939064211bc0415c8a9ea82cb",
       "version_major": 2,
       "version_minor": 0
      },
      "text/plain": [
       "NDCG ItemKNN:   0%|          | 0/6034 [00:00<?, ?it/s]"
      ]
     },
     "metadata": {},
     "output_type": "display_data"
    },
    {
     "name": "stdout",
     "output_type": "stream",
     "text": [
      "Calculating NDCG@10 for MF...\n"
     ]
    },
    {
     "data": {
      "application/vnd.jupyter.widget-view+json": {
       "model_id": "abd525e8994a4585ad1667054b294315",
       "version_major": 2,
       "version_minor": 0
      },
      "text/plain": [
       "NDCG MF:   0%|          | 0/6034 [00:00<?, ?it/s]"
      ]
     },
     "metadata": {},
     "output_type": "display_data"
    },
    {
     "name": "stdout",
     "output_type": "stream",
     "text": [
      "Calculating NDCG@10 for PMF...\n"
     ]
    },
    {
     "data": {
      "application/vnd.jupyter.widget-view+json": {
       "model_id": "a937c0b2ef9d4902b82e1e0ff593c00e",
       "version_major": 2,
       "version_minor": 0
      },
      "text/plain": [
       "NDCG PMF:   0%|          | 0/6034 [00:00<?, ?it/s]"
      ]
     },
     "metadata": {},
     "output_type": "display_data"
    },
    {
     "name": "stdout",
     "output_type": "stream",
     "text": [
      "Calculating NDCG@10 for NMF...\n"
     ]
    },
    {
     "data": {
      "application/vnd.jupyter.widget-view+json": {
       "model_id": "73bdd954590c41d78bbbe0b29230a586",
       "version_major": 2,
       "version_minor": 0
      },
      "text/plain": [
       "NDCG NMF:   0%|          | 0/6034 [00:00<?, ?it/s]"
      ]
     },
     "metadata": {},
     "output_type": "display_data"
    },
    {
     "name": "stdout",
     "output_type": "stream",
     "text": [
      "Calculating NDCG@10 for HPF...\n"
     ]
    },
    {
     "data": {
      "application/vnd.jupyter.widget-view+json": {
       "model_id": "0d3f3681c105496c9fbc6a06a10325d6",
       "version_major": 2,
       "version_minor": 0
      },
      "text/plain": [
       "NDCG HPF:   0%|          | 0/6034 [00:00<?, ?it/s]"
      ]
     },
     "metadata": {},
     "output_type": "display_data"
    },
    {
     "name": "stdout",
     "output_type": "stream",
     "text": [
      "Calculating %DeltaGAP for eva_two, pop_four...\n"
     ]
    },
    {
     "data": {
      "application/vnd.jupyter.widget-view+json": {
       "model_id": "64cf35b30b4b4f5c9c2f1ceb3ee27939",
       "version_major": 2,
       "version_minor": 0
      },
      "text/plain": [
       "GAP MostPop:   0%|          | 0/6034 [00:00<?, ?it/s]"
      ]
     },
     "metadata": {},
     "output_type": "display_data"
    },
    {
     "data": {
      "application/vnd.jupyter.widget-view+json": {
       "model_id": "e7372234b33d47cf9225b5fa19fcff4d",
       "version_major": 2,
       "version_minor": 0
      },
      "text/plain": [
       "GAP UserKNN:   0%|          | 0/6034 [00:00<?, ?it/s]"
      ]
     },
     "metadata": {},
     "output_type": "display_data"
    },
    {
     "data": {
      "application/vnd.jupyter.widget-view+json": {
       "model_id": "481751244eac4df7862dde37758982e5",
       "version_major": 2,
       "version_minor": 0
      },
      "text/plain": [
       "GAP ItemKNN:   0%|          | 0/6034 [00:00<?, ?it/s]"
      ]
     },
     "metadata": {},
     "output_type": "display_data"
    },
    {
     "data": {
      "application/vnd.jupyter.widget-view+json": {
       "model_id": "c947d6d4c3ba49d9ac86d147497614bc",
       "version_major": 2,
       "version_minor": 0
      },
      "text/plain": [
       "GAP MF:   0%|          | 0/6034 [00:00<?, ?it/s]"
      ]
     },
     "metadata": {},
     "output_type": "display_data"
    },
    {
     "data": {
      "application/vnd.jupyter.widget-view+json": {
       "model_id": "94ca3e76db844b38bd01778d13ede5d3",
       "version_major": 2,
       "version_minor": 0
      },
      "text/plain": [
       "GAP PMF:   0%|          | 0/6034 [00:00<?, ?it/s]"
      ]
     },
     "metadata": {},
     "output_type": "display_data"
    },
    {
     "data": {
      "application/vnd.jupyter.widget-view+json": {
       "model_id": "4c646f12dbf8440481ae3ba2abbf866e",
       "version_major": 2,
       "version_minor": 0
      },
      "text/plain": [
       "GAP NMF:   0%|          | 0/6034 [00:00<?, ?it/s]"
      ]
     },
     "metadata": {},
     "output_type": "display_data"
    },
    {
     "data": {
      "application/vnd.jupyter.widget-view+json": {
       "model_id": "60839533d4fd4bec96d659b9b59c70cb",
       "version_major": 2,
       "version_minor": 0
      },
      "text/plain": [
       "GAP HPF:   0%|          | 0/6034 [00:00<?, ?it/s]"
      ]
     },
     "metadata": {},
     "output_type": "display_data"
    },
    {
     "name": "stdout",
     "output_type": "stream",
     "text": [
      "Saving results for eva=eva_two, pop=pop_four...\n",
      "\n",
      "--- Running Evaluation for: eva=eva_three, pop=pop_one ---\n",
      "Sorting users by 'pop_fraq' and splitting...\n",
      "Low Group ('Niche', 1208 users): Avg Profile Size=301.74, Avg Profile GAP=0.108016\n",
      "Med Group ('Diverse', 3624 users): Avg Profile Size=152.35, Avg Profile GAP=0.156976\n",
      "High Group ('Blockbuster', 1208 users): Avg Profile Size=69.19, Avg Profile GAP=0.209073\n",
      "Calculating NDCG@10 for MostPop...\n"
     ]
    },
    {
     "data": {
      "application/vnd.jupyter.widget-view+json": {
       "model_id": "5007b54370da4dd18ec1ca20d7b3e50f",
       "version_major": 2,
       "version_minor": 0
      },
      "text/plain": [
       "NDCG MostPop:   0%|          | 0/6040 [00:00<?, ?it/s]"
      ]
     },
     "metadata": {},
     "output_type": "display_data"
    },
    {
     "name": "stdout",
     "output_type": "stream",
     "text": [
      "Calculating NDCG@10 for UserKNN...\n"
     ]
    },
    {
     "data": {
      "application/vnd.jupyter.widget-view+json": {
       "model_id": "4e073c7500a54d7a9ec4124dba72cd58",
       "version_major": 2,
       "version_minor": 0
      },
      "text/plain": [
       "NDCG UserKNN:   0%|          | 0/6040 [00:00<?, ?it/s]"
      ]
     },
     "metadata": {},
     "output_type": "display_data"
    },
    {
     "name": "stdout",
     "output_type": "stream",
     "text": [
      "Calculating NDCG@10 for ItemKNN...\n"
     ]
    },
    {
     "data": {
      "application/vnd.jupyter.widget-view+json": {
       "model_id": "ac6a923e00d94aef90f3480155b67f68",
       "version_major": 2,
       "version_minor": 0
      },
      "text/plain": [
       "NDCG ItemKNN:   0%|          | 0/6040 [00:00<?, ?it/s]"
      ]
     },
     "metadata": {},
     "output_type": "display_data"
    },
    {
     "name": "stdout",
     "output_type": "stream",
     "text": [
      "Calculating NDCG@10 for MF...\n"
     ]
    },
    {
     "data": {
      "application/vnd.jupyter.widget-view+json": {
       "model_id": "38c49a29019140568d796ae718db9205",
       "version_major": 2,
       "version_minor": 0
      },
      "text/plain": [
       "NDCG MF:   0%|          | 0/6040 [00:00<?, ?it/s]"
      ]
     },
     "metadata": {},
     "output_type": "display_data"
    },
    {
     "name": "stdout",
     "output_type": "stream",
     "text": [
      "Calculating NDCG@10 for PMF...\n"
     ]
    },
    {
     "data": {
      "application/vnd.jupyter.widget-view+json": {
       "model_id": "a8b5c2ea774c41379e309a1e35128b00",
       "version_major": 2,
       "version_minor": 0
      },
      "text/plain": [
       "NDCG PMF:   0%|          | 0/6040 [00:00<?, ?it/s]"
      ]
     },
     "metadata": {},
     "output_type": "display_data"
    },
    {
     "name": "stdout",
     "output_type": "stream",
     "text": [
      "Calculating NDCG@10 for NMF...\n"
     ]
    },
    {
     "data": {
      "application/vnd.jupyter.widget-view+json": {
       "model_id": "3fbf1ed70ac14d67b0222b575f1e2587",
       "version_major": 2,
       "version_minor": 0
      },
      "text/plain": [
       "NDCG NMF:   0%|          | 0/6040 [00:00<?, ?it/s]"
      ]
     },
     "metadata": {},
     "output_type": "display_data"
    },
    {
     "name": "stdout",
     "output_type": "stream",
     "text": [
      "Calculating NDCG@10 for HPF...\n"
     ]
    },
    {
     "data": {
      "application/vnd.jupyter.widget-view+json": {
       "model_id": "8b2ca1d2defd416c895530e10e81c622",
       "version_major": 2,
       "version_minor": 0
      },
      "text/plain": [
       "NDCG HPF:   0%|          | 0/6040 [00:00<?, ?it/s]"
      ]
     },
     "metadata": {},
     "output_type": "display_data"
    },
    {
     "name": "stdout",
     "output_type": "stream",
     "text": [
      "Calculating %DeltaGAP for eva_three, pop_one...\n"
     ]
    },
    {
     "data": {
      "application/vnd.jupyter.widget-view+json": {
       "model_id": "610a8eea3e654173bb554972958239ba",
       "version_major": 2,
       "version_minor": 0
      },
      "text/plain": [
       "GAP MostPop:   0%|          | 0/6040 [00:00<?, ?it/s]"
      ]
     },
     "metadata": {},
     "output_type": "display_data"
    },
    {
     "data": {
      "application/vnd.jupyter.widget-view+json": {
       "model_id": "ac9e71cc41574654974d33f72b116d47",
       "version_major": 2,
       "version_minor": 0
      },
      "text/plain": [
       "GAP UserKNN:   0%|          | 0/6040 [00:00<?, ?it/s]"
      ]
     },
     "metadata": {},
     "output_type": "display_data"
    },
    {
     "data": {
      "application/vnd.jupyter.widget-view+json": {
       "model_id": "dd46224ea24648dfbc1fc998354cf60e",
       "version_major": 2,
       "version_minor": 0
      },
      "text/plain": [
       "GAP ItemKNN:   0%|          | 0/6040 [00:00<?, ?it/s]"
      ]
     },
     "metadata": {},
     "output_type": "display_data"
    },
    {
     "data": {
      "application/vnd.jupyter.widget-view+json": {
       "model_id": "ee213e58eb2647f6aafbc8ad8c05ff4a",
       "version_major": 2,
       "version_minor": 0
      },
      "text/plain": [
       "GAP MF:   0%|          | 0/6040 [00:00<?, ?it/s]"
      ]
     },
     "metadata": {},
     "output_type": "display_data"
    },
    {
     "data": {
      "application/vnd.jupyter.widget-view+json": {
       "model_id": "6f5c5ff1379747219753e1134b5de08e",
       "version_major": 2,
       "version_minor": 0
      },
      "text/plain": [
       "GAP PMF:   0%|          | 0/6040 [00:00<?, ?it/s]"
      ]
     },
     "metadata": {},
     "output_type": "display_data"
    },
    {
     "data": {
      "application/vnd.jupyter.widget-view+json": {
       "model_id": "c71ec7f0f5234e629fe1d12ee473f2d0",
       "version_major": 2,
       "version_minor": 0
      },
      "text/plain": [
       "GAP NMF:   0%|          | 0/6040 [00:00<?, ?it/s]"
      ]
     },
     "metadata": {},
     "output_type": "display_data"
    },
    {
     "data": {
      "application/vnd.jupyter.widget-view+json": {
       "model_id": "bd490c3cb1254ea0988823e94bde630c",
       "version_major": 2,
       "version_minor": 0
      },
      "text/plain": [
       "GAP HPF:   0%|          | 0/6040 [00:00<?, ?it/s]"
      ]
     },
     "metadata": {},
     "output_type": "display_data"
    },
    {
     "name": "stdout",
     "output_type": "stream",
     "text": [
      "Saving results for eva=eva_three, pop=pop_one...\n",
      "\n",
      "--- Running Evaluation for: eva=eva_three, pop=pop_two ---\n",
      "Sorting users by 'pop_item_fraq' and splitting...\n",
      "Low Group ('Niche', 1208 users): Avg Profile Size=336.11, Avg Profile GAP=0.105535\n",
      "Med Group ('Diverse', 3624 users): Avg Profile Size=145.64, Avg Profile GAP=0.155064\n",
      "High Group ('Blockbuster', 1208 users): Avg Profile Size=54.95, Avg Profile GAP=0.217289\n",
      "Calculating NDCG@10 for MostPop...\n"
     ]
    },
    {
     "data": {
      "application/vnd.jupyter.widget-view+json": {
       "model_id": "d3d407955d964d4680fe446efc96b7e3",
       "version_major": 2,
       "version_minor": 0
      },
      "text/plain": [
       "NDCG MostPop:   0%|          | 0/6040 [00:00<?, ?it/s]"
      ]
     },
     "metadata": {},
     "output_type": "display_data"
    },
    {
     "name": "stdout",
     "output_type": "stream",
     "text": [
      "Calculating NDCG@10 for UserKNN...\n"
     ]
    },
    {
     "data": {
      "application/vnd.jupyter.widget-view+json": {
       "model_id": "c9cbf7c0107d43d298537066e18338bf",
       "version_major": 2,
       "version_minor": 0
      },
      "text/plain": [
       "NDCG UserKNN:   0%|          | 0/6040 [00:00<?, ?it/s]"
      ]
     },
     "metadata": {},
     "output_type": "display_data"
    },
    {
     "name": "stdout",
     "output_type": "stream",
     "text": [
      "Calculating NDCG@10 for ItemKNN...\n"
     ]
    },
    {
     "data": {
      "application/vnd.jupyter.widget-view+json": {
       "model_id": "503bd8879fba4b8e850fbc4fc5b02c1a",
       "version_major": 2,
       "version_minor": 0
      },
      "text/plain": [
       "NDCG ItemKNN:   0%|          | 0/6040 [00:00<?, ?it/s]"
      ]
     },
     "metadata": {},
     "output_type": "display_data"
    },
    {
     "name": "stdout",
     "output_type": "stream",
     "text": [
      "Calculating NDCG@10 for MF...\n"
     ]
    },
    {
     "data": {
      "application/vnd.jupyter.widget-view+json": {
       "model_id": "7701909f293147b89a9785b25f9c25a4",
       "version_major": 2,
       "version_minor": 0
      },
      "text/plain": [
       "NDCG MF:   0%|          | 0/6040 [00:00<?, ?it/s]"
      ]
     },
     "metadata": {},
     "output_type": "display_data"
    },
    {
     "name": "stdout",
     "output_type": "stream",
     "text": [
      "Calculating NDCG@10 for PMF...\n"
     ]
    },
    {
     "data": {
      "application/vnd.jupyter.widget-view+json": {
       "model_id": "526983177fe94da8a42ef2cddb3cfac4",
       "version_major": 2,
       "version_minor": 0
      },
      "text/plain": [
       "NDCG PMF:   0%|          | 0/6040 [00:00<?, ?it/s]"
      ]
     },
     "metadata": {},
     "output_type": "display_data"
    },
    {
     "name": "stdout",
     "output_type": "stream",
     "text": [
      "Calculating NDCG@10 for NMF...\n"
     ]
    },
    {
     "data": {
      "application/vnd.jupyter.widget-view+json": {
       "model_id": "e84b1b0514d442d6b37a4bdf55778f5b",
       "version_major": 2,
       "version_minor": 0
      },
      "text/plain": [
       "NDCG NMF:   0%|          | 0/6040 [00:00<?, ?it/s]"
      ]
     },
     "metadata": {},
     "output_type": "display_data"
    },
    {
     "name": "stdout",
     "output_type": "stream",
     "text": [
      "Calculating NDCG@10 for HPF...\n"
     ]
    },
    {
     "data": {
      "application/vnd.jupyter.widget-view+json": {
       "model_id": "27463c27c5d5482ea0833975610b6b2c",
       "version_major": 2,
       "version_minor": 0
      },
      "text/plain": [
       "NDCG HPF:   0%|          | 0/6040 [00:00<?, ?it/s]"
      ]
     },
     "metadata": {},
     "output_type": "display_data"
    },
    {
     "name": "stdout",
     "output_type": "stream",
     "text": [
      "Calculating %DeltaGAP for eva_three, pop_two...\n"
     ]
    },
    {
     "data": {
      "application/vnd.jupyter.widget-view+json": {
       "model_id": "b140af38761143c1bda0d56f14b7630a",
       "version_major": 2,
       "version_minor": 0
      },
      "text/plain": [
       "GAP MostPop:   0%|          | 0/6040 [00:00<?, ?it/s]"
      ]
     },
     "metadata": {},
     "output_type": "display_data"
    },
    {
     "data": {
      "application/vnd.jupyter.widget-view+json": {
       "model_id": "486cd2346faf420fb644a7c8a4faf1c8",
       "version_major": 2,
       "version_minor": 0
      },
      "text/plain": [
       "GAP UserKNN:   0%|          | 0/6040 [00:00<?, ?it/s]"
      ]
     },
     "metadata": {},
     "output_type": "display_data"
    },
    {
     "data": {
      "application/vnd.jupyter.widget-view+json": {
       "model_id": "71dd9ec08ad64e6d94c3d1d2c70e2bb0",
       "version_major": 2,
       "version_minor": 0
      },
      "text/plain": [
       "GAP ItemKNN:   0%|          | 0/6040 [00:00<?, ?it/s]"
      ]
     },
     "metadata": {},
     "output_type": "display_data"
    },
    {
     "data": {
      "application/vnd.jupyter.widget-view+json": {
       "model_id": "9bdc38634c5540f8b07744fafc0b535c",
       "version_major": 2,
       "version_minor": 0
      },
      "text/plain": [
       "GAP MF:   0%|          | 0/6040 [00:00<?, ?it/s]"
      ]
     },
     "metadata": {},
     "output_type": "display_data"
    },
    {
     "data": {
      "application/vnd.jupyter.widget-view+json": {
       "model_id": "8eb0acf6cc4241cfb1acbfc1f7a53255",
       "version_major": 2,
       "version_minor": 0
      },
      "text/plain": [
       "GAP PMF:   0%|          | 0/6040 [00:00<?, ?it/s]"
      ]
     },
     "metadata": {},
     "output_type": "display_data"
    },
    {
     "data": {
      "application/vnd.jupyter.widget-view+json": {
       "model_id": "5f30bd2a5d264cb8bb2e731863dbad76",
       "version_major": 2,
       "version_minor": 0
      },
      "text/plain": [
       "GAP NMF:   0%|          | 0/6040 [00:00<?, ?it/s]"
      ]
     },
     "metadata": {},
     "output_type": "display_data"
    },
    {
     "data": {
      "application/vnd.jupyter.widget-view+json": {
       "model_id": "ec99ffffe8a24203b4f8677a39ce6bfd",
       "version_major": 2,
       "version_minor": 0
      },
      "text/plain": [
       "GAP HPF:   0%|          | 0/6040 [00:00<?, ?it/s]"
      ]
     },
     "metadata": {},
     "output_type": "display_data"
    },
    {
     "name": "stdout",
     "output_type": "stream",
     "text": [
      "Saving results for eva=eva_three, pop=pop_two...\n",
      "\n",
      "--- Running Evaluation for: eva=eva_three, pop=pop_four ---\n",
      "Sorting users by 'niche_consumption_rate' and splitting...\n",
      "Low Group ('Niche', 1208 users): Avg Profile Size=78.37, Avg Profile GAP=0.177772\n",
      "Med Group ('Diverse', 3624 users): Avg Profile Size=179.59, Avg Profile GAP=0.160309\n",
      "High Group ('Blockbuster', 1208 users): Avg Profile Size=210.85, Avg Profile GAP=0.129314\n",
      "Calculating NDCG@10 for MostPop...\n"
     ]
    },
    {
     "data": {
      "application/vnd.jupyter.widget-view+json": {
       "model_id": "3518dcb5378a43d99ff5d775a11326c8",
       "version_major": 2,
       "version_minor": 0
      },
      "text/plain": [
       "NDCG MostPop:   0%|          | 0/6040 [00:00<?, ?it/s]"
      ]
     },
     "metadata": {},
     "output_type": "display_data"
    },
    {
     "name": "stdout",
     "output_type": "stream",
     "text": [
      "Calculating NDCG@10 for UserKNN...\n"
     ]
    },
    {
     "data": {
      "application/vnd.jupyter.widget-view+json": {
       "model_id": "e64c348f37f74f30ba8b8ce7adba850a",
       "version_major": 2,
       "version_minor": 0
      },
      "text/plain": [
       "NDCG UserKNN:   0%|          | 0/6040 [00:00<?, ?it/s]"
      ]
     },
     "metadata": {},
     "output_type": "display_data"
    },
    {
     "name": "stdout",
     "output_type": "stream",
     "text": [
      "Calculating NDCG@10 for ItemKNN...\n"
     ]
    },
    {
     "data": {
      "application/vnd.jupyter.widget-view+json": {
       "model_id": "1675f62391e64496983f55a286518f21",
       "version_major": 2,
       "version_minor": 0
      },
      "text/plain": [
       "NDCG ItemKNN:   0%|          | 0/6040 [00:00<?, ?it/s]"
      ]
     },
     "metadata": {},
     "output_type": "display_data"
    },
    {
     "name": "stdout",
     "output_type": "stream",
     "text": [
      "Calculating NDCG@10 for MF...\n"
     ]
    },
    {
     "data": {
      "application/vnd.jupyter.widget-view+json": {
       "model_id": "29c2dc51f49141ca8396d04f6671634f",
       "version_major": 2,
       "version_minor": 0
      },
      "text/plain": [
       "NDCG MF:   0%|          | 0/6040 [00:00<?, ?it/s]"
      ]
     },
     "metadata": {},
     "output_type": "display_data"
    },
    {
     "name": "stdout",
     "output_type": "stream",
     "text": [
      "Calculating NDCG@10 for PMF...\n"
     ]
    },
    {
     "data": {
      "application/vnd.jupyter.widget-view+json": {
       "model_id": "c7ec02c982c14ebf9c389290ac27d903",
       "version_major": 2,
       "version_minor": 0
      },
      "text/plain": [
       "NDCG PMF:   0%|          | 0/6040 [00:00<?, ?it/s]"
      ]
     },
     "metadata": {},
     "output_type": "display_data"
    },
    {
     "name": "stdout",
     "output_type": "stream",
     "text": [
      "Calculating NDCG@10 for NMF...\n"
     ]
    },
    {
     "data": {
      "application/vnd.jupyter.widget-view+json": {
       "model_id": "90af66b6ab824c57bf469b90a71451ad",
       "version_major": 2,
       "version_minor": 0
      },
      "text/plain": [
       "NDCG NMF:   0%|          | 0/6040 [00:00<?, ?it/s]"
      ]
     },
     "metadata": {},
     "output_type": "display_data"
    },
    {
     "name": "stdout",
     "output_type": "stream",
     "text": [
      "Calculating NDCG@10 for HPF...\n"
     ]
    },
    {
     "data": {
      "application/vnd.jupyter.widget-view+json": {
       "model_id": "00e2e26e0adc4b6788b0f152277e106e",
       "version_major": 2,
       "version_minor": 0
      },
      "text/plain": [
       "NDCG HPF:   0%|          | 0/6040 [00:00<?, ?it/s]"
      ]
     },
     "metadata": {},
     "output_type": "display_data"
    },
    {
     "name": "stdout",
     "output_type": "stream",
     "text": [
      "Calculating %DeltaGAP for eva_three, pop_four...\n"
     ]
    },
    {
     "data": {
      "application/vnd.jupyter.widget-view+json": {
       "model_id": "a735e737b6dc436bab66ff5c09fec994",
       "version_major": 2,
       "version_minor": 0
      },
      "text/plain": [
       "GAP MostPop:   0%|          | 0/6040 [00:00<?, ?it/s]"
      ]
     },
     "metadata": {},
     "output_type": "display_data"
    },
    {
     "data": {
      "application/vnd.jupyter.widget-view+json": {
       "model_id": "adb486c209d74f1f90cf2e572ac5f154",
       "version_major": 2,
       "version_minor": 0
      },
      "text/plain": [
       "GAP UserKNN:   0%|          | 0/6040 [00:00<?, ?it/s]"
      ]
     },
     "metadata": {},
     "output_type": "display_data"
    },
    {
     "data": {
      "application/vnd.jupyter.widget-view+json": {
       "model_id": "947e928f143e44dc91b30d2f668c9bff",
       "version_major": 2,
       "version_minor": 0
      },
      "text/plain": [
       "GAP ItemKNN:   0%|          | 0/6040 [00:00<?, ?it/s]"
      ]
     },
     "metadata": {},
     "output_type": "display_data"
    },
    {
     "data": {
      "application/vnd.jupyter.widget-view+json": {
       "model_id": "4e88b9a279ad42b2b36889169c1631b6",
       "version_major": 2,
       "version_minor": 0
      },
      "text/plain": [
       "GAP MF:   0%|          | 0/6040 [00:00<?, ?it/s]"
      ]
     },
     "metadata": {},
     "output_type": "display_data"
    },
    {
     "data": {
      "application/vnd.jupyter.widget-view+json": {
       "model_id": "b0f47aa69c5f4ade96675959aa467fda",
       "version_major": 2,
       "version_minor": 0
      },
      "text/plain": [
       "GAP PMF:   0%|          | 0/6040 [00:00<?, ?it/s]"
      ]
     },
     "metadata": {},
     "output_type": "display_data"
    },
    {
     "data": {
      "application/vnd.jupyter.widget-view+json": {
       "model_id": "027f6d8611c5414a83e4ff4b24ca3b10",
       "version_major": 2,
       "version_minor": 0
      },
      "text/plain": [
       "GAP NMF:   0%|          | 0/6040 [00:00<?, ?it/s]"
      ]
     },
     "metadata": {},
     "output_type": "display_data"
    },
    {
     "data": {
      "application/vnd.jupyter.widget-view+json": {
       "model_id": "173ee87c516a4fc48d09226cef4ec6a3",
       "version_major": 2,
       "version_minor": 0
      },
      "text/plain": [
       "GAP HPF:   0%|          | 0/6040 [00:00<?, ?it/s]"
      ]
     },
     "metadata": {},
     "output_type": "display_data"
    },
    {
     "name": "stdout",
     "output_type": "stream",
     "text": [
      "Saving results for eva=eva_three, pop=pop_four...\n",
      "\n",
      "Saving base item distribution (indexed by Cornac item ID)...\n",
      "\n",
      "Evaluation for all combinations completed in 156 seconds.\n"
     ]
    }
   ],
   "source": [
    "start_eval = time.time()\n",
    "\n",
    "# Iterate through each evaluation strategy (for which recommendations were generated)\n",
    "for eva_key, current_algo_recommendations in all_recommendations.items():\n",
    "    \n",
    "    # Iterate through each popularity notion for user grouping\n",
    "    for pop_key, pop_sort_col in popularity_function.items():\n",
    "        # Skip pop_three for movies dataset\n",
    "        if pop_key == \"pop_three\":\n",
    "            print(f\"\\n--- Skipping Evaluation for: eva={eva_key}, pop={pop_key} (Not applicable) ---\")\n",
    "            continue\n",
    "            \n",
    "        print(f\"\\n--- Running Evaluation for: eva={eva_key}, pop={pop_key} ---\")\n",
    "\n",
    "        # --- 1. Determine user groups (low, med, high) and their profile GAPs --- \n",
    "        low_group = None\n",
    "        med_group = None\n",
    "        high_group = None\n",
    "        low_GAP_profile = np.nan\n",
    "        med_GAP_profile = np.nan\n",
    "        high_GAP_profile = np.nan\n",
    "\n",
    "        # Sort and split users based on calculated metrics\n",
    "        print(f\"Sorting users by '{pop_sort_col}' and splitting...\")\n",
    "        try:\n",
    "            # Ensure the sorting column exists and handle potential NaNs before sorting\n",
    "            if pop_sort_col not in user_metrics_all.columns:\n",
    "                 raise ValueError(f\"Sorting column '{pop_sort_col}' not found.\")\n",
    "            # Drop users with NaN in the sorting column before sorting\n",
    "            user_metrics_to_sort = user_metrics_all.dropna(subset=[pop_sort_col])\n",
    "            if user_metrics_to_sort.empty:\n",
    "                raise ValueError(f\"No users remaining after dropping NaNs for sorting column '{pop_sort_col}'.\")\n",
    "                \n",
    "            user_dist_sorted = sort_users(user_metrics_to_sort, by=pop_sort_col)\n",
    "            low_group, med_group, high_group = split(user_dist_sorted, top_fraction)\n",
    "            # Calculate group characteristics for this split\n",
    "            _, _, _, _, _, _, low_GAP_profile, med_GAP_profile, high_GAP_profile = \\\n",
    "                calculate_group_characteristics(low_group, med_group, high_group)\n",
    "        except ValueError as e:\n",
    "            print(f\"Error during user sorting/splitting for pop_key='{pop_key}': {e}. Skipping evaluation.\")\n",
    "            continue\n",
    "        except IndexError as e:\n",
    "             print(f\"Error during group splitting (likely too few users or bad top_fraction): {e}. Skipping evaluation for pop_key='{pop_key}'.\")\n",
    "             continue\n",
    "             \n",
    "        # Check if groups or GAPs are invalid\n",
    "        if (low_group is None or med_group is None or high_group is None or\n",
    "            low_group.empty or med_group.empty or high_group.empty or\n",
    "            pd.isna(low_GAP_profile) or pd.isna(med_GAP_profile) or pd.isna(high_GAP_profile)):\n",
    "                print(f\"Skipping evaluation for pop_key='{pop_key}' due to invalid groups or profile GAPs.\")\n",
    "                continue\n",
    "\n",
    "        # --- 2. Calculate NDCG --- \n",
    "        NDCGs = pd.DataFrame(index=algo_names, columns=['low', 'med', 'high']).fillna(np.nan)\n",
    "        TTESTs_ndcg = pd.DataFrame(index=algo_names, columns=['low-med', 'low-high', 'med-high']).fillna(np.nan)\n",
    "        for i, algo_name in enumerate(algo_names):\n",
    "             recommendations_for_algo = current_algo_recommendations[algo_name]\n",
    "             ndcg_low, ndcg_med, ndcg_high, ttests = calculate_NDCG_per_group(algo_name, i, recommendations_for_algo, exp, low_group, med_group, high_group, rec_k)\n",
    "             NDCGs.loc[algo_name] = ndcg_low, ndcg_med, ndcg_high\n",
    "             TTESTs_ndcg.loc[algo_name] = ttests\n",
    "\n",
    "        # --- 3. Calculate %ΔGAP --- \n",
    "        low_gap_vals_list = []\n",
    "        medium_gap_vals_list = []\n",
    "        high_gap_vals_list = []\n",
    "        gap_ttests_list = []\n",
    "        \n",
    "        df_item_dist_cornac_eval = df_item_dist_cornac.copy()\n",
    "        if 'popularity' not in df_item_dist_cornac_eval.columns:\n",
    "             df_item_dist_cornac_eval['popularity'] = df_item_dist_cornac_eval['count'] / num_users\n",
    "             \n",
    "        print(f\"Calculating %DeltaGAP for {eva_key}, {pop_key}...\")\n",
    "        for i, algo_name in enumerate(algo_names):\n",
    "            low_rec_gap_user = []\n",
    "            medium_rec_gap_user = []\n",
    "            high_rec_gap_user = []\n",
    "\n",
    "            recommendations_for_algo = current_algo_recommendations[algo_name]\n",
    "            for uid_int, user_ratings in tqdm(recommendations_for_algo.items(), desc=f\"GAP {algo_name}\"):\n",
    "                iid_list_int = [iid for (iid, _) in user_ratings]\n",
    "                if not iid_list_int: continue\n",
    "                \n",
    "                iid_list_str = [str(iid) for iid in iid_list_int]\n",
    "                valid_iids_str = [iid_str for iid_str in iid_list_str if iid_str in df_item_dist_cornac_eval.index]\n",
    "                \n",
    "                if not valid_iids_str: continue\n",
    "\n",
    "                # Calculate GAP for this user's recommendations using item 'popularity'\n",
    "                gap = sum(df_item_dist_cornac_eval.loc[valid_iids_str, 'popularity']) / len(valid_iids_str)\n",
    "                \n",
    "                # Skip if GAP is NaN\n",
    "                if pd.isna(gap):\n",
    "                    # print(f\"Warning: NaN GAP calculated for user {uid_int} in {algo_name}. Skipping user for GAP avg.\")\n",
    "                    continue \n",
    "\n",
    "                if uid_int in low_group.index:\n",
    "                    low_rec_gap_user.append(gap)\n",
    "                elif uid_int in med_group.index:\n",
    "                    medium_rec_gap_user.append(gap)\n",
    "                elif uid_int in high_group.index:\n",
    "                    high_rec_gap_user.append(gap)\n",
    "            \n",
    "            mean_gap_rec_low = np.nanmean(low_rec_gap_user) if low_rec_gap_user else np.nan\n",
    "            mean_gap_rec_med = np.nanmean(medium_rec_gap_user) if medium_rec_gap_user else np.nan\n",
    "            mean_gap_rec_high = np.nanmean(high_rec_gap_user) if high_rec_gap_user else np.nan\n",
    "            \n",
    "            # Calculate %ΔGAP only if profile GAP is valid (non-NaN and non-zero)\n",
    "            delta_gap_low = (mean_gap_rec_low - low_GAP_profile) / low_GAP_profile * 100 if pd.notna(low_GAP_profile) and low_GAP_profile != 0 and pd.notna(mean_gap_rec_low) else np.nan\n",
    "            delta_gap_med = (mean_gap_rec_med - med_GAP_profile) / med_GAP_profile * 100 if pd.notna(med_GAP_profile) and med_GAP_profile != 0 and pd.notna(mean_gap_rec_med) else np.nan\n",
    "            delta_gap_high = (mean_gap_rec_high - high_GAP_profile) / high_GAP_profile * 100 if pd.notna(high_GAP_profile) and high_GAP_profile != 0 and pd.notna(mean_gap_rec_high) else np.nan\n",
    "            \n",
    "            low_gap_vals_list.append(delta_gap_low)\n",
    "            medium_gap_vals_list.append(delta_gap_med)\n",
    "            high_gap_vals_list.append(delta_gap_high)\n",
    "            \n",
    "            # Calculate t-tests for %ΔGAP differences (using individual user relative differences)\n",
    "            rel_diff_low = [(g - low_GAP_profile) / low_GAP_profile for g in low_rec_gap_user if pd.notna(g)] if pd.notna(low_GAP_profile) and low_GAP_profile != 0 else []\n",
    "            rel_diff_med = [(g - med_GAP_profile) / med_GAP_profile for g in medium_rec_gap_user if pd.notna(g)] if pd.notna(med_GAP_profile) and med_GAP_profile != 0 else []\n",
    "            rel_diff_high = [(g - high_GAP_profile) / high_GAP_profile for g in high_rec_gap_user if pd.notna(g)] if pd.notna(high_GAP_profile) and high_GAP_profile != 0 else []\n",
    "            \n",
    "            ttests_gap = [np.nan] * 3\n",
    "            try:\n",
    "                if len(rel_diff_low) > 1 and len(rel_diff_med) > 1:\n",
    "                     ttests_gap[0] = stats.ttest_ind(rel_diff_low, rel_diff_med, equal_var=False, nan_policy='omit')[1]\n",
    "                if len(rel_diff_low) > 1 and len(rel_diff_high) > 1:\n",
    "                     ttests_gap[1] = stats.ttest_ind(rel_diff_low, rel_diff_high, equal_var=False, nan_policy='omit')[1]\n",
    "                if len(rel_diff_med) > 1 and len(rel_diff_high) > 1:\n",
    "                     ttests_gap[2] = stats.ttest_ind(rel_diff_med, rel_diff_high, equal_var=False, nan_policy='omit')[1]\n",
    "            except Exception as e:\n",
    "                 print(f\"Error during t-test calculation for GAP ({algo_name}): {e}\")\n",
    "            gap_ttests_list.append(ttests_gap)\n",
    "\n",
    "        # --- 4. Save results for this combination --- \n",
    "        print(f\"Saving results for eva={eva_key}, pop={pop_key}...\")\n",
    "        \n",
    "        NDCGs.to_csv(results_location + f'NDCGs_movies_{eva_key}_{pop_key}.csv')\n",
    "        TTESTs_ndcg.to_csv(results_location + f'NDCG_ttests_movies_{eva_key}_{pop_key}.csv')\n",
    "        \n",
    "        # Save GAP results as lists (containing floats or NaNs)\n",
    "        gap_results_dict = {\n",
    "            'low': low_gap_vals_list,\n",
    "            'med': medium_gap_vals_list,\n",
    "            'high': high_gap_vals_list\n",
    "        }\n",
    "        df_gap_results = pd.DataFrame(gap_results_dict, index=algo_names)\n",
    "        df_gap_results.to_csv(results_location + f'PercentDeltaGAP_movies_{eva_key}_{pop_key}.csv')\n",
    "        \n",
    "        # Save t-tests for GAP\n",
    "        df_gap_ttests = pd.DataFrame(gap_ttests_list, index=algo_names, columns=['low-med', 'low-high', 'med-high'])\n",
    "        df_gap_ttests.to_csv(results_location + f'GAP_ttests_movies_{eva_key}_{pop_key}.csv')\n",
    "\n",
    "# --- 5. Save Base Item Distribution --- \n",
    "print(\"\\nSaving base item distribution (indexed by Cornac item ID)...\")\n",
    "df_item_dist_cornac.to_csv(results_location + 'df_item_dist_cornac_movies_base.csv')\n",
    "\n",
    "end_eval = time.time()\n",
    "print(f\"\\nEvaluation for all combinations completed in {round(end_eval - start_eval)} seconds.\")"
   ]
  }
 ],
 "metadata": {
  "colab": {
   "provenance": []
  },
  "kernelspec": {
   "display_name": "base",
   "language": "python",
   "name": "python3"
  },
  "language_info": {
   "codemirror_mode": {
    "name": "ipython",
    "version": 3
   },
   "file_extension": ".py",
   "mimetype": "text/x-python",
   "name": "python",
   "nbconvert_exporter": "python",
   "pygments_lexer": "ipython3",
   "version": "3.12.4"
  },
  "widgets": {
   "application/vnd.jupyter.widget-state+json": {}
  }
 },
 "nbformat": 4,
 "nbformat_minor": 4
}
