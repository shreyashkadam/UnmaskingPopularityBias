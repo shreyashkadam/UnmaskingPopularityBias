{
 "cells": [
  {
   "cell_type": "markdown",
   "metadata": {
    "id": "T7NA8UpqUnnV"
   },
   "source": [
    "# Process\n",
    "In this notebook, I will train the music recommendation algorithms using  <a href=\"https://cornac.readthedocs.io/en/latest/\">Cornac</a>. \n",
    "\n",
    "**Note:** This notebook has been refactored to automate the evaluation across all combinations of user grouping strategies (`pop_notion`) and evaluation strategies (`choice`/`eva`). It performs one-time computations first (data loading, model training) and then loops through the combinations for evaluation and result saving."
   ]
  },
  {
   "cell_type": "markdown",
   "metadata": {
    "id": "6HyLhxzyUu6w"
   },
   "source": [
    "## A. Import libraries"
   ]
  },
  {
   "cell_type": "code",
   "execution_count": 1,
   "metadata": {
    "id": "5YRmDovpU54c"
   },
   "outputs": [],
   "source": [
    "import warnings\n",
    "warnings.simplefilter(action='ignore', category=FutureWarning)\n",
    "import matplotlib.pyplot as plt\n",
    "import random as rd\n",
    "import pandas as pd\n",
    "import numpy as np\n",
    "from tqdm.notebook import tqdm # Use notebook version for better display\n",
    "import pickle as pkl\n",
    "import time\n",
    "import os\n",
    "\n",
    "# Cornac imports\n",
    "import cornac\n",
    "from cornac.eval_methods import RatioSplit\n",
    "from cornac.data import Reader as CornacReader #Reader exists in both packages\n",
    "from cornac.models import MostPop, MF, PMF, HPF, ItemKNN, UserKNN\n",
    "from cornac.models import NMF as CornacNMF #NMF exists in both packages\n",
    "from cornac.metrics import MAE, MSE, RMSE, Precision, Recall, NDCG, AUC, MAP, FMeasure, MRR\n",
    "\n",
    "from collections import defaultdict\n",
    "from scipy import stats\n",
    "from sklearn.metrics import mean_squared_error, precision_score, recall_score, ndcg_score\n",
    "from numpy.linalg import norm\n",
    "import seaborn as sns\n",
    "from sklearn.preprocessing import MinMaxScaler\n",
    "# set plot style: grey grid in the background:\n",
    "sns.set(style=\"darkgrid\")\n",
    "pd.set_option(\"display.precision\", 8)"
   ]
  },
  {
   "cell_type": "markdown",
   "metadata": {
    "id": "wJr35vAGVuM4"
   },
   "source": [
    "## B. Set hyperparameters\n",
    "There are certain hyperparameters that need to be tuned before the run. "
   ]
  },
  {
   "cell_type": "code",
   "execution_count": 2,
   "metadata": {
    "id": "Wz1OKVKoVkkD"
   },
   "outputs": [],
   "source": [
    "# constants and initialization\n",
    "rating_threshold = 1.0 # needed for the cornac library: Threshold used to binarize rating values into positive or negative feedback for model evaluation using ranking metrics (rating metrics are not affected). \n",
    "my_seed = 0\n",
    "test_size = 0.2 # the percentage of \"hold out\" data that are used for testing\n",
    "predict_col = \"rating\"\n",
    "user_col = \"user\"\n",
    "item_col = \"artist\"\n",
    "top_fraction = 0.2 # the amount of items that will be considered \"popular\", also user group split fraction\n",
    "rec_k = 10 # Number of items to recommend\n",
    "results_location = 'results/' # Folder to save results\n",
    "\n",
    "# Create results directory if it doesn't exist\n",
    "os.makedirs(results_location, exist_ok=True)\n",
    "\n",
    "rd.seed(my_seed) #seed for random functions\n",
    "np.random.seed(my_seed) #seed for all numpy stuff"
   ]
  },
  {
   "cell_type": "markdown",
   "metadata": {
    "id": "3Z0PCJ5LZen3"
   },
   "source": [
    "## C. Read files"
   ]
  },
  {
   "cell_type": "code",
   "execution_count": 3,
   "metadata": {
    "colab": {
     "base_uri": "https://localhost:8080/"
    },
    "id": "6T6EX2EW6i6-",
    "outputId": "e6b604a3-4662-4369-f7a3-6b76bcb4df49"
   },
   "outputs": [
    {
     "name": "stdout",
     "output_type": "stream",
     "text": [
      "No. user-item interactions: 1008479\n"
     ]
    }
   ],
   "source": [
    "# Using the relevant_music_data_20.csv as per original notebook logic when alt_dataset=True\n",
    "user_events_file = 'data/relevant_music_data_20.csv'\n",
    "df_events_orig = pd.read_csv(user_events_file, index_col=0)\n",
    "\n",
    "print('No. user-item interactions: ' + str(len(df_events_orig)))\n",
    "df_events_orig = df_events_orig.astype({user_col: \"int\", item_col: \"int\", predict_col: \"int\"})"
   ]
  },
  {
   "cell_type": "code",
   "execution_count": 4,
   "metadata": {},
   "outputs": [
    {
     "data": {
      "text/html": [
       "<div>\n",
       "<style scoped>\n",
       "    .dataframe tbody tr th:only-of-type {\n",
       "        vertical-align: middle;\n",
       "    }\n",
       "\n",
       "    .dataframe tbody tr th {\n",
       "        vertical-align: top;\n",
       "    }\n",
       "\n",
       "    .dataframe thead th {\n",
       "        text-align: right;\n",
       "    }\n",
       "</style>\n",
       "<table border=\"1\" class=\"dataframe\">\n",
       "  <thead>\n",
       "    <tr style=\"text-align: right;\">\n",
       "      <th></th>\n",
       "      <th>user</th>\n",
       "      <th>artist</th>\n",
       "      <th>rating</th>\n",
       "    </tr>\n",
       "  </thead>\n",
       "  <tbody>\n",
       "    <tr>\n",
       "      <th>0</th>\n",
       "      <td>1021445</td>\n",
       "      <td>12</td>\n",
       "      <td>43</td>\n",
       "    </tr>\n",
       "    <tr>\n",
       "      <th>1</th>\n",
       "      <td>1021445</td>\n",
       "      <td>16</td>\n",
       "      <td>1</td>\n",
       "    </tr>\n",
       "    <tr>\n",
       "      <th>2</th>\n",
       "      <td>1021445</td>\n",
       "      <td>28</td>\n",
       "      <td>7</td>\n",
       "    </tr>\n",
       "    <tr>\n",
       "      <th>3</th>\n",
       "      <td>1021445</td>\n",
       "      <td>29</td>\n",
       "      <td>1</td>\n",
       "    </tr>\n",
       "    <tr>\n",
       "      <th>4</th>\n",
       "      <td>1021445</td>\n",
       "      <td>46</td>\n",
       "      <td>1</td>\n",
       "    </tr>\n",
       "  </tbody>\n",
       "</table>\n",
       "</div>"
      ],
      "text/plain": [
       "      user  artist  rating\n",
       "0  1021445      12      43\n",
       "1  1021445      16       1\n",
       "2  1021445      28       7\n",
       "3  1021445      29       1\n",
       "4  1021445      46       1"
      ]
     },
     "execution_count": 4,
     "metadata": {},
     "output_type": "execute_result"
    }
   ],
   "source": [
    "df_events_orig.head()"
   ]
  },
  {
   "cell_type": "markdown",
   "metadata": {
    "id": "iMVCVOTmaozs"
   },
   "source": [
    "## D. Data analysis & Preprocessing"
   ]
  },
  {
   "cell_type": "markdown",
   "metadata": {},
   "source": [
    "### D.1 Define Analysis Functions"
   ]
  },
  {
   "cell_type": "code",
   "execution_count": 5,
   "metadata": {
    "id": "WpGdgR_iam3y"
   },
   "outputs": [],
   "source": [
    "def users_and_items(df_events, user_col, item_col):\n",
    "    print('No. user events: ' + str(len(df_events)))\n",
    "    print('No. items: ' + str(len(df_events[item_col].unique())))\n",
    "    print('No. users: ' + str(len(df_events[user_col].unique())))\n",
    "    print(\"\\n\")\n",
    "def user_distribution(df_events, user_col, item_col):\n",
    "    user_dist = df_events[user_col].value_counts() \n",
    "    num_users = len(user_dist)\n",
    "    print('Mean '+item_col+'s per user: ' + str(np.round(user_dist.mean(),1))) \n",
    "    print('Min '+item_col+'s per user: ' + str(np.round(user_dist.min(),1))) \n",
    "    print('Max '+item_col+'s per user: ' + str(np.round(user_dist.max(),1)))\n",
    "    print(\"\\n\")\n",
    "    return user_dist, num_users\n",
    "def item_distribution(df_events, user_col, item_col):\n",
    "    item_dist = df_events[item_col].value_counts()\n",
    "    num_items = len(item_dist)\n",
    "    print('Mean users per '+item_col+': ' + str(np.round(item_dist.mean(),1))) \n",
    "    print('Min users per '+item_col+': ' + str(np.round(item_dist.min(),1))) \n",
    "    print('Max users per '+item_col+': ' + str(np.round(item_dist.max(),1))) \n",
    "    print(\"\\n\")\n",
    "    return item_dist, num_items"
   ]
  },
  {
   "cell_type": "markdown",
   "metadata": {},
   "source": [
    "### D.2 Run Initial Analysis"
   ]
  },
  {
   "cell_type": "code",
   "execution_count": 6,
   "metadata": {
    "colab": {
     "base_uri": "https://localhost:8080/"
    },
    "id": "1jwJq8rda1jS",
    "outputId": "14b48dc3-a0a1-49df-a6fe-a7c58cc8c20c"
   },
   "outputs": [
    {
     "name": "stdout",
     "output_type": "stream",
     "text": [
      "No. user events: 1008479\n",
      "No. items: 12690\n",
      "No. users: 3000\n",
      "\n",
      "\n",
      "Mean artists per user: 336.2\n",
      "Min artists per user: 4\n",
      "Max artists per user: 2057\n",
      "\n",
      "\n",
      "Mean users per artist: 79.5\n",
      "Min users per artist: 21\n",
      "Max users per artist: 1389\n",
      "\n",
      "\n"
     ]
    }
   ],
   "source": [
    "users_and_items(df_events_orig, user_col, item_col)\n",
    "user_dist, num_users = user_distribution(df_events_orig, user_col, item_col)\n",
    "item_dist, num_items = item_distribution(df_events_orig, user_col, item_col)"
   ]
  },
  {
   "cell_type": "markdown",
   "metadata": {},
   "source": [
    "### D.3 Calculate Base Item Popularity"
   ]
  },
  {
   "cell_type": "code",
   "execution_count": 7,
   "metadata": {
    "id": "C7wdClok5BPv"
   },
   "outputs": [
    {
     "name": "stdout",
     "output_type": "stream",
     "text": [
      "No. top items: 2538\n"
     ]
    }
   ],
   "source": [
    "# create item dataframe with item counts and normalized popularity\n",
    "df_item_dist = pd.DataFrame(item_dist) # turn the series into a dataframe\n",
    "df_item_dist.columns = ['count']\n",
    "df_item_dist['popularity'] = df_item_dist['count'] / num_users # Normalized popularity\n",
    "\n",
    "# Identify top items\n",
    "num_top = int(top_fraction * num_items)\n",
    "top_item_dist = item_dist[:num_top] # Uses the Series with raw counts\n",
    "print('No. top items: ' + str(len(top_item_dist)))"
   ]
  },
  {
   "cell_type": "code",
   "execution_count": 8,
   "metadata": {
    "colab": {
     "base_uri": "https://localhost:8080/",
     "height": 206
    },
    "id": "UMNYiSh35KG8",
    "outputId": "d7ef47b8-ccd8-44c0-ae90-d32d650c04dd"
   },
   "outputs": [
    {
     "data": {
      "text/html": [
       "<div>\n",
       "<style scoped>\n",
       "    .dataframe tbody tr th:only-of-type {\n",
       "        vertical-align: middle;\n",
       "    }\n",
       "\n",
       "    .dataframe tbody tr th {\n",
       "        vertical-align: top;\n",
       "    }\n",
       "\n",
       "    .dataframe thead th {\n",
       "        text-align: right;\n",
       "    }\n",
       "</style>\n",
       "<table border=\"1\" class=\"dataframe\">\n",
       "  <thead>\n",
       "    <tr style=\"text-align: right;\">\n",
       "      <th></th>\n",
       "      <th>count</th>\n",
       "      <th>popularity</th>\n",
       "    </tr>\n",
       "    <tr>\n",
       "      <th>artist</th>\n",
       "      <th></th>\n",
       "      <th></th>\n",
       "    </tr>\n",
       "  </thead>\n",
       "  <tbody>\n",
       "    <tr>\n",
       "      <th>135</th>\n",
       "      <td>1389</td>\n",
       "      <td>0.46300000</td>\n",
       "    </tr>\n",
       "    <tr>\n",
       "      <th>1602</th>\n",
       "      <td>1359</td>\n",
       "      <td>0.45300000</td>\n",
       "    </tr>\n",
       "    <tr>\n",
       "      <th>46</th>\n",
       "      <td>1325</td>\n",
       "      <td>0.44166667</td>\n",
       "    </tr>\n",
       "    <tr>\n",
       "      <th>320</th>\n",
       "      <td>1297</td>\n",
       "      <td>0.43233333</td>\n",
       "    </tr>\n",
       "    <tr>\n",
       "      <th>27</th>\n",
       "      <td>1290</td>\n",
       "      <td>0.43000000</td>\n",
       "    </tr>\n",
       "  </tbody>\n",
       "</table>\n",
       "</div>"
      ],
      "text/plain": [
       "        count  popularity\n",
       "artist                   \n",
       "135      1389  0.46300000\n",
       "1602     1359  0.45300000\n",
       "46       1325  0.44166667\n",
       "320      1297  0.43233333\n",
       "27       1290  0.43000000"
      ]
     },
     "execution_count": 8,
     "metadata": {},
     "output_type": "execute_result"
    }
   ],
   "source": [
    "df_item_dist.head()"
   ]
  },
  {
   "cell_type": "markdown",
   "metadata": {},
   "source": [
    "### D.4 Define Plotting Functions"
   ]
  },
  {
   "cell_type": "code",
   "execution_count": 9,
   "metadata": {
    "id": "G7o_VBaUa4lH"
   },
   "outputs": [],
   "source": [
    "def plot_data_distribution(item_dist, item_col, dividing = [False, 0], log = False):\n",
    "    plt.figure()\n",
    "    ax = plt.axes()\n",
    "    ax.spines['bottom'].set_color('w')\n",
    "    ax.spines['top'].set_color('w')\n",
    "    ax.spines['right'].set_color('w')\n",
    "    ax.spines['left'].set_color('w')\n",
    "    ax.spines['left'].set_zorder(0)\n",
    "    ax.xaxis.set_ticks_position('none') \n",
    "    ax.yaxis.set_ticks_position('none') \n",
    "    ax.set_facecolor(\"aliceblue\")\n",
    "    plt.grid(color = \"w\",linewidth = 2 )\n",
    "    if dividing[0]:\n",
    "        x0 = int(len(item_dist.values)*dividing[1])\n",
    "        y = range(len(item_dist))\n",
    "        plt.plot(y[:x0+1], item_dist.values[:x0+1], label = \"Popular \"+item_col+\"s\", linewidth = 5)\n",
    "        plt.plot(y[x0:], item_dist.values[x0:], label = \"Non Popular \"+item_col+\"s\", linewidth = 5)\n",
    "    else:\n",
    "        plt.plot(item_dist.values)\n",
    "    plt.xticks(fontsize='13')\n",
    "    plt.yticks(fontsize='13')\n",
    "    add = \"\"\n",
    "    if log:\n",
    "        plt.xscale('log')\n",
    "        plt.yscale('log')\n",
    "        add = \" (log)\"\n",
    "    plt.title(f'{item_col} Popularity Distribution{add}') # Added title\n",
    "    plt.xlabel(item_col+add, fontsize='14')\n",
    "    plt.ylabel('Number of users' + add, fontsize='15')\n",
    "    plt.show(block=False) # Use non-blocking show for automated runs\n",
    "    plt.close() # Close plot to free memory\n",
    "\n",
    "# This function is less relevant in an automated run generating many results, but kept for potential manual checks\n",
    "def plot_popularity_distribution(pop_fraq, item_col, dividing = [False,0]):\n",
    "    plt.figure()\n",
    "    ax = plt.axes()\n",
    "    ax.spines['bottom'].set_color('w')\n",
    "    ax.spines['top'].set_color('w')\n",
    "    ax.spines['right'].set_color('w')\n",
    "    ax.spines['left'].set_color('w')\n",
    "    ax.spines['left'].set_zorder(0)\n",
    "    ax.xaxis.set_ticks_position('none') \n",
    "    ax.yaxis.set_ticks_position('none') \n",
    "    \n",
    "    ax.set_facecolor(\"aliceblue\")\n",
    "    plt.grid(color = \"w\",linewidth = 2 )\n",
    "    if dividing[0]:\n",
    "        y = range(len(pop_fraq))\n",
    "        x0 = int(len(y)*dividing[1]) \n",
    "        x1 = int(len(y)*(1-dividing[1]))\n",
    "        x= sorted(pop_fraq)\n",
    "        plt.plot(y[:x0+1],x[:x0+1], label=\"LowMS users\", linewidth = 5)\n",
    "        plt.plot(y[x0:x1+1],x[x0:x1+1], label = \"MedMS users\", linewidth = 5)\n",
    "        plt.plot(y[x1:],x[x1:], label = \"HighMS users\", linewidth =5)\n",
    "    else:\n",
    "        plt.plot(sorted(pop_fraq))\n",
    "    plt.title(f'User Distribution by Ratio of Popular {item_col}s') # Added title\n",
    "    plt.xlabel('User', fontsize='15')\n",
    "    plt.xticks(fontsize='13')\n",
    "    plt.ylabel('Ratio of popular '+item_col+'s', fontsize='15')\n",
    "    plt.yticks(fontsize='13')\n",
    "    plt.axhline(y=0.8, color='black', linestyle='--', label='80% ratio of popular '+item_col+'s')\n",
    "    plt.legend(fontsize='15')\n",
    "    plt.show(block=False)\n",
    "    plt.close()\n",
    "\n",
    "# This function is less relevant in an automated run, but kept for potential manual checks\n",
    "def plot_profile_size_vs_popularity(pop_metric, user_hist, way, item_col):\n",
    "    plt.figure()\n",
    "    ax = plt.axes()\n",
    "    ax.spines['bottom'].set_color('w')\n",
    "    ax.spines['top'].set_color('w')\n",
    "    ax.spines['right'].set_color('w')\n",
    "    ax.spines['left'].set_color('w')\n",
    "    ax.spines['left'].set_zorder(0)\n",
    "    ax.xaxis.set_ticks_position('none') \n",
    "    ax.yaxis.set_ticks_position('none') \n",
    "    \n",
    "    ax.set_facecolor(\"aliceblue\")\n",
    "    plt.grid(color = \"w\",linewidth = 2 )\n",
    "    # Filter out potential NaNs before calculating linregress\n",
    "    mask = ~np.isnan(user_hist) & ~np.isnan(pop_metric)\n",
    "    if np.sum(mask) < 2: # Need at least 2 points for regression\n",
    "        print(f\"Skipping plot for '{way}': Insufficient valid data points.\")\n",
    "        plt.close()\n",
    "        return\n",
    "    user_hist_valid = np.array(user_hist)[mask]\n",
    "    pop_metric_valid = np.array(pop_metric)[mask]\n",
    "    \n",
    "    slope, intercept, r_value, p_value, std_err = stats.linregress(user_hist_valid, pop_metric_valid)\n",
    "    print(f'Profile Size vs Popularity ({way}) R-value: {r_value:.4f}') # Print R-value\n",
    "    line = slope * user_hist_valid + intercept\n",
    "    plt.plot(user_hist_valid, pop_metric_valid, 'o', user_hist_valid, line)\n",
    "    \n",
    "    if way == \"count\":\n",
    "        ylabel = \"Number of popular \"+item_col+\"s\"\n",
    "    elif way == \"percentage\":\n",
    "        ylabel = 'Percentage of popular '+item_col+'s'\n",
    "    else:\n",
    "        ylabel = \"Average popularity of \"+item_col+\"s\"\n",
    "    plt.title(f'User Profile Size vs {ylabel}') # Added title\n",
    "    plt.xlabel('User profile size', fontsize='15')\n",
    "    plt.xticks(fontsize='13')\n",
    "    plt.ylabel(ylabel, fontsize='15')\n",
    "    plt.yticks(fontsize='13')\n",
    "    plt.show(block=False)\n",
    "    plt.close()"
   ]
  },
  {
   "cell_type": "markdown",
   "metadata": {},
   "source": [
    "### D.5 Plot Initial Distributions"
   ]
  },
  {
   "cell_type": "code",
   "execution_count": 10,
   "metadata": {
    "colab": {
     "base_uri": "https://localhost:8080/",
     "height": 564
    },
    "id": "COATHnNGa_G5",
    "outputId": "053099ea-4ddf-4a97-e726-1d499b712cf8"
   },
   "outputs": [
    {
     "data": {
      "image/png": "[encoded data removed]",
      "text/plain": [
       "<Figure size 640x480 with 1 Axes>"
      ]
     },
     "metadata": {},
     "output_type": "display_data"
    },
    {
     "data": {
      "image/png": "[encoded data removed]",
      "text/plain": [
       "<Figure size 640x480 with 1 Axes>"
      ]
     },
     "metadata": {},
     "output_type": "display_data"
    }
   ],
   "source": [
    "plot_data_distribution(item_dist, item_col)\n",
    "plot_data_distribution(item_dist, item_col, [False, 0], True)"
   ]
  },
  {
   "cell_type": "markdown",
   "metadata": {
    "id": "KMiAQybFbFSj"
   },
   "source": [
    "## E. Calculate Base User Popularity Metrics"
   ]
  },
  {
   "cell_type": "markdown",
   "metadata": {},
   "source": [
    "Define functions to calculate different user popularity/niche metrics. These will be calculated once and used later for sorting/grouping based on the chosen `pop_notion`."
   ]
  },
  {
   "cell_type": "code",
   "execution_count": 11,
   "metadata": {
    "id": "OVptdVHQVTjs"
   },
   "outputs": [],
   "source": [
    "# Function to read pre-defined user groups for 'pop_three' notion (Not applicable for Music, kept for structure)\n",
    "def read_mainstream_groups(low_user_file, medium_user_file, high_user_file):\n",
    "    print(\"Note: 'pop_three' (mainstreaminess) is not applicable for this dataset.\")\n",
    "    return None, None, None\n",
    "\n",
    "# Function to calculate GAP and ratios for pre-defined groups ('pop_three') (Not applicable for Music, kept for structure)\n",
    "def calculate_stats_for_mainstream_groups(df_events, top_item_dist, item_dist_df, num_users, user_col, item_col, low_users, medium_users, high_users):\n",
    "    print(\"Skipping mainstream group calculations as 'pop_three' is not applicable.\")\n",
    "    return (np.nan,) * 9 # Return NaNs\n",
    "\n",
    "# Function to calculate base popularity metrics for all users\n",
    "def calculate_popularity_metrics(df_events, top_item_dist, item_dist_df, num_users, user_col, item_col):\n",
    "    # item_dist_df should be the DataFrame with 'popularity' column\n",
    "    pop_count = [] # number of top items per user\n",
    "    user_hist = [] # user history sizes\n",
    "    pop_fraq = [] # relative number of top items per user\n",
    "    pop_item_fraq = [] # average popularity of items in user profiles (GAP in profile)\n",
    "    user_ids_processed = [] # Keep track of user order\n",
    "    \n",
    "    print(\"Calculating base popularity metrics for all users...\")\n",
    "    for u, df in tqdm(df_events.groupby(user_col), total=df_events[user_col].nunique()):\n",
    "        user_ids_processed.append(int(u))\n",
    "        no_user_items = len(set(df[item_col]))\n",
    "        if no_user_items == 0: # Handle users with no items\n",
    "             pop_count.append(0)\n",
    "             user_hist.append(0)\n",
    "             pop_fraq.append(np.nan)\n",
    "             pop_item_fraq.append(np.nan)\n",
    "             continue\n",
    "             \n",
    "        no_user_pop_items = len(set(df[item_col]) & set(top_item_dist.index))\n",
    "        pop_count.append(no_user_pop_items)\n",
    "        user_hist.append(no_user_items) \n",
    "        pop_fraq.append(no_user_pop_items / no_user_items)\n",
    "        # Use the 'popularity' (normalized) column from df_item_dist for GAP calculation\n",
    "        user_pop_item_fraq_val = sum(item_dist_df.loc[df[item_col], 'popularity']) / no_user_items\n",
    "        pop_item_fraq.append(user_pop_item_fraq_val)\n",
    "        \n",
    "    # Return as a dictionary mapping user_id to metrics for easier alignment later\n",
    "    metrics_dict = {\n",
    "        'user_id': user_ids_processed,\n",
    "        'pop_count': pop_count,\n",
    "        'user_hist': user_hist,\n",
    "        'pop_fraq': pop_fraq,\n",
    "        'pop_item_fraq': pop_item_fraq\n",
    "    }\n",
    "    return pd.DataFrame(metrics_dict).set_index('user_id')\n",
    "\n",
    "# Function to calculate niche consumption rate\n",
    "def calculate_niche_consumption_rates(df_events, item_dist_df, user_dist_counts, user_col, item_col, niche_threshold_percentile=0.3):\n",
    "    # item_dist_df should be the DataFrame with 'count' column\n",
    "    print(f\"Defining niche items (bottom {niche_threshold_percentile*100:.0f}% popularity)...\")\n",
    "\n",
    "    # --- Step 1: Identify Niche Items ---\n",
    "    item_popularity_values = pd.to_numeric(item_dist_df['count'].values, errors='coerce') # Use raw counts for percentile\n",
    "    item_popularity_values = item_popularity_values[~np.isnan(item_popularity_values)] # Remove NaNs if any\n",
    "\n",
    "    if len(item_popularity_values) == 0:\n",
    "         raise ValueError(\"Item distribution contains no valid numeric popularity values.\")\n",
    "\n",
    "    popularity_threshold = np.percentile(item_popularity_values, niche_threshold_percentile * 100)\n",
    "\n",
    "    # Get the IDs of items with popularity count <= threshold\n",
    "    niche_item_ids = item_dist_df[item_dist_df['count'] <= popularity_threshold].index\n",
    "    niche_item_set = set(niche_item_ids) # Use a set for efficient lookup\n",
    "    print(f\"Found {len(niche_item_set)} niche items with popularity count <= {popularity_threshold:.2f}.\")\n",
    "\n",
    "    # --- Step 2: Calculate Rate Per User ---\n",
    "    niche_rates = {}\n",
    "    user_groups = dict(iter(df_events.groupby(user_col)))\n",
    "\n",
    "    print(\"Calculating niche consumption rate per user...\")\n",
    "    # Iterate through users in the order defined by user_dist_counts to ensure alignment\n",
    "    for u in tqdm(user_dist_counts.index):\n",
    "        if u not in user_groups:\n",
    "            print(f\"Warning: User {u} found in user_dist_counts but not in df_events. Assigning rate NaN.\")\n",
    "            niche_rates[u] = np.nan\n",
    "            continue\n",
    "\n",
    "        df_user = user_groups[u]\n",
    "        user_items_set = set(df_user[item_col])\n",
    "        total_user_items = len(user_items_set)\n",
    "\n",
    "        if total_user_items == 0:\n",
    "            niche_rates[u] = np.nan # Handle users with no items\n",
    "            continue\n",
    "\n",
    "        niche_items_consumed = user_items_set.intersection(niche_item_set)\n",
    "        niche_item_count = len(niche_items_consumed)\n",
    "\n",
    "        niche_rate = niche_item_count / total_user_items\n",
    "        niche_rates[u] = niche_rate\n",
    "\n",
    "    print(\"Finished calculating niche consumption rates.\")\n",
    "    # Return as a Series aligned with user_dist_counts index\n",
    "    return pd.Series(niche_rates, index=user_dist_counts.index, name='niche_consumption_rate')"
   ]
  },
  {
   "cell_type": "markdown",
   "metadata": {},
   "source": [
    "### E.1 Calculate All Base User Metrics"
   ]
  },
  {
   "cell_type": "code",
   "execution_count": 12,
   "metadata": {
    "id": "yoowIBXOVGZi",
    "outputId": "a1fd1c67-4136-48f6-83ed-3edb2089e503"
   },
   "outputs": [
    {
     "name": "stdout",
     "output_type": "stream",
     "text": [
      "Calculating base popularity metrics for all users...\n"
     ]
    },
    {
     "data": {
      "application/vnd.jupyter.widget-view+json": {
       "model_id": "01f4089fc2804c66aeaeb011ef973af9",
       "version_major": 2,
       "version_minor": 0
      },
      "text/plain": [
       "  0%|          | 0/3000 [00:00<?, ?it/s]"
      ]
     },
     "metadata": {},
     "output_type": "display_data"
    },
    {
     "name": "stdout",
     "output_type": "stream",
     "text": [
      "Defining niche items (bottom 30% popularity)...\n",
      "Found 3855 niche items with popularity count <= 29.00.\n",
      "Calculating niche consumption rate per user...\n"
     ]
    },
    {
     "data": {
      "application/vnd.jupyter.widget-view+json": {
       "model_id": "e0c767f88f5142f48ebcbc7da5d759b3",
       "version_major": 2,
       "version_minor": 0
      },
      "text/plain": [
       "  0%|          | 0/3000 [00:00<?, ?it/s]"
      ]
     },
     "metadata": {},
     "output_type": "display_data"
    },
    {
     "name": "stdout",
     "output_type": "stream",
     "text": [
      "Finished calculating niche consumption rates.\n",
      "\n",
      "Combined User Metrics DataFrame Head:\n"
     ]
    },
    {
     "data": {
      "text/html": [
       "<div>\n",
       "<style scoped>\n",
       "    .dataframe tbody tr th:only-of-type {\n",
       "        vertical-align: middle;\n",
       "    }\n",
       "\n",
       "    .dataframe tbody tr th {\n",
       "        vertical-align: top;\n",
       "    }\n",
       "\n",
       "    .dataframe thead th {\n",
       "        text-align: right;\n",
       "    }\n",
       "</style>\n",
       "<table border=\"1\" class=\"dataframe\">\n",
       "  <thead>\n",
       "    <tr style=\"text-align: right;\">\n",
       "      <th></th>\n",
       "      <th>pop_count</th>\n",
       "      <th>user_hist</th>\n",
       "      <th>pop_fraq</th>\n",
       "      <th>pop_item_fraq</th>\n",
       "      <th>total_interactions</th>\n",
       "      <th>niche_consumption_rate</th>\n",
       "    </tr>\n",
       "    <tr>\n",
       "      <th>user_id</th>\n",
       "      <th></th>\n",
       "      <th></th>\n",
       "      <th></th>\n",
       "      <th></th>\n",
       "      <th></th>\n",
       "      <th></th>\n",
       "    </tr>\n",
       "  </thead>\n",
       "  <tbody>\n",
       "    <tr>\n",
       "      <th>1021445</th>\n",
       "      <td>290</td>\n",
       "      <td>576</td>\n",
       "      <td>0.50347222</td>\n",
       "      <td>0.06502083</td>\n",
       "      <td>576</td>\n",
       "      <td>0.13715278</td>\n",
       "    </tr>\n",
       "    <tr>\n",
       "      <th>1045479</th>\n",
       "      <td>275</td>\n",
       "      <td>381</td>\n",
       "      <td>0.72178478</td>\n",
       "      <td>0.10647419</td>\n",
       "      <td>381</td>\n",
       "      <td>0.03149606</td>\n",
       "    </tr>\n",
       "    <tr>\n",
       "      <th>1058776</th>\n",
       "      <td>310</td>\n",
       "      <td>441</td>\n",
       "      <td>0.70294785</td>\n",
       "      <td>0.09606425</td>\n",
       "      <td>441</td>\n",
       "      <td>0.06802721</td>\n",
       "    </tr>\n",
       "    <tr>\n",
       "      <th>1058825</th>\n",
       "      <td>218</td>\n",
       "      <td>445</td>\n",
       "      <td>0.48988764</td>\n",
       "      <td>0.06326816</td>\n",
       "      <td>445</td>\n",
       "      <td>0.12134831</td>\n",
       "    </tr>\n",
       "    <tr>\n",
       "      <th>1070023</th>\n",
       "      <td>239</td>\n",
       "      <td>368</td>\n",
       "      <td>0.64945652</td>\n",
       "      <td>0.09423641</td>\n",
       "      <td>368</td>\n",
       "      <td>0.11141304</td>\n",
       "    </tr>\n",
       "  </tbody>\n",
       "</table>\n",
       "</div>"
      ],
      "text/plain": [
       "         pop_count  user_hist    pop_fraq  pop_item_fraq  total_interactions  \\\n",
       "user_id                                                                        \n",
       "1021445        290        576  0.50347222     0.06502083                 576   \n",
       "1045479        275        381  0.72178478     0.10647419                 381   \n",
       "1058776        310        441  0.70294785     0.09606425                 441   \n",
       "1058825        218        445  0.48988764     0.06326816                 445   \n",
       "1070023        239        368  0.64945652     0.09423641                 368   \n",
       "\n",
       "         niche_consumption_rate  \n",
       "user_id                          \n",
       "1021445              0.13715278  \n",
       "1045479              0.03149606  \n",
       "1058776              0.06802721  \n",
       "1058825              0.12134831  \n",
       "1070023              0.11141304  "
      ]
     },
     "execution_count": 12,
     "metadata": {},
     "output_type": "execute_result"
    }
   ],
   "source": [
    "# Calculate base metrics needed for pop_one, pop_two\n",
    "base_user_metrics_df = calculate_popularity_metrics(df_events_orig, top_item_dist, df_item_dist, num_users, user_col, item_col)\n",
    "\n",
    "# Calculate base metrics needed for pop_four\n",
    "niche_consumption_rates_series = calculate_niche_consumption_rates(\n",
    "    df_events_orig,\n",
    "    df_item_dist,      # Pass the DataFrame with 'count' column\n",
    "    user_dist,         # Pass the user activity Series (value_counts)\n",
    "    user_col=user_col,\n",
    "    item_col=item_col,\n",
    "    niche_threshold_percentile=0.3\n",
    ")\n",
    "\n",
    "# Combine all metrics into a single DataFrame aligned by user_id (index)\n",
    "user_metrics_all = base_user_metrics_df.join(user_dist).join(niche_consumption_rates_series)\n",
    "user_metrics_all.rename(columns={'count': 'total_interactions'}, inplace=True) # Rename count from user_dist\n",
    "\n",
    "print(\"\\nCombined User Metrics DataFrame Head:\")\n",
    "user_metrics_all.head()"
   ]
  },
  {
   "cell_type": "markdown",
   "metadata": {},
   "source": [
    "### E.2 Define User Grouping Functions"
   ]
  },
  {
   "cell_type": "code",
   "execution_count": 13,
   "metadata": {
    "id": "07fc53hjVc-B"
   },
   "outputs": [],
   "source": [
    "# Function to sort users based on a chosen metric\n",
    "def sort_users(user_metrics_df, by = \"pop_fraq\"):\n",
    "    # Ensure the sorting column exists\n",
    "    if by not in user_metrics_df.columns:\n",
    "        raise ValueError(f\"Sorting column '{by}' not found in user metrics DataFrame.\")\n",
    "    \n",
    "    # Sort and return\n",
    "    user_dist_sorted = user_metrics_df.sort_values(by=[by])\n",
    "    return user_dist_sorted\n",
    "\n",
    "# Function to split sorted users into groups\n",
    "def split(user_dist_sorted, top_fraction):\n",
    "    n = len(user_dist_sorted)\n",
    "    idx1 = int(top_fraction * n)\n",
    "    idx2 = int((1 - top_fraction) * n)\n",
    "    \n",
    "    # Handle potential rounding issues causing indices to be equal\n",
    "    if idx1 >= idx2:\n",
    "       print(f\"Warning: Splitting indices are too close ({idx1}, {idx2}). Adjusting split.\")\n",
    "       # Example adjustment: ensure at least one user in middle group if possible\n",
    "       if n > 2:\n",
    "           idx1 = max(0, idx2 - 1)\n",
    "       else: # Cannot form 3 distinct groups\n",
    "           idx1 = 0\n",
    "           idx2 = n // 2 \n",
    "           print(\"Cannot form 3 distinct groups with current settings.\")\n",
    "           \n",
    "    low = user_dist_sorted.iloc[:idx1]\n",
    "    med = user_dist_sorted.iloc[idx1:idx2]\n",
    "    high = user_dist_sorted.iloc[idx2:]\n",
    "    \n",
    "    # Add check for empty groups\n",
    "    if low.empty or med.empty or high.empty:\n",
    "        print(f\"Warning: One or more user groups are empty after split (Low: {len(low)}, Med: {len(med)}, High: {len(high)}). Check data and top_fraction.\")\n",
    "        \n",
    "    return low, med, high\n",
    "\n",
    "# Function to calculate characteristics for the split groups\n",
    "def calculate_group_characteristics(low, med, high):\n",
    "    # Use the calculated 'user_hist' and 'pop_item_fraq' (GAP in profile)\n",
    "    low_profile_size = low['user_hist'].mean() if not low.empty else np.nan\n",
    "    med_profile_size = med['user_hist'].mean() if not med.empty else np.nan\n",
    "    high_profile_size = high['user_hist'].mean() if not high.empty else np.nan\n",
    "    \n",
    "    low_nr_users = len(low)\n",
    "    med_nr_users = len(med)\n",
    "    high_nr_users = len(high)\n",
    "    \n",
    "    low_GAP = low['pop_item_fraq'].mean() if not low.empty else np.nan\n",
    "    med_GAP = med['pop_item_fraq'].mean() if not med.empty else np.nan\n",
    "    high_GAP = high['pop_item_fraq'].mean() if not high.empty else np.nan\n",
    "    \n",
    "    print(f\"Low Group ('Niche', {low_nr_users} users): Avg Profile Size={low_profile_size:.2f}, Avg Profile GAP={low_GAP:.6f}\")\n",
    "    print(f\"Med Group ('Diverse', {med_nr_users} users): Avg Profile Size={med_profile_size:.2f}, Avg Profile GAP={med_GAP:.6f}\")\n",
    "    print(f\"High Group ('Blockbuster', {high_nr_users} users): Avg Profile Size={high_profile_size:.2f}, Avg Profile GAP={high_GAP:.6f}\")\n",
    "    \n",
    "    return low_profile_size, med_profile_size, high_profile_size, low_nr_users, med_nr_users, high_nr_users, low_GAP, med_GAP, high_GAP"
   ]
  },
  {
   "cell_type": "markdown",
   "metadata": {
    "id": "kCoOuYpNT01y"
   },
   "source": [
    "### E.3 Define Popularity Propensity Notions"
   ]
  },
  {
   "cell_type": "code",
   "execution_count": 14,
   "metadata": {
    "id": "KZ1sEeWBUh6a"
   },
   "outputs": [],
   "source": [
    "# Maps notion key to the column name in user_metrics_all DataFrame for sorting\n",
    "popularity_function = {'pop_one': \"pop_fraq\",             # Sort by fraction of popular items consumed\n",
    "                       'pop_two': \"pop_item_fraq\",        # Sort by avg popularity of items consumed (GAP)\n",
    "                       'pop_three': \"mainstreaminess\",    # Special case: uses external files (Not applicable for Music)\n",
    "                       'pop_four': \"niche_consumption_rate\" # Sort by niche consumption rate (lower value means more niche)\n",
    "                      }"
   ]
  },
  {
   "cell_type": "markdown",
   "metadata": {},
   "source": [
    "### E.4 Plot User Metric Distributions (Optional Check)"
   ]
  },
  {
   "cell_type": "code",
   "execution_count": 15,
   "metadata": {
    "colab": {
     "base_uri": "https://localhost:8080/",
     "height": 1000
    },
    "id": "WDFRIFsibZTI",
    "outputId": "a385b53a-f80b-4c47-82d0-b8d51ecfff4a"
   },
   "outputs": [
    {
     "name": "stdout",
     "output_type": "stream",
     "text": [
      "Plotting base user metric distributions (optional check)...\n"
     ]
    },
    {
     "data": {
      "image/png": "[encoded data removed]",
      "text/plain": [
       "<Figure size 640x480 with 1 Axes>"
      ]
     },
     "metadata": {},
     "output_type": "display_data"
    },
    {
     "name": "stdout",
     "output_type": "stream",
     "text": [
      "Profile Size vs Popularity (count) R-value: 0.9617\n"
     ]
    },
    {
     "data": {
      "image/png": "[encoded data removed]",
      "text/plain": [
       "<Figure size 640x480 with 1 Axes>"
      ]
     },
     "metadata": {},
     "output_type": "display_data"
    },
    {
     "name": "stdout",
     "output_type": "stream",
     "text": [
      "Profile Size vs Popularity (percentage) R-value: -0.0561\n"
     ]
    },
    {
     "data": {
      "image/png": "[encoded data removed]",
      "text/plain": [
       "<Figure size 640x480 with 1 Axes>"
      ]
     },
     "metadata": {},
     "output_type": "display_data"
    },
    {
     "name": "stdout",
     "output_type": "stream",
     "text": [
      "Profile Size vs Popularity (average) R-value: -0.2245\n"
     ]
    },
    {
     "data": {
      "image/png": "[encoded data removed]",
      "text/plain": [
       "<Figure size 640x480 with 1 Axes>"
      ]
     },
     "metadata": {},
     "output_type": "display_data"
    }
   ],
   "source": [
    "# These plots show distributions based on the calculated metrics before splitting.\n",
    "# They are less critical for the automated run but useful for understanding the data.\n",
    "print(\"Plotting base user metric distributions (optional check)...\")\n",
    "plot_popularity_distribution(user_metrics_all['pop_fraq'].dropna(), item_col)\n",
    "plot_profile_size_vs_popularity(user_metrics_all['pop_count'].dropna(), user_metrics_all['user_hist'].dropna(), \"count\", item_col)\n",
    "plot_profile_size_vs_popularity(user_metrics_all['pop_fraq'].dropna(), user_metrics_all['user_hist'].dropna(), \"percentage\", item_col)\n",
    "plot_profile_size_vs_popularity(user_metrics_all['pop_item_fraq'].dropna(), user_metrics_all['user_hist'].dropna(), \"average\", item_col)"
   ]
  },
  {
   "cell_type": "markdown",
   "metadata": {
    "id": "nZ-KPsOzbduG"
   },
   "source": [
    "## F. Data Scaling for Cornac Models"
   ]
  },
  {
   "cell_type": "code",
   "execution_count": 16,
   "metadata": {
    "id": "oCcJ8Rhflpth",
    "scrolled": true
   },
   "outputs": [
    {
     "name": "stdout",
     "output_type": "stream",
     "text": [
      "Scaling user ratings...\n"
     ]
    },
    {
     "data": {
      "application/vnd.jupyter.widget-view+json": {
       "model_id": "5b5000abd1134d66a6e65a22ab58517b",
       "version_major": 2,
       "version_minor": 0
      },
      "text/plain": [
       "  0%|          | 0/3000 [00:00<?, ?it/s]"
      ]
     },
     "metadata": {},
     "output_type": "display_data"
    },
    {
     "name": "stdout",
     "output_type": "stream",
     "text": [
      "\n",
      "Scaled DataFrame head:\n"
     ]
    },
    {
     "data": {
      "text/html": [
       "<div>\n",
       "<style scoped>\n",
       "    .dataframe tbody tr th:only-of-type {\n",
       "        vertical-align: middle;\n",
       "    }\n",
       "\n",
       "    .dataframe tbody tr th {\n",
       "        vertical-align: top;\n",
       "    }\n",
       "\n",
       "    .dataframe thead th {\n",
       "        text-align: right;\n",
       "    }\n",
       "</style>\n",
       "<table border=\"1\" class=\"dataframe\">\n",
       "  <thead>\n",
       "    <tr style=\"text-align: right;\">\n",
       "      <th></th>\n",
       "      <th>user</th>\n",
       "      <th>artist</th>\n",
       "      <th>rating</th>\n",
       "    </tr>\n",
       "  </thead>\n",
       "  <tbody>\n",
       "    <tr>\n",
       "      <th>0</th>\n",
       "      <td>1021445</td>\n",
       "      <td>12</td>\n",
       "      <td>184.22270742</td>\n",
       "    </tr>\n",
       "    <tr>\n",
       "      <th>1</th>\n",
       "      <td>1021445</td>\n",
       "      <td>16</td>\n",
       "      <td>1.00000000</td>\n",
       "    </tr>\n",
       "    <tr>\n",
       "      <th>2</th>\n",
       "      <td>1021445</td>\n",
       "      <td>28</td>\n",
       "      <td>27.17467249</td>\n",
       "    </tr>\n",
       "    <tr>\n",
       "      <th>3</th>\n",
       "      <td>1021445</td>\n",
       "      <td>29</td>\n",
       "      <td>1.00000000</td>\n",
       "    </tr>\n",
       "    <tr>\n",
       "      <th>4</th>\n",
       "      <td>1021445</td>\n",
       "      <td>46</td>\n",
       "      <td>1.00000000</td>\n",
       "    </tr>\n",
       "  </tbody>\n",
       "</table>\n",
       "</div>"
      ],
      "text/plain": [
       "      user  artist        rating\n",
       "0  1021445      12  184.22270742\n",
       "1  1021445      16    1.00000000\n",
       "2  1021445      28   27.17467249\n",
       "3  1021445      29    1.00000000\n",
       "4  1021445      46    1.00000000"
      ]
     },
     "execution_count": 16,
     "metadata": {},
     "output_type": "execute_result"
    }
   ],
   "source": [
    "# Scale ratings per user to a range (e.g., 1-1000) as done in the original notebook\n",
    "# This is applied before feeding data to Cornac\n",
    "print(\"Scaling user ratings...\")\n",
    "scaled_df_list = [] \n",
    "\n",
    "# Group by user and apply scaler\n",
    "for user_id, group in tqdm(df_events_orig.groupby('user'), total=df_events_orig['user'].nunique()):\n",
    "    # Check if group has more than one unique rating to scale\n",
    "    if group[predict_col].nunique() > 1:\n",
    "        scaler = MinMaxScaler(feature_range=(1, 1000))\n",
    "        try:\n",
    "            # Reshape, convert to float, scale\n",
    "            scaled_ratings = scaler.fit_transform(group[predict_col].values.reshape(-1, 1).astype(float))\n",
    "        except ValueError as e:\n",
    "            print(f\"Error scaling ratings for user {user_id}: {e}\")\n",
    "            # Handle error: e.g., skip scaling for this user or use original values\n",
    "            scaled_ratings = group[predict_col].values.reshape(-1, 1).astype(float) # Use original if scaling fails\n",
    "    else:\n",
    "        # If only one unique rating, scaling is not meaningful/possible; keep original value(s)\n",
    "        # Ensure it's float and has the correct shape for consistency\n",
    "        scaled_ratings = group[predict_col].values.reshape(-1, 1).astype(float)\n",
    "\n",
    "    new_rows = group.copy()\n",
    "    new_rows[predict_col] = scaled_ratings.flatten() # Assign scaled ratings back\n",
    "    scaled_df_list.append(new_rows)\n",
    "\n",
    "# Concatenate scaled dataframes\n",
    "df_events_scaled = pd.concat(scaled_df_list, ignore_index=True)\n",
    "\n",
    "# Verify scaling\n",
    "print(\"\\nScaled DataFrame head:\")\n",
    "df_events_scaled.head()"
   ]
  },
  {
   "cell_type": "code",
   "execution_count": 17,
   "metadata": {
    "id": "IfmTea9Hl3tV"
   },
   "outputs": [],
   "source": [
    "# Use the scaled dataframe for Cornac\n",
    "df_events = df_events_scaled"
   ]
  },
  {
   "cell_type": "markdown",
   "metadata": {
    "id": "gbQUQuRbcJ5H"
   },
   "source": [
    "## G. Recommendation using Cornac"
   ]
  },
  {
   "cell_type": "markdown",
   "metadata": {
    "id": "yQyAB2jFcMnk"
   },
   "source": [
    "### G.1 Prepare Data for Cornac"
   ]
  },
  {
   "cell_type": "code",
   "execution_count": 18,
   "metadata": {
    "id": "uI-XJAWQpHkL"
   },
   "outputs": [
    {
     "name": "stdout",
     "output_type": "stream",
     "text": [
      "Prepared 1008479 interactions for Cornac.\n",
      "Item distribution indexed by Cornac item ID (string):\n"
     ]
    },
    {
     "data": {
      "text/html": [
       "<div>\n",
       "<style scoped>\n",
       "    .dataframe tbody tr th:only-of-type {\n",
       "        vertical-align: middle;\n",
       "    }\n",
       "\n",
       "    .dataframe tbody tr th {\n",
       "        vertical-align: top;\n",
       "    }\n",
       "\n",
       "    .dataframe thead th {\n",
       "        text-align: right;\n",
       "    }\n",
       "</style>\n",
       "<table border=\"1\" class=\"dataframe\">\n",
       "  <thead>\n",
       "    <tr style=\"text-align: right;\">\n",
       "      <th></th>\n",
       "      <th>count</th>\n",
       "      <th>popularity</th>\n",
       "    </tr>\n",
       "    <tr>\n",
       "      <th>artist</th>\n",
       "      <th></th>\n",
       "      <th></th>\n",
       "    </tr>\n",
       "  </thead>\n",
       "  <tbody>\n",
       "    <tr>\n",
       "      <th>591</th>\n",
       "      <td>1389</td>\n",
       "      <td>0.46300000</td>\n",
       "    </tr>\n",
       "    <tr>\n",
       "      <th>657</th>\n",
       "      <td>1359</td>\n",
       "      <td>0.45300000</td>\n",
       "    </tr>\n",
       "    <tr>\n",
       "      <th>4</th>\n",
       "      <td>1325</td>\n",
       "      <td>0.44166667</td>\n",
       "    </tr>\n",
       "    <tr>\n",
       "      <th>27</th>\n",
       "      <td>1297</td>\n",
       "      <td>0.43233333</td>\n",
       "    </tr>\n",
       "    <tr>\n",
       "      <th>579</th>\n",
       "      <td>1290</td>\n",
       "      <td>0.43000000</td>\n",
       "    </tr>\n",
       "  </tbody>\n",
       "</table>\n",
       "</div>"
      ],
      "text/plain": [
       "        count  popularity\n",
       "artist                   \n",
       "591      1389  0.46300000\n",
       "657      1359  0.45300000\n",
       "4        1325  0.44166667\n",
       "27       1297  0.43233333\n",
       "579      1290  0.43000000"
      ]
     },
     "execution_count": 18,
     "metadata": {},
     "output_type": "execute_result"
    }
   ],
   "source": [
    "# Map item IDs to continuous integers for Cornac\n",
    "df_events_cornac = df_events.copy()\n",
    "mapping_dict = {} # Maps original artist ID to new integer ID\n",
    "reverse_mapping_dict = {} # Maps new integer ID back to original artist ID\n",
    "i = 0\n",
    "for art in df_events_cornac[item_col].unique():\n",
    "    mapping_dict[art] = i\n",
    "    reverse_mapping_dict[i] = art\n",
    "    i += 1\n",
    "df_events_cornac[item_col] = df_events_cornac[item_col].map(lambda x: mapping_dict.get(x, x))\n",
    "\n",
    "# Ensure correct types for Cornac (string UIDs and IIDs)\n",
    "df_events_cornac[user_col] = df_events_cornac[user_col].astype(\"string\")\n",
    "df_events_cornac[item_col] = df_events_cornac[item_col].astype(\"string\")\n",
    "\n",
    "# Rename index of item distribution dataframe using the new mapping\n",
    "# Create df_item_dist_cornac with the *new* string item IDs as index\n",
    "df_item_dist_cornac = df_item_dist.copy()\n",
    "df_item_dist_cornac.index = df_item_dist_cornac.index.map(lambda x: str(mapping_dict.get(x, x)))\n",
    "\n",
    "# Prepare data in Cornac format (list of tuples)\n",
    "data = list(df_events_cornac[[user_col, item_col, predict_col]].to_records(index=False))\n",
    "\n",
    "print(f\"Prepared {len(data)} interactions for Cornac.\")\n",
    "print(\"Item distribution indexed by Cornac item ID (string):\")\n",
    "df_item_dist_cornac.head()"
   ]
  },
  {
   "cell_type": "markdown",
   "metadata": {},
   "source": [
    "### G.2 Split Data"
   ]
  },
  {
   "cell_type": "code",
   "execution_count": 19,
   "metadata": {
    "id": "cZ0JGW8ppnn7"
   },
   "outputs": [
    {
     "name": "stdout",
     "output_type": "stream",
     "text": [
      "Splitting data into train/test (80%/20%)...\n",
      "rating_threshold = 1.0\n",
      "exclude_unknowns = True\n",
      "---\n",
      "Training data:\n",
      "Number of users = 3000\n",
      "Number of items = 12690\n",
      "Number of ratings = 806783\n",
      "Max rating = 1000.0\n",
      "Min rating = 1.0\n",
      "Global mean = 44.5\n",
      "---\n",
      "Test data:\n",
      "Number of users = 3000\n",
      "Number of items = 12690\n",
      "Number of ratings = 201696\n",
      "Number of unknown users = 0\n",
      "Number of unknown items = 0\n",
      "---\n",
      "Total users = 3000\n",
      "Total items = 12690\n",
      "Total unique items known to Cornac: 12690\n"
     ]
    }
   ],
   "source": [
    "# Split the data based on ratio\n",
    "print(f\"Splitting data into train/test ({1-test_size:.0%}/{test_size:.0%})...\")\n",
    "rs = RatioSplit(data=data, test_size=test_size, rating_threshold=rating_threshold, seed=my_seed, verbose=True)\n",
    "\n",
    "# Get all unique item indices known to Cornac\n",
    "all_items_cornac_indices = set(rs.train_set.iid_map.values()) # Use internal Cornac indices\n",
    "print(f\"Total unique items known to Cornac: {len(all_items_cornac_indices)}\")"
   ]
  },
  {
   "cell_type": "markdown",
   "metadata": {},
   "source": [
    "### G.3 Define Models"
   ]
  },
  {
   "cell_type": "code",
   "execution_count": 20,
   "metadata": {
    "id": "rVXlmaIUqV0I"
   },
   "outputs": [],
   "source": [
    "# Initialize models (matching the original Music notebook)\n",
    "models = [\n",
    "          MostPop(),\n",
    "          UserKNN(k=40, similarity='cosine', mean_centered=False, seed=my_seed, verbose=True),\n",
    "          ItemKNN(k=40, similarity='cosine', mean_centered=False, seed=my_seed, verbose=True),\n",
    "          MF(k=30, max_iter=100, learning_rate=0.01, lambda_reg=0.001, seed=my_seed, verbose=True),\n",
    "          PMF(k=10, max_iter=100, learning_rate=0.001, lambda_reg=0.001, seed=my_seed, verbose=True),\n",
    "          CornacNMF(k=15, max_iter=50, learning_rate=0.005, lambda_u=0.06, lambda_v=0.06, lambda_bu=0.02, lambda_bi=0.02, use_bias=False, seed=my_seed, verbose=True),\n",
    "          HPF(k=50, seed=my_seed, hierarchical=False, name=\"PF\", verbose=True)\n",
    "          ]\n",
    "\n",
    "algo_names = [\"MostPop\", \n",
    "              \"UserKNN\",\n",
    "              \"ItemKNN\", \n",
    "              \"MF\",\n",
    "              \"PMF\",\n",
    "              \"NMF\",\n",
    "              \"HPF\",\n",
    "              ] # Corresponds to the 'models' list"
   ]
  },
  {
   "cell_type": "markdown",
   "metadata": {
    "id": "4nJxtu3WIv00"
   },
   "source": [
    "### G.4 Train Models"
   ]
  },
  {
   "cell_type": "code",
   "execution_count": 21,
   "metadata": {
    "colab": {
     "base_uri": "https://localhost:8080/",
     "height": 1000
    },
    "id": "w-4yhJQOqXv3",
    "outputId": "0cff4152-8656-4781-ec19-6739d45e0ba1"
   },
   "outputs": [
    {
     "name": "stdout",
     "output_type": "stream",
     "text": [
      "Training models...\n",
      "\n",
      "[MostPop] Training started!\n",
      "\n",
      "[MostPop] Evaluation started!\n"
     ]
    },
    {
     "data": {
      "application/vnd.jupyter.widget-view+json": {
       "model_id": "ce6ae6a6bcde47e1a89e9440df314309",
       "version_major": 2,
       "version_minor": 0
      },
      "text/plain": [
       "Rating:   0%|          | 0/201696 [00:00<?, ?it/s]"
      ]
     },
     "metadata": {},
     "output_type": "display_data"
    },
    {
     "name": "stdout",
     "output_type": "stream",
     "text": [
      "\n",
      "[UserKNN] Training started!\n"
     ]
    },
    {
     "data": {
      "application/vnd.jupyter.widget-view+json": {
       "model_id": "e59a5d2e88ee4d6d9b461d1406d19c09",
       "version_major": 2,
       "version_minor": 0
      },
      "text/plain": [
       "  0%|          | 0/3000 [00:00<?, ?it/s]"
      ]
     },
     "metadata": {},
     "output_type": "display_data"
    },
    {
     "name": "stdout",
     "output_type": "stream",
     "text": [
      "\n",
      "[UserKNN] Evaluation started!\n"
     ]
    },
    {
     "data": {
      "application/vnd.jupyter.widget-view+json": {
       "model_id": "80f7fff252b34d31959f6a3657c4b06d",
       "version_major": 2,
       "version_minor": 0
      },
      "text/plain": [
       "Rating:   0%|          | 0/201696 [00:00<?, ?it/s]"
      ]
     },
     "metadata": {},
     "output_type": "display_data"
    },
    {
     "name": "stdout",
     "output_type": "stream",
     "text": [
      "\n",
      "[ItemKNN] Training started!\n"
     ]
    },
    {
     "data": {
      "application/vnd.jupyter.widget-view+json": {
       "model_id": "15611b8f9169416c8954c7cea694c33f",
       "version_major": 2,
       "version_minor": 0
      },
      "text/plain": [
       "  0%|          | 0/12690 [00:00<?, ?it/s]"
      ]
     },
     "metadata": {},
     "output_type": "display_data"
    },
    {
     "name": "stdout",
     "output_type": "stream",
     "text": [
      "\n",
      "[ItemKNN] Evaluation started!\n"
     ]
    },
    {
     "data": {
      "application/vnd.jupyter.widget-view+json": {
       "model_id": "16c3eeeacd8a4214b334921d34ab1e16",
       "version_major": 2,
       "version_minor": 0
      },
      "text/plain": [
       "Rating:   0%|          | 0/201696 [00:00<?, ?it/s]"
      ]
     },
     "metadata": {},
     "output_type": "display_data"
    },
    {
     "name": "stdout",
     "output_type": "stream",
     "text": [
      "\n",
      "[MF] Training started!\n"
     ]
    },
    {
     "data": {
      "application/vnd.jupyter.widget-view+json": {
       "model_id": "ad1995ee0d724cf69f5c141ab837872c",
       "version_major": 2,
       "version_minor": 0
      },
      "text/plain": [
       "  0%|          | 0/100 [00:00<?, ?it/s]"
      ]
     },
     "metadata": {},
     "output_type": "display_data"
    },
    {
     "name": "stdout",
     "output_type": "stream",
     "text": [
      "Optimization finished!\n",
      "\n",
      "[MF] Evaluation started!\n"
     ]
    },
    {
     "data": {
      "application/vnd.jupyter.widget-view+json": {
       "model_id": "102fb7b156a84cce8a1d727d180a4b0e",
       "version_major": 2,
       "version_minor": 0
      },
      "text/plain": [
       "Rating:   0%|          | 0/201696 [00:00<?, ?it/s]"
      ]
     },
     "metadata": {},
     "output_type": "display_data"
    },
    {
     "name": "stdout",
     "output_type": "stream",
     "text": [
      "\n",
      "[PMF] Training started!\n",
      "Learning...\n",
      "epoch 0, loss: 155084.795966\n",
      "epoch 1, loss: 86975.061789\n",
      "epoch 2, loss: 53418.749656\n",
      "epoch 3, loss: 38709.684055\n",
      "epoch 4, loss: 30908.752810\n",
      "epoch 5, loss: 26151.894519\n",
      "epoch 6, loss: 23008.108093\n",
      "epoch 7, loss: 20840.053146\n",
      "epoch 8, loss: 19296.269270\n",
      "epoch 9, loss: 18163.060215\n",
      "epoch 10, loss: 17307.567132\n",
      "epoch 11, loss: 16645.596483\n",
      "epoch 12, loss: 16122.517976\n",
      "epoch 13, loss: 15701.942342\n",
      "epoch 14, loss: 15358.960617\n",
      "epoch 15, loss: 15076.048770\n",
      "epoch 16, loss: 14840.543998\n",
      "epoch 17, loss: 14643.062929\n",
      "epoch 18, loss: 14476.492447\n",
      "epoch 19, loss: 14335.331996\n",
      "epoch 20, loss: 14215.253792\n",
      "epoch 21, loss: 14112.801286\n",
      "epoch 22, loss: 14025.176957\n",
      "epoch 23, loss: 13950.090024\n",
      "epoch 24, loss: 13885.645940\n",
      "epoch 25, loss: 13830.265047\n",
      "epoch 26, loss: 13782.621197\n",
      "epoch 27, loss: 13741.594617\n",
      "epoch 28, loss: 13706.235288\n",
      "epoch 29, loss: 13675.734138\n",
      "epoch 30, loss: 13649.400159\n",
      "epoch 31, loss: 13626.642039\n",
      "epoch 32, loss: 13606.953356\n",
      "epoch 33, loss: 13589.900353\n",
      "epoch 34, loss: 13575.111622\n",
      "epoch 35, loss: 13562.269285\n",
      "epoch 36, loss: 13551.101384\n",
      "epoch 37, loss: 13541.375333\n",
      "epoch 38, loss: 13532.892306\n",
      "epoch 39, loss: 13525.482334\n",
      "epoch 40, loss: 13519.000064\n",
      "epoch 41, loss: 13513.321099\n",
      "epoch 42, loss: 13508.338852\n",
      "epoch 43, loss: 13503.961890\n",
      "epoch 44, loss: 13500.111645\n",
      "epoch 45, loss: 13496.720500\n",
      "epoch 46, loss: 13493.730145\n",
      "epoch 47, loss: 13491.090211\n",
      "epoch 48, loss: 13488.757100\n",
      "epoch 49, loss: 13486.693017\n",
      "epoch 50, loss: 13484.865145\n",
      "epoch 51, loss: 13483.244937\n",
      "epoch 52, loss: 13481.807543\n",
      "epoch 53, loss: 13480.531285\n",
      "epoch 54, loss: 13479.397228\n",
      "epoch 55, loss: 13478.388806\n",
      "epoch 56, loss: 13477.491510\n",
      "epoch 57, loss: 13476.692595\n",
      "epoch 58, loss: 13475.980866\n",
      "epoch 59, loss: 13475.346466\n",
      "epoch 60, loss: 13474.780704\n",
      "epoch 61, loss: 13474.275913\n",
      "epoch 62, loss: 13473.825316\n",
      "epoch 63, loss: 13473.422919\n",
      "epoch 64, loss: 13473.063405\n",
      "epoch 65, loss: 13472.742076\n",
      "epoch 66, loss: 13472.454745\n",
      "epoch 67, loss: 13472.197707\n",
      "epoch 68, loss: 13471.967655\n",
      "epoch 69, loss: 13471.761653\n",
      "epoch 70, loss: 13471.577087\n",
      "epoch 71, loss: 13471.411625\n",
      "epoch 72, loss: 13471.263176\n",
      "epoch 73, loss: 13471.129892\n",
      "epoch 74, loss: 13471.010106\n",
      "epoch 75, loss: 13470.902332\n",
      "epoch 76, loss: 13470.805243\n",
      "epoch 77, loss: 13470.717641\n",
      "epoch 78, loss: 13470.638459\n",
      "epoch 79, loss: 13470.566737\n",
      "epoch 80, loss: 13470.501618\n",
      "epoch 81, loss: 13470.442317\n",
      "epoch 82, loss: 13470.388143\n",
      "epoch 83, loss: 13470.338463\n",
      "epoch 84, loss: 13470.292707\n",
      "epoch 85, loss: 13470.250365\n",
      "epoch 86, loss: 13470.210966\n",
      "epoch 87, loss: 13470.174092\n",
      "epoch 88, loss: 13470.139354\n",
      "epoch 89, loss: 13470.106403\n",
      "epoch 90, loss: 13470.074919\n",
      "epoch 91, loss: 13470.044606\n",
      "epoch 92, loss: 13470.015190\n",
      "epoch 93, loss: 13469.986421\n",
      "epoch 94, loss: 13469.958069\n",
      "epoch 95, loss: 13469.929907\n",
      "epoch 96, loss: 13469.901731\n",
      "epoch 97, loss: 13469.873348\n",
      "epoch 98, loss: 13469.844566\n",
      "epoch 99, loss: 13469.815206\n",
      "Learning completed\n",
      "\n",
      "[PMF] Evaluation started!\n"
     ]
    },
    {
     "data": {
      "application/vnd.jupyter.widget-view+json": {
       "model_id": "8ae82c9615a6457fb0246e53f284e294",
       "version_major": 2,
       "version_minor": 0
      },
      "text/plain": [
       "Rating:   0%|          | 0/201696 [00:00<?, ?it/s]"
      ]
     },
     "metadata": {},
     "output_type": "display_data"
    },
    {
     "name": "stdout",
     "output_type": "stream",
     "text": [
      "\n",
      "[NMF] Training started!\n"
     ]
    },
    {
     "data": {
      "application/vnd.jupyter.widget-view+json": {
       "model_id": "1c4c6135d5f04077bec738de72dbfb83",
       "version_major": 2,
       "version_minor": 0
      },
      "text/plain": [
       "  0%|          | 0/50 [00:00<?, ?it/s]"
      ]
     },
     "metadata": {},
     "output_type": "display_data"
    },
    {
     "name": "stdout",
     "output_type": "stream",
     "text": [
      "Optimization finished!\n",
      "\n",
      "[NMF] Evaluation started!\n"
     ]
    },
    {
     "data": {
      "application/vnd.jupyter.widget-view+json": {
       "model_id": "0de3c6e71898478f93db9d34b9317b02",
       "version_major": 2,
       "version_minor": 0
      },
      "text/plain": [
       "Rating:   0%|          | 0/201696 [00:00<?, ?it/s]"
      ]
     },
     "metadata": {},
     "output_type": "display_data"
    },
    {
     "name": "stdout",
     "output_type": "stream",
     "text": [
      "\n",
      "[PF] Training started!\n",
      "Learning...\n",
      "Learning completed!\n",
      "\n",
      "[PF] Evaluation started!\n"
     ]
    },
    {
     "data": {
      "application/vnd.jupyter.widget-view+json": {
       "model_id": "e5a43f9ae7c64feb939e1c1790eebfaa",
       "version_major": 2,
       "version_minor": 0
      },
      "text/plain": [
       "Rating:   0%|          | 0/201696 [00:00<?, ?it/s]"
      ]
     },
     "metadata": {},
     "output_type": "display_data"
    },
    {
     "name": "stdout",
     "output_type": "stream",
     "text": [
      "\n",
      "TEST:\n",
      "...\n",
      "        |      MAE | Train (s) | Test (s)\n",
      "------- + -------- + --------- + --------\n",
      "MostPop | 193.9530 |    0.0375 |   2.3118\n",
      "UserKNN |  66.4852 |    1.6879 |  19.3600\n",
      "ItemKNN |  65.6744 |    8.3173 |  23.9115\n",
      "MF      |      nan |    6.6163 |   3.4120\n",
      "PMF     |  72.1270 |   38.6863 |   3.6547\n",
      "NMF     |  57.0491 |    4.4360 |   3.8708\n",
      "PF      |  54.6507 | 1274.9539 |   3.6710\n",
      "\n",
      "Training completed in 1395 seconds.\n"
     ]
    }
   ],
   "source": [
    "# Define metrics for Cornac experiment run (e.g., MAE for monitoring)\n",
    "metrics_train = [MAE()]\n",
    "\n",
    "# Run the Cornac experiment to train all models\n",
    "print(\"Training models...\")\n",
    "start_train = time.time()\n",
    "exp = cornac.Experiment(eval_method=rs, models=models, metrics=metrics_train, user_based=True, verbose=True)\n",
    "exp.run()\n",
    "end_train = time.time()\n",
    "print(f\"Training completed in {round(end_train - start_train)} seconds.\")"
   ]
  },
  {
   "cell_type": "markdown",
   "metadata": {
    "id": "TLj0fpWeI9Z0"
   },
   "source": [
    "### G.5 Define Evaluation Strategies & Recommendation Functions\n",
    "Define functions to generate recommendations based on the different evaluation strategies identified in the paper:\n",
    "*   `eva_two` (UserTest): For users in the test set, rank only items rated by that user in the test set. (Kowald et al. [26])\n",
    "*   `eva_three` (TrainItems): For users in the test set, rank only items *not* rated by that user in the train set. (Abdollahpouri et al. [3])"
   ]
  },
  {
   "cell_type": "code",
   "execution_count": 22,
   "metadata": {
    "id": "tbDb589QJCSD"
   },
   "outputs": [],
   "source": [
    "# Evaluation Strategy 2: UserTest (Kowald et al. 2010)\n",
    "def get_top_n_eva_two(model, user_idx_map, test_set, rec_k=10):\n",
    "    top_n = defaultdict(list)\n",
    "    item_idx_map = model.train_set.iid_map\n",
    "    idx_item_map = {v: k for k, v in item_idx_map.items()}\n",
    "    for uid in tqdm(test_set.uid_map.values(), desc=\"Generating recs (eva_two)\"):\n",
    "        if uid in test_set.user_data:\n",
    "            original_user_id = user_idx_map[uid]\n",
    "            candidate_items_indices = test_set.user_data[uid][0]\n",
    "            if not candidate_items_indices: continue\n",
    "            try:\n",
    "                item_indices_ranked, item_scores_ranked = model.rank(user_idx=uid, item_indices=candidate_items_indices)\n",
    "                # Handle potential NaN scores from models like MF\n",
    "                valid_scores_mask = ~np.isnan(item_scores_ranked)\n",
    "                item_indices_ranked = np.array(item_indices_ranked)[valid_scores_mask]\n",
    "                item_scores_ranked = np.array(item_scores_ranked)[valid_scores_mask]\n",
    "                \n",
    "                top_k_indices = item_indices_ranked[:rec_k]\n",
    "                top_k_scores = item_scores_ranked[:rec_k]\n",
    "                \n",
    "                for iid, score in zip(top_k_indices, top_k_scores):\n",
    "                    original_item_id = idx_item_map[iid]\n",
    "                    top_n[int(original_user_id)].append((int(original_item_id), score))\n",
    "            except Exception as e:\n",
    "                 print(f\"Error during ranking for user {original_user_id} (eva_two): {e}\")\n",
    "                 continue # Skip user if ranking fails\n",
    "    return top_n"
   ]
  },
  {
   "cell_type": "code",
   "execution_count": 23,
   "metadata": {
    "id": "n0NaIhj9JD2U"
   },
   "outputs": [],
   "source": [
    "# Evaluation Strategy 3: TrainItems (Abdollahpouri et al. 2019)\n",
    "def get_top_n_eva_three(model, user_idx_map, train_set, test_set, all_items_indices, rec_k=10):\n",
    "    top_n = defaultdict(list)\n",
    "    item_idx_map = model.train_set.iid_map\n",
    "    idx_item_map = {v: k for k, v in item_idx_map.items()}\n",
    "    for uid in tqdm(test_set.uid_map.values(), desc=\"Generating recs (eva_three)\"):\n",
    "        original_user_id = user_idx_map[uid]\n",
    "        items_in_train = set()\n",
    "        if uid in train_set.user_data:\n",
    "            items_in_train = set(train_set.user_data[uid][0])\n",
    "        candidate_items_indices = list(all_items_indices.difference(items_in_train))\n",
    "        if not candidate_items_indices: continue\n",
    "        try:\n",
    "            item_indices_ranked, item_scores_ranked = model.rank(user_idx=uid, item_indices=candidate_items_indices)\n",
    "            # Handle potential NaN scores\n",
    "            valid_scores_mask = ~np.isnan(item_scores_ranked)\n",
    "            item_indices_ranked = np.array(item_indices_ranked)[valid_scores_mask]\n",
    "            item_scores_ranked = np.array(item_scores_ranked)[valid_scores_mask]\n",
    "            \n",
    "            top_k_indices = item_indices_ranked[:rec_k]\n",
    "            top_k_scores = item_scores_ranked[:rec_k]\n",
    "            \n",
    "            for iid, score in zip(top_k_indices, top_k_scores):\n",
    "                original_item_id = idx_item_map[iid]\n",
    "                top_n[int(original_user_id)].append((int(original_item_id), score))\n",
    "        except Exception as e:\n",
    "             print(f\"Error during ranking for user {original_user_id} (eva_three): {e}\")\n",
    "             continue # Skip user if ranking fails\n",
    "    return top_n"
   ]
  },
  {
   "cell_type": "markdown",
   "metadata": {},
   "source": [
    "### G.6 Define Evaluation Functions (NDCG, GAP)"
   ]
  },
  {
   "cell_type": "code",
   "execution_count": 24,
   "metadata": {},
   "outputs": [],
   "source": [
    "# Function to calculate NDCG per group\n",
    "def calculate_NDCG_per_group(algo_name, model_index, recommendations, cornac_exp, low_group_users, med_group_users, high_group_users, rec_k=10):\n",
    "    model = cornac_exp.models[model_index]\n",
    "    rs = cornac_exp.eval_method\n",
    "    train_set = rs.train_set\n",
    "    test_set = rs.test_set\n",
    "    \n",
    "    ndcg_low = []\n",
    "    ndcg_med = []\n",
    "    ndcg_high = []\n",
    "    \n",
    "    low_ids = set(low_group_users.index.astype(int))\n",
    "    med_ids = set(med_group_users.index.astype(int))\n",
    "    high_ids = set(high_group_users.index.astype(int))\n",
    "    \n",
    "    orig_uid_to_cornac_uid = train_set.uid_map\n",
    "    orig_iid_to_cornac_iid = train_set.iid_map\n",
    "    \n",
    "    print(f\"Calculating NDCG@{rec_k} for {algo_name}...\")\n",
    "    for user_id_int, user_ratings in tqdm(recommendations.items(), desc=f\"NDCG {algo_name}\"):\n",
    "        user_id_str = str(user_id_int)\n",
    "        \n",
    "        if user_id_str not in orig_uid_to_cornac_uid or orig_uid_to_cornac_uid[user_id_str] not in test_set.user_data:\n",
    "            continue\n",
    "            \n",
    "        uid_cornac = orig_uid_to_cornac_uid[user_id_str]\n",
    "        true_item_indices, true_relevance_scores = test_set.user_data[uid_cornac]\n",
    "        true_relevance_dict = dict(zip(true_item_indices, true_relevance_scores))\n",
    "        \n",
    "        user_pred_scores = []\n",
    "        user_true_scores = []\n",
    "        \n",
    "        for (item_id_int, pred_score) in user_ratings:\n",
    "            # Handle potential NaN prediction scores\n",
    "            if pd.isna(pred_score):\n",
    "                # print(f\"Warning: NaN prediction score for user {user_id_int}, item {item_id_int} in {algo_name}. Assigning 0 relevance.\")\n",
    "                user_pred_scores.append(-np.inf) # Assign very low score for ranking\n",
    "                user_true_scores.append(0.0)\n",
    "                continue\n",
    "                \n",
    "            item_id_str = str(item_id_int)\n",
    "            user_pred_scores.append(pred_score)\n",
    "            true_score = 0.0\n",
    "            if item_id_str in orig_iid_to_cornac_iid:\n",
    "                iid_cornac = orig_iid_to_cornac_iid[item_id_str]\n",
    "                if iid_cornac in true_relevance_dict:\n",
    "                    true_score = true_relevance_dict[iid_cornac]\n",
    "            user_true_scores.append(true_score)\n",
    "            \n",
    "        if len(user_true_scores) > 1:\n",
    "            true_relevance_arr = np.asarray([user_true_scores])\n",
    "            pred_scores_arr = np.asarray([user_pred_scores])\n",
    "            # Check if all true scores are zero, ndcg_score might raise error\n",
    "            if np.all(true_relevance_arr == 0):\n",
    "                 user_ndcg = 0.0 # Assign 0 if no relevant items recommended\n",
    "            else:\n",
    "                try:\n",
    "                    user_ndcg = ndcg_score(true_relevance_arr, pred_scores_arr, k=rec_k)\n",
    "                except ValueError as e:\n",
    "                    # print(f\"Could not calculate NDCG for user {user_id_int}: {e}\")\n",
    "                    user_ndcg = np.nan # Assign NaN if calculation fails\n",
    "            \n",
    "            if not pd.isna(user_ndcg):\n",
    "                if user_id_int in low_ids:\n",
    "                    ndcg_low.append(user_ndcg)\n",
    "                elif user_id_int in med_ids:\n",
    "                    ndcg_med.append(user_ndcg)\n",
    "                elif user_id_int in high_ids:\n",
    "                    ndcg_high.append(user_ndcg)\n",
    "\n",
    "    mean_ndcg_low = np.nanmean(ndcg_low) if ndcg_low else np.nan\n",
    "    mean_ndcg_med = np.nanmean(ndcg_med) if ndcg_med else np.nan\n",
    "    mean_ndcg_high = np.nanmean(ndcg_high) if ndcg_high else np.nan\n",
    "    \n",
    "    ttests = [np.nan] * 3\n",
    "    try:\n",
    "        if len(ndcg_low) > 1 and len(ndcg_med) > 1:\n",
    "            ttests[0] = stats.ttest_ind(ndcg_low, ndcg_med, equal_var=False, nan_policy='omit')[1]\n",
    "        if len(ndcg_low) > 1 and len(ndcg_high) > 1:\n",
    "            ttests[1] = stats.ttest_ind(ndcg_low, ndcg_high, equal_var=False, nan_policy='omit')[1]\n",
    "        if len(ndcg_med) > 1 and len(ndcg_high) > 1:\n",
    "            ttests[2] = stats.ttest_ind(ndcg_med, ndcg_high, equal_var=False, nan_policy='omit')[1]\n",
    "    except Exception as e:\n",
    "        print(f\"Error during t-test calculation for NDCG ({algo_name}): {e}\")\n",
    "            \n",
    "    return mean_ndcg_low, mean_ndcg_med, mean_ndcg_high, ttests"
   ]
  },
  {
   "cell_type": "markdown",
   "metadata": {},
   "source": [
    "## H. Automated Evaluation Loop"
   ]
  },
  {
   "cell_type": "markdown",
   "metadata": {},
   "source": [
    "### H.1 Generate Recommendations for Each Evaluation Strategy"
   ]
  },
  {
   "cell_type": "code",
   "execution_count": 25,
   "metadata": {},
   "outputs": [
    {
     "name": "stdout",
     "output_type": "stream",
     "text": [
      "--- Generating Recommendations for Evaluation Strategy: eva_two ---\n",
      "Generating recommendations for: MostPop (eva_two)\n"
     ]
    },
    {
     "data": {
      "application/vnd.jupyter.widget-view+json": {
       "model_id": "ef186472ff474ef8887b539b33d8e17e",
       "version_major": 2,
       "version_minor": 0
      },
      "text/plain": [
       "Generating recs (eva_two):   0%|          | 0/3000 [00:00<?, ?it/s]"
      ]
     },
     "metadata": {},
     "output_type": "display_data"
    },
    {
     "name": "stdout",
     "output_type": "stream",
     "text": [
      "Generating recommendations for: UserKNN (eva_two)\n"
     ]
    },
    {
     "data": {
      "application/vnd.jupyter.widget-view+json": {
       "model_id": "1f94c0757c86416daa06d0c7b8c22bbe",
       "version_major": 2,
       "version_minor": 0
      },
      "text/plain": [
       "Generating recs (eva_two):   0%|          | 0/3000 [00:00<?, ?it/s]"
      ]
     },
     "metadata": {},
     "output_type": "display_data"
    },
    {
     "name": "stdout",
     "output_type": "stream",
     "text": [
      "Generating recommendations for: ItemKNN (eva_two)\n"
     ]
    },
    {
     "data": {
      "application/vnd.jupyter.widget-view+json": {
       "model_id": "67cf0abb078f43e085990644c9aa41ac",
       "version_major": 2,
       "version_minor": 0
      },
      "text/plain": [
       "Generating recs (eva_two):   0%|          | 0/3000 [00:00<?, ?it/s]"
      ]
     },
     "metadata": {},
     "output_type": "display_data"
    },
    {
     "name": "stdout",
     "output_type": "stream",
     "text": [
      "Generating recommendations for: MF (eva_two)\n"
     ]
    },
    {
     "data": {
      "application/vnd.jupyter.widget-view+json": {
       "model_id": "3e96e97f60414b179074bf5aacc8c1b6",
       "version_major": 2,
       "version_minor": 0
      },
      "text/plain": [
       "Generating recs (eva_two):   0%|          | 0/3000 [00:00<?, ?it/s]"
      ]
     },
     "metadata": {},
     "output_type": "display_data"
    },
    {
     "name": "stdout",
     "output_type": "stream",
     "text": [
      "Generating recommendations for: PMF (eva_two)\n"
     ]
    },
    {
     "data": {
      "application/vnd.jupyter.widget-view+json": {
       "model_id": "081430e4dc514d75b19d49b098bd1528",
       "version_major": 2,
       "version_minor": 0
      },
      "text/plain": [
       "Generating recs (eva_two):   0%|          | 0/3000 [00:00<?, ?it/s]"
      ]
     },
     "metadata": {},
     "output_type": "display_data"
    },
    {
     "name": "stdout",
     "output_type": "stream",
     "text": [
      "Generating recommendations for: NMF (eva_two)\n"
     ]
    },
    {
     "data": {
      "application/vnd.jupyter.widget-view+json": {
       "model_id": "51b9c4702a7b437c87eded0c163e9cfe",
       "version_major": 2,
       "version_minor": 0
      },
      "text/plain": [
       "Generating recs (eva_two):   0%|          | 0/3000 [00:00<?, ?it/s]"
      ]
     },
     "metadata": {},
     "output_type": "display_data"
    },
    {
     "name": "stdout",
     "output_type": "stream",
     "text": [
      "Generating recommendations for: HPF (eva_two)\n"
     ]
    },
    {
     "data": {
      "application/vnd.jupyter.widget-view+json": {
       "model_id": "e08fff789fb543cd85fc8ebdf5d58396",
       "version_major": 2,
       "version_minor": 0
      },
      "text/plain": [
       "Generating recs (eva_two):   0%|          | 0/3000 [00:00<?, ?it/s]"
      ]
     },
     "metadata": {},
     "output_type": "display_data"
    },
    {
     "name": "stdout",
     "output_type": "stream",
     "text": [
      "--- Generating Recommendations for Evaluation Strategy: eva_three ---\n",
      "Generating recommendations for: MostPop (eva_three)\n"
     ]
    },
    {
     "data": {
      "application/vnd.jupyter.widget-view+json": {
       "model_id": "370a98fad1534dfb99583204bbca9b8f",
       "version_major": 2,
       "version_minor": 0
      },
      "text/plain": [
       "Generating recs (eva_three):   0%|          | 0/3000 [00:00<?, ?it/s]"
      ]
     },
     "metadata": {},
     "output_type": "display_data"
    },
    {
     "name": "stdout",
     "output_type": "stream",
     "text": [
      "Generating recommendations for: UserKNN (eva_three)\n"
     ]
    },
    {
     "data": {
      "application/vnd.jupyter.widget-view+json": {
       "model_id": "88f3e22fdb2246ce839429da09a2ed9d",
       "version_major": 2,
       "version_minor": 0
      },
      "text/plain": [
       "Generating recs (eva_three):   0%|          | 0/3000 [00:00<?, ?it/s]"
      ]
     },
     "metadata": {},
     "output_type": "display_data"
    },
    {
     "name": "stdout",
     "output_type": "stream",
     "text": [
      "Generating recommendations for: ItemKNN (eva_three)\n"
     ]
    },
    {
     "data": {
      "application/vnd.jupyter.widget-view+json": {
       "model_id": "61f606e1145142fea9f5e4da78329c22",
       "version_major": 2,
       "version_minor": 0
      },
      "text/plain": [
       "Generating recs (eva_three):   0%|          | 0/3000 [00:00<?, ?it/s]"
      ]
     },
     "metadata": {},
     "output_type": "display_data"
    },
    {
     "name": "stdout",
     "output_type": "stream",
     "text": [
      "Generating recommendations for: MF (eva_three)\n"
     ]
    },
    {
     "data": {
      "application/vnd.jupyter.widget-view+json": {
       "model_id": "c405619b045d43c3bac979c9c9791777",
       "version_major": 2,
       "version_minor": 0
      },
      "text/plain": [
       "Generating recs (eva_three):   0%|          | 0/3000 [00:00<?, ?it/s]"
      ]
     },
     "metadata": {},
     "output_type": "display_data"
    },
    {
     "name": "stdout",
     "output_type": "stream",
     "text": [
      "Generating recommendations for: PMF (eva_three)\n"
     ]
    },
    {
     "data": {
      "application/vnd.jupyter.widget-view+json": {
       "model_id": "0109d542825444a8ab1089b93981440a",
       "version_major": 2,
       "version_minor": 0
      },
      "text/plain": [
       "Generating recs (eva_three):   0%|          | 0/3000 [00:00<?, ?it/s]"
      ]
     },
     "metadata": {},
     "output_type": "display_data"
    },
    {
     "name": "stdout",
     "output_type": "stream",
     "text": [
      "Generating recommendations for: NMF (eva_three)\n"
     ]
    },
    {
     "data": {
      "application/vnd.jupyter.widget-view+json": {
       "model_id": "a831756665e64a888346fb6fb223b855",
       "version_major": 2,
       "version_minor": 0
      },
      "text/plain": [
       "Generating recs (eva_three):   0%|          | 0/3000 [00:00<?, ?it/s]"
      ]
     },
     "metadata": {},
     "output_type": "display_data"
    },
    {
     "name": "stdout",
     "output_type": "stream",
     "text": [
      "Generating recommendations for: HPF (eva_three)\n"
     ]
    },
    {
     "data": {
      "application/vnd.jupyter.widget-view+json": {
       "model_id": "9783960a57db40f39af5ab17bfe3814a",
       "version_major": 2,
       "version_minor": 0
      },
      "text/plain": [
       "Generating recs (eva_three):   0%|          | 0/3000 [00:00<?, ?it/s]"
      ]
     },
     "metadata": {},
     "output_type": "display_data"
    },
    {
     "name": "stdout",
     "output_type": "stream",
     "text": [
      "\n",
      "Recommendation generation completed in 2061 seconds.\n"
     ]
    }
   ],
   "source": [
    "# Define the evaluation strategies to run\n",
    "evaluation_function_map = {'eva_two': get_top_n_eva_two, 'eva_three': get_top_n_eva_three}\n",
    "\n",
    "# Store all recommendations keyed by evaluation strategy\n",
    "all_recommendations = {}\n",
    "\n",
    "# Precompute user index map (internal cornac index -> original string uid)\n",
    "user_idx_map = {v: k for k, v in rs.train_set.uid_map.items()}\n",
    "\n",
    "# Loop through each evaluation strategy and generate recommendations for all algorithms\n",
    "start_rec = time.time()\n",
    "for eva_key, eva_func in evaluation_function_map.items():\n",
    "    print(f\"--- Generating Recommendations for Evaluation Strategy: {eva_key} ---\")\n",
    "    algo_recommendations = {} # Store recommendations for algorithms under this strategy\n",
    "    for i, algo_name in enumerate(algo_names):\n",
    "        model = exp.models[i]\n",
    "        print(f\"Generating recommendations for: {algo_name} ({eva_key})\")\n",
    "        if eva_key == 'eva_two':\n",
    "            top_n = eva_func(model, user_idx_map, rs.test_set, rec_k=rec_k)\n",
    "        elif eva_key == 'eva_three':\n",
    "            top_n = eva_func(model, user_idx_map, rs.train_set, rs.test_set, all_items_cornac_indices, rec_k=rec_k)\n",
    "        else:\n",
    "            print(f\"Warning: Unknown evaluation strategy key '{eva_key}'. Skipping.\")\n",
    "            continue\n",
    "        algo_recommendations[algo_name] = top_n # Store as dict {user: [(item, score)]}\n",
    "        \n",
    "    all_recommendations[eva_key] = algo_recommendations\n",
    "end_rec = time.time()\n",
    "print(f\"\\nRecommendation generation completed in {round(end_rec - start_rec)} seconds.\")\n",
    "\n",
    "# Optional: Save recommendations\n",
    "# with open(results_location + 'all_recommendations_music.pickle', 'wb') as handle:\n",
    "#     pkl.dump(all_recommendations, handle)\n",
    "# To load: \n",
    "# with open(results_location + 'all_recommendations_music.pickle', 'rb') as handle:\n",
    "#     all_recommendations = pkl.load(handle)"
   ]
  },
  {
   "cell_type": "markdown",
   "metadata": {},
   "source": [
    "### H.2 Run Evaluation for Each Combination"
   ]
  },
  {
   "cell_type": "code",
   "execution_count": 26,
   "metadata": {},
   "outputs": [
    {
     "name": "stdout",
     "output_type": "stream",
     "text": [
      "\n",
      "--- Running Evaluation for: eva=eva_two, pop=pop_one ---\n",
      "Sorting users by 'pop_fraq' and splitting...\n",
      "Low Group ('Niche', 600 users): Avg Profile Size=303.26, Avg Profile GAP=0.051648\n",
      "Med Group ('Diverse', 1800 users): Avg Profile Size=380.66, Avg Profile GAP=0.084701\n",
      "High Group ('Blockbuster', 600 users): Avg Profile Size=235.56, Avg Profile GAP=0.121155\n",
      "Calculating NDCG@10 for MostPop...\n"
     ]
    },
    {
     "data": {
      "application/vnd.jupyter.widget-view+json": {
       "model_id": "a1f658e7d97e4daeb5ecbb3143474212",
       "version_major": 2,
       "version_minor": 0
      },
      "text/plain": [
       "NDCG MostPop:   0%|          | 0/3000 [00:00<?, ?it/s]"
      ]
     },
     "metadata": {},
     "output_type": "display_data"
    },
    {
     "name": "stdout",
     "output_type": "stream",
     "text": [
      "Calculating NDCG@10 for UserKNN...\n"
     ]
    },
    {
     "data": {
      "application/vnd.jupyter.widget-view+json": {
       "model_id": "fe56a33cb97c47a599fa940c77c3243f",
       "version_major": 2,
       "version_minor": 0
      },
      "text/plain": [
       "NDCG UserKNN:   0%|          | 0/3000 [00:00<?, ?it/s]"
      ]
     },
     "metadata": {},
     "output_type": "display_data"
    },
    {
     "name": "stdout",
     "output_type": "stream",
     "text": [
      "Calculating NDCG@10 for ItemKNN...\n"
     ]
    },
    {
     "data": {
      "application/vnd.jupyter.widget-view+json": {
       "model_id": "05fa48cbb4fa4060a6722c68854dde79",
       "version_major": 2,
       "version_minor": 0
      },
      "text/plain": [
       "NDCG ItemKNN:   0%|          | 0/3000 [00:00<?, ?it/s]"
      ]
     },
     "metadata": {},
     "output_type": "display_data"
    },
    {
     "name": "stdout",
     "output_type": "stream",
     "text": [
      "Calculating NDCG@10 for MF...\n"
     ]
    },
    {
     "data": {
      "application/vnd.jupyter.widget-view+json": {
       "model_id": "6b5718d927344679ad4ef6dd5116bbfe",
       "version_major": 2,
       "version_minor": 0
      },
      "text/plain": [
       "NDCG MF: 0it [00:00, ?it/s]"
      ]
     },
     "metadata": {},
     "output_type": "display_data"
    },
    {
     "name": "stdout",
     "output_type": "stream",
     "text": [
      "Calculating NDCG@10 for PMF...\n"
     ]
    },
    {
     "data": {
      "application/vnd.jupyter.widget-view+json": {
       "model_id": "d460e16092334de881f18c6374bf8ffb",
       "version_major": 2,
       "version_minor": 0
      },
      "text/plain": [
       "NDCG PMF:   0%|          | 0/3000 [00:00<?, ?it/s]"
      ]
     },
     "metadata": {},
     "output_type": "display_data"
    },
    {
     "name": "stdout",
     "output_type": "stream",
     "text": [
      "Calculating NDCG@10 for NMF...\n"
     ]
    },
    {
     "data": {
      "application/vnd.jupyter.widget-view+json": {
       "model_id": "b756a9b6961f41fba62902443be9e558",
       "version_major": 2,
       "version_minor": 0
      },
      "text/plain": [
       "NDCG NMF:   0%|          | 0/3000 [00:00<?, ?it/s]"
      ]
     },
     "metadata": {},
     "output_type": "display_data"
    },
    {
     "name": "stdout",
     "output_type": "stream",
     "text": [
      "Calculating NDCG@10 for HPF...\n"
     ]
    },
    {
     "data": {
      "application/vnd.jupyter.widget-view+json": {
       "model_id": "a9c967c2ccf146a49795727a1c9dfd2e",
       "version_major": 2,
       "version_minor": 0
      },
      "text/plain": [
       "NDCG HPF:   0%|          | 0/3000 [00:00<?, ?it/s]"
      ]
     },
     "metadata": {},
     "output_type": "display_data"
    },
    {
     "name": "stdout",
     "output_type": "stream",
     "text": [
      "Calculating %DeltaGAP for eva_two, pop_one...\n"
     ]
    },
    {
     "data": {
      "application/vnd.jupyter.widget-view+json": {
       "model_id": "8e28d6b1a0ca42ddb8d34053005ab70b",
       "version_major": 2,
       "version_minor": 0
      },
      "text/plain": [
       "GAP MostPop:   0%|          | 0/3000 [00:00<?, ?it/s]"
      ]
     },
     "metadata": {},
     "output_type": "display_data"
    },
    {
     "data": {
      "application/vnd.jupyter.widget-view+json": {
       "model_id": "594c813aa1bb4b09887c97fc38064d29",
       "version_major": 2,
       "version_minor": 0
      },
      "text/plain": [
       "GAP UserKNN:   0%|          | 0/3000 [00:00<?, ?it/s]"
      ]
     },
     "metadata": {},
     "output_type": "display_data"
    },
    {
     "data": {
      "application/vnd.jupyter.widget-view+json": {
       "model_id": "f116f42d91fd4ef986ff871a681e9063",
       "version_major": 2,
       "version_minor": 0
      },
      "text/plain": [
       "GAP ItemKNN:   0%|          | 0/3000 [00:00<?, ?it/s]"
      ]
     },
     "metadata": {},
     "output_type": "display_data"
    },
    {
     "data": {
      "application/vnd.jupyter.widget-view+json": {
       "model_id": "5ed1f69ace7345c1ac261159aff86e50",
       "version_major": 2,
       "version_minor": 0
      },
      "text/plain": [
       "GAP MF: 0it [00:00, ?it/s]"
      ]
     },
     "metadata": {},
     "output_type": "display_data"
    },
    {
     "data": {
      "application/vnd.jupyter.widget-view+json": {
       "model_id": "8f3cc64969344549b1c08e4a3689204d",
       "version_major": 2,
       "version_minor": 0
      },
      "text/plain": [
       "GAP PMF:   0%|          | 0/3000 [00:00<?, ?it/s]"
      ]
     },
     "metadata": {},
     "output_type": "display_data"
    },
    {
     "data": {
      "application/vnd.jupyter.widget-view+json": {
       "model_id": "cf978582f7b1423593d763440066f3ed",
       "version_major": 2,
       "version_minor": 0
      },
      "text/plain": [
       "GAP NMF:   0%|          | 0/3000 [00:00<?, ?it/s]"
      ]
     },
     "metadata": {},
     "output_type": "display_data"
    },
    {
     "data": {
      "application/vnd.jupyter.widget-view+json": {
       "model_id": "5e04f913cc9d4bc7acd854ed7ed81abd",
       "version_major": 2,
       "version_minor": 0
      },
      "text/plain": [
       "GAP HPF:   0%|          | 0/3000 [00:00<?, ?it/s]"
      ]
     },
     "metadata": {},
     "output_type": "display_data"
    },
    {
     "name": "stdout",
     "output_type": "stream",
     "text": [
      "Saving results for eva=eva_two, pop=pop_one...\n",
      "\n",
      "--- Running Evaluation for: eva=eva_two, pop=pop_two ---\n",
      "Sorting users by 'pop_item_fraq' and splitting...\n",
      "Low Group ('Niche', 600 users): Avg Profile Size=336.87, Avg Profile GAP=0.049812\n",
      "Med Group ('Diverse', 1800 users): Avg Profile Size=385.25, Avg Profile GAP=0.083783\n",
      "High Group ('Blockbuster', 600 users): Avg Profile Size=188.19, Avg Profile GAP=0.125745\n",
      "Calculating NDCG@10 for MostPop...\n"
     ]
    },
    {
     "data": {
      "application/vnd.jupyter.widget-view+json": {
       "model_id": "555b6a62c26a49a4b75f7954ba9c0196",
       "version_major": 2,
       "version_minor": 0
      },
      "text/plain": [
       "NDCG MostPop:   0%|          | 0/3000 [00:00<?, ?it/s]"
      ]
     },
     "metadata": {},
     "output_type": "display_data"
    },
    {
     "name": "stdout",
     "output_type": "stream",
     "text": [
      "Calculating NDCG@10 for UserKNN...\n"
     ]
    },
    {
     "data": {
      "application/vnd.jupyter.widget-view+json": {
       "model_id": "7bd728b01ea54c6aa48df82e17ed8cd2",
       "version_major": 2,
       "version_minor": 0
      },
      "text/plain": [
       "NDCG UserKNN:   0%|          | 0/3000 [00:00<?, ?it/s]"
      ]
     },
     "metadata": {},
     "output_type": "display_data"
    },
    {
     "name": "stdout",
     "output_type": "stream",
     "text": [
      "Calculating NDCG@10 for ItemKNN...\n"
     ]
    },
    {
     "data": {
      "application/vnd.jupyter.widget-view+json": {
       "model_id": "900235da700147a8807c9f72c00380f1",
       "version_major": 2,
       "version_minor": 0
      },
      "text/plain": [
       "NDCG ItemKNN:   0%|          | 0/3000 [00:00<?, ?it/s]"
      ]
     },
     "metadata": {},
     "output_type": "display_data"
    },
    {
     "name": "stdout",
     "output_type": "stream",
     "text": [
      "Calculating NDCG@10 for MF...\n"
     ]
    },
    {
     "data": {
      "application/vnd.jupyter.widget-view+json": {
       "model_id": "c2ec00e69e37432e82bb8f211a9e9c76",
       "version_major": 2,
       "version_minor": 0
      },
      "text/plain": [
       "NDCG MF: 0it [00:00, ?it/s]"
      ]
     },
     "metadata": {},
     "output_type": "display_data"
    },
    {
     "name": "stdout",
     "output_type": "stream",
     "text": [
      "Calculating NDCG@10 for PMF...\n"
     ]
    },
    {
     "data": {
      "application/vnd.jupyter.widget-view+json": {
       "model_id": "0f2f47ff01e948f0a9965fb22406fc17",
       "version_major": 2,
       "version_minor": 0
      },
      "text/plain": [
       "NDCG PMF:   0%|          | 0/3000 [00:00<?, ?it/s]"
      ]
     },
     "metadata": {},
     "output_type": "display_data"
    },
    {
     "name": "stdout",
     "output_type": "stream",
     "text": [
      "Calculating NDCG@10 for NMF...\n"
     ]
    },
    {
     "data": {
      "application/vnd.jupyter.widget-view+json": {
       "model_id": "06d4a101df924d7894134072d187a91c",
       "version_major": 2,
       "version_minor": 0
      },
      "text/plain": [
       "NDCG NMF:   0%|          | 0/3000 [00:00<?, ?it/s]"
      ]
     },
     "metadata": {},
     "output_type": "display_data"
    },
    {
     "name": "stdout",
     "output_type": "stream",
     "text": [
      "Calculating NDCG@10 for HPF...\n"
     ]
    },
    {
     "data": {
      "application/vnd.jupyter.widget-view+json": {
       "model_id": "1b66b5c0493942c4bb76c89e5530b9a9",
       "version_major": 2,
       "version_minor": 0
      },
      "text/plain": [
       "NDCG HPF:   0%|          | 0/3000 [00:00<?, ?it/s]"
      ]
     },
     "metadata": {},
     "output_type": "display_data"
    },
    {
     "name": "stdout",
     "output_type": "stream",
     "text": [
      "Calculating %DeltaGAP for eva_two, pop_two...\n"
     ]
    },
    {
     "data": {
      "application/vnd.jupyter.widget-view+json": {
       "model_id": "512235f30faf4ba98a6794609da5f6a2",
       "version_major": 2,
       "version_minor": 0
      },
      "text/plain": [
       "GAP MostPop:   0%|          | 0/3000 [00:00<?, ?it/s]"
      ]
     },
     "metadata": {},
     "output_type": "display_data"
    },
    {
     "data": {
      "application/vnd.jupyter.widget-view+json": {
       "model_id": "32807842a3864aec824cddda8b45e0a9",
       "version_major": 2,
       "version_minor": 0
      },
      "text/plain": [
       "GAP UserKNN:   0%|          | 0/3000 [00:00<?, ?it/s]"
      ]
     },
     "metadata": {},
     "output_type": "display_data"
    },
    {
     "data": {
      "application/vnd.jupyter.widget-view+json": {
       "model_id": "f8462e21bd804a0a8f48bb07ff2c6b33",
       "version_major": 2,
       "version_minor": 0
      },
      "text/plain": [
       "GAP ItemKNN:   0%|          | 0/3000 [00:00<?, ?it/s]"
      ]
     },
     "metadata": {},
     "output_type": "display_data"
    },
    {
     "data": {
      "application/vnd.jupyter.widget-view+json": {
       "model_id": "236315d26560426fbed8e72d866221f9",
       "version_major": 2,
       "version_minor": 0
      },
      "text/plain": [
       "GAP MF: 0it [00:00, ?it/s]"
      ]
     },
     "metadata": {},
     "output_type": "display_data"
    },
    {
     "data": {
      "application/vnd.jupyter.widget-view+json": {
       "model_id": "56f65f6db3ad4181b2caa7b388831a6b",
       "version_major": 2,
       "version_minor": 0
      },
      "text/plain": [
       "GAP PMF:   0%|          | 0/3000 [00:00<?, ?it/s]"
      ]
     },
     "metadata": {},
     "output_type": "display_data"
    },
    {
     "data": {
      "application/vnd.jupyter.widget-view+json": {
       "model_id": "d77036de582e4776ae863be65b769298",
       "version_major": 2,
       "version_minor": 0
      },
      "text/plain": [
       "GAP NMF:   0%|          | 0/3000 [00:00<?, ?it/s]"
      ]
     },
     "metadata": {},
     "output_type": "display_data"
    },
    {
     "data": {
      "application/vnd.jupyter.widget-view+json": {
       "model_id": "b8237f1998a4405893fe2406da56298e",
       "version_major": 2,
       "version_minor": 0
      },
      "text/plain": [
       "GAP HPF:   0%|          | 0/3000 [00:00<?, ?it/s]"
      ]
     },
     "metadata": {},
     "output_type": "display_data"
    },
    {
     "name": "stdout",
     "output_type": "stream",
     "text": [
      "Saving results for eva=eva_two, pop=pop_two...\n",
      "\n",
      "--- Skipping Evaluation for: eva=eva_two, pop=pop_three (Not applicable) ---\n",
      "\n",
      "--- Running Evaluation for: eva=eva_two, pop=pop_four ---\n",
      "Sorting users by 'niche_consumption_rate' and splitting...\n",
      "Low Group ('Niche', 600 users): Avg Profile Size=262.23, Avg Profile GAP=0.115610\n",
      "Med Group ('Diverse', 1800 users): Avg Profile Size=377.53, Avg Profile GAP=0.085114\n",
      "High Group ('Blockbuster', 600 users): Avg Profile Size=285.96, Avg Profile GAP=0.055953\n",
      "Calculating NDCG@10 for MostPop...\n"
     ]
    },
    {
     "data": {
      "application/vnd.jupyter.widget-view+json": {
       "model_id": "1e4d4a7ebf2b4ba28776b661f2c44051",
       "version_major": 2,
       "version_minor": 0
      },
      "text/plain": [
       "NDCG MostPop:   0%|          | 0/3000 [00:00<?, ?it/s]"
      ]
     },
     "metadata": {},
     "output_type": "display_data"
    },
    {
     "name": "stdout",
     "output_type": "stream",
     "text": [
      "Calculating NDCG@10 for UserKNN...\n"
     ]
    },
    {
     "data": {
      "application/vnd.jupyter.widget-view+json": {
       "model_id": "662f3856d04740df96fe0c00a44b906a",
       "version_major": 2,
       "version_minor": 0
      },
      "text/plain": [
       "NDCG UserKNN:   0%|          | 0/3000 [00:00<?, ?it/s]"
      ]
     },
     "metadata": {},
     "output_type": "display_data"
    },
    {
     "name": "stdout",
     "output_type": "stream",
     "text": [
      "Calculating NDCG@10 for ItemKNN...\n"
     ]
    },
    {
     "data": {
      "application/vnd.jupyter.widget-view+json": {
       "model_id": "cdd2797770e848cd9e51491384f2432c",
       "version_major": 2,
       "version_minor": 0
      },
      "text/plain": [
       "NDCG ItemKNN:   0%|          | 0/3000 [00:00<?, ?it/s]"
      ]
     },
     "metadata": {},
     "output_type": "display_data"
    },
    {
     "name": "stdout",
     "output_type": "stream",
     "text": [
      "Calculating NDCG@10 for MF...\n"
     ]
    },
    {
     "data": {
      "application/vnd.jupyter.widget-view+json": {
       "model_id": "19aace51c5cb44128d8786652434d25c",
       "version_major": 2,
       "version_minor": 0
      },
      "text/plain": [
       "NDCG MF: 0it [00:00, ?it/s]"
      ]
     },
     "metadata": {},
     "output_type": "display_data"
    },
    {
     "name": "stdout",
     "output_type": "stream",
     "text": [
      "Calculating NDCG@10 for PMF...\n"
     ]
    },
    {
     "data": {
      "application/vnd.jupyter.widget-view+json": {
       "model_id": "3c43d7b1314241c9a07f582318ffb6e4",
       "version_major": 2,
       "version_minor": 0
      },
      "text/plain": [
       "NDCG PMF:   0%|          | 0/3000 [00:00<?, ?it/s]"
      ]
     },
     "metadata": {},
     "output_type": "display_data"
    },
    {
     "name": "stdout",
     "output_type": "stream",
     "text": [
      "Calculating NDCG@10 for NMF...\n"
     ]
    },
    {
     "data": {
      "application/vnd.jupyter.widget-view+json": {
       "model_id": "f65b951dc087435ba2ed8635c64fdc1a",
       "version_major": 2,
       "version_minor": 0
      },
      "text/plain": [
       "NDCG NMF:   0%|          | 0/3000 [00:00<?, ?it/s]"
      ]
     },
     "metadata": {},
     "output_type": "display_data"
    },
    {
     "name": "stdout",
     "output_type": "stream",
     "text": [
      "Calculating NDCG@10 for HPF...\n"
     ]
    },
    {
     "data": {
      "application/vnd.jupyter.widget-view+json": {
       "model_id": "93651ee8fff44c39a3f385812cea703d",
       "version_major": 2,
       "version_minor": 0
      },
      "text/plain": [
       "NDCG HPF:   0%|          | 0/3000 [00:00<?, ?it/s]"
      ]
     },
     "metadata": {},
     "output_type": "display_data"
    },
    {
     "name": "stdout",
     "output_type": "stream",
     "text": [
      "Calculating %DeltaGAP for eva_two, pop_four...\n"
     ]
    },
    {
     "data": {
      "application/vnd.jupyter.widget-view+json": {
       "model_id": "eaa48654a08c4a52a1e6ed41a2c96fbe",
       "version_major": 2,
       "version_minor": 0
      },
      "text/plain": [
       "GAP MostPop:   0%|          | 0/3000 [00:00<?, ?it/s]"
      ]
     },
     "metadata": {},
     "output_type": "display_data"
    },
    {
     "data": {
      "application/vnd.jupyter.widget-view+json": {
       "model_id": "432b9a0f19aa49489760c609a5c12fb2",
       "version_major": 2,
       "version_minor": 0
      },
      "text/plain": [
       "GAP UserKNN:   0%|          | 0/3000 [00:00<?, ?it/s]"
      ]
     },
     "metadata": {},
     "output_type": "display_data"
    },
    {
     "data": {
      "application/vnd.jupyter.widget-view+json": {
       "model_id": "73cb8fa1ac6140cdb5b9bfca771230c5",
       "version_major": 2,
       "version_minor": 0
      },
      "text/plain": [
       "GAP ItemKNN:   0%|          | 0/3000 [00:00<?, ?it/s]"
      ]
     },
     "metadata": {},
     "output_type": "display_data"
    },
    {
     "data": {
      "application/vnd.jupyter.widget-view+json": {
       "model_id": "a456cae3cf5a4f8093e5e542f6be2c9d",
       "version_major": 2,
       "version_minor": 0
      },
      "text/plain": [
       "GAP MF: 0it [00:00, ?it/s]"
      ]
     },
     "metadata": {},
     "output_type": "display_data"
    },
    {
     "data": {
      "application/vnd.jupyter.widget-view+json": {
       "model_id": "a670bd69465e47c4ae8e2900136a9ff1",
       "version_major": 2,
       "version_minor": 0
      },
      "text/plain": [
       "GAP PMF:   0%|          | 0/3000 [00:00<?, ?it/s]"
      ]
     },
     "metadata": {},
     "output_type": "display_data"
    },
    {
     "data": {
      "application/vnd.jupyter.widget-view+json": {
       "model_id": "28fca4ecb8264aa8b6e00d4c8866c87f",
       "version_major": 2,
       "version_minor": 0
      },
      "text/plain": [
       "GAP NMF:   0%|          | 0/3000 [00:00<?, ?it/s]"
      ]
     },
     "metadata": {},
     "output_type": "display_data"
    },
    {
     "data": {
      "application/vnd.jupyter.widget-view+json": {
       "model_id": "b0d27cb9667340f38c34401df5b01cec",
       "version_major": 2,
       "version_minor": 0
      },
      "text/plain": [
       "GAP HPF:   0%|          | 0/3000 [00:00<?, ?it/s]"
      ]
     },
     "metadata": {},
     "output_type": "display_data"
    },
    {
     "name": "stdout",
     "output_type": "stream",
     "text": [
      "Saving results for eva=eva_two, pop=pop_four...\n",
      "\n",
      "--- Running Evaluation for: eva=eva_three, pop=pop_one ---\n",
      "Sorting users by 'pop_fraq' and splitting...\n",
      "Low Group ('Niche', 600 users): Avg Profile Size=303.26, Avg Profile GAP=0.051648\n",
      "Med Group ('Diverse', 1800 users): Avg Profile Size=380.66, Avg Profile GAP=0.084701\n",
      "High Group ('Blockbuster', 600 users): Avg Profile Size=235.56, Avg Profile GAP=0.121155\n",
      "Calculating NDCG@10 for MostPop...\n"
     ]
    },
    {
     "data": {
      "application/vnd.jupyter.widget-view+json": {
       "model_id": "bbc0dacebd1841d0bc648fd37025b417",
       "version_major": 2,
       "version_minor": 0
      },
      "text/plain": [
       "NDCG MostPop:   0%|          | 0/3000 [00:00<?, ?it/s]"
      ]
     },
     "metadata": {},
     "output_type": "display_data"
    },
    {
     "name": "stdout",
     "output_type": "stream",
     "text": [
      "Calculating NDCG@10 for UserKNN...\n"
     ]
    },
    {
     "data": {
      "application/vnd.jupyter.widget-view+json": {
       "model_id": "43cd04ce94214ae99a10bb7eee70995b",
       "version_major": 2,
       "version_minor": 0
      },
      "text/plain": [
       "NDCG UserKNN:   0%|          | 0/3000 [00:00<?, ?it/s]"
      ]
     },
     "metadata": {},
     "output_type": "display_data"
    },
    {
     "name": "stdout",
     "output_type": "stream",
     "text": [
      "Calculating NDCG@10 for ItemKNN...\n"
     ]
    },
    {
     "data": {
      "application/vnd.jupyter.widget-view+json": {
       "model_id": "e5670f6bd7c34891a635f82b74d41357",
       "version_major": 2,
       "version_minor": 0
      },
      "text/plain": [
       "NDCG ItemKNN:   0%|          | 0/3000 [00:00<?, ?it/s]"
      ]
     },
     "metadata": {},
     "output_type": "display_data"
    },
    {
     "name": "stdout",
     "output_type": "stream",
     "text": [
      "Calculating NDCG@10 for MF...\n"
     ]
    },
    {
     "data": {
      "application/vnd.jupyter.widget-view+json": {
       "model_id": "9dc8d250f4024fec8d9bae8e4dc58c0f",
       "version_major": 2,
       "version_minor": 0
      },
      "text/plain": [
       "NDCG MF: 0it [00:00, ?it/s]"
      ]
     },
     "metadata": {},
     "output_type": "display_data"
    },
    {
     "name": "stdout",
     "output_type": "stream",
     "text": [
      "Calculating NDCG@10 for PMF...\n"
     ]
    },
    {
     "data": {
      "application/vnd.jupyter.widget-view+json": {
       "model_id": "a8e84afefd0540daa9a981c707eb2d48",
       "version_major": 2,
       "version_minor": 0
      },
      "text/plain": [
       "NDCG PMF:   0%|          | 0/3000 [00:00<?, ?it/s]"
      ]
     },
     "metadata": {},
     "output_type": "display_data"
    },
    {
     "name": "stdout",
     "output_type": "stream",
     "text": [
      "Calculating NDCG@10 for NMF...\n"
     ]
    },
    {
     "data": {
      "application/vnd.jupyter.widget-view+json": {
       "model_id": "3b706c1d65e9447db41a6924ece2a4e8",
       "version_major": 2,
       "version_minor": 0
      },
      "text/plain": [
       "NDCG NMF:   0%|          | 0/3000 [00:00<?, ?it/s]"
      ]
     },
     "metadata": {},
     "output_type": "display_data"
    },
    {
     "name": "stdout",
     "output_type": "stream",
     "text": [
      "Calculating NDCG@10 for HPF...\n"
     ]
    },
    {
     "data": {
      "application/vnd.jupyter.widget-view+json": {
       "model_id": "81fa965a45b94c40b2bb2ce4c6ea261a",
       "version_major": 2,
       "version_minor": 0
      },
      "text/plain": [
       "NDCG HPF:   0%|          | 0/3000 [00:00<?, ?it/s]"
      ]
     },
     "metadata": {},
     "output_type": "display_data"
    },
    {
     "name": "stdout",
     "output_type": "stream",
     "text": [
      "Calculating %DeltaGAP for eva_three, pop_one...\n"
     ]
    },
    {
     "data": {
      "application/vnd.jupyter.widget-view+json": {
       "model_id": "da04cc22529347e6b76ab9fcd09bed89",
       "version_major": 2,
       "version_minor": 0
      },
      "text/plain": [
       "GAP MostPop:   0%|          | 0/3000 [00:00<?, ?it/s]"
      ]
     },
     "metadata": {},
     "output_type": "display_data"
    },
    {
     "data": {
      "application/vnd.jupyter.widget-view+json": {
       "model_id": "61f1c6549cfd49a7b0550ce995707678",
       "version_major": 2,
       "version_minor": 0
      },
      "text/plain": [
       "GAP UserKNN:   0%|          | 0/3000 [00:00<?, ?it/s]"
      ]
     },
     "metadata": {},
     "output_type": "display_data"
    },
    {
     "data": {
      "application/vnd.jupyter.widget-view+json": {
       "model_id": "869cf4901fbc4135ac1012f0345fe95c",
       "version_major": 2,
       "version_minor": 0
      },
      "text/plain": [
       "GAP ItemKNN:   0%|          | 0/3000 [00:00<?, ?it/s]"
      ]
     },
     "metadata": {},
     "output_type": "display_data"
    },
    {
     "data": {
      "application/vnd.jupyter.widget-view+json": {
       "model_id": "68834df40adb4ff79966d6cac2793652",
       "version_major": 2,
       "version_minor": 0
      },
      "text/plain": [
       "GAP MF: 0it [00:00, ?it/s]"
      ]
     },
     "metadata": {},
     "output_type": "display_data"
    },
    {
     "data": {
      "application/vnd.jupyter.widget-view+json": {
       "model_id": "354ec7e6bcd648ea9ac3ce6f39d87de3",
       "version_major": 2,
       "version_minor": 0
      },
      "text/plain": [
       "GAP PMF:   0%|          | 0/3000 [00:00<?, ?it/s]"
      ]
     },
     "metadata": {},
     "output_type": "display_data"
    },
    {
     "data": {
      "application/vnd.jupyter.widget-view+json": {
       "model_id": "31400e29f5a443b1998b05afea085df6",
       "version_major": 2,
       "version_minor": 0
      },
      "text/plain": [
       "GAP NMF:   0%|          | 0/3000 [00:00<?, ?it/s]"
      ]
     },
     "metadata": {},
     "output_type": "display_data"
    },
    {
     "data": {
      "application/vnd.jupyter.widget-view+json": {
       "model_id": "7eee5e323b1f41188b51f045d973a948",
       "version_major": 2,
       "version_minor": 0
      },
      "text/plain": [
       "GAP HPF:   0%|          | 0/3000 [00:00<?, ?it/s]"
      ]
     },
     "metadata": {},
     "output_type": "display_data"
    },
    {
     "name": "stdout",
     "output_type": "stream",
     "text": [
      "Saving results for eva=eva_three, pop=pop_one...\n",
      "\n",
      "--- Running Evaluation for: eva=eva_three, pop=pop_two ---\n",
      "Sorting users by 'pop_item_fraq' and splitting...\n",
      "Low Group ('Niche', 600 users): Avg Profile Size=336.87, Avg Profile GAP=0.049812\n",
      "Med Group ('Diverse', 1800 users): Avg Profile Size=385.25, Avg Profile GAP=0.083783\n",
      "High Group ('Blockbuster', 600 users): Avg Profile Size=188.19, Avg Profile GAP=0.125745\n",
      "Calculating NDCG@10 for MostPop...\n"
     ]
    },
    {
     "data": {
      "application/vnd.jupyter.widget-view+json": {
       "model_id": "16aff7f914b546fba74c34585d8020fe",
       "version_major": 2,
       "version_minor": 0
      },
      "text/plain": [
       "NDCG MostPop:   0%|          | 0/3000 [00:00<?, ?it/s]"
      ]
     },
     "metadata": {},
     "output_type": "display_data"
    },
    {
     "name": "stdout",
     "output_type": "stream",
     "text": [
      "Calculating NDCG@10 for UserKNN...\n"
     ]
    },
    {
     "data": {
      "application/vnd.jupyter.widget-view+json": {
       "model_id": "9fde0ec12c584708b7b49bd19eb1ba9b",
       "version_major": 2,
       "version_minor": 0
      },
      "text/plain": [
       "NDCG UserKNN:   0%|          | 0/3000 [00:00<?, ?it/s]"
      ]
     },
     "metadata": {},
     "output_type": "display_data"
    },
    {
     "name": "stdout",
     "output_type": "stream",
     "text": [
      "Calculating NDCG@10 for ItemKNN...\n"
     ]
    },
    {
     "data": {
      "application/vnd.jupyter.widget-view+json": {
       "model_id": "d656ce46641543daa9060cb26ff83f86",
       "version_major": 2,
       "version_minor": 0
      },
      "text/plain": [
       "NDCG ItemKNN:   0%|          | 0/3000 [00:00<?, ?it/s]"
      ]
     },
     "metadata": {},
     "output_type": "display_data"
    },
    {
     "name": "stdout",
     "output_type": "stream",
     "text": [
      "Calculating NDCG@10 for MF...\n"
     ]
    },
    {
     "data": {
      "application/vnd.jupyter.widget-view+json": {
       "model_id": "b264e7348552444b9705568b77395ee2",
       "version_major": 2,
       "version_minor": 0
      },
      "text/plain": [
       "NDCG MF: 0it [00:00, ?it/s]"
      ]
     },
     "metadata": {},
     "output_type": "display_data"
    },
    {
     "name": "stdout",
     "output_type": "stream",
     "text": [
      "Calculating NDCG@10 for PMF...\n"
     ]
    },
    {
     "data": {
      "application/vnd.jupyter.widget-view+json": {
       "model_id": "2278eb610ff64fac97fa403975ea38a8",
       "version_major": 2,
       "version_minor": 0
      },
      "text/plain": [
       "NDCG PMF:   0%|          | 0/3000 [00:00<?, ?it/s]"
      ]
     },
     "metadata": {},
     "output_type": "display_data"
    },
    {
     "name": "stdout",
     "output_type": "stream",
     "text": [
      "Calculating NDCG@10 for NMF...\n"
     ]
    },
    {
     "data": {
      "application/vnd.jupyter.widget-view+json": {
       "model_id": "212139b87e0f4466b080eb579dd48d44",
       "version_major": 2,
       "version_minor": 0
      },
      "text/plain": [
       "NDCG NMF:   0%|          | 0/3000 [00:00<?, ?it/s]"
      ]
     },
     "metadata": {},
     "output_type": "display_data"
    },
    {
     "name": "stdout",
     "output_type": "stream",
     "text": [
      "Calculating NDCG@10 for HPF...\n"
     ]
    },
    {
     "data": {
      "application/vnd.jupyter.widget-view+json": {
       "model_id": "c46bf87c63024b4da4fba87a827ddd6e",
       "version_major": 2,
       "version_minor": 0
      },
      "text/plain": [
       "NDCG HPF:   0%|          | 0/3000 [00:00<?, ?it/s]"
      ]
     },
     "metadata": {},
     "output_type": "display_data"
    },
    {
     "name": "stdout",
     "output_type": "stream",
     "text": [
      "Calculating %DeltaGAP for eva_three, pop_two...\n"
     ]
    },
    {
     "data": {
      "application/vnd.jupyter.widget-view+json": {
       "model_id": "3f2e79b5f1d640f4b7071b2c0d850ef9",
       "version_major": 2,
       "version_minor": 0
      },
      "text/plain": [
       "GAP MostPop:   0%|          | 0/3000 [00:00<?, ?it/s]"
      ]
     },
     "metadata": {},
     "output_type": "display_data"
    },
    {
     "data": {
      "application/vnd.jupyter.widget-view+json": {
       "model_id": "bb54ddef6e084ae69c0a1348c060dd64",
       "version_major": 2,
       "version_minor": 0
      },
      "text/plain": [
       "GAP UserKNN:   0%|          | 0/3000 [00:00<?, ?it/s]"
      ]
     },
     "metadata": {},
     "output_type": "display_data"
    },
    {
     "data": {
      "application/vnd.jupyter.widget-view+json": {
       "model_id": "55a7eb8a270f4d6284d7e5e7baad9d52",
       "version_major": 2,
       "version_minor": 0
      },
      "text/plain": [
       "GAP ItemKNN:   0%|          | 0/3000 [00:00<?, ?it/s]"
      ]
     },
     "metadata": {},
     "output_type": "display_data"
    },
    {
     "data": {
      "application/vnd.jupyter.widget-view+json": {
       "model_id": "70d366af8f7b4a0f8c9f43bb0ba661af",
       "version_major": 2,
       "version_minor": 0
      },
      "text/plain": [
       "GAP MF: 0it [00:00, ?it/s]"
      ]
     },
     "metadata": {},
     "output_type": "display_data"
    },
    {
     "data": {
      "application/vnd.jupyter.widget-view+json": {
       "model_id": "c9351718c0c64382ab392c21c748228d",
       "version_major": 2,
       "version_minor": 0
      },
      "text/plain": [
       "GAP PMF:   0%|          | 0/3000 [00:00<?, ?it/s]"
      ]
     },
     "metadata": {},
     "output_type": "display_data"
    },
    {
     "data": {
      "application/vnd.jupyter.widget-view+json": {
       "model_id": "e0e255a175dd448885a1ce8c62575fad",
       "version_major": 2,
       "version_minor": 0
      },
      "text/plain": [
       "GAP NMF:   0%|          | 0/3000 [00:00<?, ?it/s]"
      ]
     },
     "metadata": {},
     "output_type": "display_data"
    },
    {
     "data": {
      "application/vnd.jupyter.widget-view+json": {
       "model_id": "288287d7ec1f458e815937f5cb19f4b0",
       "version_major": 2,
       "version_minor": 0
      },
      "text/plain": [
       "GAP HPF:   0%|          | 0/3000 [00:00<?, ?it/s]"
      ]
     },
     "metadata": {},
     "output_type": "display_data"
    },
    {
     "name": "stdout",
     "output_type": "stream",
     "text": [
      "Saving results for eva=eva_three, pop=pop_two...\n",
      "\n",
      "--- Skipping Evaluation for: eva=eva_three, pop=pop_three (Not applicable) ---\n",
      "\n",
      "--- Running Evaluation for: eva=eva_three, pop=pop_four ---\n",
      "Sorting users by 'niche_consumption_rate' and splitting...\n",
      "Low Group ('Niche', 600 users): Avg Profile Size=262.23, Avg Profile GAP=0.115610\n",
      "Med Group ('Diverse', 1800 users): Avg Profile Size=377.53, Avg Profile GAP=0.085114\n",
      "High Group ('Blockbuster', 600 users): Avg Profile Size=285.96, Avg Profile GAP=0.055953\n",
      "Calculating NDCG@10 for MostPop...\n"
     ]
    },
    {
     "data": {
      "application/vnd.jupyter.widget-view+json": {
       "model_id": "480a9af4a0ba4cb0a834b1d22733e556",
       "version_major": 2,
       "version_minor": 0
      },
      "text/plain": [
       "NDCG MostPop:   0%|          | 0/3000 [00:00<?, ?it/s]"
      ]
     },
     "metadata": {},
     "output_type": "display_data"
    },
    {
     "name": "stdout",
     "output_type": "stream",
     "text": [
      "Calculating NDCG@10 for UserKNN...\n"
     ]
    },
    {
     "data": {
      "application/vnd.jupyter.widget-view+json": {
       "model_id": "119bb2eb688e4e6b9d6c51b77d85761a",
       "version_major": 2,
       "version_minor": 0
      },
      "text/plain": [
       "NDCG UserKNN:   0%|          | 0/3000 [00:00<?, ?it/s]"
      ]
     },
     "metadata": {},
     "output_type": "display_data"
    },
    {
     "name": "stdout",
     "output_type": "stream",
     "text": [
      "Calculating NDCG@10 for ItemKNN...\n"
     ]
    },
    {
     "data": {
      "application/vnd.jupyter.widget-view+json": {
       "model_id": "53de742812684c71b97c1dad92cd3d67",
       "version_major": 2,
       "version_minor": 0
      },
      "text/plain": [
       "NDCG ItemKNN:   0%|          | 0/3000 [00:00<?, ?it/s]"
      ]
     },
     "metadata": {},
     "output_type": "display_data"
    },
    {
     "name": "stdout",
     "output_type": "stream",
     "text": [
      "Calculating NDCG@10 for MF...\n"
     ]
    },
    {
     "data": {
      "application/vnd.jupyter.widget-view+json": {
       "model_id": "0721d06fdc0e4385a8ef55554f0b65e6",
       "version_major": 2,
       "version_minor": 0
      },
      "text/plain": [
       "NDCG MF: 0it [00:00, ?it/s]"
      ]
     },
     "metadata": {},
     "output_type": "display_data"
    },
    {
     "name": "stdout",
     "output_type": "stream",
     "text": [
      "Calculating NDCG@10 for PMF...\n"
     ]
    },
    {
     "data": {
      "application/vnd.jupyter.widget-view+json": {
       "model_id": "fc7cf86bed8a40e2bf4a280419ec0b85",
       "version_major": 2,
       "version_minor": 0
      },
      "text/plain": [
       "NDCG PMF:   0%|          | 0/3000 [00:00<?, ?it/s]"
      ]
     },
     "metadata": {},
     "output_type": "display_data"
    },
    {
     "name": "stdout",
     "output_type": "stream",
     "text": [
      "Calculating NDCG@10 for NMF...\n"
     ]
    },
    {
     "data": {
      "application/vnd.jupyter.widget-view+json": {
       "model_id": "5b9e6b9c5589442aaf64b29e9cbe4412",
       "version_major": 2,
       "version_minor": 0
      },
      "text/plain": [
       "NDCG NMF:   0%|          | 0/3000 [00:00<?, ?it/s]"
      ]
     },
     "metadata": {},
     "output_type": "display_data"
    },
    {
     "name": "stdout",
     "output_type": "stream",
     "text": [
      "Calculating NDCG@10 for HPF...\n"
     ]
    },
    {
     "data": {
      "application/vnd.jupyter.widget-view+json": {
       "model_id": "70c0bf53ff8c4291a3ee791ebcae21c7",
       "version_major": 2,
       "version_minor": 0
      },
      "text/plain": [
       "NDCG HPF:   0%|          | 0/3000 [00:00<?, ?it/s]"
      ]
     },
     "metadata": {},
     "output_type": "display_data"
    },
    {
     "name": "stdout",
     "output_type": "stream",
     "text": [
      "Calculating %DeltaGAP for eva_three, pop_four...\n"
     ]
    },
    {
     "data": {
      "application/vnd.jupyter.widget-view+json": {
       "model_id": "695b56010d2042188c400077958788ef",
       "version_major": 2,
       "version_minor": 0
      },
      "text/plain": [
       "GAP MostPop:   0%|          | 0/3000 [00:00<?, ?it/s]"
      ]
     },
     "metadata": {},
     "output_type": "display_data"
    },
    {
     "data": {
      "application/vnd.jupyter.widget-view+json": {
       "model_id": "e9e0bd88ed594b8fb002e56f55b0417a",
       "version_major": 2,
       "version_minor": 0
      },
      "text/plain": [
       "GAP UserKNN:   0%|          | 0/3000 [00:00<?, ?it/s]"
      ]
     },
     "metadata": {},
     "output_type": "display_data"
    },
    {
     "data": {
      "application/vnd.jupyter.widget-view+json": {
       "model_id": "05855161f51241c4b978c28ccb83f6c6",
       "version_major": 2,
       "version_minor": 0
      },
      "text/plain": [
       "GAP ItemKNN:   0%|          | 0/3000 [00:00<?, ?it/s]"
      ]
     },
     "metadata": {},
     "output_type": "display_data"
    },
    {
     "data": {
      "application/vnd.jupyter.widget-view+json": {
       "model_id": "7a9552b3e3174b7d9c127571ef6b5d12",
       "version_major": 2,
       "version_minor": 0
      },
      "text/plain": [
       "GAP MF: 0it [00:00, ?it/s]"
      ]
     },
     "metadata": {},
     "output_type": "display_data"
    },
    {
     "data": {
      "application/vnd.jupyter.widget-view+json": {
       "model_id": "4abc5c9d26fb4757b89d5e79aa724b59",
       "version_major": 2,
       "version_minor": 0
      },
      "text/plain": [
       "GAP PMF:   0%|          | 0/3000 [00:00<?, ?it/s]"
      ]
     },
     "metadata": {},
     "output_type": "display_data"
    },
    {
     "data": {
      "application/vnd.jupyter.widget-view+json": {
       "model_id": "c7e7b3ad80f045c8b6a5792a07a2a49c",
       "version_major": 2,
       "version_minor": 0
      },
      "text/plain": [
       "GAP NMF:   0%|          | 0/3000 [00:00<?, ?it/s]"
      ]
     },
     "metadata": {},
     "output_type": "display_data"
    },
    {
     "data": {
      "application/vnd.jupyter.widget-view+json": {
       "model_id": "1281e40a7884473292f2ceacf97b5f28",
       "version_major": 2,
       "version_minor": 0
      },
      "text/plain": [
       "GAP HPF:   0%|          | 0/3000 [00:00<?, ?it/s]"
      ]
     },
     "metadata": {},
     "output_type": "display_data"
    },
    {
     "name": "stdout",
     "output_type": "stream",
     "text": [
      "Saving results for eva=eva_three, pop=pop_four...\n",
      "\n",
      "Saving base item distribution (indexed by Cornac item ID)...\n",
      "\n",
      "Evaluation for all combinations completed in 71 seconds.\n"
     ]
    }
   ],
   "source": [
    "start_eval = time.time()\n",
    "\n",
    "# Iterate through each evaluation strategy (for which recommendations were generated)\n",
    "for eva_key, current_algo_recommendations in all_recommendations.items():\n",
    "    \n",
    "    # Iterate through each popularity notion for user grouping\n",
    "    for pop_key, pop_sort_col in popularity_function.items():\n",
    "        # Skip pop_three for music dataset\n",
    "        if pop_key == \"pop_three\":\n",
    "            print(f\"\\n--- Skipping Evaluation for: eva={eva_key}, pop={pop_key} (Not applicable) ---\")\n",
    "            continue\n",
    "            \n",
    "        print(f\"\\n--- Running Evaluation for: eva={eva_key}, pop={pop_key} ---\")\n",
    "\n",
    "        # --- 1. Determine user groups (low, med, high) and their profile GAPs --- \n",
    "        low_group = None\n",
    "        med_group = None\n",
    "        high_group = None\n",
    "        low_GAP_profile = np.nan\n",
    "        med_GAP_profile = np.nan\n",
    "        high_GAP_profile = np.nan\n",
    "\n",
    "        # Sort and split users based on calculated metrics\n",
    "        print(f\"Sorting users by '{pop_sort_col}' and splitting...\")\n",
    "        try:\n",
    "            # Ensure the sorting column exists and handle potential NaNs before sorting\n",
    "            if pop_sort_col not in user_metrics_all.columns:\n",
    "                 raise ValueError(f\"Sorting column '{pop_sort_col}' not found.\")\n",
    "            # Drop users with NaN in the sorting column before sorting\n",
    "            user_metrics_to_sort = user_metrics_all.dropna(subset=[pop_sort_col])\n",
    "            if user_metrics_to_sort.empty:\n",
    "                raise ValueError(f\"No users remaining after dropping NaNs for sorting column '{pop_sort_col}'.\")\n",
    "                \n",
    "            user_dist_sorted = sort_users(user_metrics_to_sort, by=pop_sort_col)\n",
    "            low_group, med_group, high_group = split(user_dist_sorted, top_fraction)\n",
    "            # Calculate group characteristics for this split\n",
    "            _, _, _, _, _, _, low_GAP_profile, med_GAP_profile, high_GAP_profile = \\\n",
    "                calculate_group_characteristics(low_group, med_group, high_group)\n",
    "        except ValueError as e:\n",
    "            print(f\"Error during user sorting/splitting for pop_key='{pop_key}': {e}. Skipping evaluation.\")\n",
    "            continue\n",
    "        except IndexError as e:\n",
    "             print(f\"Error during group splitting (likely too few users or bad top_fraction): {e}. Skipping evaluation for pop_key='{pop_key}'.\")\n",
    "             continue\n",
    "             \n",
    "        # Check if groups or GAPs are invalid\n",
    "        if (low_group is None or med_group is None or high_group is None or\n",
    "            low_group.empty or med_group.empty or high_group.empty or\n",
    "            pd.isna(low_GAP_profile) or pd.isna(med_GAP_profile) or pd.isna(high_GAP_profile)):\n",
    "                print(f\"Skipping evaluation for pop_key='{pop_key}' due to invalid groups or profile GAPs.\")\n",
    "                continue\n",
    "\n",
    "        # --- 2. Calculate NDCG --- \n",
    "        NDCGs = pd.DataFrame(index=algo_names, columns=['low', 'med', 'high']).fillna(np.nan)\n",
    "        TTESTs_ndcg = pd.DataFrame(index=algo_names, columns=['low-med', 'low-high', 'med-high']).fillna(np.nan)\n",
    "        for i, algo_name in enumerate(algo_names):\n",
    "             recommendations_for_algo = current_algo_recommendations[algo_name]\n",
    "             ndcg_low, ndcg_med, ndcg_high, ttests = calculate_NDCG_per_group(algo_name, i, recommendations_for_algo, exp, low_group, med_group, high_group, rec_k)\n",
    "             NDCGs.loc[algo_name] = ndcg_low, ndcg_med, ndcg_high\n",
    "             TTESTs_ndcg.loc[algo_name] = ttests\n",
    "\n",
    "        # --- 3. Calculate %ΔGAP --- \n",
    "        low_gap_vals_list = []\n",
    "        medium_gap_vals_list = []\n",
    "        high_gap_vals_list = []\n",
    "        gap_ttests_list = []\n",
    "        \n",
    "        df_item_dist_cornac_eval = df_item_dist_cornac.copy()\n",
    "        if 'popularity' not in df_item_dist_cornac_eval.columns:\n",
    "             df_item_dist_cornac_eval['popularity'] = df_item_dist_cornac_eval['count'] / num_users\n",
    "             \n",
    "        print(f\"Calculating %DeltaGAP for {eva_key}, {pop_key}...\")\n",
    "        for i, algo_name in enumerate(algo_names):\n",
    "            low_rec_gap_user = []\n",
    "            medium_rec_gap_user = []\n",
    "            high_rec_gap_user = []\n",
    "\n",
    "            recommendations_for_algo = current_algo_recommendations[algo_name]\n",
    "            for uid_int, user_ratings in tqdm(recommendations_for_algo.items(), desc=f\"GAP {algo_name}\"):\n",
    "                iid_list_int = [iid for (iid, _) in user_ratings]\n",
    "                if not iid_list_int: continue\n",
    "                \n",
    "                iid_list_str = [str(iid) for iid in iid_list_int]\n",
    "                valid_iids_str = [iid_str for iid_str in iid_list_str if iid_str in df_item_dist_cornac_eval.index]\n",
    "                \n",
    "                if not valid_iids_str: continue\n",
    "\n",
    "                # Calculate GAP for this user's recommendations using item 'popularity'\n",
    "                gap = sum(df_item_dist_cornac_eval.loc[valid_iids_str, 'popularity']) / len(valid_iids_str)\n",
    "                \n",
    "                # Skip if GAP is NaN (e.g., due to NaN scores in recommendations)\n",
    "                if pd.isna(gap):\n",
    "                    # print(f\"Warning: NaN GAP calculated for user {uid_int} in {algo_name}. Skipping user for GAP avg.\")\n",
    "                    continue \n",
    "\n",
    "                if uid_int in low_group.index:\n",
    "                    low_rec_gap_user.append(gap)\n",
    "                elif uid_int in med_group.index:\n",
    "                    medium_rec_gap_user.append(gap)\n",
    "                elif uid_int in high_group.index:\n",
    "                    high_rec_gap_user.append(gap)\n",
    "            \n",
    "            mean_gap_rec_low = np.nanmean(low_rec_gap_user) if low_rec_gap_user else np.nan\n",
    "            mean_gap_rec_med = np.nanmean(medium_rec_gap_user) if medium_rec_gap_user else np.nan\n",
    "            mean_gap_rec_high = np.nanmean(high_rec_gap_user) if high_rec_gap_user else np.nan\n",
    "            \n",
    "            # Calculate %ΔGAP only if profile GAP is valid (non-NaN and non-zero)\n",
    "            delta_gap_low = (mean_gap_rec_low - low_GAP_profile) / low_GAP_profile * 100 if pd.notna(low_GAP_profile) and low_GAP_profile != 0 and pd.notna(mean_gap_rec_low) else np.nan\n",
    "            delta_gap_med = (mean_gap_rec_med - med_GAP_profile) / med_GAP_profile * 100 if pd.notna(med_GAP_profile) and med_GAP_profile != 0 and pd.notna(mean_gap_rec_med) else np.nan\n",
    "            delta_gap_high = (mean_gap_rec_high - high_GAP_profile) / high_GAP_profile * 100 if pd.notna(high_GAP_profile) and high_GAP_profile != 0 and pd.notna(mean_gap_rec_high) else np.nan\n",
    "            \n",
    "            low_gap_vals_list.append(delta_gap_low)\n",
    "            medium_gap_vals_list.append(delta_gap_med)\n",
    "            high_gap_vals_list.append(delta_gap_high)\n",
    "            \n",
    "            # Calculate t-tests for %ΔGAP differences (using individual user relative differences)\n",
    "            rel_diff_low = [(g - low_GAP_profile) / low_GAP_profile for g in low_rec_gap_user if pd.notna(g)] if pd.notna(low_GAP_profile) and low_GAP_profile != 0 else []\n",
    "            rel_diff_med = [(g - med_GAP_profile) / med_GAP_profile for g in medium_rec_gap_user if pd.notna(g)] if pd.notna(med_GAP_profile) and med_GAP_profile != 0 else []\n",
    "            rel_diff_high = [(g - high_GAP_profile) / high_GAP_profile for g in high_rec_gap_user if pd.notna(g)] if pd.notna(high_GAP_profile) and high_GAP_profile != 0 else []\n",
    "            \n",
    "            ttests_gap = [np.nan] * 3\n",
    "            try:\n",
    "                if len(rel_diff_low) > 1 and len(rel_diff_med) > 1:\n",
    "                     ttests_gap[0] = stats.ttest_ind(rel_diff_low, rel_diff_med, equal_var=False, nan_policy='omit')[1]\n",
    "                if len(rel_diff_low) > 1 and len(rel_diff_high) > 1:\n",
    "                     ttests_gap[1] = stats.ttest_ind(rel_diff_low, rel_diff_high, equal_var=False, nan_policy='omit')[1]\n",
    "                if len(rel_diff_med) > 1 and len(rel_diff_high) > 1:\n",
    "                     ttests_gap[2] = stats.ttest_ind(rel_diff_med, rel_diff_high, equal_var=False, nan_policy='omit')[1]\n",
    "            except Exception as e:\n",
    "                 print(f\"Error during t-test calculation for GAP ({algo_name}): {e}\")\n",
    "            gap_ttests_list.append(ttests_gap)\n",
    "\n",
    "        # --- 4. Save results for this combination --- \n",
    "        print(f\"Saving results for eva={eva_key}, pop={pop_key}...\")\n",
    "        \n",
    "        NDCGs.to_csv(results_location + f'NDCGs_music_{eva_key}_{pop_key}.csv')\n",
    "        TTESTs_ndcg.to_csv(results_location + f'NDCG_ttests_music_{eva_key}_{pop_key}.csv')\n",
    "        \n",
    "        # Save GAP results as lists (containing floats or NaNs)\n",
    "        gap_results_dict = {\n",
    "            'low': low_gap_vals_list,\n",
    "            'med': medium_gap_vals_list,\n",
    "            'high': high_gap_vals_list\n",
    "        }\n",
    "        df_gap_results = pd.DataFrame(gap_results_dict, index=algo_names)\n",
    "        df_gap_results.to_csv(results_location + f'PercentDeltaGAP_music_{eva_key}_{pop_key}.csv')\n",
    "        \n",
    "        # Save t-tests for GAP\n",
    "        df_gap_ttests = pd.DataFrame(gap_ttests_list, index=algo_names, columns=['low-med', 'low-high', 'med-high'])\n",
    "        df_gap_ttests.to_csv(results_location + f'GAP_ttests_music_{eva_key}_{pop_key}.csv')\n",
    "\n",
    "# --- 5. Save Base Item Distribution --- \n",
    "print(\"\\nSaving base item distribution (indexed by Cornac item ID)...\")\n",
    "df_item_dist_cornac.to_csv(results_location + 'df_item_dist_cornac_music_base.csv')\n",
    "\n",
    "end_eval = time.time()\n",
    "print(f\"\\nEvaluation for all combinations completed in {round(end_eval - start_eval)} seconds.\")"
   ]
  }
 ],
 "metadata": {
  "colab": {
   "provenance": []
  },
  "kernelspec": {
   "display_name": "base",
   "language": "python",
   "name": "python3"
  },
  "language_info": {
   "codemirror_mode": {
    "name": "ipython",
    "version": 3
   },
   "file_extension": ".py",
   "mimetype": "text/x-python",
   "name": "python",
   "nbconvert_exporter": "python",
   "pygments_lexer": "ipython3",
   "version": "3.12.4"
  },
  "widgets": {
   "application/vnd.jupyter.widget-state+json": {}
  }
 },
 "nbformat": 4,
 "nbformat_minor": 4
}
